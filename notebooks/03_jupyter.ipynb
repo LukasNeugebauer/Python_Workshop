{
 "cells": [
  {
   "cell_type": "markdown",
   "metadata": {},
   "source": [
    "# 3. Jupyter\n",
    "\n",
    "For many people that want to start learning Python, the problem might be less \"How do I learn the syntax?\" and more \"okay, but... where do I actually write the code?\". There's a lot of different ways to do this. The closest one to MATLAB would be **Spyder**. **Spyder** is an IDE that was written with MATLAB users in mind and it behaves a lot like the MATLAB IDE:\n",
    "\n",
    "<img align=\"center\" src=\"../img/spyder.PNG\" width=80%/>\n",
    "\n",
    "If you want to use **Spyder** for your work with Python after the workshop, that's fine. For this workshop we'll use **Jupyter Lab**, because especially for this kind of settings it has some unique advantages. Like the option to combine instructions and your own attempts in one document.\n",
    "\n",
    "## 3.1 Jupyter Lab\n",
    "\n",
    "Jupyter Lab is something like a browser-based IDE. It's very customizable and there is an active community developing extensions that you can use. You can combine consoles, notebooks and scripts - all in one environment (not to be confused with conda environments). It can look like this:\n",
    "\n",
    "<img align=\"center\" src=\"../img/jupyter_lab.PNG\" width=80% />\n",
    "\n",
    "It can also look completely different."
   ]
  },
  {
   "cell_type": "markdown",
   "metadata": {},
   "source": [
    "**Exercise**\n",
    "\n",
    "Use the anaconda prompt to navigate (use `cd`) to the folder with the material for the workshop. Don't go into the \"notebook\"-subfolder. The reason is this: Jupyter Lab can access all files that are in the folder that you start it from. It can also access everything in subfolders and so on. But you can't use files higher up in the hierarchy.\n",
    "\n",
    "Start **Jupyter lab** by entering `jupyter lab` (surprise, surprise) in the prompt and hit enter. \n",
    "\n",
    "Once it has opened, use the file browser on the left to open the notebook __3_jupyter.ipynb__ by double-clicking on it.\n",
    "\n",
    "You can toggle the sidebar on and off using the keyboard shortcut `Ctrl + B`."
   ]
  },
  {
   "cell_type": "markdown",
   "metadata": {},
   "source": [
    "### 3.1.1 Using multiple environments in Jupyter Lab\n",
    "\n",
    "No we see why we installed `nb_conda_kernels`. In the upper right corner you should see something like `Python` or `Python [conda env:root]`. Here you can select a Python kernel. It just means, you can choose which environment you want to use, i.e. which version of Python and which packages. Without `nb_conda_kernels` all you can use is the environment from which you start **Jupyter Lab**. "
   ]
  },
  {
   "cell_type": "markdown",
   "metadata": {},
   "source": [
    "## 3.2. Jupyter notebooks\n",
    "\n",
    "This right here is a **Jupyter Notebook**. You can use them in the browser without **Jupyter Lab** by starting `jupyter notebook` instead of `jupyter lab` from the prompt. However, **Jupyter Lab** is the state-of-the-art workflow using Jupyter and there really is no downside to it. \n",
    "\n",
    "**Jupyter notebook** are comparable to *Live Scripts* in MATLAB or *Markdown* in R. They consist of cells that can either hold code or some formatted text. You can use **html** and **markdown** commands to format the text. This way you can also include graphics. You can combine code snippets, plots and written text in one document. This can then be saved as *HTML* or *PDF* documents. You can even transform them into [slides for a presentation](https://medium.com/learning-machine-learning/present-your-data-science-projects-with-jupyter-slides-75f20735eb0f).  It's also an obvious tool for [open notebook science](https://en.wikipedia.org/wiki/Open-notebook_science). This way you can present results while making them directly reproducible and on top communicating your thought process and justification for your analysis strategies. **Jupyter notebooks** themselves are language agnostic. There's kernels for R, Julia and dozens of other languages. \n",
    "\n",
    "They're also really nice for teaching a programming language (as you'll hopefully agree when we finally come to that part)."
   ]
  },
  {
   "cell_type": "markdown",
   "metadata": {
    "tags": []
   },
   "source": [
    "### Keyboard Shortcuts\n",
    "\n",
    "Here's a few basic keyboard shortcuts that can make you considerably more productive.\n",
    "\n",
    "`Esc` - leave insertion mode. Intertion mode is when you type code or words to a cell.\n",
    "\n",
    "`Enter` - enter insertion mode.\n",
    "\n",
    "`Ctrl + Enter` - Run a cell \n",
    "\n",
    "`Shift + Enter` - Run a cell and jump to the next one\n",
    "\n",
    "When not in insertion mode:\n",
    "\n",
    "`a` - insert new cell above current one\n",
    "\n",
    "`b` - insert new cell below current one\n",
    "\n",
    "`m` - change cell from code cell to markdown (text) cell\n",
    "\n",
    "`y` - change cell from markdown to code\n",
    "\n",
    "`j` - move on cell down\n",
    "\n",
    "`k` - move on cell up\n",
    "\n",
    "`dd` - delete cell (hit `d` twice)\n",
    "\n",
    "`00` - restart the kernel. deletes variables, unloads packages."
   ]
  },
  {
   "cell_type": "markdown",
   "metadata": {},
   "source": [
    "### Code cells\n",
    "\n",
    "Code cells use **IPython** in the background. One notebook has one workspace. That means that cells in one notebooks share variables but different notebooks don't. Code cells work just like **IPython** would work and that is pretty much like the command line in MATLAB works. \n",
    "\n",
    "**Exercise**\n",
    "\n",
    "Create a new cell below this one. Assign a value to a variable or use it as a calculator and see how it works."
   ]
  },
  {
   "cell_type": "markdown",
   "metadata": {},
   "source": [
    "### Markdown cells\n",
    "\n",
    "Markdown is something like HTML, just more simple. It provides you with simple commands that make text look like you want it to. Like **bold**, *italic*, <font color=\"red\"> or colored</font>. You can also include graphics and hyperlinks.\n",
    "\n",
    "[Here's](https://medium.com/ibm-data-science-experience/markdown-for-jupyter-notebooks-cheatsheet-386c05aeebed) a nice cheat sheet for markdown in **Jupyter Notebooks**."
   ]
  },
  {
   "cell_type": "markdown",
   "metadata": {},
   "source": [
    "## 3.3 Editor in Jupyter Lab\n",
    "\n",
    "The editor in Jupyter Lab is just like any other editor. You can write code here and save it as .py-file or anything else. You can also write MATLAB code if you want to. If you prefer to use another editor outside of Jupyter Lab, that's absolute fine. However, you can use the settings to make the editor inherit the key bindings of Vim, Emacs or Sublime."
   ]
  },
  {
   "cell_type": "markdown",
   "metadata": {},
   "source": [
    "## 3.4 IPython utilities\n",
    "\n",
    "Since **Jupyter notebooks** use **IPython**, you can use all utilities that **IPython** provides in notebooks. \n",
    "\n",
    "Here are a few of them (you might have to use a %before that, e.g. %pwd):\n",
    "\n",
    "You can use shell commands like `cd` or `pwd`. This is not possible in the original Python shell.<br/>\n",
    "Some MATLAB like commands like `whos` are implemented in **IPython**.<br/>\n",
    "You get syntax highlighting and tab completion.<br/>\n",
    "You can get help on functions and objects easily:<br/>\n",
    "> Either write a function and press `Shift + tab`.<br/>\n",
    "Or write a function name + `?` or `?`, e.g. `sum??` and run the cell.<br/>\n",
    "\n",
    "Try both of these versions in the next cell."
   ]
  },
  {
   "cell_type": "code",
   "execution_count": 9,
   "metadata": {},
   "outputs": [],
   "source": [
    "#your code here\n"
   ]
  },
  {
   "cell_type": "markdown",
   "metadata": {},
   "source": [
    "## Conclusion\n",
    "\n",
    "Jupyter is constantly evolving and it's worth it to keep track of major changes like the introduction of **Jupyter Lab**. There are a million and increasing ways to personalize your experience by using extensions or personalizing keyboard shortcuts. But since this is enough for a workshop on its own, we'll stop here and finally begin using **Python**."
   ]
  }
 ],
 "metadata": {
  "kernelspec": {
   "display_name": "Python [conda env:pystan] *",
   "language": "python",
   "name": "conda-env-pystan-py"
  },
  "language_info": {
   "codemirror_mode": {
    "name": "ipython",
    "version": 3
   },
   "file_extension": ".py",
   "mimetype": "text/x-python",
   "name": "python",
   "nbconvert_exporter": "python",
   "pygments_lexer": "ipython3",
   "version": "3.9.7"
  }
 },
 "nbformat": 4,
 "nbformat_minor": 4
}
