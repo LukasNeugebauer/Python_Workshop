{
 "cells": [
  {
   "cell_type": "markdown",
   "metadata": {},
   "source": [
    "<center>\n",
    "    \n",
    "# Introduction to Python for MATLAB users\n",
    "## 08.- 10. april, 2019\n",
    "## Institute for systems neuroscience, UKE\n",
    "### Lukas Neugebauer\n",
    "<center/>"
   ]
  },
  {
   "cell_type": "markdown",
   "metadata": {},
   "source": [
    "# Structure\n",
    "   1. Introduction\n",
    "   2. Basic syntax\n",
    "   3. conda and pip\n",
    "   4. Workflow\n",
    "   5. Object-oriented programming\n",
    "   6. Numpy, scipy, matplotlib"
   ]
  },
  {
   "cell_type": "markdown",
   "metadata": {},
   "source": [
    "# 1. Introduction\n",
    "## 1.1 What is Python?"
   ]
  },
  {
   "cell_type": "markdown",
   "metadata": {},
   "source": [
    "Python is a high-level programming language, developed in 1991 by Guido von Rossum who until last year was leading its development as benevolent dictator for life ( BDFL ).\n",
    "It's used in a wide range of applications, including:\n",
    "   * Web development\n",
    "   * Game development\n",
    "   * Scientific computing incl. Data Science\n",
    "   \n",
    "It supports multiple programming paradigms, most prominently object-oriented programming (OOP). Technically, there are multiple \"Pythons\", as Python 2 and Python 3 are not completely compatible. However, by now most support for Python 2 has been stopped or will soon be stopped. If you start to learn Python now, there's no point in dealing with Python 2.\n",
    "The current version is Python 3.7. Everything from Python 3.5 onwards is okay for this course."
   ]
  },
  {
   "cell_type": "markdown",
   "metadata": {},
   "source": [
    "## The Zen of Python"
   ]
  },
  {
   "cell_type": "code",
   "execution_count": 1,
   "metadata": {},
   "outputs": [
    {
     "name": "stdout",
     "output_type": "stream",
     "text": [
      "The Zen of Python, by Tim Peters\n",
      "\n",
      "Beautiful is better than ugly.\n",
      "Explicit is better than implicit.\n",
      "Simple is better than complex.\n",
      "Complex is better than complicated.\n",
      "Flat is better than nested.\n",
      "Sparse is better than dense.\n",
      "Readability counts.\n",
      "Special cases aren't special enough to break the rules.\n",
      "Although practicality beats purity.\n",
      "Errors should never pass silently.\n",
      "Unless explicitly silenced.\n",
      "In the face of ambiguity, refuse the temptation to guess.\n",
      "There should be one-- and preferably only one --obvious way to do it.\n",
      "Although that way may not be obvious at first unless you're Dutch.\n",
      "Now is better than never.\n",
      "Although never is often better than *right* now.\n",
      "If the implementation is hard to explain, it's a bad idea.\n",
      "If the implementation is easy to explain, it may be a good idea.\n",
      "Namespaces are one honking great idea -- let's do more of those!\n"
     ]
    }
   ],
   "source": [
    "import this;"
   ]
  },
  {
   "cell_type": "markdown",
   "metadata": {},
   "source": [
    "## 1.2 Why it might be a good idea to learn Python as a MATLAB user\n",
    "\n",
    "### 1.2.1 It's very readable   \n",
    "   * Python is probably the most readble programming language there is. Sometimes it's just like english\n",
    "\n",
    "### 1.2.2 It's free\n",
    "   * While this might not be a huge issue for you as you have access anyway it's still a huge issue. Using free software enables you to share your work and analysis with everyone indepent of the financial background of their institutions. It's important for open science.\n",
    "   \n",
    "### 1.2.3 It's easy to learn\n",
    "   * It has a huge standard library and usually there is a very simple way to do things\n",
    "   * It doesn't take long to get fluent in the basic\n",
    "   * Still, since there is a lot of libraries and even core Python is in active development, you will always learn new things\n",
    "   * When you handle anything else than numeric matrices, the data types are more intuitive and powerful than cells and structures\n",
    "   * Jupyter notebooks are an excellent tool for teaching, presentation and development of theories and analysis strategies\n",
    "   \n",
    "### 1.2.4 It's one of the most in-demand languages there are\n",
    "   * It's growing at an insane rate\n",
    "   \n",
    "<img align=\"center\" src=\"../img/growth_languages.PNG\" width=50% />\n",
    "\n",
    "   * It's one of the most used languages for Data Science\n",
    "  \n",
    "<img align=\"center\" src=\"../img/datascience_languages.PNG\" width=50% />\n",
    "\n",
    "   * Has been TIOBE language of the year 2018\n",
    "   \n",
    "<img align=\"center\" src=\"../img/langOTY.PNG\" width=50% />\n",
    "\n",
    "\n",
    "\n",
    "sources and further reading:<br/>\n",
    "[growth of python](https://stackoverflow.blog/2017/09/06/incredible-growth-python/)<br/>\n",
    "[R vs. Python](https://towardsdatascience.com/data-science-101-is-python-better-than-r-b8f258f57b0f);<br/>\n",
    "[TIOBE Index](https://www.tiobe.com/tiobe-index/)"
   ]
  },
  {
   "cell_type": "markdown",
   "metadata": {},
   "source": [
    "# 1.4 Comparing Python and MATLAB\n",
    "\n",
    "There are plenty of ressources that do a good job here. They are fairly similar languages. But since you will probably need more of an understanding of how a programming language works to effectively work with Python, it doesn't harm to know what could be different."
   ]
  },
  {
   "cell_type": "markdown",
   "metadata": {},
   "source": [
    "## 1.4.1 Things that are the same:\n",
    "\n",
    "There are a lot of things in commong between the two languages. This is good because many things will be familiar to you already.\n",
    "\n",
    "### 1.4.1.2 Dynamic typing\n",
    "\n",
    "Both are dynamically typed. That means you don't have to state a variable is a float or an integer.\n",
    "   \n",
    "MATLAB \n",
    "\n",
    "```matlab\n",
    ">>a = 1;\n",
    ">>b = 'string';\n",
    ">>class( a );\n",
    "ans =\n",
    "    'double'\n",
    ">>class( b );\n",
    "ans =\n",
    "    'char'\n",
    "```\n",
    "\n",
    "Python\n",
    "\n",
    "```python\n",
    "[1] a = 1;\n",
    "[2] b = 'string';\n",
    "[3] type( a );\n",
    "[3] int\n",
    "[4] type( b );\n",
    "[4] str\n",
    "```\n",
    "\n",
    "Compare this to C\n",
    "\n",
    "```c\n",
    "int a;\n",
    "char b[6];\n",
    "a = 1;\n",
    "b = 'string';\n",
    "```\n"
   ]
  },
  {
   "cell_type": "markdown",
   "metadata": {},
   "source": [
    "### 1.4.1.3 Interpreted language\n",
    "\n",
    "Your computer understands neither MATLAB nor Python. If you want to directly give instructions to the computer you need to talk machine language - which probably you don't. So wether it's C, MATLAB or Python, someone has to talk to the computer for you. This can either be a **compiler** or an **interpreter**. Compilation makes sure that everything works before you actually run a program and translates the code to machine language. After compilation the program is machine code and can for example be an .exe-file that runs on its own. You can compare it to a ralley driver that knows every curve of the route before driving. Interpreted languages are more like navigating in a new city and only noticing you're in a dead end when it's too late. There are advantages and disadvantages. We don't go into detail here, but the major drawback with interpreted languages is speed. If speed is a bottleneck, there are ways to speed up Python including PyPy, which is a just-in-time-compiler."
   ]
  },
  {
   "cell_type": "markdown",
   "metadata": {},
   "source": [
    "## 1.4.2 Things that are different\n",
    "Besides MATLAB costing a whole lot of money and Python being free."
   ]
  },
  {
   "cell_type": "markdown",
   "metadata": {},
   "source": [
    "### 1.4.2.1 Modules and packages vs. Toolboxes and the *path* variable\n",
    "\n",
    "The core language Python is very slim and you are responsible for importing everything you need manually like so:\n",
    "```\n",
    "import pystan;\n",
    "```\n",
    "If you've used **R** in the past, this might seem familiar because it's pretty much the same thing as \n",
    "```\n",
    "library(rstan);\n",
    "```\n",
    "\n",
    "In both cases, you rely on third party packages that provide functions and classes for different applications. \n",
    "In MATLAB this can be compared to Toolboxes, but most of MATLAB's functionality is implemented in the core language. Besides, it will always look for any function on its *MATLABPATH*, wether you want it to or not.\n",
    "You're probably familiar with this:\n",
    "\n",
    "```\n",
    "addpath( genpath( 'matlabstan' ) );\n",
    "```\n",
    "\n",
    "If you use sensible naming conventions for functions and don't just have everything on your path all the time, this is not a problem. But since you're not a computer scientist and nobody showed you how this stuff works you might have already encountered the problem that multiple functions have the same name and unexpected behaviour occurs. It also restricts the use of generic function names.\n",
    "\n",
    "Recall two lines from \"The Zen of Python\":\n",
    "\n",
    "```\n",
    "Explicit is better than implicit.\n",
    "Namespaces are one honking great idea -- let's do more of those!\n",
    "```"
   ]
  },
  {
   "cell_type": "markdown",
   "metadata": {},
   "source": [
    "1.4.2.2 Everything is an object vs. functions and variables\n",
    "\n",
    "MATLAB makes a clear distinction between functions and variables. E.g. you can not put a function into an cell array. Even when calling a function name without brackets, it will execute the function. An exception to this are function handles:\n",
    "\n",
    "```\n",
    "fun = @(x) x^2;\n",
    "```\n",
    "\n",
    "These can be assigned to different variables or stored in arrays with variables:\n",
    "```\n",
    "fun2 = fun;\n",
    "cell_array = {1, [1,3;2,4],fun2}\n",
    "```\n",
    "\n",
    "But the following would raise an error:\n",
    "```\n",
    "cell_array = {1,[1,3;2,4],sum};\n",
    "```\n",
    "\n",
    "In Python EVERYTHING is a first-level object, including function, classes, etc. This is absolutely fundamental to the language. And because of this, the following is valid code:"
   ]
  },
  {
   "cell_type": "code",
   "execution_count": 64,
   "metadata": {},
   "outputs": [],
   "source": [
    "def fun():\n",
    "    return 'I can be everywhere '\n",
    "\n",
    "b = fun; \n",
    "wild_list = [1, 2, sum, 'because EVERYTHING is an object.', b ];"
   ]
  },
  {
   "cell_type": "markdown",
   "metadata": {},
   "source": [
    "Every function and operation returns something and with the returned value you can do again what you want. I.e. we can access the function `fun` from the list via index, which evaluates to the function definition. We can then call it using `()`, which returns a string. This string can be concatenated with another string, everything in one line. "
   ]
  },
  {
   "cell_type": "code",
   "execution_count": 65,
   "metadata": {},
   "outputs": [
    {
     "name": "stdout",
     "output_type": "stream",
     "text": [
      "I can be everywhere because EVERYTHING is an object.\n"
     ]
    }
   ],
   "source": [
    "why_is_python_awesome = wild_list[-1]() + wild_list[-2];\n",
    "print(why_is_python_awesome)"
   ]
  },
  {
   "cell_type": "code",
   "execution_count": 67,
   "metadata": {},
   "outputs": [
    {
     "name": "stdout",
     "output_type": "stream",
     "text": [
      "3\n"
     ]
    }
   ],
   "source": [
    "#also\n",
    "sum_val = wild_list[2]( [ wild_list[0] , wild_list[1] ]);\n",
    "print(sum_val)"
   ]
  },
  {
   "cell_type": "markdown",
   "metadata": {},
   "source": [
    "### 1.4.2.3 Programming language gone matrix calculator vs. matrix calculator gone programming language\n",
    "\n",
    "MATLAB is originally designed to let people do complex matrix algebra without the need to actually learn how to program. It started as a wrapper around FORTRAN algebra libraries. Nowadays it's different FORTRAN algebra libraries. Everything else, non-matrix data types and OOP support where patched to it later on. It's a calculator on steroids that was later equipped with general programming language features but can't deny its heritage.\n",
    "\n",
    "Python is the opposite. It's designed as a general purpose programming language. The standard libraries can't really handle matrices and matrix operations. It's originally not meant to be used for scientific computing. This is only possible through packages that supply Python with e.g. MATLAB-like matrices (_numpy_), R-like DataFrames (_pandas_), linear algebra libraries (_numpy_, _scipy_) and plotting libraries (_matplotlib_ and _seaborn_). These often rely on C for speed. So it's a general purpose programming language with scientific computing glued on top. \n",
    "\n",
    "For pure scientific computing, MATLAB is a very good tool. But Python is far better in being a scientific computing tool that MATLAB is at being a general purpose programming language. And since not 100% of your code are matrix operations, Python might provide the more pleasent coding experience."
   ]
  },
  {
   "cell_type": "markdown",
   "metadata": {},
   "source": [
    "### 1.4.2.4 C tradition vs. Fortran tradition\n",
    "\n",
    "FORTRAN and C are both very fast, fairly old low-level programming languages. They both introduced different conventions for indexing (among other things).\n",
    "Since MATLAB is originally a wrapper around some FORTRAN libraries, it inherited the indexing conventions: round brackets and 1-based indexing. `A(1,1)` would index the first element of A.\n",
    "Python uses the C convention using  square brackets and 0-based indexing. The same element would be accessed by `A[0,0]`. This is very confusing at first, but you get used to it quickly. In my experience it's even possible to switch between both without major issues."
   ]
  },
  {
   "cell_type": "markdown",
   "metadata": {},
   "source": [
    "### 1.4.2.5 Notebooks, IPython and the command line vs. the MATLAB IDE\n",
    "\n",
    "Since we're going into detail into this, just one quick sentence here. This is the MATLAB IDE that you're probably used to:\n",
    "\n",
    "<img align=\"center\" src=\"../img/matlab_IDE.PNG\" width=50% />\n",
    "\n",
    "It's really good. But the IDE is not the same thing as \"MATLAB\". MATLAB is the rules for the syntax and the interpreter that translates code to action. Technically you can write all your code in Word, save it as .m-file. Then you can run the script from the command line or using the MATLAB command window. As you see, there are different possibilities for workflow also in MATLAB. In my experience, the IDE is pretty much THE way that MATLAB is being used. \n",
    "Python offers a lot of different options and these are actually being used. For me, Jupyter Notebooks are one of the main reasons to not go back to MATLAB. We'll talk about them."
   ]
  },
  {
   "cell_type": "markdown",
   "metadata": {},
   "source": [
    "<img align=\"center\" src=\"../img/believing_JN.PNG\" width=50% />\n",
    "\n",
    "[imagesource](https://i.pinimg.com/originals/3f/47/f4/3f47f4ec0b6030517a57c6a3b55d9d09.jpg)\n"
   ]
  },
  {
   "cell_type": "markdown",
   "metadata": {},
   "source": [
    "But before this gets too boring, let's have a look of the syntax of Python in the next notebook."
   ]
  },
  {
   "cell_type": "code",
   "execution_count": null,
   "metadata": {},
   "outputs": [],
   "source": []
  }
 ],
 "metadata": {
  "kernelspec": {
   "display_name": "Python [conda env:root]",
   "language": "python",
   "name": "conda-root-py"
  },
  "language_info": {
   "codemirror_mode": {
    "name": "ipython",
    "version": 3
   },
   "file_extension": ".py",
   "mimetype": "text/x-python",
   "name": "python",
   "nbconvert_exporter": "python",
   "pygments_lexer": "ipython3",
   "version": "3.7.1"
  }
 },
 "nbformat": 4,
 "nbformat_minor": 2
}
