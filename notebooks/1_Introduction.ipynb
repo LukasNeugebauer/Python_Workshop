{
 "cells": [
  {
   "cell_type": "markdown",
   "metadata": {},
   "source": [
    "<center>\n",
    "    \n",
    "# Introduction to Python for MATLAB users\n",
    "## 8th to 10th april, 2019\n",
    "\n",
    "<img src='../img/UKE_logo.PNG'>\n",
    "    \n",
    "## Institute for systems neuroscience\n",
    "### Lukas Neugebauer\n",
    "<center/>"
   ]
  },
  {
   "cell_type": "markdown",
   "metadata": {},
   "source": [
    "# 0 Structure\n",
    "   \n",
    "We will cover the following topics:\n",
    "\n",
    "   1. Introduction\n",
    "   2. conda and pip - how to organize environments and packages\n",
    "   3. Jupyter - short introduction to Jupyter Lab/Notebooks as alternative workflow\n",
    "   4. Basic syntax - how do assignments, loops and functions work in Python\n",
    "   5. Object-oriented programming\n",
    "   6. Data Types - understanding lists, dictionaries, strings\n",
    "   7. Packages and modules - how code is arranged in Python\n",
    "   8. Important packages - a short look at numpy, scipy, ...\n",
    "   9. Your project - bringing it all together in a practical task\n",
    "   \n",
    "If everything goes according to plan, the structure could look something like this:\n",
    "\n",
    "**Monday**\n",
    "\n",
    "   * Introduction\n",
    "   * Conda and pip\n",
    "   * Jupyter\n",
    "   * Syntax\n",
    "   \n",
    "**Tuesday**\n",
    "   \n",
    "   * OOP\n",
    "   * Data types\n",
    "   \n",
    "**Wednesday**\n",
    "\n",
    "   * Important packages\n",
    "   * Your project\n",
    "\n",
    "   \n",
    "## 0.1 Follow along\n",
    "\n",
    "Since at this point you don't know yet how to open a Jupyter Notebook, you can follow along here: https://nbviewer.jupyter.org/github/github.com/LukasNeugebauer/Python_workshop"
   ]
  },
  {
   "cell_type": "markdown",
   "metadata": {},
   "source": [
    "# 1. Introduction\n",
    "## 1.1 What is Python?"
   ]
  },
  {
   "cell_type": "markdown",
   "metadata": {},
   "source": [
    "Python is a high-level programming language, developed in 1991 by Guido von Rossum who until 2018 was leading its development as benevolent dictator for life.\n",
    "It's used in a wide range of applications, including:\n",
    "   * Web development\n",
    "   * Game development\n",
    "   * Scientific computing \n",
    "   * Data Science/Machine Learning\n",
    "   \n",
    "It supports multiple programming paradigms, most prominently object-oriented programming (OOP). Technically, there are multiple \"Pythons\", as Python 2 and Python 3 are not completely compatible. However, Python 2 is no longer supported. If you start to learn Python now, there's no point in dealing with it.\n",
    "The current version is Python 3.9 (as of Dec 2020). Everything from Python 3.5 onwards is okay for this course."
   ]
  },
  {
   "cell_type": "markdown",
   "metadata": {},
   "source": [
    "## The Zen of Python\n",
    "\n",
    "The philosophy of Python and \"pythonic\" code can be seen in the \"Zen of Python\":"
   ]
  },
  {
   "cell_type": "code",
   "execution_count": 1,
   "metadata": {},
   "outputs": [
    {
     "name": "stdout",
     "output_type": "stream",
     "text": [
      "The Zen of Python, by Tim Peters\n",
      "\n",
      "Beautiful is better than ugly.\n",
      "Explicit is better than implicit.\n",
      "Simple is better than complex.\n",
      "Complex is better than complicated.\n",
      "Flat is better than nested.\n",
      "Sparse is better than dense.\n",
      "Readability counts.\n",
      "Special cases aren't special enough to break the rules.\n",
      "Although practicality beats purity.\n",
      "Errors should never pass silently.\n",
      "Unless explicitly silenced.\n",
      "In the face of ambiguity, refuse the temptation to guess.\n",
      "There should be one-- and preferably only one --obvious way to do it.\n",
      "Although that way may not be obvious at first unless you're Dutch.\n",
      "Now is better than never.\n",
      "Although never is often better than *right* now.\n",
      "If the implementation is hard to explain, it's a bad idea.\n",
      "If the implementation is easy to explain, it may be a good idea.\n",
      "Namespaces are one honking great idea -- let's do more of those!\n"
     ]
    }
   ],
   "source": [
    "import this"
   ]
  },
  {
   "cell_type": "markdown",
   "metadata": {},
   "source": [
    "## 1.2 Why it might be a good idea to learn Python as a MATLAB user\n",
    "\n",
    "### 1.2.1 It's very readable   \n",
    "   * Python is probably the most readable programming language there is. Sometimes it's just like english.\n",
    "\n",
    "### 1.2.2 It's free\n",
    "   * While this might not be a huge issue for you as you have access anyway it's still a huge issue. Using free software enables you to share your work and analysis with everyone indepent of the financial background of their institutions. It's important for open science. Also, you're not dependent on an internet connection and a license server to use it.\n",
    "   \n",
    "### 1.2.3 It's easy to learn\n",
    "   * It has a huge standard library and usually there is a very simple way to do things\n",
    "   * It doesn't take long to get fluent in the basics\n",
    "   * Still, since there is a lot of libraries and even core Python is in active development, you will always learn new things\n",
    "   * When you handle anything else than numeric matrices, the data types are more intuitive and powerful than cells and structures\n",
    "   * Jupyter notebooks are an excellent tool for teaching, presentation and development of theories and analysis strategies\n",
    "   \n",
    "### 1.2.4 It's one of the most in-demand languages\n",
    "   * It's growing at an insane rate\n",
    "   \n",
    "<img align=\"center\" src=\"../img/growth_languages.PNG\" width=50% />\n",
    "\n",
    "   * It's one of the most used languages for Data Science\n",
    "  \n",
    "<img align=\"center\" src=\"../img/datascience_languages.PNG\" width=50% />\n",
    "\n",
    "   * Has been TIOBE language of the year 2018\n",
    "   \n",
    "<img align=\"center\" src=\"../img/langOTY.PNG\" width=50% />\n",
    "\n",
    "\n",
    "\n",
    "sources and further reading:<br/>\n",
    "[growth of python](https://stackoverflow.blog/2017/09/06/incredible-growth-python/)<br/>\n",
    "[R vs. Python](https://towardsdatascience.com/data-science-101-is-python-better-than-r-b8f258f57b0f)<br/>\n",
    "[TIOBE Index](https://www.tiobe.com/tiobe-index/)"
   ]
  },
  {
   "cell_type": "markdown",
   "metadata": {},
   "source": [
    "## 1.3 Comparing Python and MATLAB\n",
    "\n",
    "There are plenty of ressources that do a good job here. They are fairly similar languages. But since you will probably need more of an understanding of how a programming language works to effectively work with Python, it doesn't harm to know what could be different."
   ]
  },
  {
   "cell_type": "markdown",
   "metadata": {},
   "source": [
    "### 1.3.1 Things that are the same:\n",
    "\n",
    "There are a lot of things in common between the two languages. This is good because many things will be familiar to you already.\n",
    "\n",
    "#### 1.3.1.2 Dynamic typing\n",
    "\n",
    "Both are dynamically typed. That means you don't have to state the type of a variable. This is automatically done for you.\n",
    "   \n",
    "MATLAB does it:\n",
    "\n",
    "```matlab\n",
    ">>a = 1;\n",
    ">>b = 'string';\n",
    ">>class(a);\n",
    "ans =\n",
    "    'double'\n",
    ">>class(b);\n",
    "ans =\n",
    "    'char'\n",
    "```\n",
    "\n",
    "Python does, too:\n",
    "\n",
    "```python\n",
    "In [1] a = 1\n",
    "In [2] b = 'string'\n",
    "In [3] type( a )\n",
    "Out[3] int\n",
    "In [4] type( b )\n",
    "Out[4] str\n",
    "```\n",
    "\n",
    "Compare this to C\n",
    "\n",
    "```c\n",
    "int a = 1;\n",
    "char b[7] = \"string\";\n",
    "```\n"
   ]
  },
  {
   "cell_type": "markdown",
   "metadata": {},
   "source": [
    "### 1.3.1.3 Interpreted language\n",
    "\n",
    "Your computer understands neither MATLAB nor Python. If you want to directly give instructions to the computer you need to talk machine language - which probably you don't. So wether it's C, MATLAB or Python, someone has to talk to the computer for you. There are two ways to do this:\n",
    " 1. You can compile the whole program, which means translating it to machine code. This means faster runtime and the chance to catch errors at compile time. It also means more complicated syntax.\n",
    " 2. You can interpret the program while running it and mapping it onto precompiled routines. This is slower and often you just find bugs at runtime.\n",
    " \n",
    "After compilation the program is machine code (e.g. an .exe-file on Windows) that contains instructions for the CPU and runs on its own. You can compare it to a ralley driver that knows every curve of the route before driving. Interpreted languages are more like navigating in a new city and only noticing you're in a dead end when it's too late. There are advantages and disadvantages. We don't go into detail here, but the major drawback with interpreted languages is speed. If speed is a bottleneck, there are multiple ways to speed up Python including PyPy, numba and Cython.\n",
    "\n",
    "As a very crude but somewhat functional mental model of what an interpreter does, let's think about a human interpreter. E.g. you need to communicate with someone that only speaks Janapese. That's hard to learn for you but learning English is not that hard. So you learn English and talk to an interpreter that translates to Japanese and back to English. It's similar here. Machine language is very hard to learn but Python really isn't. So you learn Python and talk in Python to the interpreter and the interpreter translates to machine language and back."
   ]
  },
  {
   "cell_type": "markdown",
   "metadata": {},
   "source": [
    "## 1.3.2 Things that are different\n",
    "Besides MATLAB costing a whole lot of money and Python being free."
   ]
  },
  {
   "cell_type": "markdown",
   "metadata": {},
   "source": [
    "### 1.3.2.1 Modules and packages vs. Toolboxes and the *path* variable\n",
    "\n",
    "The core language Python is very slim and you are responsible for importing everything you need manually like so:\n",
    "```\n",
    "import pystan\n",
    "```\n",
    "If you've used **R** in the past, this might seem familiar because it's pretty much the same thing as \n",
    "```\n",
    "library(rstan);\n",
    "```\n",
    "\n",
    "In both cases, you rely on built-in and third party packages that provide functions and classes for different applications. \n",
    "In MATLAB this can be compared to Toolboxes, but most of MATLAB's functionality is implemented in the core language. Besides, MATLAB will always look for any function on its *MATLABPATH*, wether you want it to or not.\n",
    "You're probably familiar with this:\n",
    "\n",
    "```\n",
    "addpath(genpath('matlabstan'));\n",
    "```\n",
    "\n",
    "If you use sensible naming conventions for functions and don't just have everything on your path all the time, this is not a problem. But since you're not a computer scientist, nobody showed you how this stuff works. So you might have already encountered the problem that multiple functions have the same name and unexpected behaviour occurs. It also restricts the use of generic function names.\n",
    "\n",
    "Recall two lines from \"The Zen of Python\":\n",
    "\n",
    "```\n",
    "Explicit is better than implicit.\n",
    "Namespaces are one honking great idea -- let's do more of those!\n",
    "```"
   ]
  },
  {
   "cell_type": "markdown",
   "metadata": {},
   "source": [
    "### 1.3.2.2 Everything is an object vs. functions and variables\n",
    "\n",
    "MATLAB makes a clear distinction between functions and variables. E.g. you can not put a function into an cell array. Even when calling a function name without brackets, it will execute the function. An exception to this are function handles:\n",
    "\n",
    "```\n",
    "fun = @(x) x^2;\n",
    "```\n",
    "\n",
    "These can be assigned to different variables or stored in arrays with variables:\n",
    "```\n",
    "fun2 = fun;\n",
    "cell_array = {1, [1,3;2,4], fun2}\n",
    "```\n",
    "\n",
    "But the following would raise an error:\n",
    "```\n",
    "cell_array = {1, [1,3;2,4], sum};\n",
    "```\n",
    "\n",
    "In Python EVERYTHING is a first-level object, including function, classes, etc. This is absolutely fundamental to the language. And we'll spend quite some time on building an intuition of what that means."
   ]
  },
  {
   "cell_type": "markdown",
   "metadata": {},
   "source": [
    "### 1.3.2.3 Programming language gone matrix calculator vs. matrix calculator gone programming language\n",
    "\n",
    "MATLAB is originally designed to let people do complex matrix algebra without the need to actually learn how to program. It started as a wrapper around FORTRAN algebra libraries. It still is although nowadays it's different FORTRAN algebra libraries. Everything else, non-matrix data types and support for object-oriented programming (OOP) where patched to it later. It's a calculator on steroids that was equipped with general programming language features but can't deny its heritage. I.e. it's super easy to use for what it was designed for. But it gets a bit bumpy once you leave that road.\n",
    "\n",
    "Python is the opposite. It's designed as a general purpose programming language. The standard libraries can't really handle matrices and matrix operations. It's originally not meant to be used for scientific computing. This is only possible through packages that supply Python with e.g. MATLAB-like matrices (_numpy_), R-like DataFrames (_pandas_), linear algebra (_numpy_, _scipy_) and plotting libraries (_matplotlib_ and _seaborn_). These often rely on C for speed. So it's a general purpose programming language with scientific computing glued on top. It's probably not the best language for any given task but it's pretty much the second best language for anything.\n",
    "\n",
    "For pure scientific computing, MATLAB is a very good tool. As a general programming language not so much. But Python is far better in being a scientific computing tool that MATLAB is at being a general purpose programming language. And since not 100% of your code are matrix operations, Python might provide the more pleasant coding experience."
   ]
  },
  {
   "cell_type": "markdown",
   "metadata": {},
   "source": [
    "### 1.3.2.4 C tradition vs. Fortran tradition\n",
    "\n",
    "FORTRAN and C are both very fast, fairly old low-level programming languages. They both introduced different conventions for indexing (among other things).\n",
    "Since MATLAB is originally a wrapper around some FORTRAN libraries, it inherited the indexing conventions: round brackets and 1-based indexing. `A(1, 1)` would index the first element of A.\n",
    "Python uses the C convention using  square brackets and 0-based indexing. The same element would be accessed by `A[0, 0]`. This is very confusing at first, but you get used to it quickly. In my experience it's even possible to switch between both without major issues."
   ]
  },
  {
   "cell_type": "markdown",
   "metadata": {},
   "source": [
    "### 1.3.2.5 Notebooks, IPython and the command line vs. the MATLAB IDE\n",
    "\n",
    "Since we're going into detail into this, just one quick sentence here. This is the MATLAB IDE that you're probably used to:\n",
    "\n",
    "<img align=\"center\" src=\"../img/matlab_IDE.PNG\" width=50% />\n",
    "\n",
    "It's really good. But although many users that never used anything but the IDE think that way, the IDE is not the same thing as \"MATLAB\". MATLAB is the language, the rules for the syntax and the interpreter. Technically you can write all your code in Word, save it as .m-file. Then you can run the script from the command line or using the MATLAB command window. As you see, there are different possibilities for workflow also in MATLAB. In my experience, the IDE is pretty much THE way that MATLAB is being used. \n",
    "\n",
    "Python offers a lot of different options. Jupyter Notebooks are one of them, but there are popular IDEs. Noteworthy are *Spyder* for a MATLAB-like experience and *PyCharm* and *VS Code* as general IDEs."
   ]
  },
  {
   "cell_type": "markdown",
   "metadata": {},
   "source": [
    "<img align=\"center\" src=\"../img/believing_JN.PNG\" width=50% />\n",
    "\n",
    "[imagesource](https://i.pinimg.com/originals/3f/47/f4/3f47f4ec0b6030517a57c6a3b55d9d09.jpg)\n"
   ]
  },
  {
   "cell_type": "markdown",
   "metadata": {},
   "source": [
    "## 1.4 What do we actually need to successfully use an interpreted programming language?\n",
    "\n",
    "Before we start using Python, it seems like a good idea to consider what we need to use it. This will help in making sense of IPython, Jupyter and Spyder. So let's go back to what we already know and understand a bit better what we've actually been doing until now.\n",
    "\n",
    "### 1.4.1 Example: MATLAB\n",
    "\n",
    "#### 1.4.1.1 The anatomy of the IDE\n",
    "\n",
    "**The command window**\n",
    "\n",
    "<img align=\"center\" src=\"../img/matlab_IDE_CW.PNG\" width=80% />\n",
    "\n",
    "The basic thing that you need to run any MATLAB commands is the command window. It's your way to talk to the MATLAB interpreter in an interactive way. We don't even need the whole IDE to use this. You can start MATLAB from a shell using `matlab -nodesktop`. It then looks something like this:\n",
    "\n",
    "<img align=\"center\" src=\"../img/matlab_CW.PNG\" width=80% />\n",
    "\n",
    "This principle of interactive behavior we're using here is called **Read - Eval- Print - Loops**, commonly abreviated as **REPL**. It just means that everything you enter is immediately evaluated and the result of this evaluation is printed to the screen. You might also know this behavior from shells like *bash*/*zsh* (Unix) or *cmd* (Windows). The MATLAB command window is not that different, except that you use a different language. If you want to learn more about this principle, you can watch [this video](https://www.youtube.com/watch?v=uSmOry4PY0Q) in which someone writes an interactive Python interpreter in Python in less than 30 minutes. You'll learn a lot about how an interactive interpreter works.\n",
    "\n",
    "If you open a command window (solo or as part of the IDE), two things happen:\n",
    "\n",
    "   1. An instance of the MATLAB interpreter is started. In Python you might call this a *kernel*.\n",
    "   2. The command window is started as a possibility to communicate with the interpreter.\n",
    "   \n",
    "And that's all that's necessary to use an interpreted language. Everything else is make-up and convenience. Not that there's something wrong with that.\n",
    "   \n",
    "**The editor**\n",
    "\n",
    "<img align=\"center\" src=\"../img/matlab_IDE_E.PNG\" width=80% />\n",
    "\n",
    "Using the editor in the IDE provides you with certain convenience utilities like using the graphical user interface (GUI) to set debugging points, syntax highlighting, tab completion and so on. However, functionally it's not necessary. Running code from the editor using the green arrow or F9 is the same as copying it to the command window and hitting enter. Technically you could use any editor (like Notepad, Emacs or Vim) and do the same. The MATLAB interpreter doesn't care.\n",
    "\n",
    "**Everything else**\n",
    "\n",
    "What's left? A workspace viewer that show you the information that you could easily get using `whos` and a window that shows you the folder hierarchy and your current directory. Sure, all of that's handy, but it's not necessary."
   ]
  },
  {
   "cell_type": "markdown",
   "metadata": {},
   "source": [
    "# 1.5 Glossary\n",
    "\n",
    "This is the last part of this notebook and the last step before we start to actually do something. MATLAB is always MATLAB, but Python is not always Python. There's IPython, Jupyter, Anaconda, PyCharm, Spyder and so on. We'll try to structure this pool of words a bit before we start using it."
   ]
  },
  {
   "cell_type": "markdown",
   "metadata": {},
   "source": [
    "**Python**\n",
    "\n",
    "Python itself is the language, i.e. the syntax, rules and built-in data types. Python doesn't specify how the language is used by the machine.\n",
    "\n",
    "**CPython**\n",
    "\n",
    "Is the standard interpreter which is written in C. Technically there are different ways to translate Python. As long as the same syntax produces the same results, it's still Python. It's like you book an interpreter from another agency. He might use a different way to translate to Japanese, but you're still talking English to him. There are other interpreters like RPython. And there is a just-in-time-compiler called PyPy. This approach can dramatically speed up the execution, but tends to be less stable. \n",
    "\n",
    "**IPython**\n",
    "\n",
    "Is an interactive shell. Just like the MATLAB command line. It provides a lot of functions that make your life easier like tab completion, syntax highlighting, implementation of shell functions like `pwd`or `ls` and so on. Jupter uses IPython in the background (Jupyter notebooks used to be called IPython notebooks).\n",
    "\n",
    "**Anaconda**\n",
    "\n",
    "Calls itself a data science platform. If you download \"Anaconda\", you download a Python interpreter, a lot of packages that are commonly used in (data) science, R, conda and a GUI as well as a shell to use conda. Anaconda is also the *Anaconda Cloud*, from where conda installs packages. \n",
    "\n",
    "**Miniconda**\n",
    "\n",
    "Basically Anaconda Light. It comes without all the packages pre-installed. You can use either Anaconda or Miniconda for this workshop, both are fine. \n",
    "\n",
    "**Project Jupyter**\n",
    "\n",
    "An NGO that provides interactive computing environments. Jupyter stands for \"Julia, Python, R\" but provides enviroments for lots of different languages. Most well-known products are Jupyter Notebooks and Jupyter Lab. \n",
    "\n",
    "**Jupyter Notebook**\n",
    "\n",
    "Comparable to live scripts in MATLAB or Markdown in R. Combine text blocks, code snippets, output and plots in one document. Provide an alternative workflow to editor + shell. This right here is a jupyter notebook.\n",
    "\n",
    "**Jupyter lab**\n",
    "\n",
    "The current state of Jupyter workflow. Consoles, an editor, jupyter notebooks, a shell - everything in one. It's a bit like an IDE. We'll use Jupyter Lab in this workshop. \n",
    "\n",
    "**conda**\n",
    "\n",
    "A program that handles packages and environments. Create, clone and edit enviroments, install and update packages, and so on. Alternative to pip, more directed at the (data) science community. Comes with Anaconda and Miniconda. \n",
    "\n",
    "**pip**\n",
    "\n",
    "The standard Python package manager. Use this, when a package is not provided by conda.\n",
    "\n",
    "**Anaconda prompt**\n",
    "\n",
    "A shell that you should use in Windows to use conda. If you're on Linux or MacOS, you can just use `conda` from the standard command line."
   ]
  },
  {
   "cell_type": "markdown",
   "metadata": {},
   "source": [
    "That's enough for now, let's get started with conda."
   ]
  }
 ],
 "metadata": {
  "kernelspec": {
   "display_name": "Python 3",
   "language": "python",
   "name": "python3"
  },
  "language_info": {
   "codemirror_mode": {
    "name": "ipython",
    "version": 3
   },
   "file_extension": ".py",
   "mimetype": "text/x-python",
   "name": "python",
   "nbconvert_exporter": "python",
   "pygments_lexer": "ipython3",
   "version": "3.8.3"
  }
 },
 "nbformat": 4,
 "nbformat_minor": 4
}
