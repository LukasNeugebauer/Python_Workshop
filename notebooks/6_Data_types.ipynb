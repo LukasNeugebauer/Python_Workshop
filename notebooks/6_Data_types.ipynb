{
 "cells": [
  {
   "cell_type": "markdown",
   "metadata": {},
   "source": [
    "# 8. Compound data types\n",
    "\n",
    "This will be about non-scalar data types. The most important built-in data types are `list`, `str`, `dict`, `generators` and `set`. For time constraints we'll only cover lists, dictionaries and strings.\n",
    "\n",
    "## 8.1 Lists\n",
    "\n",
    "Lists are very flexible data types as they can hold virtually every Python object. They are also **mutable** which means that you can change them after creation - add or delete items. The closest equivalent in MATLAB would be `cells`. \n",
    "\n",
    "They can be constructed like this:\n",
    "\n",
    "```Python\n",
    "list_1 = ['a',2,92.1];\n",
    "```\n",
    "\n",
    "**Exercise**\n",
    "\n",
    "Create a list that contains any number of arbitrary objects like `ints`, `functions` and so on."
   ]
  },
  {
   "cell_type": "code",
   "execution_count": null,
   "metadata": {},
   "outputs": [],
   "source": [
    "#your code here\n"
   ]
  },
  {
   "cell_type": "markdown",
   "metadata": {},
   "source": [
    "### 8.1.1 Indexing lists\n",
    "\n",
    "Indexing in lists works we already learned it: 0-based. That means the first element is [0], the Nth element is [N-1]. Slices include the start index and exclude the stop index. Think about the offsets."
   ]
  },
  {
   "cell_type": "code",
   "execution_count": 19,
   "metadata": {},
   "outputs": [],
   "source": [
    "a_list = [0,1,2,3,4];"
   ]
  },
  {
   "cell_type": "markdown",
   "metadata": {},
   "source": [
    "**Exercises**\n",
    "\n",
    "   1. Select the second value (2) from the list.\n",
    "   2. Select the subset [2,3,4] from the list.\n",
    "   3. Replace the value at index 2 with `99`"
   ]
  },
  {
   "cell_type": "code",
   "execution_count": 36,
   "metadata": {},
   "outputs": [],
   "source": [
    "#your code here\n"
   ]
  },
  {
   "cell_type": "code",
   "execution_count": 37,
   "metadata": {},
   "outputs": [],
   "source": [
    "#your code here\n"
   ]
  },
  {
   "cell_type": "code",
   "execution_count": 38,
   "metadata": {},
   "outputs": [],
   "source": [
    "#your code here\n"
   ]
  },
  {
   "cell_type": "markdown",
   "metadata": {},
   "source": [
    "### 8.1.2 Create lists from other objects\n",
    "\n",
    "You can use the `list()`-function to create a list from another object like this:\n",
    "```Python\n",
    "new_list = list( old_object );\n",
    "\n",
    "```\n",
    "\n",
    "You will need this for objects of type `generator`, `filter` and others. You don't have to understand this now, but take a look at how `range()` behaves."
   ]
  },
  {
   "cell_type": "code",
   "execution_count": 26,
   "metadata": {},
   "outputs": [
    {
     "name": "stdout",
     "output_type": "stream",
     "text": [
      "range(0, 4)\n",
      "<class 'range'>\n"
     ]
    }
   ],
   "source": [
    "a = range(4);\n",
    "print(a);\n",
    "print(type(a));"
   ]
  },
  {
   "cell_type": "markdown",
   "metadata": {},
   "source": [
    "Until now this is a `range` object. If you want to use it in readable form, you can transform it to a `list`:"
   ]
  },
  {
   "cell_type": "code",
   "execution_count": 27,
   "metadata": {},
   "outputs": [],
   "source": [
    "#your code here\n"
   ]
  },
  {
   "cell_type": "markdown",
   "metadata": {},
   "source": [
    "### 8.1.3 List concatenation\n",
    "\n",
    "Because of the syntax it is easy to confuse lists with MATLAB arrays. The behave **completely** different. Consider the following cell, think about what you except and run it:"
   ]
  },
  {
   "cell_type": "code",
   "execution_count": 29,
   "metadata": {},
   "outputs": [
    {
     "name": "stdout",
     "output_type": "stream",
     "text": [
      "[1, 2, 3, 3, 2, 1]\n"
     ]
    }
   ],
   "source": [
    "a = [1,2,3] + [3,2,1];\n",
    "print(a);"
   ]
  },
  {
   "cell_type": "markdown",
   "metadata": {},
   "source": [
    "So yeah. That's how list concatenation works. \n",
    "\n",
    "### 8.1.4 Lists are objects\n",
    "\n",
    "As should be clear by now. That means they have methods you can use to manipulate their content or get informations about it like `list.append()`, `list.remove()`, `list.index()`. We can't cover everything, see [here](https://docs.python.org/3/tutorial/datastructures.html) for the complete list."
   ]
  },
  {
   "cell_type": "code",
   "execution_count": 1,
   "metadata": {},
   "outputs": [],
   "source": [
    "a = [sum, 1, 'word'];"
   ]
  },
  {
   "cell_type": "markdown",
   "metadata": {},
   "source": [
    "**Exercise**\n",
    "\n",
    "Use the `list.append()` method to append a `float` of your choice (or anything really) to the list `a`. Then remove the `int` 1. Finally retrieve the index of 'word'. "
   ]
  },
  {
   "cell_type": "code",
   "execution_count": null,
   "metadata": {},
   "outputs": [],
   "source": [
    "#your code here\n"
   ]
  },
  {
   "cell_type": "code",
   "execution_count": 30,
   "metadata": {},
   "outputs": [],
   "source": [
    "#your code here\n"
   ]
  },
  {
   "cell_type": "code",
   "execution_count": 4,
   "metadata": {},
   "outputs": [],
   "source": [
    "#your code here\n"
   ]
  },
  {
   "cell_type": "markdown",
   "metadata": {},
   "source": [
    "### 8.1.5 len()\n",
    "\n",
    "`len()` is a built-in function that's not part of the classes `list` or `tuple`. That means you can't call `my_list.len()`, but have to use the imperative version: `len(my_list)`. It works on lists, tuples, dictionaries. Even data types from third party packages like **pandas** and **numpy**. The length of an object starts with one, not zero. There's not much more to say about it. Try it yourself and get the length of the following objects:"
   ]
  },
  {
   "cell_type": "code",
   "execution_count": 7,
   "metadata": {},
   "outputs": [],
   "source": [
    "my_list = [1,2,3];\n",
    "my_tuple = (1,2,3);\n",
    "my_dict = {'a': 1, 'b': 2};"
   ]
  },
  {
   "cell_type": "markdown",
   "metadata": {},
   "source": [
    "## 8.2 Tuples\n",
    "\n",
    "Tuples are the immutable version of lists. that means, once they are created, they can't be changed. Apart from that, they can be used pretty interchangeably with lists. They can also hold every other object. The construction syntax is one of the following:\n",
    "\n",
    "```Python\n",
    "my_tuple_1 = (1, 2, 3 );\n",
    "my_tuple_2 = 1, 2, 3;\n",
    "```\n",
    "\n",
    "As you see, the parentheses are added implicitely. If you want to have a tuple of length one, you have to add a comma. Otherwise the parentheses are interpreted in a mathematical sense:"
   ]
  },
  {
   "cell_type": "code",
   "execution_count": 11,
   "metadata": {},
   "outputs": [
    {
     "name": "stdout",
     "output_type": "stream",
     "text": [
      "<class 'int'>\n",
      "<class 'tuple'>\n",
      "<class 'tuple'>\n"
     ]
    }
   ],
   "source": [
    "a = (1);\n",
    "b = (1,);\n",
    "c = 1,;\n",
    "for i in [a,b,c]:\n",
    "    print( type( i ) )"
   ]
  },
  {
   "cell_type": "markdown",
   "metadata": {},
   "source": [
    "<br/>\n",
    "\n",
    "**Exercise**\n",
    "\n",
    "Create a tuple of an integer, a function and a string. Use indexing to retrieve the string. Try to change one of the elements and find out what **immutability** means."
   ]
  },
  {
   "cell_type": "code",
   "execution_count": 14,
   "metadata": {},
   "outputs": [],
   "source": [
    "#your code here\n"
   ]
  },
  {
   "cell_type": "markdown",
   "metadata": {},
   "source": [
    "## 8.3 Strings and characters\n",
    "\n",
    "Strings and characters are the same thing in Python. They are very easy to handle if you're used to MATLAB because they are consideres as data types from the beginning. Just like tuples they are **immutable**, meaning that you can't change them after creation. You can use methods to return manipulated versions though.\n",
    "\n",
    "You can use either `\"double quotes\"` or `'single quotes'`, they act the same."
   ]
  },
  {
   "cell_type": "code",
   "execution_count": 30,
   "metadata": {},
   "outputs": [
    {
     "name": "stdout",
     "output_type": "stream",
     "text": [
      "True\n"
     ]
    }
   ],
   "source": [
    "double_quote = \"string\";\n",
    "single_quote = 'string';\n",
    "print( double_quote == single_quote );"
   ]
  },
  {
   "cell_type": "markdown",
   "metadata": {},
   "source": [
    "You can escape a quote in your string with another quote (`'That''s it'`) or by using double quotes for the string and single quotes within (`\"What's up\"`).\n",
    "\n",
    "### 8.3.1 String concatenation \n",
    "\n",
    "Is the act of joining strings together. It's really just *adding* two strings together, isn't it?\n",
    "\n",
    "**Exercise**\n",
    "\n",
    "Find out what I mean by that and concatenate the following strings."
   ]
  },
  {
   "cell_type": "code",
   "execution_count": 33,
   "metadata": {},
   "outputs": [],
   "source": [
    "s_1 = 'Well ';\n",
    "s_2 = 'done!';"
   ]
  },
  {
   "cell_type": "code",
   "execution_count": 35,
   "metadata": {},
   "outputs": [],
   "source": [
    "#your code here\n"
   ]
  },
  {
   "cell_type": "markdown",
   "metadata": {},
   "source": [
    "This only works for strings. If you want to add e.g. numeric types as string, you have to convert them using the `str()`-constructor first.\n",
    "\n",
    "**Exercise**\n",
    "\n",
    "Add your age between the two strings:"
   ]
  },
  {
   "cell_type": "code",
   "execution_count": 4,
   "metadata": {},
   "outputs": [],
   "source": [
    "s_1 = 'I am ';\n",
    "s_2 = ' years old';"
   ]
  },
  {
   "cell_type": "markdown",
   "metadata": {},
   "source": [
    "### 8.3.2 Indexing in strings\n",
    "\n",
    "Works the same as in lists:"
   ]
  },
  {
   "cell_type": "code",
   "execution_count": 39,
   "metadata": {},
   "outputs": [],
   "source": [
    "my_str = 'abcde';"
   ]
  },
  {
   "cell_type": "markdown",
   "metadata": {},
   "source": [
    "**Exercise**\n",
    "\n",
    "Retrieve the letter 'e' using an index."
   ]
  },
  {
   "cell_type": "code",
   "execution_count": 40,
   "metadata": {},
   "outputs": [],
   "source": [
    "#your code here\n"
   ]
  },
  {
   "cell_type": "markdown",
   "metadata": {},
   "source": [
    "Want to find out what immutable means? Try to replace the 'a' in `my_str` with something else:"
   ]
  },
  {
   "cell_type": "code",
   "execution_count": 42,
   "metadata": {},
   "outputs": [],
   "source": [
    "#your code here\n"
   ]
  },
  {
   "cell_type": "markdown",
   "metadata": {},
   "source": [
    "### 8.3.3 String methods\n",
    "\n",
    "Since obviously `str`ings are objects, they provide a lot of functionality. Whatever you can think of, there is probably a method for that. If it's not in the `str` class which is built-in, you can import the module `string` which offers even more options. \n",
    "\n",
    "Of course we can't cover all methods of `str`, you can find a list of them somewhere in [here]( https://docs.python.org/3/library/stdtypes.html ).\n",
    "\n",
    "We will have a look at some ways to format strings. So to do what you would do using `sprintf()` or `fprintf()` in MATLAB. Neither of those exist in Python. In Python, you format the string and then just `print()` it.\n",
    "\n",
    "There are multiple ways to do this and they differ between Python 2 and 3. You'll learn about two now: `f-strings` and the `str.format()`-method.\n",
    "\n",
    "#### 8.3.3.1 f-strings\n",
    "\n",
    "f-strings are one way to format strings. The syntax is\n",
    "\n",
    "```Python\n",
    "age = 27;\n",
    "f'I am {age} years old.';\n",
    "```\n",
    "You can add whatever objects in curly brackets and the function will try its best to give out sensible output.\n"
   ]
  },
  {
   "cell_type": "markdown",
   "metadata": {},
   "source": [
    "**Exercise**\n",
    "\n",
    "Assign your name, age and the number of your siblings to three variables and use these to format and print a string like this:<br/>\n",
    "\"My name is { }, I'm { } years old and I have { } siblings.\"\n",
    "\n",
    "(Or format any other string using variables.)"
   ]
  },
  {
   "cell_type": "code",
   "execution_count": 15,
   "metadata": {},
   "outputs": [],
   "source": [
    "#your code here\n"
   ]
  },
  {
   "cell_type": "markdown",
   "metadata": {},
   "source": [
    "#### 8.3.3.2 The str.format() method\n",
    "\n",
    "This is the other most common way to format strings. You use curly brackets as placeholders or input. Then in brackets you define the variables to put in. The simplest form ist this:\n",
    "\n",
    "```Python\n",
    "age = 27;\n",
    "age_str = 'I am {} years old.'.format( age ); \n",
    "```\n",
    "If you want a specific format of the input, e.g. integer or 2 decimals, you can do it like this:\n",
    "\n",
    "```Python\n",
    "vol_alc = 5.8;\n",
    "beer_str = 'This beer has an alcohol content of {:.2f}%.'.format( vol_alc );\n",
    "```\n",
    "\n",
    "**Exercise**\n",
    "\n",
    "Format a string to state pi including 10 decimals."
   ]
  },
  {
   "cell_type": "code",
   "execution_count": 12,
   "metadata": {},
   "outputs": [],
   "source": [
    "from math import pi\n",
    "#your code here\n"
   ]
  },
  {
   "cell_type": "markdown",
   "metadata": {},
   "source": [
    "That's enough for strings. Of course there is way more to learn, but that will happen on its own in the future."
   ]
  },
  {
   "cell_type": "markdown",
   "metadata": {},
   "source": [
    "<br/> \n",
    "\n",
    "## 8.4 Dictionaries\n",
    "\n",
    "Dictionaries are instances of the class `dict`. If `lists` are something like the equivalent to MATLAB `cells`, then `dicts` would be the equivalent to `structs`. They consist of `keys` and `values`. There are several ways to construct them, some more elegant than others. The most basic one is:\n",
    "\n",
    "```Python\n",
    "my_dict = { key1: value1, key2: value2, key3: value3};\n",
    "```\n",
    "\n",
    "You can use any immutable object as keys. That means you can use a tuple as a key but not a list. Strings, numeric data types and booleans are fine too. Keys are what fieldnames are in structures.\n",
    "\n",
    "**Exercise**\n",
    "\n",
    "Describe yourself in a dictionary. You can e.g. add your age, height, favorite movie, income,..."
   ]
  },
  {
   "cell_type": "code",
   "execution_count": 17,
   "metadata": {},
   "outputs": [],
   "source": [
    "#your code here\n"
   ]
  },
  {
   "cell_type": "markdown",
   "metadata": {},
   "source": [
    "### 8.4.1 Indexing dictionaries\n",
    "\n",
    "Numeric indexes don't work for dictionaries - only in the sense that you can of course use numeric keys and then retrieve the values using this key. The syntax for indexing is:\n",
    "\n",
    "```Python\n",
    "value1 = my_dict[ key1 ]; \n",
    "```\n",
    "\n",
    "**Exercise**\n",
    "\n",
    "Retrieve one of your aspects from the dictionary using the respective key."
   ]
  },
  {
   "cell_type": "code",
   "execution_count": 22,
   "metadata": {},
   "outputs": [],
   "source": [
    "#your code here\n"
   ]
  },
  {
   "cell_type": "markdown",
   "metadata": {},
   "source": [
    "### 8.4.2 Dict functions\n",
    "\n",
    "If you only want the keys or the values of a dictionary, e.g. to loop over them, use `dict.keys()` and `dict.values()` for that. If you want to loop over both at the same time, use `dict.items()`.\n",
    "\n",
    "**Exercise**\n",
    "\n",
    "Loop over the items ( = keys + values ) of your dictionary. Use this to print a description of yourself to the screen:"
   ]
  },
  {
   "cell_type": "code",
   "execution_count": 26,
   "metadata": {},
   "outputs": [],
   "source": [
    "#your code here\n"
   ]
  },
  {
   "cell_type": "markdown",
   "metadata": {},
   "source": [
    "8.4.3 Dict from multiple iterables\n",
    "\n",
    "If you have many values, creating dictionaries this way is not really feasible. There are a few more sophisticated ways to create dictionaries. As usually the class definition can be used as a constructor for dictionaries by calling it like a function `dict()`. Since you need values and keys, you can't just pass e.g. a list. \n",
    "\n",
    "**Exercise** \n",
    "\n",
    "Find out how to use `zip()` to create a dictionaries from the two lists. Use letters as keys and integers as values:"
   ]
  },
  {
   "cell_type": "code",
   "execution_count": 28,
   "metadata": {},
   "outputs": [],
   "source": [
    "letters = ['a','b','c'];\n",
    "integers = [1,2,3];\n",
    "#your code here\n"
   ]
  },
  {
   "cell_type": "markdown",
   "metadata": {},
   "source": [
    "<br/>\n",
    "\n",
    "## 8.5 Generators\n",
    "\n",
    "Generators are a bit harder to understand. I only cover them here because you will use them in list comprehension. We'll keep it as superficial as possible while still allowing you to use that later.\n",
    "\n",
    "Generators are objects without a memory. They use the `yield`-function to give out one item at a time, but once it's gone it's gone. This is very memory efficient for objects that you only need once. \n",
    "\n",
    "You could understand the `range`-object as generator (although it is none). Range actually constructs something like a list and can be indexed. So a `range(100000)` takes up a lot of space. For looping it would be enough, if it increased its value every iteration and stopped once it reached the maximum value:"
   ]
  },
  {
   "cell_type": "code",
   "execution_count": 50,
   "metadata": {},
   "outputs": [],
   "source": [
    "class my_range:\n",
    "     \n",
    "    def __init__(self, n):\n",
    "        self.n = n; #up to where do we go?\n",
    "        self.i = 0; #where are we right now?\n",
    "        \n",
    "    def next_value(self):\n",
    "        self.i += 1;\n",
    "        if self.i > self.n:\n",
    "            raise Exception('I''m empty')\n",
    "        else:\n",
    "            return self.i-1"
   ]
  },
  {
   "cell_type": "code",
   "execution_count": null,
   "metadata": {},
   "outputs": [],
   "source": [
    "a = my_range(5);\n",
    "for i in range(6):\n",
    "    b =   a.next_value();\n",
    "    print(b);"
   ]
  },
  {
   "cell_type": "markdown",
   "metadata": {},
   "source": [
    "This is not actually how generators are implemented, but you get the idea how they work. \n",
    "You can construct `generators` like this:"
   ]
  },
  {
   "cell_type": "code",
   "execution_count": 69,
   "metadata": {},
   "outputs": [
    {
     "name": "stdout",
     "output_type": "stream",
     "text": [
      "<class 'generator'>\n"
     ]
    }
   ],
   "source": [
    "my_gen = (x for x in range(10) );\n",
    "print( type( my_gen ) );"
   ]
  },
  {
   "cell_type": "markdown",
   "metadata": {},
   "source": [
    "So what do I mean with, once they're empty, they're empty? Generators have a function `__next__()` that yields the next value, as long as there is one. "
   ]
  },
  {
   "cell_type": "code",
   "execution_count": null,
   "metadata": {},
   "outputs": [],
   "source": [
    "while True:\n",
    "    print( my_gen.__next__() );"
   ]
  },
  {
   "cell_type": "markdown",
   "metadata": {},
   "source": [
    "And now it can't return anything anymore:"
   ]
  },
  {
   "cell_type": "code",
   "execution_count": null,
   "metadata": {},
   "outputs": [],
   "source": [
    "my_gen.__next__();"
   ]
  },
  {
   "cell_type": "markdown",
   "metadata": {},
   "source": [
    "You can transform `generators` into lists if you want to keep all values. This approach uses the same `__next__()` method and thus the generator is still empty afterwards: "
   ]
  },
  {
   "cell_type": "code",
   "execution_count": null,
   "metadata": {},
   "outputs": [],
   "source": [
    "my_gen = (x for x in range(4));\n",
    "my_list = list( my_gen);\n",
    "print(my_list);\n",
    "#doesn't work anymore\n",
    "my_gen.__next__()"
   ]
  },
  {
   "cell_type": "markdown",
   "metadata": {},
   "source": [
    "### 8.5.1 List comprehension\n",
    "\n",
    "This is by far the most common way to use a generator. List comprehensions are a very useful tool and they are used a lot in idiomatic Python. Often, when you would write a loop in MATLAB, you can use list comprehension. Which is also using a `for`-loop but is more efficient and very readable. List comprehension in easy terms is creating a list using a loop:\n",
    "\n",
    "```Python\n",
    "new_list = [ x*2 for x in range(100) ];\n",
    "```\n",
    "\n",
    "This will create a new list with length 100 of the doubled values from 0 to 99.\n",
    "\n",
    "**Exercise**\n",
    "\n",
    "Use list comprehension to create a list containing the squares of all integers from 1 to 100."
   ]
  },
  {
   "cell_type": "code",
   "execution_count": 80,
   "metadata": {},
   "outputs": [],
   "source": [
    "#your code here\n"
   ]
  },
  {
   "cell_type": "markdown",
   "metadata": {},
   "source": [
    "<br/>\n",
    "\n",
    "You can also use multiple `for`-statements in one list comprehension. This gets a bit confusing at first, but it's enough to remember that you write them in the same order as you would otherwise.\n",
    "\n",
    "This:\n",
    "```Python\n",
    "y = [];\n",
    "for x in [1,2,3]:\n",
    "    for z in [10,100,1000]:\n",
    "        y.append(x+z);\n",
    "```\n",
    "becomes\n",
    "```Python\n",
    "y = [x+z for x in [1,2,3] for z in [10,100,1000];\n",
    "```\n",
    "\n",
    "See for yourself:"
   ]
  },
  {
   "cell_type": "code",
   "execution_count": 91,
   "metadata": {},
   "outputs": [
    {
     "name": "stdout",
     "output_type": "stream",
     "text": [
      "True\n"
     ]
    }
   ],
   "source": [
    "y1 = [];\n",
    "for x in [1,2,3]:\n",
    "    for z in [10,100,1000]:\n",
    "        y1.append( x+z)\n",
    "y2 = [x+z for x in [1,2,3] for z in [10,100,1000] ];\n",
    "\n",
    "print( y1 == y2 );"
   ]
  },
  {
   "cell_type": "markdown",
   "metadata": {},
   "source": [
    "You might have expected that the `==`-operator checks for single values and returns a list of booleans. This is the way it works on MATLAB arrays. Here it checks for all values at once. You could either write your own list class and overwrite the `__eq__()`-method. Or:\n",
    "\n",
    "**Exercise**\n",
    "\n",
    "You could use list comprehension to do that ;)."
   ]
  },
  {
   "cell_type": "code",
   "execution_count": 93,
   "metadata": {},
   "outputs": [],
   "source": [
    "#your code here\n",
    "bol = [x==y for x,y in zip(y1,y2 )]"
   ]
  },
  {
   "cell_type": "markdown",
   "metadata": {},
   "source": [
    "#### 8.5.1.1 Conditional list comprehension\n",
    "\n",
    "You can use `if`-statements in two different ways in list comprehension. Either as **ternary operators** or as actual condition to execute the statement.\n",
    "\n",
    "**Ternary operator**\n",
    "\n",
    "A quick reminder. The ternary operator is this nice little thing here:\n",
    "\n",
    "```Python\n",
    "a = 100;\n",
    "size_of_a = 'small' if a < 50 else 'big';\n",
    "```\n",
    "\n",
    "You can extend this to a list like this:\n",
    "\n",
    "```Python\n",
    "a = [30,89,2,200,239];\n",
    "size_of_a = ['small' if i < 50 else 'big' for i in a ]; \n",
    "```\n",
    "\n",
    "The position is important!\n",
    "\n",
    "**Exercise**\n",
    "\n",
    "Use the ternary operator in list comprehension to dichotomize the following list of BDI scores. Use a cutoff-score of 14, i.e. everyone with a score of at least 14 is considered depressive."
   ]
  },
  {
   "cell_type": "code",
   "execution_count": 95,
   "metadata": {},
   "outputs": [],
   "source": [
    "BDI_scores = [11,8,14,19,2,3,16,12,15];"
   ]
  },
  {
   "cell_type": "code",
   "execution_count": 96,
   "metadata": {},
   "outputs": [],
   "source": [
    "#your code here\n"
   ]
  },
  {
   "cell_type": "markdown",
   "metadata": {},
   "source": [
    "**Actual condition**\n",
    "\n",
    "The ternary operator can't be used to skip an iteration depending on value. It can only choose between two alternatives. There is also a way to skip iterations.\n",
    "\n",
    "Assume we have a list of positive and negative values. We only want the ones > 0. In a regular loop this would look like this:\n",
    "\n",
    "```Python\n",
    "old_list = [-1, 34, 2, -122, 324];\n",
    "new_list = [];\n",
    "for old in old_list:\n",
    "    if old > 0:\n",
    "        new_list.append( old );\n",
    "```\n",
    "\n",
    "Having this structure in mind, it's more intuitive where to put the `if` in the list comprehension. Just like the order of `for`-statements, we just follow the order as well:\n",
    "\n",
    "```Python\n",
    "old_list = [-1, 34, 2, -122, 324];\n",
    "new_list = [old for old in old_list if old > 0];\n",
    "```\n",
    "\n",
    "**Exercise**\n",
    "\n",
    "Use this approach to select only the even numbers from the following list:"
   ]
  },
  {
   "cell_type": "code",
   "execution_count": 97,
   "metadata": {},
   "outputs": [],
   "source": [
    "odd_and_even = [4,23,443,226,23,36,658,2];"
   ]
  },
  {
   "cell_type": "code",
   "execution_count": 98,
   "metadata": {},
   "outputs": [],
   "source": [
    "#your code here\n"
   ]
  },
  {
   "cell_type": "markdown",
   "metadata": {},
   "source": [
    "List comprehension is optimized very well and thus it's often considerably faster than even more sophisticated approach. When you can use list comprehension or something else to solve the same problem: Use list comprehension."
   ]
  },
  {
   "cell_type": "markdown",
   "metadata": {},
   "source": [
    "### 8.5.2 Dict comprehension\n",
    "\n",
    "Just for the sake of completeness: The same principle can be used to create dictionaries. In many cases you could just use the `dict( zip(a,b) )`-syntax here. But you can also do this:\n",
    "```Python\n",
    "new_dict = { a: b for a,b in zip(['a','b','c'],[1,2,3]) };\n",
    "```"
   ]
  },
  {
   "cell_type": "markdown",
   "metadata": {},
   "source": [
    "\n",
    "\n",
    "# Conclusion\n",
    "\n",
    "This is the bare minimum you need to know about data types in Python. Next, let's have a look at how modules and packages are organized."
   ]
  }
 ],
 "metadata": {
  "kernelspec": {
   "display_name": "Python [conda env:root]",
   "language": "python",
   "name": "conda-root-py"
  },
  "language_info": {
   "codemirror_mode": {
    "name": "ipython",
    "version": 3
   },
   "file_extension": ".py",
   "mimetype": "text/x-python",
   "name": "python",
   "nbconvert_exporter": "python",
   "pygments_lexer": "ipython3",
   "version": "3.7.1"
  }
 },
 "nbformat": 4,
 "nbformat_minor": 2
}
