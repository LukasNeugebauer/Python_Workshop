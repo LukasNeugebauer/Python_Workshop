{
 "cells": [
  {
   "cell_type": "markdown",
   "metadata": {},
   "source": [
    "# 8. Compound data types\n",
    "\n",
    "This will be about non-scalar data types. The most important built-in data types are `list`, `str`, `dict`, `generators` and `set`. For time constraints we'll only cover lists, dictionaries and strings.\n",
    "\n",
    "## 8.1 Lists\n",
    "\n",
    "Lists are very flexible data types as they can hold virtually every Python object. They are also **mutable** which means that you can change them after creation - add or delete items. The closest equivalent in MATLAB would be `cells`. \n",
    "\n",
    "They can be constructed like this:\n",
    "\n",
    "```Python\n",
    "list_1 = ['a',2,92.1];\n",
    "```\n",
    "\n",
    "**Exercise**\n",
    "\n",
    "Create a list that contains any number of arbitrary objects like `ints`, `functions` and so on."
   ]
  },
  {
   "cell_type": "code",
   "execution_count": null,
   "metadata": {},
   "outputs": [],
   "source": [
    "#your code here\n"
   ]
  },
  {
   "cell_type": "markdown",
   "metadata": {},
   "source": [
    "### 8.1.1 Indexing lists\n",
    "\n",
    "Indexing in lists works we already learned it: 0-based. That means the first element is [0], the Nth element is [N-1]. Slices include the start index and exclude the stop index. Think about the offsets."
   ]
  },
  {
   "cell_type": "code",
   "execution_count": 19,
   "metadata": {},
   "outputs": [],
   "source": [
    "a_list = [0,1,2,3,4];"
   ]
  },
  {
   "cell_type": "markdown",
   "metadata": {},
   "source": [
    "**Exercises**\n",
    "\n",
    "   1. Select the second value (2) from the list.\n",
    "   2. Select the subset [2,3,4] from the list.\n",
    "   3. Replace the value at index 2 with `99`"
   ]
  },
  {
   "cell_type": "code",
   "execution_count": 36,
   "metadata": {},
   "outputs": [],
   "source": [
    "#your code here\n"
   ]
  },
  {
   "cell_type": "code",
   "execution_count": 37,
   "metadata": {},
   "outputs": [],
   "source": [
    "#your code here\n"
   ]
  },
  {
   "cell_type": "code",
   "execution_count": 38,
   "metadata": {},
   "outputs": [],
   "source": [
    "#your code here\n"
   ]
  },
  {
   "cell_type": "markdown",
   "metadata": {},
   "source": [
    "### 8.1.2 Create lists from other objects\n",
    "\n",
    "You can use the `list()`-function to create a list from another object like this:\n",
    "```Python\n",
    "new_list = list( old_object );\n",
    "\n",
    "```\n",
    "\n",
    "You will need this for objects of type `generator`, `filter` and others. You don't have to understand this now, but take a look at how `range()` behaves."
   ]
  },
  {
   "cell_type": "code",
   "execution_count": 26,
   "metadata": {},
   "outputs": [
    {
     "name": "stdout",
     "output_type": "stream",
     "text": [
      "range(0, 4)\n",
      "<class 'range'>\n"
     ]
    }
   ],
   "source": [
    "a = range(4);\n",
    "print(a);\n",
    "print(type(a));"
   ]
  },
  {
   "cell_type": "markdown",
   "metadata": {},
   "source": [
    "Until now this is a `range` object. If you want to use it in readable form, you can transform it to a `list`:"
   ]
  },
  {
   "cell_type": "code",
   "execution_count": 27,
   "metadata": {},
   "outputs": [],
   "source": [
    "#your code here\n"
   ]
  },
  {
   "cell_type": "markdown",
   "metadata": {},
   "source": [
    "### 8.1.3 List concatenation\n",
    "\n",
    "Because of the syntax it is easy to confuse lists with MATLAB arrays. The behave **completely** different. Consider the following cell, think about what you except and run it:"
   ]
  },
  {
   "cell_type": "code",
   "execution_count": 29,
   "metadata": {},
   "outputs": [
    {
     "name": "stdout",
     "output_type": "stream",
     "text": [
      "[1, 2, 3, 3, 2, 1]\n"
     ]
    }
   ],
   "source": [
    "a = [1,2,3] + [3,2,1];\n",
    "print(a);"
   ]
  },
  {
   "cell_type": "markdown",
   "metadata": {},
   "source": [
    "So yeah. That's how list concatenation works. \n",
    "\n",
    "### 8.1.4 Lists are objects\n",
    "\n",
    "As should be clear by now. That means they have methods you can use to manipulate their content or get informations about it like `list.append()`, `list.remove()`, `list.index()`. We can't cover everything, see [here](https://docs.python.org/3/tutorial/datastructures.html) for the complete list."
   ]
  },
  {
   "cell_type": "code",
   "execution_count": 1,
   "metadata": {},
   "outputs": [],
   "source": [
    "a = [sum, 1, 'word'];"
   ]
  },
  {
   "cell_type": "markdown",
   "metadata": {},
   "source": [
    "**Exercise**\n",
    "\n",
    "Use the `list.append()` method to append a `float` of your choice (or anything really) to the list `a`. Then remove the `int` 1. Finally retrieve the index of 'word'. "
   ]
  },
  {
   "cell_type": "code",
   "execution_count": null,
   "metadata": {},
   "outputs": [],
   "source": [
    "#your code here\n"
   ]
  },
  {
   "cell_type": "code",
   "execution_count": 30,
   "metadata": {},
   "outputs": [],
   "source": [
    "#your code here\n"
   ]
  },
  {
   "cell_type": "code",
   "execution_count": 3,
   "metadata": {},
   "outputs": [],
   "source": [
    "#your code here\n"
   ]
  },
  {
   "cell_type": "markdown",
   "metadata": {},
   "source": [
    "9. Compound data types"
   ]
  },
  {
   "cell_type": "markdown",
   "metadata": {},
   "source": [
    "## 8.2 Strings and characters\n",
    "\n",
    "Strings and characters are the same thing in Python. They are very easy to handle if you're used to MATLAB because they are consideres as data types from the beginning. They are **immutable**, meaning that you can't change them after creation. You can use methods to return manipulated versions though.\n",
    "\n",
    "You can use either `\"double quotes\"` or `'single quotes'`, they act the same."
   ]
  },
  {
   "cell_type": "code",
   "execution_count": 30,
   "metadata": {},
   "outputs": [
    {
     "name": "stdout",
     "output_type": "stream",
     "text": [
      "True\n"
     ]
    }
   ],
   "source": [
    "double_quote = \"string\";\n",
    "single_quote = 'string';\n",
    "print( double_quote == single_quote );"
   ]
  },
  {
   "cell_type": "markdown",
   "metadata": {},
   "source": [
    "You can escape a quote in your string with another quote (`'That''s it'`) or by using double quotes for the string and single quotes within (`\"What's up\"`).\n",
    "\n",
    "### 8.2.1 String concatenation \n",
    "\n",
    "Is the act of joining strings together. It's really just *adding* two strings together, isn't it?\n",
    "\n",
    "**Exercise**\n",
    "\n",
    "Find out what I mean by that and concatenate the following strings."
   ]
  },
  {
   "cell_type": "code",
   "execution_count": 33,
   "metadata": {},
   "outputs": [],
   "source": [
    "s_1 = 'Well ';\n",
    "s_2 = 'done!';"
   ]
  },
  {
   "cell_type": "code",
   "execution_count": 35,
   "metadata": {},
   "outputs": [],
   "source": [
    "#your code here\n"
   ]
  },
  {
   "cell_type": "markdown",
   "metadata": {},
   "source": [
    "This only works for strings. If you want to add e.g. numeric types as string, you have to convert them using the `str()`-constructor first.\n",
    "\n",
    "**Exercise**\n",
    "\n",
    "Add your age between the two strings:"
   ]
  },
  {
   "cell_type": "code",
   "execution_count": 4,
   "metadata": {},
   "outputs": [],
   "source": [
    "s_1 = 'I am ';\n",
    "s_2 = ' years old';"
   ]
  },
  {
   "cell_type": "markdown",
   "metadata": {},
   "source": [
    "### 8.2.2 Indexing in strings\n",
    "\n",
    "Works the same as in lists:"
   ]
  },
  {
   "cell_type": "code",
   "execution_count": 39,
   "metadata": {},
   "outputs": [],
   "source": [
    "my_str = 'abcde';"
   ]
  },
  {
   "cell_type": "markdown",
   "metadata": {},
   "source": [
    "**Exercise**\n",
    "\n",
    "Retrieve the letter 'e' using an index."
   ]
  },
  {
   "cell_type": "code",
   "execution_count": 40,
   "metadata": {},
   "outputs": [],
   "source": [
    "#your code here\n"
   ]
  },
  {
   "cell_type": "markdown",
   "metadata": {},
   "source": [
    "Want to find out what immutable means? Try to replace the 'a' in `my_str` with something else:"
   ]
  },
  {
   "cell_type": "code",
   "execution_count": 42,
   "metadata": {},
   "outputs": [],
   "source": [
    "#your code here\n"
   ]
  },
  {
   "cell_type": "markdown",
   "metadata": {},
   "source": [
    "### 8.2.2 String methods\n",
    "\n",
    "Since obviously `str`ings are objects, they provide a lot of functionality. Whatever you can think of, there is probably a method for that. If it's not in the `str` class which is built-in, you can import the module `string` which offers even more options. \n",
    "\n",
    "Of course we can't cover all methods of `str`, you can find a list of them somewhere in [here]( https://docs.python.org/3/library/stdtypes.html ).\n",
    "\n",
    "We will have a look at some ways to format strings. So to do what you would do using `sprintf()` or `fprintf()` in MATLAB. Neither of those exist in Python. In Python, you format the string and then just `print()` it.\n",
    "\n",
    "There are multiple ways to do this and they differ between Python 2 and 3. You'll learn about two now: `f-strings` and the `str.format()`-method.\n",
    "\n",
    "#### 8.2.2.1 f-strings\n",
    "\n",
    "f-strings are one way to format strings. The syntax is\n",
    "\n",
    "```Python\n",
    "age = 27;\n",
    "f'I am {age} years old.';\n",
    "```\n",
    "You can add whatever objects in curly brackets and the function will try its best to give out sensible output.\n"
   ]
  },
  {
   "cell_type": "markdown",
   "metadata": {},
   "source": [
    "**Exercise**\n",
    "\n",
    "Assign your name, age and the number of your siblings to three variables and use these to format and print a string like this:<br/>\n",
    "\"My name is { }, I'm { } years old and I have { } siblings.\"\n",
    "\n",
    "(Or format any other string using variables.)"
   ]
  },
  {
   "cell_type": "code",
   "execution_count": 6,
   "metadata": {},
   "outputs": [],
   "source": [
    "#your code here\n"
   ]
  },
  {
   "cell_type": "markdown",
   "metadata": {},
   "source": [
    "#### 8.2.2.2 The str.format() method\n",
    "\n",
    "This is the other most common way to format strings. You use curly brackets as placeholders or input. Then in brackets you define the variables to put in. The simplest form ist this:\n",
    "\n",
    "```Python\n",
    "age = 27;\n",
    "age_str = 'I am {} years old.'.format( age ); \n",
    "```\n",
    "If you want a specific format of the input, e.g. integer or 2 decimals, you can do it like this:\n",
    "\n",
    "```Python\n",
    "vol_alc = 5.8;\n",
    "beer_str = 'This beer has an alcohol content of {:.2f}%.'.format( vol_alc );\n",
    "```\n",
    "\n",
    "**Exercise**\n",
    "\n",
    "Format a string to state pi including 10 decimals."
   ]
  },
  {
   "cell_type": "code",
   "execution_count": 12,
   "metadata": {},
   "outputs": [],
   "source": [
    "from math import pi\n",
    "#your code here\n"
   ]
  },
  {
   "cell_type": "code",
   "execution_count": null,
   "metadata": {},
   "outputs": [],
   "source": []
  }
 ],
 "metadata": {
  "kernelspec": {
   "display_name": "Python [conda env:root]",
   "language": "python",
   "name": "conda-root-py"
  },
  "language_info": {
   "codemirror_mode": {
    "name": "ipython",
    "version": 3
   },
   "file_extension": ".py",
   "mimetype": "text/x-python",
   "name": "python",
   "nbconvert_exporter": "python",
   "pygments_lexer": "ipython3",
   "version": "3.7.1"
  }
 },
 "nbformat": 4,
 "nbformat_minor": 2
}
