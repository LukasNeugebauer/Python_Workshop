{
 "cells": [
  {
   "cell_type": "markdown",
   "id": "438fdea8-98da-4263-86ca-1934d6765ab0",
   "metadata": {},
   "source": [
    "# 10 scipy\n",
    "\n",
    "Scipy is a package that contains classes and functions for a wide range of numerical problems. Among them signal processing, linear algebra, statistics and optimization. We'll have a quick look at the statistics module, but you should know there is more."
   ]
  },
  {
   "cell_type": "code",
   "execution_count": 10,
   "id": "5992d531-fc46-429e-ae10-62ed282011bb",
   "metadata": {},
   "outputs": [],
   "source": [
    "from scipy import stats"
   ]
  },
  {
   "cell_type": "code",
   "execution_count": 38,
   "id": "10efe5a4-40f0-44b1-a288-958376809ab8",
   "metadata": {},
   "outputs": [],
   "source": [
    "a = np.random.randn(100, 1) + 90\n",
    "b = np.random.randn(100, 1) + 95"
   ]
  },
  {
   "cell_type": "markdown",
   "id": "7bb16349-6124-459b-a0be-edfc9e4efd88",
   "metadata": {},
   "source": [
    "Assuming, `a` and `b` are independent samples, use a t-test to compute the probability of the observed or a more extreme mean difference under the hypothesis that both samples are drawn from the same population."
   ]
  },
  {
   "cell_type": "code",
   "execution_count": 41,
   "id": "a9fea1e8-b925-48cb-af2a-028ea53c8f18",
   "metadata": {},
   "outputs": [],
   "source": [
    "#your code here\n"
   ]
  },
  {
   "cell_type": "markdown",
   "id": "690aba56-e55c-4a2f-81ad-f9b201fe3cc7",
   "metadata": {},
   "source": [
    "Scipy.stats also provides classes for probability distributions. You can create instances of these classes like this."
   ]
  },
  {
   "cell_type": "code",
   "execution_count": 11,
   "id": "0dc4729f-881f-4424-bce9-473c503facd2",
   "metadata": {},
   "outputs": [],
   "source": [
    "#create an object of a beta(2,2)-distribution\n",
    "beta = stats.beta(2, 2)"
   ]
  },
  {
   "cell_type": "markdown",
   "id": "c6b91341-af5e-461e-b39d-95ee1d2e26ef",
   "metadata": {},
   "source": [
    "Now this object can be used to do things like generating random values or computing PDF and CDF. And a lot more."
   ]
  },
  {
   "cell_type": "code",
   "execution_count": 13,
   "id": "be6a76c3-4596-4343-b12b-1fe59df951e2",
   "metadata": {},
   "outputs": [
    {
     "data": {
      "image/png": "[encoded data removed]",
      "text/plain": [
       "<Figure size 432x288 with 1 Axes>"
      ]
     },
     "metadata": {
      "needs_background": "light"
     },
     "output_type": "display_data"
    }
   ],
   "source": [
    "#generate a lot of random values from gamma(2,2)\n",
    "random_values = beta.rvs(10000)\n",
    "#visualize them\n",
    "import matplotlib.pyplot as plt\n",
    "plt.hist(random_values, bins=20)\n",
    "plt.show()"
   ]
  },
  {
   "cell_type": "markdown",
   "id": "c82fd476-11da-41d6-85b3-99dbea5394a8",
   "metadata": {},
   "source": [
    "**Exercise** \n",
    "\n",
    "Use `stats.norm` to \"prove\" that for a normal distribution the AUC between -2 and 2 standard deviations is ~95%. *Hint*: Use the cumulative density function."
   ]
  },
  {
   "cell_type": "code",
   "execution_count": 13,
   "id": "2a7ff25c-c3dd-4e1d-b9ee-d85b5ee1de62",
   "metadata": {},
   "outputs": [],
   "source": [
    "#your code here\n"
   ]
  }
 ],
 "metadata": {
  "kernelspec": {
   "display_name": "Python [conda env:RL]",
   "language": "python",
   "name": "conda-env-RL-py"
  },
  "language_info": {
   "codemirror_mode": {
    "name": "ipython",
    "version": 3
   },
   "file_extension": ".py",
   "mimetype": "text/x-python",
   "name": "python",
   "nbconvert_exporter": "python",
   "pygments_lexer": "ipython3",
   "version": "3.9.7"
  }
 },
 "nbformat": 4,
 "nbformat_minor": 5
}
