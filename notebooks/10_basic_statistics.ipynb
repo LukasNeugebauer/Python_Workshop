{
 "cells": [
  {
   "cell_type": "markdown",
   "id": "438fdea8-98da-4263-86ca-1934d6765ab0",
   "metadata": {},
   "source": [
    "# 10 Basic statistics\n",
    "\n",
    "In this notebook we will cover descriptive stats with `numpy`, t-tests using `scipy` and multiple regression using `statsmodels`. There's a ton of ways to do these things, so those packages were chosen to show you a bit of the width of possibilities. E.g. I'd probably use `scikit-learn` for regressions or `pystan` if I wanted a Bayesian regression. In this notebook we'll also proceed with the mini project."
   ]
  },
  {
   "cell_type": "markdown",
   "id": "405dc2de-924e-4651-9af7-0cabe3b8142b",
   "metadata": {},
   "source": [
    "## 10.1 Descriptive statistics using `numpy`"
   ]
  },
  {
   "cell_type": "code",
   "execution_count": null,
   "id": "83cc7dee-237b-438c-9340-ab089d33509f",
   "metadata": {},
   "outputs": [],
   "source": [
    "import numpy as np"
   ]
  },
  {
   "cell_type": "markdown",
   "id": "d1e87e21-08a3-4815-85c5-9e738a0448bc",
   "metadata": {},
   "source": [
    "As you know, there's only a small number of built-in functions in Python, `mean` and `std` not being among them. Luckily numpy provides us with these, either as functions (`np.mean`) or as class methods (`array.mean`). By default, these functions work along the whole array:"
   ]
  },
  {
   "cell_type": "code",
   "execution_count": null,
   "id": "568f61dd-daec-46ab-8246-b237633f736e",
   "metadata": {},
   "outputs": [],
   "source": [
    "A = np.random.randn(10, 5)\n",
    "print(f\"{A.mean() = }\")\n",
    "print(f\"{A.std() = }\")"
   ]
  },
  {
   "cell_type": "markdown",
   "id": "3352afd7-41a1-437c-9fd1-22c3f3dfd4a1",
   "metadata": {},
   "source": [
    "If you want to apply these methods over different dimensions (e.g. get the column means), you have to specify the `axis`, i.e. the dimension along which you want to perform the operation:\n",
    "\n",
    "**Exercise**\n",
    "\n",
    "Get the mean and standard deviations for the columns of A:"
   ]
  },
  {
   "cell_type": "code",
   "execution_count": null,
   "id": "16d09c1f-45dc-4030-a813-57590382848b",
   "metadata": {},
   "outputs": [],
   "source": [
    "# your code here\n"
   ]
  },
  {
   "cell_type": "markdown",
   "id": "ff8c4acd-9eae-4480-960b-ca059490757b",
   "metadata": {},
   "source": [
    "**Project Exercise 3**\n",
    "\n",
    "Now head over to the project notebook and complete exercise 3!"
   ]
  },
  {
   "cell_type": "markdown",
   "id": "70de8470-36f2-4849-ae3d-f7507e7f8b2b",
   "metadata": {},
   "source": [
    "## 10.2 Mean comparison using `scipy.stats`"
   ]
  },
  {
   "cell_type": "markdown",
   "id": "e68a08af-5883-4030-94f8-d8f7eb64c655",
   "metadata": {},
   "source": [
    "As seen above `numpy` provides some basic descriptive stats functionality. When we're doing inferential stats, we're beyond the realms of `numpy`. But that's not a problem because now we'll get to know the next important package of the scientific python stack: `scipy`. And to be more specific, we're going to use the `stats` module."
   ]
  },
  {
   "cell_type": "code",
   "execution_count": null,
   "id": "896d5a72-2d92-4e2d-9425-3964553c74dd",
   "metadata": {},
   "outputs": [],
   "source": [
    "from scipy import stats"
   ]
  },
  {
   "cell_type": "markdown",
   "id": "bd28dfe4-499f-498f-80d9-2a053764bc88",
   "metadata": {},
   "source": [
    "This module contains all kinds of probability distributions, but also some functions for standard statisticals methods: ttests, anova, univariate regression. The function for an independent sample t-test is `stats.ttest_ind`. It expects at least two arguments, which are the data points from the two samples to compare:\n",
    "\n",
    "```python\n",
    "result = stats.ttest_ind(a, b)\n",
    "```\n",
    "\n",
    "In addition you can give arguments to e.g. use a permutation test instead of the canonical t-distribution to get the p-values. The output is very parsimonious, only a the t- and p-values are reported."
   ]
  },
  {
   "cell_type": "code",
   "execution_count": null,
   "id": "6e42bfcd-ada9-4250-89c9-8dcbdb6b413a",
   "metadata": {},
   "outputs": [],
   "source": [
    "a = np.random.randn(100) + 1\n",
    "b = np.random.randn(100) + 4"
   ]
  },
  {
   "cell_type": "markdown",
   "id": "89ace72e-6692-406c-a1b6-40993dbdefc7",
   "metadata": {},
   "source": [
    "**Exercise**\n",
    "Check how likely it is to arrive at a mean difference that is at least as large as the one between `a` and `b`, assuming that they are drawn from the same population. (i.e. compute an independent t-test):"
   ]
  },
  {
   "cell_type": "code",
   "execution_count": null,
   "id": "af068846-81cc-42f7-a376-3304b19cad88",
   "metadata": {},
   "outputs": [],
   "source": [
    "# your code here\n"
   ]
  },
  {
   "cell_type": "markdown",
   "id": "93317b1c-fc44-4129-9961-5a6672f8fb7d",
   "metadata": {},
   "source": [
    "**Project Exercise 4**\n",
    "\n",
    "Time to put the next chunk of knowledge into practice. Back to the project notebook."
   ]
  },
  {
   "cell_type": "markdown",
   "id": "65404c3b-b9d0-4a2f-88e9-a246fbf0a36f",
   "metadata": {},
   "source": [
    "## 10.3 Multiple regression using `statsmodels`\n",
    "\n",
    "There's many ways to run multiple regression. One way is to use the `statsmodels` package that you should have installed. This uses an object oriented approach. I.e. we first create a linear regression object with the data to fit and then fit it in a second step. So the procedure works like that:\n",
    "\n",
    " 1. Import the correct module from the statsmodels package. This one uses numpy arrays. There is another module which is meant to be used with named arrays (such as `pandas` data frames). That way you can use equations to specify the model like you might know it from `R`.\n",
    " \n",
    "```python\n",
    "import statsmodels.api as sm\n",
    "```\n",
    "\n",
    " 2. Then you create a regression object. In this step you already specify the dependent variable and the design matrix (i.e. the independent variables). If you want to fit an intercept and your design matrix does not contain a column of ones, you can add one with `statsmodels`. Although of course you already know how to do that with only `numpy`.\n",
    " \n",
    "```python\n",
    "# optionally, add intercept column:\n",
    "X = sm.add_constant(X)\n",
    "lin_reg = sm.OLS(y, X) # dependent variable comes first!\n",
    "```\n",
    "\n",
    " 3. Now you can use the linear regression object to fit the model. This will return a detailed fit object.\n",
    " \n",
    "```python\n",
    "fit = lin_reg.fit()\n",
    "```\n",
    "\n",
    " 4. This fit object provides you with methods that report the model fit. E.g. the `fit.summary()` method:\n",
    " \n",
    "```python\n",
    "fit.summary()\n",
    "```\n",
    "\n",
    "We'll simulate some data like we did before, except that we don't include the intercept in the design matrix but just add it as a scalar. This is equivalent."
   ]
  },
  {
   "cell_type": "code",
   "execution_count": null,
   "id": "ffec0aff-a0e5-4077-8bbe-5611605cbb37",
   "metadata": {},
   "outputs": [],
   "source": [
    "X = np.random.randn(100, 2)\n",
    "epsilon = np.random.randn(100) * .3\n",
    "betas = np.array([5, 2.4])\n",
    "intercept = 2.5\n",
    "y = X.dot(betas) + intercept + epsilon"
   ]
  },
  {
   "cell_type": "markdown",
   "id": "1b405b1b-8572-4666-bf51-3d504316dc3e",
   "metadata": {},
   "source": [
    "**Exercise**\n",
    "\n",
    "Run a multiple regression to recover the betas. Don't forget to add the column of ones to the design matrix!"
   ]
  },
  {
   "cell_type": "code",
   "execution_count": null,
   "id": "7f59baf3-9193-4f42-9973-2f446dd8bbb2",
   "metadata": {},
   "outputs": [],
   "source": [
    "import statsmodels.api as sm\n",
    "# your code here\n"
   ]
  },
  {
   "cell_type": "markdown",
   "id": "187d6697-d6af-4262-ba81-f89ca52c77ec",
   "metadata": {},
   "source": [
    "**Project Exercise 5**\n",
    "\n",
    "Next assignment! This is a bigger one. We might postpone it to make sure that there is a bit of time for matplotlib."
   ]
  }
 ],
 "metadata": {
  "kernelspec": {
   "display_name": "Python 3 (ipykernel)",
   "language": "python",
   "name": "python3"
  },
  "language_info": {
   "codemirror_mode": {
    "name": "ipython",
    "version": 3
   },
   "file_extension": ".py",
   "mimetype": "text/x-python",
   "name": "python",
   "nbconvert_exporter": "python",
   "pygments_lexer": "ipython3",
   "version": "3.10.2"
  }
 },
 "nbformat": 4,
 "nbformat_minor": 5
}
