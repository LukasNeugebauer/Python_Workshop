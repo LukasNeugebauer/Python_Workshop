{
 "cells": [
  {
   "cell_type": "markdown",
   "id": "438fdea8-98da-4263-86ca-1934d6765ab0",
   "metadata": {},
   "source": [
    "# 10 Basic statistics\n",
    "\n",
    "In this notebook we will cover descriptive stats with `numpy`, t-tests and probability distributions using `scipy` and multiple regression using `statsmodels`. There's a ton of ways to do these things, so those packages were chosen to show you a bit of the width of possibilities. E.g. I'd probably use `scikit-learn` for regressions or `pystan` if I wanted a Bayesian regression. In this notebook we'll also proceed with the mini project."
   ]
  },
  {
   "cell_type": "markdown",
   "id": "405dc2de-924e-4651-9af7-0cabe3b8142b",
   "metadata": {},
   "source": [
    "## 10.1 Descriptive statistics using `numpy`"
   ]
  },
  {
   "cell_type": "code",
   "execution_count": 5,
   "id": "83cc7dee-237b-438c-9340-ab089d33509f",
   "metadata": {},
   "outputs": [],
   "source": [
    "import numpy as np"
   ]
  },
  {
   "cell_type": "markdown",
   "id": "d1e87e21-08a3-4815-85c5-9e738a0448bc",
   "metadata": {},
   "source": [
    "As you know, there's only a small number of built-in functions in Python, `mean` and `std` not being among them. Luckily numpy provides us with these, either as functions (`np.mean`) or as class methods `array.mean`. By default, these functions work along the whole array:"
   ]
  },
  {
   "cell_type": "code",
   "execution_count": 17,
   "id": "568f61dd-daec-46ab-8246-b237633f736e",
   "metadata": {},
   "outputs": [
    {
     "name": "stdout",
     "output_type": "stream",
     "text": [
      "mean: -0.07172073438985951\n",
      "std: 0.955791447389602\n"
     ]
    }
   ],
   "source": [
    "A = np.random.randn(10, 5)\n",
    "print('mean:', A.mean())\n",
    "print('std:', A.std())"
   ]
  },
  {
   "cell_type": "markdown",
   "id": "4575e1bf-c727-4885-b811-38c94f2deee6",
   "metadata": {},
   "source": [
    "If you want to apply these methods over different dimensions (e.g. get the column means), you have to specify the `axis`:"
   ]
  },
  {
   "cell_type": "markdown",
   "id": "94ef7e9c-278e-44e2-9f92-11a4b6d34723",
   "metadata": {},
   "source": [
    "**Exercise**\n",
    "\n",
    "Get the mean and standard deviations for the columns of A:"
   ]
  },
  {
   "cell_type": "code",
   "execution_count": 19,
   "id": "16d09c1f-45dc-4030-a813-57590382848b",
   "metadata": {},
   "outputs": [],
   "source": [
    "# your code here"
   ]
  },
  {
   "cell_type": "markdown",
   "id": "d13b79f6-c540-4068-83ea-af322b37743f",
   "metadata": {},
   "source": [
    "**Project Exercise 3**\n",
    "\n",
    "Next step in the project: Descriptive statistics. Write a function that computes and prints appropriate statistics for the variables in the data set, i.e. mean and standard deviation for `Grip` and `Anxiety` and percent male/female for `Sex`. Use the full dataset, i.e. not split by `Sex`. As usual, feel free to play around in a notebook and transfer the function to the project file when you're done."
   ]
  },
  {
   "cell_type": "markdown",
   "id": "70de8470-36f2-4849-ae3d-f7507e7f8b2b",
   "metadata": {},
   "source": [
    "## 10.2 Mean comparison using `scipy.stats`"
   ]
  },
  {
   "cell_type": "markdown",
   "id": "e68a08af-5883-4030-94f8-d8f7eb64c655",
   "metadata": {},
   "source": [
    "As seen above `numpy` provides some basic descriptive stats functionality. When we're doing inferential stats, we're beyond the realms of `numpy`. But that's not a problem because now we'll get to know the next important package of the scientific python stack: `scipy`. And to be more specific, we're going to use the `stats` module."
   ]
  },
  {
   "cell_type": "code",
   "execution_count": 21,
   "id": "896d5a72-2d92-4e2d-9425-3964553c74dd",
   "metadata": {},
   "outputs": [],
   "source": [
    "from scipy import stats"
   ]
  },
  {
   "cell_type": "markdown",
   "id": "bd28dfe4-499f-498f-80d9-2a053764bc88",
   "metadata": {},
   "source": [
    "This module contains all kinds of probability distributions, but also some functions for standard statisticals methods: ttests, anova, univariate regression. The function for an independent sample t-test is `stats.ttest_ind`. It expects at least two arguments, which are the data points from the two samples to compare:\n",
    "\n",
    "```python\n",
    "result = stats.ttest_ind(a, b)\n",
    "```\n",
    "\n",
    "In addition you can give arguments to e.g. use a permutation test instead of the canonical t-distribution to get the p-values."
   ]
  },
  {
   "cell_type": "code",
   "execution_count": 23,
   "id": "6e42bfcd-ada9-4250-89c9-8dcbdb6b413a",
   "metadata": {},
   "outputs": [],
   "source": [
    "a = np.random.randn(100) + 1\n",
    "b = np.random.randn(100) + 4"
   ]
  },
  {
   "cell_type": "markdown",
   "id": "89ace72e-6692-406c-a1b6-40993dbdefc7",
   "metadata": {},
   "source": [
    "**Exercise**\n",
    "Check how likely it is to arrive at a mean difference that is at least as large as the one between `a` and `b`, assuming that they are drawn from the same population. (i.e. compute an independent t-test):"
   ]
  },
  {
   "cell_type": "code",
   "execution_count": 28,
   "id": "af068846-81cc-42f7-a376-3304b19cad88",
   "metadata": {},
   "outputs": [],
   "source": [
    "# your code here\n"
   ]
  },
  {
   "cell_type": "markdown",
   "id": "c9a7b55f-82a8-47f5-8ebb-569d3ee1612c",
   "metadata": {},
   "source": [
    "**Project Exercise 4**\n",
    "\n",
    "Write a function that compares `Grip` and `Anxiety` between men and women."
   ]
  },
  {
   "cell_type": "markdown",
   "id": "fb2b2c85-5a8b-4040-9bdd-ab94b399a27e",
   "metadata": {},
   "source": [
    "## 10.3 Multiple regression using `statsmodels`\n",
    "\n",
    "There's many ways to run multiple regression. One way is to use the `statsmodels` package that you should have installed. This uses an object oriented approach. I.e. we first create a linear regression object with the data to fit and then fit it in a second step:\n",
    "\n",
    "```python\n",
    "import statsmodels.api as sm\n",
    "lin_reg = sm.OLS(y, X) # dependent variable comes first!\n",
    "fit = lin_reg.fit()\n",
    "fit.summary()\n",
    "```\n",
    "\n",
    "If you're design matrix doesn't have a column of ones yet (i.e. the column for the intercept), you can add one like so:\n",
    "\n",
    "```python\n",
    "X = sm.add_constant(X)\n",
    "```"
   ]
  },
  {
   "cell_type": "markdown",
   "id": "d13c64f1-e503-44b3-9141-5224ece9e256",
   "metadata": {},
   "source": [
    "We'll simulate some data like we did before, except that we don't include the intercept in the design matrix:"
   ]
  },
  {
   "cell_type": "code",
   "execution_count": 56,
   "id": "ffec0aff-a0e5-4077-8bbe-5611605cbb37",
   "metadata": {},
   "outputs": [],
   "source": [
    "X = np.random.randn(100, 2)\n",
    "epsilon = np.random.randn(100) * .3\n",
    "betas = np.array([5, 2.4])\n",
    "intercept = 2.5\n",
    "y = X.dot(betas) + intercept + epsilon"
   ]
  },
  {
   "cell_type": "markdown",
   "id": "1b405b1b-8572-4666-bf51-3d504316dc3e",
   "metadata": {},
   "source": [
    "**Exercise**\n",
    "\n",
    "Run a multiple regression to recover the betas. Don't forget to add the column of ones to the design matrix!"
   ]
  },
  {
   "cell_type": "code",
   "execution_count": 60,
   "id": "7f59baf3-9193-4f42-9973-2f446dd8bbb2",
   "metadata": {},
   "outputs": [],
   "source": [
    "import statsmodels.api as sm\n",
    "# your code here\n"
   ]
  },
  {
   "cell_type": "code",
   "execution_count": null,
   "id": "e3136af5-5fe1-4b9a-b757-e1ea8dd69355",
   "metadata": {},
   "outputs": [],
   "source": []
  },
  {
   "cell_type": "markdown",
   "id": "187d6697-d6af-4262-ba81-f89ca52c77ec",
   "metadata": {},
   "source": [
    "**Project Exercise**\n",
    "\n",
    "This is a bigger one. We might postpone it to make sure that there is a bit of time for matplotlib.\n",
    "\n",
    "The point of the paper is that there's a relationship between grip strength and anxiety. But if we include sex as a predictor, this should go away, i.e. it is mediated by Sex (men are higher on grip strength and lower on anxiety).\n",
    "\n",
    "Compute two regressions. First predict anxiety from grip strength in the full sample. Then compute it again but include sex as another predictor."
   ]
  }
 ],
 "metadata": {
  "kernelspec": {
   "display_name": "Python 3 (ipykernel)",
   "language": "python",
   "name": "python3"
  },
  "language_info": {
   "codemirror_mode": {
    "name": "ipython",
    "version": 3
   },
   "file_extension": ".py",
   "mimetype": "text/x-python",
   "name": "python",
   "nbconvert_exporter": "python",
   "pygments_lexer": "ipython3",
   "version": "3.10.2"
  }
 },
 "nbformat": 4,
 "nbformat_minor": 5
}
