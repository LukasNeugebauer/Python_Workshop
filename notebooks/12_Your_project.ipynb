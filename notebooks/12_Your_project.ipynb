{
 "cells": [
  {
   "cell_type": "markdown",
   "metadata": {},
   "source": [
    "# 9. Your project\n",
    "\n",
    "Of course we didn't have enough time so that you could start an actual project now. But we can play around a bit and bring a lot of the things you learned into application.\n",
    "For this purpose I simulated some toy data. You can find it in \"../toy_data\". If you're interested in the process, you can look at \"../scripts/create_toy_data.py\". \n",
    "\n",
    "I want to make sure that a few things are clear before we actually start with this part. \n",
    "\n",
    "**DON'T** expect to know how any of the following works and just start typing right away. This is unrealistic. But you should have enough confidence in Python now that you're ready to start learning yourself. That means: Don't know how something works? Use the internet and your intellect to find out how it's done. And if you are stuck, just ask me. I'm your training wheels.\n",
    "\n",
    "## 9.1 The \"study\"\n",
    "\n",
    "The \"study\" this data is from, looks like this:\n",
    "\n",
    "Subjects rate 30 different food items on a scale from 1 to 20 with respect to how much they like them. They then see pictures of these items in randomized order, 5 pictures per item. Of course timing is jittered, so they can't expect pictures. The subjects are instructed to press a button as soon as possible when a picture appears.\n",
    "\n",
    "The hypothesis to be tested here is that subjects respond faster, when they like an item more. This can be analyzed on an individual basis and on group level. We'll only have a look at the individual level.\n",
    "\n",
    "There is one folder per subject. It contains three files:\n",
    "\n",
    "**food_ratings.csv** contains the ratings per food item.\n",
    "\n",
    "**rating_sequences.csv** contains the sequence of pictures, but the id of the picture was replaced with the respective rating.\n",
    "\n",
    "**sequence_RT.csv** contains the sequence of food ids and the reaction times.\n",
    "\n",
    "## 9.2 Your task\n",
    "\n",
    "The following assigment contains **a lot**. It is supposed to combine everything you learned with a lot of things that you have to learn now. So it's not expected that you actually finish everything. It's just so that the people with more experience still have something to do. If you finish everything, you're probably overqualified for this workshop ;).\n",
    "\n",
    "Also, the following is only a proposed structure. If you have good reasons, to deviate from it, feel free to do so! \n",
    "\n",
    "### 9.2.1 Base_project class\n",
    "\n",
    "Write a class \"Base_project\". Add the following information and abilities:\n",
    "\n",
    "   1. A class attribute that defines where the data can be found.\n",
    "   2. A function that checks for which subjects there is a folder and makes this information part of the object.\n",
    "   3. A function that takes the subject ID and an indication for food_ratings,rating_sequences or sequence_RT as input returns the path to the file.\n",
    "   \n",
    "*Hint*: You definitely want to use the package `os`, and specifically the module `os.path` for this. This contains functions like `join` and `exists`. Maybe `glob` is also worth a look. If you get this done really quickly, you can find out what a `property` is in Python and make `subjects` a property.\n",
    "   \n",
    "### 9.2.2 Subject class\n",
    "\n",
    "Write a class \"Subject\". Let it inherit from \"Base_project\". Write the following functions:\n",
    "\n",
    "   1. An \\_\\_init__ function that takes the subject ID as input. Raise an error if the subject doesn't exist. \n",
    "\n",
    "*Hint*: Use the information that you gained by listing the subjects in the Base_project class.\n",
    "\n",
    "   2. A function to read in the ratings and the sequence/RT files. \n",
    "   \n",
    "*Hint*: This is easier in pandas than in numpy. You can easily make np.arrays out of pandas.DataFrames. Find out how. Or just use numpy for loading it. \n",
    "\n",
    "   3. A function that generates a sequence of the ratings per item in the sequence. If you want to skip this, just load the third file in the subject folder. That's fine.\n",
    " \n",
    "   4. Use a linear regression to regress reaction times on ratings. Pickle results. Check if they exist and unpickle instead of computing the next time.\n",
    "\n",
    "*Hint*: There is [a lot](https://medium.freecodecamp.org/data-science-with-python-8-ways-to-do-linear-regression-and-measure-their-speed-b5577d75f8b) of different ways to do this. You can use `scipy`, `numpy`, `statsmodel`, `scikit-learn` or other packages for this.\n",
    "   \n",
    "   5. Plot reaction times against ratings. Bonus: Plot regression line. Half bonus taken away, because easier and in one step: Use seaborn for this.\n",
    "   \n",
    "   \n",
    "### 9.2.3 Command line script\n",
    "\n",
    "If you got here, you surpassed all expectations by far. But now that you're here: Write a scipt that takes the subID as command line argument. Load data, fit regression, plot it. Save regression results and the plot into the subject folder. You're overqualified for this..."
   ]
  },
  {
   "cell_type": "markdown",
   "metadata": {},
   "source": [
    "# That's it!\n",
    "\n",
    "Feel free to finish the assignment if you feel like it. But we're officially done here. I learned an aweful lot while creating this course. And while it was also exhausting, I had fun. I hope you learned a bit and maybe you even had a bit of fun, too.\n",
    "\n",
    "Thanks for attending!"
   ]
  }
 ],
 "metadata": {
  "kernelspec": {
   "display_name": "Python 3",
   "language": "python",
   "name": "python3"
  },
  "language_info": {
   "codemirror_mode": {
    "name": "ipython",
    "version": 3
   },
   "file_extension": ".py",
   "mimetype": "text/x-python",
   "name": "python",
   "nbconvert_exporter": "python",
   "pygments_lexer": "ipython3",
   "version": "3.8.3"
  }
 },
 "nbformat": 4,
 "nbformat_minor": 4
}
