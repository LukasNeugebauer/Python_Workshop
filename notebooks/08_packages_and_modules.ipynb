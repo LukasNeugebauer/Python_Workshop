{
 "cells": [
  {
   "cell_type": "markdown",
   "metadata": {},
   "source": [
    "# 8. Packages and modules\n",
    "\n",
    "Classes and functions, everything you can use in Python that is not in the core library is organized in *modules* and *packages*."
   ]
  },
  {
   "cell_type": "markdown",
   "metadata": {},
   "source": [
    "## 8.1 Modules\n",
    "\n",
    "A module is every file that ends with `.py` and contains function definitions, constants and class definitions. It can also be run like you know it from an **.m** file. You can write modules yourself, and you should. In fact you just did by writing the `read_data` function in a `.py` file. One huge advantage is to avoid spaghetti code. Define your classes and functions in one file, import them in another or run them in the same file. Use different files to group related functions into modules. This way you bring a structure to your code. This improves readability, it leverages the pillars of OOP (abstraction) and it makes different parts of your code reusable for different aspects. No more copy-pasting code from one file to another. Just import it.\n",
    "\n",
    "We'll have a look at how that works right now:\n",
    "\n",
    "**Exercise**\n",
    "\n",
    "   1. Open a file **in this directory** using an editor of your choice, e.g. the one built into jupyter lab. \n",
    "   2. Rename it to **my_first_module.py**.\n",
    "   3. In this file, define two functions:\n",
    "      1. One that prints a message of your choice.\n",
    "      2. One that does any mathematical operation with its input, e.g. square, double, subtract 1, etc.\n",
    "   4. Save the file\n",
    "\n",
    "You can now import the functions into this notebook. There are multiple ways to do this, but all of them include the `import`-statement.\n",
    "\n",
    "You can import the whole module. The syntax for calling functions from the module uses the `module.function()`-notation.\n",
    "\n",
    "```Python\n",
    "import module_name\n",
    "```\n",
    "\n",
    "You don't have to write the `.py`-part, Python knows it's a module because of this file ending.\n",
    "\n",
    "**Exercise**\n",
    "\n",
    "Go ahead and import your whole module. Then try out the both functions you just defined in there like this: `module_name.function_name(arguments)`"
   ]
  },
  {
   "cell_type": "code",
   "execution_count": null,
   "metadata": {},
   "outputs": [],
   "source": [
    "#your code here\n"
   ]
  },
  {
   "cell_type": "markdown",
   "metadata": {},
   "source": [
    "There are advantages and disadvantages to this approach. They will become apparent, when we import from more complicated modules and packages. One big advantage is the implicit use of namespaces. I.e. because you call `module.function()` and not just `function()`, you can have functions of the same name in different modules without a problem.\n",
    "\n",
    "We can also rename the module while importing it. For a few packages there are conventions for this, e.g.\n",
    "\n",
    "```Python\n",
    "import numpy as np\n",
    "import seaborn as sns\n",
    "```\n",
    "\n",
    "You can also be more specific and just import certain functions. The syntax is:\n",
    "\n",
    "```Python\n",
    "from module_name import function1, function2, functionN\n",
    "```\n",
    "\n",
    "And again, you can rename it while doing that.\n",
    "\n",
    "```Python\n",
    "from my_package import long_function_name_that_would_be_annoying_to_use as my_function\n",
    "```\n",
    "\n",
    "You could also import all functions from the module:\n",
    "\n",
    "```Python\n",
    "from module_name import *\n",
    "```\n",
    "\n",
    "You'll see this often with `from numpy import *`. Generally it's discouraged because 1) you typically don't need all the functions, 2) it's implicit, i.e. it's not clear from the code which function comes from which module and 3) it can lead to conflicts between functions of the same name that you didn't know about. It's okay if you use packages with only few functions and classes or only use one package at a time. Otherwise it's a bad habit.\n",
    "\n",
    "**Exercise**\n",
    "\n",
    "   1. Restart the kernel. You can't really unimport modules, so this is the cleanest way to achieve this task. Either hit '0' twice, or use the GUI.\n",
    "   2. Import only one of your functions and rename it.\n",
    "   3. Make sure everything worked as expected by calling the function."
   ]
  },
  {
   "cell_type": "code",
   "execution_count": null,
   "metadata": {},
   "outputs": [],
   "source": [
    "#your code here\n"
   ]
  },
  {
   "cell_type": "markdown",
   "metadata": {},
   "source": [
    "## 8.2 Packages\n",
    "\n",
    "When you have a lot of different classes and functions it becomes unfeasible (and especially unmaintainable) to put all of them in one module. E.g. `scipy` has functions and classes for things like linear algebra but also filters for signal progressing. It would be really confusing to have all of that in one file. The simplest packages are really just collections of modules. E.g. `numpy` has a module named `random` in which all of the pseudorandom number generators and the like are defined.\n",
    "\n",
    "You can import only certain modules. You can also import only specific functions from modules. As usual there's more than one way to do it. \n",
    "\n",
    "Import one module from package:\n",
    "```Python\n",
    "from package import module\n",
    "import package.module [ as module ]\n",
    "```\n",
    "E.g. from `matplotlib`, the plotting package, you usually import only `pyplot`, the OOP-based interface to low-level plotting libraries. The convention to do this is:\n",
    "```Python\n",
    "import matplotlib.pyplot as plt\n",
    "```\n",
    "or\n",
    "```Python\n",
    "from matplotlib import pyplot as plt\n",
    "```\n",
    "which are equivalent.\n",
    "\n",
    "Import specific functions from one module:\n",
    "```Python\n",
    "from package.module import function1, function2\n",
    "```\n",
    "As usual, you can rename everything\n",
    "```Python\n",
    "from package.module import function1 as my_fun_1, function2 as my_fun_2\n",
    "```\n",
    "if you only use a few functions.\n",
    "\n",
    "**Exercise**\n",
    "\n",
    "Import the function `randn` from the module `random` in the package `numpy`. Find out how it works and use it. Welcome to `numpy`. (We'll talk more about `numpy` in the next notebook)."
   ]
  },
  {
   "cell_type": "code",
   "execution_count": null,
   "metadata": {},
   "outputs": [],
   "source": [
    "#your code here\n"
   ]
  },
  {
   "cell_type": "markdown",
   "metadata": {
    "tags": []
   },
   "source": [
    "## 8.3 sys.path\n",
    "\n",
    "Just like MATLAB can only use functions that are on its `path`-variable, we can only import from modules and packages that are within the scope of the interpreter. You can always import from modules that are in \n",
    "   1. your current working directory in case you're using an interactive shell\n",
    "   3. in the same directory as the script/module that tries to import in case you're running a program\n",
    "\n",
    "And you can import from modules and packages that are in a directory on your `sys.path`.\n",
    "\n",
    "(Disclaimer: The following is not the cleanest way. But since it's the easiest way and I didn't want to get into writing a package or using symlinks here, it's okay for now. This way you can import modules from arbitrary locations.)\n",
    "\n",
    "`sys` is a package that you use to get information about the interpreter and interact with it. `sys.path` is a list (both as in an enumeration and a Python object of type `list`) of directories. You can add to and remove from the path as needed. \n",
    "\n",
    "**Exercise**\n",
    "\n",
    "Import `sys` and have a look at the path variable."
   ]
  },
  {
   "cell_type": "code",
   "execution_count": null,
   "metadata": {},
   "outputs": [],
   "source": [
    "#your code here\n"
   ]
  },
  {
   "cell_type": "markdown",
   "metadata": {},
   "source": [
    "**Exercise**\n",
    "\n",
    "In the folder `../scripts` (`..\\scripts` on Windows), there is a module called `my_module`  with a function `my_function`. Try to import it."
   ]
  },
  {
   "cell_type": "code",
   "execution_count": null,
   "metadata": {},
   "outputs": [],
   "source": [
    "#your code here\n"
   ]
  },
  {
   "cell_type": "markdown",
   "metadata": {},
   "source": [
    "It doesn't work, because the directory is not on `sys.path`.\n",
    "\n",
    "Super short digression to the `os` module:\n",
    "\n",
    "`os` is short for \"Operating System\". You can use the module to get information about the OS you're using, e.g. which file seperator to use. Also you can use it to interact with the OS, e.g. printing or changing the current working directory, shutting down the computer, etc. \n",
    "\n",
    "Have a look:\n"
   ]
  },
  {
   "cell_type": "code",
   "execution_count": null,
   "metadata": {},
   "outputs": [],
   "source": [
    "import os\n",
    "print(os.sep) # this will be different depending on wether you are on UNIX or Windows.\n",
    "print(os.getcwd()) # like pwd "
   ]
  },
  {
   "cell_type": "markdown",
   "metadata": {},
   "source": [
    "**Exercise**\n",
    "\n",
    "   1. Use the imported functions to create a string of the absolute path to the \"scripts\"-folder.\n",
    "   2. Add it to the `sys.path` variable. Don't forget, it's just a list after all.\n",
    "   3. Try again to import `my_function` from `my_module` and run it. It expects your name as a string as input."
   ]
  },
  {
   "cell_type": "code",
   "execution_count": null,
   "metadata": {},
   "outputs": [],
   "source": [
    "from os.path import abspath, join\n",
    "#your code here\n"
   ]
  },
  {
   "cell_type": "markdown",
   "metadata": {},
   "source": [
    "Since appending to `sys.path` is sometimes considered bad style, here's a few more ways to import from modules that are not on your path. They might comprise concepts that you're not familiar with, so I just list them.\n",
    "\n",
    " 1. Install and use the `path` package to change the working directory for the import.\n",
    " 2. Create symbolic links from your module to one of the directories on your `sys.path`.\n",
    " 3. Write a context manager that achieves what [1] does."
   ]
  },
  {
   "cell_type": "markdown",
   "metadata": {},
   "source": [
    "## 8.4 Programs\n",
    "\n",
    "### Programs vs modules\n",
    "\n",
    "A program is an executable piece of code. Internally, there is no distinction between a program and a module. A **.py**-file can even be both. The command\n",
    "\n",
    "```Python\n",
    "import my_module\n",
    "```\n",
    "is really nothing but `run the file my_module`. (Okay, it is a bit more complicated than that, but we don't mind here.). Running function definitions has the effect to have the function in memory afterwards, which is the definition of importing a function. To illustrate the point, do the following:\n",
    "\n",
    "**Exercise**\n",
    "\n",
    "   1. Create a file hello_world.py in the scripts folder.\n",
    "   2. Define a function hello_world that prints \"hello world\".\n",
    "   3. Use the `print()`-function to print something completely different OUTSIDE of a function.\n",
    "   4. Run the following cell (make sure that the directory is on your sys.path)"
   ]
  },
  {
   "cell_type": "code",
   "execution_count": null,
   "metadata": {},
   "outputs": [],
   "source": [
    "import hello_world"
   ]
  },
  {
   "cell_type": "markdown",
   "metadata": {},
   "source": [
    "There are ways to avoid this confusion and we'll cover them in a second."
   ]
  },
  {
   "cell_type": "markdown",
   "metadata": {},
   "source": [
    "### Running a program from the command line\n",
    "\n",
    "The \"command line\" can be any shell that knows a Python executable that is compatible with the program (Python 2 vs. Python 3). On Windows, this will be the Anaconda prompt. On MacOS and Linux you should be able to use the system prompt/Terminal.\n",
    "\n",
    "In the prompt, type the following to run a Python script:\n",
    "```\n",
    "python name_of_script.py\n",
    "```\n",
    "which just tells the Python interpreter to run the code in the file. The file has to be in your working directory, otherwise you have to use an absolute path."
   ]
  },
  {
   "cell_type": "markdown",
   "metadata": {},
   "source": [
    "### if \\_\\_name__ == \"\\_\\_main__\":\n",
    "\n",
    "You will see this in many scripts and since it can be really confusing, it seems like a good idea to cover that here.\n",
    "\n",
    "The Python interpreter assigns a variable called `__name__` to any source file before executing the code. This is true for notebooks and `.py`-files alike.\n",
    "\n",
    "**Exercise**\n",
    "\n",
    "Print the `__name__` of the current notebook:"
   ]
  },
  {
   "cell_type": "code",
   "execution_count": null,
   "metadata": {},
   "outputs": [],
   "source": [
    "#your code here\n"
   ]
  },
  {
   "cell_type": "markdown",
   "metadata": {},
   "source": [
    "The name of the current notebook is `\"__main__\"`. This is because we are actively using this notebook and not importing from somewhere else. E.g. if you import from a module, the name of the `.py`-file is the name of the module by default.\n",
    "\n",
    "**Exercise**\n",
    "\n",
    "   1. Create a new `.py`-file and add a print statement that prints: `__name__ = {value of __name__}`\n",
    "   2. Import the module \n",
    "   3. Run the module as a program from the command line\n",
    "\n",
    "As you can see, the `__name__`  is a different one in both cases.\n",
    "\n",
    "This fact can be leveraged to have modules that can contain code that can be imported without side effects and can still be run as programs. When writing programs that should be used from the command line, it is good practice to add the statement `if __name__ == \"__main__\":` before all code that is supposed to be executed.\n",
    "\n",
    "**Exercise**\n",
    "\n",
    "   1. Open a new `.py`-file\n",
    "   2. Import randint from numpy.random\n",
    "   3. Define a function that prints 10 random integers between 1 and 100 to the screen.\n",
    "   4. Run the function, but only if the program is used as main program.\n",
    "   5. Check the behavior by running from the command line and importing the package in here"
   ]
  },
  {
   "cell_type": "markdown",
   "metadata": {},
   "source": [
    "### (Bonus) Command line arguments\n",
    "\n",
    "For data analysis you probably won't need that a lot. I decided to not cover it in the workshop, but if you want to know how it works, I put a file called \"argparse_demo.py\" in the scripts folder."
   ]
  }
 ],
 "metadata": {
  "kernelspec": {
   "display_name": "Python 3 (ipykernel)",
   "language": "python",
   "name": "python3"
  },
  "language_info": {
   "codemirror_mode": {
    "name": "ipython",
    "version": 3
   },
   "file_extension": ".py",
   "mimetype": "text/x-python",
   "name": "python",
   "nbconvert_exporter": "python",
   "pygments_lexer": "ipython3",
   "version": "3.10.2"
  }
 },
 "nbformat": 4,
 "nbformat_minor": 4
}
