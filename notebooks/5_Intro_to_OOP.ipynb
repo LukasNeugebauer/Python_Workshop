{
 "cells": [
  {
   "cell_type": "markdown",
   "metadata": {},
   "source": [
    "# 5. Introduction to Object-Oriented Programming (OOP)\n",
    "\n",
    "## 5.1 Programming paradigms\n",
    "\n",
    "Chances are that until now you didn't have to think about programming paradigms. There are multiple reasons for this:\n",
    "\n",
    "   1. You only know one language (or similar languages) and developed an intuitive understanding of the underlying structure.\n",
    "   2. Most languages are not \"pure\" in that they only support one programming paradigm.\n",
    "   3. Programming paradigms overlap sometimes. I still don't really get the difference between imperative and procedural programming.\n",
    "\n",
    "Programming paradigms can be understood as an abstraction of how to think about problems. One important concept here is **state** which in MATLAB is roughly the values of variables in your workspace. Paradigms handle the state differently.\n",
    "\n",
    "You don't need to learn a whole lot about programming paradigms if you switch from MATLAB to Python. I highly recommend this [blogpost](https://digitalfellows.commons.gc.cuny.edu/2018/03/12/an-introduction-to-programming-paradigms/) that introduces imperative, functional and object-oriented programming by solving the same problem in three different ways in Python.\n",
    "\n",
    "The following is an ultra-short explanation of paradigms. \n",
    "\n",
    "**Imperative/procedural programming** is often like an IKEA instruction or a recipe. First do step 1, then do step 2 where all of the steps change the state. Use function `screwdriver` to combine variable `screw` and variable `board` into the new variable `sideboard`. It's probably the style of programming you're most used to. The distinction is that imperative programming tells the computer what to do in statements, while procedural programming tells the computer what it wants done and doesn't care about how the computer does it. There's variables and there's functions that change the value of variables and that's all you need to know right now.\n",
    "\n",
    "**Functional programming** tries to avoid changes in state, i.e. you can't change the value of variables or there are no variables and everything is functions. It's really hard to understand for people used to imperative or object-oriented programming - I have no clue how it works. This makes programming way harder but it makes programs more maintainable and predictable. It's considered *pure* programming by hardcore computer scientists. If you want to impress them, learn Haskell. You don't need to understand functional programming to use Python.\n",
    "\n",
    "**Object-oriented programming** gets rid of the dichotomy between state and ways to change it by *encapsulating* different aspects of the global state into objects. These objects also have methods to work on their own state. Imagine a dog that has attributes like the color and state of it's hair or it's level of satiety. It also has methods like `eat()` or `scratch()` to change its state. OOP tries to model the *real world* which brings a few new problems with it but is very intuitive.\n",
    "\n",
    "## 5.2 Programming paradigms in Python vs. MATLAB\n",
    "\n",
    "MATLAB is not a pure language. It's mostly imperative - or better: It's probably the style you have mostly been using in MATLAB. Technically you can use a more functional style. But this is implicitely discouraged because you can only define function in scripts and not everywhere. What some of you might know: You can also use OOP in MATLAB. Version 2008a introduced syntax for classes more similar to other OO languages than before. You might find it if you look into source code of Toolboxes like *SPM* but in my experience it's not very frequently used by end-users. I suspect one reason to be the horrible syntax, but maybe that's just me.\n",
    "\n",
    "Python is not pure either. How you use it is up to you. You can pretty much translate your MATLAB code line by line to Python and it would run. It wouldn't be very idiomatic though and you would leave a lot on the table. Python has a stronger OOP aspect than MATLAB. Even when you don't want to write classes yourself, you have to understand what they are if you want to understand why a list has methods or use 3rd-party packages. For this reason, we introduce OOP now, before you have time to be confused about something like:"
   ]
  },
  {
   "cell_type": "code",
   "execution_count": 1,
   "metadata": {},
   "outputs": [
    {
     "name": "stdout",
     "output_type": "stream",
     "text": [
      "[2, 3, 4]\n"
     ]
    }
   ],
   "source": [
    "a = [1, 2, 3]\n",
    "a.append(4)\n",
    "a.pop(0)\n",
    "print(a)"
   ]
  },
  {
   "cell_type": "markdown",
   "metadata": {},
   "source": [
    "## 5.3 Object-oriented programming\n",
    "\n",
    "There are 4 pillars of OOP:\n",
    "\n",
    "   1. Encapsulation\n",
    "   2. Inheritance\n",
    "   3. Abstraction\n",
    "   4. Polymorphism\n",
    "   \n",
    "Of course, this information doesn't help you in the slightest.\n",
    "\n",
    "The short version: OOP combines data (OOP: properties/attributes) and functions (OOP: methods) into objects. Objects are instances of a blueprint called \"class\". They combine variables and functions (Encapsulation). These objects can change their state and have access to their own properties. They can be used without knowing the class definition (Abstraction). Classes can steal methods and properties from other classes and this way become increasingly complex (Inheritance). Different classes can do the same thing in a different way (Polymorphism).\n",
    "\n",
    "Still doesn't much more sense? Don't worry, it will soon.\n",
    "\n",
    "What does it look like in praxis? \n",
    "\n",
    "Imperative: There is a variable and a function that works on the variable.\n",
    "```\n",
    "array = [1,2,3]\n",
    "m = mean(array)\n",
    "```\n",
    "\n",
    "OOP: There is an object that contains both data and the method to work on this data.\n",
    "```\n",
    "array = [1,2,3]\n",
    "m = array.mean()\n",
    "```\n",
    "\n",
    "### 5.3.1 Classes vs. objects\n",
    "\n",
    "An object is an instance of a class. There has to be a class definition before you can have an instance of it. Some examples:\n",
    "\n",
    "   1. You are an instance of the class \"human\"\n",
    "   2. Python is an instance of the class \"programming language\" \n",
    "   3. Your dog is an instance of the class \"dog\". It's also an instance of the more abstract class \"animal\". So are you btw.\n",
    "   \n",
    "In code: \n",
    "(for now, don't worry about the syntax, understand the concept)"
   ]
  },
  {
   "cell_type": "code",
   "execution_count": 2,
   "metadata": {},
   "outputs": [],
   "source": [
    "# \"dog\" is a class that defines what a dog is. Here, a dog's sound is \"wuff\", it can bark and that's it\n",
    "class Dog:\n",
    "    \n",
    "    sound = 'wuff'\n",
    "    \n",
    "    def bark(self):\n",
    "        print(self.sound)"
   ]
  },
  {
   "cell_type": "code",
   "execution_count": 3,
   "metadata": {},
   "outputs": [
    {
     "data": {
      "text/plain": [
       "type"
      ]
     },
     "execution_count": 3,
     "metadata": {},
     "output_type": "execute_result"
    }
   ],
   "source": [
    "type(Dog)"
   ]
  },
  {
   "cell_type": "markdown",
   "metadata": {},
   "source": [
    "So the \"type\" of Dog is `type`. Ironically the command in MATLAB would be `class`. The class `type` is the class of class definitions. Every class definition is an instance of the class \"class definitions\"/ `type`. We can check that with some classes we already know using `isinstance(object, class)`."
   ]
  },
  {
   "cell_type": "code",
   "execution_count": 4,
   "metadata": {},
   "outputs": [
    {
     "data": {
      "text/plain": [
       "True"
      ]
     },
     "execution_count": 4,
     "metadata": {},
     "output_type": "execute_result"
    }
   ],
   "source": [
    "#isinstance checks if an object is an instance of a specific class like this. 1 is an integer, so the object 1 is an instance of the class integer.\n",
    "isinstance(1, int)"
   ]
  },
  {
   "cell_type": "code",
   "execution_count": 5,
   "metadata": {},
   "outputs": [
    {
     "data": {
      "text/plain": [
       "True"
      ]
     },
     "execution_count": 5,
     "metadata": {},
     "output_type": "execute_result"
    }
   ],
   "source": [
    "#dog is of type \"type\":\n",
    "isinstance(Dog, type)"
   ]
  },
  {
   "cell_type": "code",
   "execution_count": 6,
   "metadata": {},
   "outputs": [
    {
     "data": {
      "text/plain": [
       "True"
      ]
     },
     "execution_count": 6,
     "metadata": {},
     "output_type": "execute_result"
    }
   ],
   "source": [
    "#so is int\n",
    "isinstance(int, type)"
   ]
  },
  {
   "cell_type": "markdown",
   "metadata": {},
   "source": [
    "Until now, we only have the class but there is no instance of the class \"Dog\" yet. You can have a concept of what dinosaurs are without any of them being around here. Let's create an object of type \"Dog\", i.e. an instance of the class. You create instances by calling the class definition like a function.\n",
    "\n",
    "**Exercise**\n",
    "\n",
    "Create a Dog named bello."
   ]
  },
  {
   "cell_type": "code",
   "execution_count": 2,
   "metadata": {},
   "outputs": [],
   "source": [
    "#your code here\n"
   ]
  },
  {
   "cell_type": "markdown",
   "metadata": {},
   "source": [
    "Use `isinstance()` to check wether bello is actually a dog:"
   ]
  },
  {
   "cell_type": "code",
   "execution_count": 3,
   "metadata": {},
   "outputs": [],
   "source": [
    "#your code here\n"
   ]
  },
  {
   "cell_type": "markdown",
   "metadata": {},
   "source": [
    "So that's true. Bello is a dog. Dogs can bark because we defined it this way. I.e. the class definition comprises a method `bark`. So every instance of the class has the method. You call methods of an object using the `object.method()`, notation. You know this from MATLAB structures.\n",
    "\n",
    "**Exercise**\n",
    "\n",
    "Make bello bark!"
   ]
  },
  {
   "cell_type": "code",
   "execution_count": 82,
   "metadata": {},
   "outputs": [],
   "source": [
    "# your code here\n"
   ]
  },
  {
   "cell_type": "markdown",
   "metadata": {},
   "source": [
    "Class definitions are objects just like everything else. All objects are instances of some class. Class definitions are instances of the type `type`. That means we can assign it to other variables. In MATLAB you can call functions without parentheses. Find out why that doesn't work in Python:"
   ]
  },
  {
   "cell_type": "code",
   "execution_count": 8,
   "metadata": {},
   "outputs": [],
   "source": [
    "lassie = Dog"
   ]
  },
  {
   "cell_type": "markdown",
   "metadata": {},
   "source": [
    "**Exercise**\n",
    "\n",
    "Try to make lassie bark."
   ]
  },
  {
   "cell_type": "code",
   "execution_count": 5,
   "metadata": {},
   "outputs": [],
   "source": [
    "#your code here\n"
   ]
  },
  {
   "cell_type": "markdown",
   "metadata": {},
   "source": [
    "Why doesn't that work? Chances are that the error message wasn't too informative for you until now.\n",
    "\n",
    "You didn't create an instance of the class Dog. You assigned the class definition to the variable \"lassie\":"
   ]
  },
  {
   "cell_type": "code",
   "execution_count": 9,
   "metadata": {},
   "outputs": [
    {
     "name": "stdout",
     "output_type": "stream",
     "text": [
      "True\n",
      "Is lassie a dog?  False\n",
      "Is lassie the class definition Dog?  True\n"
     ]
    }
   ],
   "source": [
    "print(Dog is lassie) # do \"dog\" and \"lassie\" point at the same adress in memory?\n",
    "print('Is lassie a dog? ', isinstance(lassie, Dog))\n",
    "print('Is lassie the class definition Dog? ', isinstance(lassie, type))"
   ]
  },
  {
   "cell_type": "markdown",
   "metadata": {},
   "source": [
    "Since now \"lassie\" is just another pointer at the same class \"Dog\", we can use it to create instances of the class."
   ]
  },
  {
   "cell_type": "code",
   "execution_count": null,
   "metadata": {},
   "outputs": [],
   "source": [
    "idefix = lassie()\n",
    "print('Is Idefix a dog? ', isinstance(idefix, Dog))\n",
    "idefix.bark()"
   ]
  },
  {
   "cell_type": "markdown",
   "metadata": {},
   "source": [
    "The `Dog`-method `Dog.bark()` requires one argument, which is `self`. Is has to be an object that has an attribute `sound`, prefereably an instance of the class \"Dog\". If you call the method from an an instance, it gets implicitely passed to the method and you don't have to write `idefix.bark(idefix)`. But if you call `Dog.bark()`, there is no instance of `Dog`, only the class. So the method complains that the required argument `self` is missing. This can be illustrated nicely using some code:"
   ]
  },
  {
   "cell_type": "code",
   "execution_count": null,
   "metadata": {},
   "outputs": [],
   "source": [
    "bello = Dog() #bello is now an instance of the class dog\n",
    "#try to call Dog.bark(), this is the same as lassie.bark() which we tried a few minutes ago\n",
    "Dog.bark()"
   ]
  },
  {
   "cell_type": "markdown",
   "metadata": {},
   "source": [
    "This doesn't work, because `Dog` is not an instance. Your definition of what a dog is can't bark. A dog can. If you make a dog bark like this:"
   ]
  },
  {
   "cell_type": "code",
   "execution_count": null,
   "metadata": {},
   "outputs": [],
   "source": [
    "bello.bark()"
   ]
  },
  {
   "cell_type": "markdown",
   "metadata": {},
   "source": [
    "The instance `bello` implicitely gets passed to the method. You can do the same explicitely using the `Dog` class. You wouldn't usually, but it shows the point:"
   ]
  },
  {
   "cell_type": "code",
   "execution_count": 8,
   "metadata": {},
   "outputs": [
    {
     "name": "stdout",
     "output_type": "stream",
     "text": [
      "wuff\n"
     ]
    }
   ],
   "source": [
    "Dog.bark(bello) #pass an instance of the class as argument"
   ]
  },
  {
   "cell_type": "markdown",
   "metadata": {},
   "source": [
    "In summary, objects are instances of classes. Classes are blueprints for objects."
   ]
  },
  {
   "cell_type": "markdown",
   "metadata": {},
   "source": [
    "### 5.3.2 Encapsulation"
   ]
  },
  {
   "cell_type": "markdown",
   "metadata": {},
   "source": [
    "There are two meanings two this. We are first just going to talk about the simpler one. Encapsulation in the simple form just means organizing methods and data into classes and objects. Going back to the dog example. In imperative programming, to have a dog's name, its weight and a function that barks, we need the following:"
   ]
  },
  {
   "cell_type": "code",
   "execution_count": null,
   "metadata": {},
   "outputs": [],
   "source": [
    "dogs_name = 'bello'\n",
    "dogs_weight = 20\n",
    "def dog_barks():\n",
    "    print('bark')"
   ]
  },
  {
   "cell_type": "markdown",
   "metadata": {},
   "source": [
    "Now imagine, you have several dogs, then this does not only get confusing, but there is also a lot of code."
   ]
  },
  {
   "cell_type": "code",
   "execution_count": null,
   "metadata": {},
   "outputs": [],
   "source": [
    "dog1_name = 'bello'\n",
    "dog1_weight = 20\n",
    "def dog1_barks():\n",
    "    print('bark')"
   ]
  },
  {
   "cell_type": "code",
   "execution_count": 1,
   "metadata": {},
   "outputs": [],
   "source": [
    "dog2_name = 'hasso'\n",
    "dog2_weight = 22\n",
    "def dog2_barks():\n",
    "    print('wuff')"
   ]
  },
  {
   "cell_type": "markdown",
   "metadata": {},
   "source": [
    "This gets very messy very quickly. Now what if we could have a class for dogs, a cookie cutter we can use to create dogs, that fixes everything that all dogs have in common and gives a blueprint about how to create a dog instance given the unique characteristics?"
   ]
  },
  {
   "cell_type": "code",
   "execution_count": 3,
   "metadata": {},
   "outputs": [],
   "source": [
    "class Dog: \n",
    "    #these are class attributes, they are the same for every instance of the class dog, i.e. every dog.\n",
    "    genus = 'canis'\n",
    "    species = 'c.lupus'"
   ]
  },
  {
   "cell_type": "markdown",
   "metadata": {},
   "source": [
    "Now every instance of the class dog has the attributes `genus` and species and we don't need to specify that for every single dog:"
   ]
  },
  {
   "cell_type": "code",
   "execution_count": null,
   "metadata": {},
   "outputs": [],
   "source": [
    "bello = Dog()\n",
    "hasso = Dog()\n",
    "print(bello.genus)\n",
    "print(hasso.species)"
   ]
  },
  {
   "cell_type": "markdown",
   "metadata": {},
   "source": [
    "But what about the characteristics that are not the same? Like the name, the weight, the sound they make and so on? That's what the `__init__()`-method is for. It's one of several special methods that start and end with two underscores. These are called **magic methods** or **dunder methods** and have a special meaning. \n",
    "\n",
    "There are two magic methods being called when you create a new instance. The `__new__(cls)`-method and the `__init__(self)`-method. These are inherited from the class `object` (explanation follows, I promise), so every class already has them. You can overwrite them if you want your instances to have any attributes from the beginning:"
   ]
  },
  {
   "cell_type": "code",
   "execution_count": 10,
   "metadata": {},
   "outputs": [],
   "source": [
    "class Dog:\n",
    "    #these are the same for all dogs and are called \"class attributes\"\n",
    "    genus = 'canis'\n",
    "    species = 'c.lupus'\n",
    "    sound = 'wuff'\n",
    "    \n",
    "    def __init__(self, name, weight):\n",
    "        #this is to show you that the method gets called when you construct a new instance of the class\n",
    "        print('I have been called to construct a dog named ' + name)\n",
    "        self.name = name\n",
    "        self.weight = weight\n",
    "        \n",
    "    def bark(self):\n",
    "        print(self.sound)"
   ]
  },
  {
   "cell_type": "markdown",
   "metadata": {},
   "source": [
    "The `__init__(self)`-method also gets an instance as the first argument. It is the very instance you're creating at that point and it exists already because the (for now) invisible `__new__(cls)`-method has been called before. Because of the scope of functions, it is necessary as argument because otherwise the method wouldn't know the instance. \n",
    "\n",
    "Now we can create new instances by passing arguments to the `Dog()`-command, that we can understand as the constructor method. These arguments get passed to `__init__(self)` along the instance itself."
   ]
  },
  {
   "cell_type": "code",
   "execution_count": null,
   "metadata": {},
   "outputs": [],
   "source": [
    "#we can give them as positional arguments (- the instance that gets passed implicitely.)\n",
    "bello = Dog(bello, 22)\n",
    "#or as named arguments\n",
    "hasso = Dog(name = 'hasso', weight = 22)"
   ]
  },
  {
   "cell_type": "markdown",
   "metadata": {},
   "source": [
    "Now if you look at their weight, this is part of the object now:"
   ]
  },
  {
   "cell_type": "code",
   "execution_count": null,
   "metadata": {},
   "outputs": [],
   "source": [
    "print(f'Bello weighs {bello.weight} kg')\n",
    "print(f'Hasso weighs {hasso.weight} kg')"
   ]
  },
  {
   "cell_type": "markdown",
   "metadata": {},
   "source": [
    "Encapsulation in the more complex sense means to keep attributes in the object safe from outside so that you can't change them. Except through methods of the class. This is not strongly enforced in Python, but it's possible. For a protected, property, you need to start the name with two underscores. \n",
    "\n",
    "Have a look:"
   ]
  },
  {
   "cell_type": "code",
   "execution_count": 10,
   "metadata": {},
   "outputs": [],
   "source": [
    "class Homeowner:\n",
    "    \n",
    "    def __init__(self, money, has_safe):\n",
    "        '''\n",
    "        Smart homeowners have most of their money in the safe \n",
    "        and only a bit lying around. Not so smart homeowners\n",
    "        have it all lying around.\n",
    "        '''\n",
    "        if has_safe:\n",
    "            self.__money = money * 0.9\n",
    "            self.money = 0.1 * money\n",
    "            self.is_smart = True\n",
    "        else:\n",
    "            self.money = money\n",
    "            self.is_smart = False\n",
    "            \n",
    "        \n",
    "class Burglar:\n",
    "    '''\n",
    "    Let's assume all burglars are poor by default. \n",
    "    They also would be not so smart homeowners\n",
    "    '''\n",
    "    def __init__(self, money=0):\n",
    "        self.money = money\n",
    "        \n",
    "    def steal_from(self, homeowner):\n",
    "        #Take all the money that's lying around\n",
    "        self.money += homeowner.money\n",
    "        homeowner.money = 0\n",
    "        #try to get the money from the safe if possible.\n",
    "        if homeowner.is_smart:\n",
    "            '''\n",
    "            many books lying around, it's a smart homeowner\n",
    "            '''\n",
    "            try:\n",
    "                self.money += homeowner.__money\n",
    "                homeowner.__money = 0\n",
    "            except:\n",
    "                print('Homeowner is too smart :(')\n",
    "                \n",
    "    def get_wasted(self):\n",
    "        #burglars have unsustainable lifestyles and spend everything on hookers and cocaine\n",
    "        self.money = 0\n",
    "        print('Poor decisions were made again :(')"
   ]
  },
  {
   "cell_type": "markdown",
   "metadata": {},
   "source": [
    "**Exercise**\n",
    "\n",
    "Create one burglar, one smart homeowner and one not so smart homeowner. Try to steal all their money!\n"
   ]
  },
  {
   "cell_type": "code",
   "execution_count": 50,
   "metadata": {},
   "outputs": [],
   "source": [
    "#your code here\n"
   ]
  },
  {
   "cell_type": "markdown",
   "metadata": {},
   "source": [
    "### 5.3.3 Abstraction\n",
    "\n",
    "We can cover this one very quickly. Abstraction means you can use a class by only knowing what it can do and what it incorporates. You don't have to understand or even know the implementation. It's like you can use SPSS to run a t-test without having a clue what a t-test actually does. Consider the following:\n"
   ]
  },
  {
   "cell_type": "code",
   "execution_count": 11,
   "metadata": {},
   "outputs": [],
   "source": [
    "txt = 'I am a string'"
   ]
  },
  {
   "cell_type": "markdown",
   "metadata": {},
   "source": [
    "Strings will be covered soon, for now just understand that they are objects of class `str`. You can use the methods of this class without knowing how they work:"
   ]
  },
  {
   "cell_type": "code",
   "execution_count": 12,
   "metadata": {},
   "outputs": [
    {
     "name": "stdout",
     "output_type": "stream",
     "text": [
      "['I', 'am', 'a', 'string']\n"
     ]
    }
   ],
   "source": [
    "txt_list = txt.split()\n",
    "print(txt_list)"
   ]
  },
  {
   "cell_type": "markdown",
   "metadata": {},
   "source": [
    "That's abstraction."
   ]
  },
  {
   "cell_type": "markdown",
   "metadata": {},
   "source": [
    "### 5.3.4 Inheritance\n",
    "\n",
    "Inheritance literally means inheritance. Classes can \"inherit from other classes\" which means they have all the attributes of the class they inherited from. This can be used to create increasingly complex classes. E.g. all animals have an aerobic metabolism. So you could define the metabolism in a general class \"Animal\" and let every subclass like \"Dog\" inherit from that and add species specific attributes. Then you could have the classes \"Pitbull\" and \"GoldenRetriever\" inherit from that one. You get the idea. \n",
    "\n",
    "In actual scientific applications (assuming data analysis, not writing data analysis tools where classes would be abundant) this can be used several ways:\n",
    "One way I use it is to define one basic class per project. In this project to define some things that are the same for all subjects and modalities like the path structure. You can also just write some info about the experiment in there. Then you could have classes for every modality like SCR, fMRI, behavioral data that inherit from this class. Increasingly complex you can combine modalities per subject in a class \"Subject\" and combine subjects in a class \"GroupLevel\".\n",
    "\n",
    "For now though it makes more sense to stick to the simple animal example. \n",
    "\n",
    "Actually, you can do that yourself:\n",
    "\n",
    "**Exercise**\n",
    "\n",
    "Write a very simple class called \"Animal\". Class names are capitalized by convention. The class should have the following attributes:\n",
    "\n",
    "   1. A class attribute called 'metabolism' with value 'aerobic'.\n",
    "   2. A method called 'state_metabolism' that prints \"My metabolism is aerobic\". \n",
    "\n",
    "For the second part you can use the attribute `self.metabolism` and string concatenation if you already figured out how it works. If not, don't worry. Just writing the sentence is fine! "
   ]
  },
  {
   "cell_type": "code",
   "execution_count": null,
   "metadata": {},
   "outputs": [],
   "source": [
    "#your code here\n"
   ]
  },
  {
   "cell_type": "markdown",
   "metadata": {},
   "source": [
    "Alright, cool! Create an instance of your class and let it state its metabolism."
   ]
  },
  {
   "cell_type": "code",
   "execution_count": null,
   "metadata": {},
   "outputs": [],
   "source": [
    "#your code here\n"
   ]
  },
  {
   "cell_type": "markdown",
   "metadata": {},
   "source": [
    "Next step, inheritance. The syntax for inheritance is the following:\n",
    "```Python\n",
    "class NewClass(ClassToInheritFrom):\n",
    "    \n",
    "    some_new_attribute = 'arbitrary_value'\n",
    "    \n",
    "    def some_new_function(self):\n",
    "        print(some_new_attribute)\n",
    "```"
   ]
  },
  {
   "cell_type": "markdown",
   "metadata": {},
   "source": [
    "**Exercise**\n",
    "\n",
    "Write a new class definition for your favorite animal. Add the sound it makes as class attribute (i.e. it's the same for every instance) and give it the ability to bark, meow, moo, whatever. Let it say 'Pika pika' for all I care.\n",
    "*Hint*: You don't need an `__init__()`-method for that."
   ]
  },
  {
   "cell_type": "code",
   "execution_count": null,
   "metadata": {},
   "outputs": [],
   "source": [
    "#your code here\n"
   ]
  },
  {
   "cell_type": "markdown",
   "metadata": {},
   "source": [
    "Awesome! Now create an instance of that class and let it make a sound. "
   ]
  },
  {
   "cell_type": "code",
   "execution_count": 54,
   "metadata": {},
   "outputs": [],
   "source": [
    "#your code here\n"
   ]
  },
  {
   "cell_type": "markdown",
   "metadata": {},
   "source": [
    "There is a built-in method in Python that's called `hasattr`, which of course is short for \"has attribute\". In this case, attribute stands for properties and methods alike. The syntax is:\n",
    "```Python\n",
    "bool_value = hasattr(class_name, 'name_of_attribute')\n",
    "```\n",
    "For example, you can check if the class animal has a method \"state_metabolism\"."
   ]
  },
  {
   "cell_type": "code",
   "execution_count": null,
   "metadata": {},
   "outputs": [],
   "source": [
    "print(hasattr(Animal, 'state_metabolism'))"
   ]
  },
  {
   "cell_type": "markdown",
   "metadata": {},
   "source": [
    "Now, check wether your class that inherited from \"Animal\" also has that attribute. `hasattr` works on both `classes` and `objects`. So you could write `hasattr( Dog, 'sound')` or `hasattr( bello, 'sound' )`."
   ]
  },
  {
   "cell_type": "code",
   "execution_count": null,
   "metadata": {},
   "outputs": [],
   "source": [
    "#your code here\n"
   ]
  },
  {
   "cell_type": "markdown",
   "metadata": {},
   "source": [
    "If that's true, let the instance of your subclass state its metabolism."
   ]
  },
  {
   "cell_type": "code",
   "execution_count": 63,
   "metadata": {},
   "outputs": [],
   "source": [
    "#your code here\n"
   ]
  },
  {
   "cell_type": "markdown",
   "metadata": {},
   "source": [
    "Do you understand why now your pet can state its metabolism although you didn't define it in the class itself? Don't hesitate to ask.\n",
    "\n",
    "<br/>\n",
    "\n",
    "Let's go one step further. Remember how I said that creating a new instance of any class calls the `__new__(cls)`-method? \n",
    "We didn't write such a method in the \"Animal\" class and you didn't write one for the subclass that inherited from \"Animal\".\n",
    "\n",
    "**Exercise**\n",
    "\n",
    "Use `hasattr` to check wether your class has an attribute `__new__`."
   ]
  },
  {
   "cell_type": "code",
   "execution_count": 62,
   "metadata": {},
   "outputs": [],
   "source": [
    "#your code here\n"
   ]
  },
  {
   "cell_type": "markdown",
   "metadata": {},
   "source": [
    "Weird, heh? Where did that come from? There is two things to understand here:\n",
    "\n",
    "First: Just like every neuroscientist is also a scientist, every scientist is also a human being, inheritance works similar in OOP. \n",
    "\n",
    "**Exercise**\n",
    "\n",
    "Write three classes in increasing complexity. Let them inherit from each other. With each step add some more specific information or methods. E.g. not all animals bark, but all dogs do. And not all dogs have blue tongues, but ChowChows do. \n",
    "\n",
    "This could be `Animal -> Dog -> ChowChow` or `Food -> Vegetable -> Broccoli` or something else."
   ]
  },
  {
   "cell_type": "code",
   "execution_count": 1,
   "metadata": {},
   "outputs": [],
   "source": [
    "#your code here\n"
   ]
  },
  {
   "cell_type": "markdown",
   "metadata": {},
   "source": [
    "You already know the function `isinstance` that checks wether an object is an instance of a class.\n",
    "\n",
    "**Exercise**\n",
    "\n",
    "Create an object of the most specific class (e.g. ChowChow). Check if it is a ChowChow. Then check if it's also an instance of the classes you inherited from (e.g. Dog and Animal)."
   ]
  },
  {
   "cell_type": "code",
   "execution_count": 14,
   "metadata": {},
   "outputs": [],
   "source": [
    "#your code here\n"
   ]
  },
  {
   "cell_type": "markdown",
   "metadata": {},
   "source": [
    "Second: Remember the 150 times I emphasized that everything is an object? Every class definition (i.e. `Dog`, not `bello`) has a function called `class.mro()`. That's short for **method resolution order**. Imagine a class Dog with method `Dog.bark()`. Now we write a new class `Nervous_dog` that defines a class of dogs that bark a few times every time they bark. So we overwrite the function `bark` with a new one. Now there is two methods `bark` in the class `NervousDog`. If we want to look up which one the instances are going to use, we can use the `class.mro()` function. This can also be used to look at the inheritance history.\n",
    "\n",
    "**Exercise**\n",
    "\n",
    "Use the `mro()` method of the class ChowChow (**not** instance of your class) to look at the method resolution order  and thus the inheritance history of your subclass."
   ]
  },
  {
   "cell_type": "code",
   "execution_count": 14,
   "metadata": {},
   "outputs": [],
   "source": [
    "#your code here\n"
   ]
  },
  {
   "cell_type": "markdown",
   "metadata": {},
   "source": [
    "Left to right we can see the inheritance history. The first three classes are expected. The last one probably wasn't because we didn't explicitely inherit from class `object`. But since **everything is an object**, every class implicitely inherits from class `object`, at least since Python 3. This is true for every class including built-in classes:"
   ]
  },
  {
   "cell_type": "code",
   "execution_count": 75,
   "metadata": {},
   "outputs": [
    {
     "data": {
      "text/plain": [
       "[int, object]"
      ]
     },
     "execution_count": 75,
     "metadata": {},
     "output_type": "execute_result"
    }
   ],
   "source": [
    "int.mro()"
   ]
  },
  {
   "cell_type": "markdown",
   "metadata": {},
   "source": [
    "And it's the reason why the following is true for everything in Python:"
   ]
  },
  {
   "cell_type": "code",
   "execution_count": 15,
   "metadata": {},
   "outputs": [
    {
     "data": {
      "text/plain": [
       "True"
      ]
     },
     "execution_count": 15,
     "metadata": {},
     "output_type": "execute_result"
    }
   ],
   "source": [
    "isinstance('anything', object)"
   ]
  },
  {
   "cell_type": "markdown",
   "metadata": {},
   "source": [
    "### 5.3.5 Polymorphism\n",
    "\n",
    "This is the last of the defining features of OOP. We already saw an example of it. In MATLAB, you can only have one function with one name. If there is more than one function called `bark` there's confusion. In Python we don't care, as long as these functions are methods of an object (or are part of a module/namespace). Polymorphism means, the same function can take several forms. Two dogs barking but making different sounds while doing so is a polymorphism. This also means that two object of different classes can be used the same way if they have methods of the same name that do similar things. Just a very quick example:\n",
    "\n",
    "Consider two animal classes that both have a method `make_sound`."
   ]
  },
  {
   "cell_type": "code",
   "execution_count": 15,
   "metadata": {},
   "outputs": [],
   "source": [
    "class Cat:\n",
    "    \n",
    "    sound = 'meow'\n",
    "    \n",
    "    def make_sound(self):\n",
    "        print(self.sound)\n",
    "        \n",
    "class Dog:\n",
    "    \n",
    "    sound = 'wuff'\n",
    "    \n",
    "    def make_sound(self):\n",
    "        print(self.sound)"
   ]
  },
  {
   "cell_type": "markdown",
   "metadata": {},
   "source": [
    "And consider a function that pets an animal which triggers the animal to make a sound:"
   ]
  },
  {
   "cell_type": "code",
   "execution_count": 16,
   "metadata": {},
   "outputs": [],
   "source": [
    "def pet_animal(animal):\n",
    "    animal.make_sound()"
   ]
  },
  {
   "cell_type": "markdown",
   "metadata": {},
   "source": [
    "Now we can apply the method to instances of both classes, because they both have a method of the name `make_sound`."
   ]
  },
  {
   "cell_type": "code",
   "execution_count": null,
   "metadata": {},
   "outputs": [],
   "source": [
    "pluto = Dog()\n",
    "karlo = Cat()\n",
    "\n",
    "pet_animal(pluto)\n",
    "pet_animal(karlo)"
   ]
  },
  {
   "cell_type": "markdown",
   "metadata": {},
   "source": [
    "<br/>\n",
    "\n",
    "### 5.3.6 Overloading operators (Bonus)\n",
    "\n",
    "The following is a little bonus, you don't need to go through it if you're short on time.\n",
    "\n",
    "The `object` class defines methods that are being called for different operators. E.g. there is a method called `__add__()` that gets called for the operator `+` and `__eq__()` that gets called for `==`. You can use these methods to overload operators, i.e. change the behavior of objects with respect to these operators. Here's an example. A class that inherits from `int`, that is equal to everything else as defined by `==`."
   ]
  },
  {
   "cell_type": "code",
   "execution_count": 18,
   "metadata": {},
   "outputs": [],
   "source": [
    "class AlwaysEqualInt(int):\n",
    "    \n",
    "    def __eq__(self,other):\n",
    "        return True"
   ]
  },
  {
   "cell_type": "markdown",
   "metadata": {},
   "source": [
    "Since it inherits from integer, we can use it just like we could use int. So like we could write int(1) - which would be redundant -, we can write:"
   ]
  },
  {
   "cell_type": "code",
   "execution_count": 19,
   "metadata": {},
   "outputs": [
    {
     "name": "stdout",
     "output_type": "stream",
     "text": [
      "1 2\n"
     ]
    }
   ],
   "source": [
    "a = int(1)\n",
    "b = AlwaysEqualInt(2)\n",
    "print(a, b)"
   ]
  },
  {
   "cell_type": "markdown",
   "metadata": {},
   "source": [
    "Now both of these objects have a method `__eq__`. The original `int` compares the values and returns `True` if these are equal. Our new class always returns `True`. Because the class `int` is in the method resolution order of the new class, our new class has higher priority, independent of order of operands:"
   ]
  },
  {
   "cell_type": "code",
   "execution_count": 20,
   "metadata": {},
   "outputs": [
    {
     "name": "stdout",
     "output_type": "stream",
     "text": [
      "True\n",
      "True\n"
     ]
    }
   ],
   "source": [
    "print(a == b)\n",
    "print(b == a)"
   ]
  },
  {
   "cell_type": "markdown",
   "metadata": {},
   "source": [
    "If this is not true, then order of operands is determining which method to use:"
   ]
  },
  {
   "cell_type": "code",
   "execution_count": 21,
   "metadata": {},
   "outputs": [
    {
     "name": "stdout",
     "output_type": "stream",
     "text": [
      "1.0\n"
     ]
    }
   ],
   "source": [
    "a = float(1)\n",
    "print(a)"
   ]
  },
  {
   "cell_type": "code",
   "execution_count": 146,
   "metadata": {},
   "outputs": [],
   "source": [
    "print(a == b)\n",
    "print(b == a)"
   ]
  },
  {
   "cell_type": "markdown",
   "metadata": {},
   "source": [
    "**Exercise**\n",
    "\n",
    "Write a NoisyFloat class that inherits from `float`. Overload the `+` - operator. Use a method from `numpy.random` to implement noisy addition, i.e. do the addition and then add some noise."
   ]
  },
  {
   "cell_type": "code",
   "execution_count": 1,
   "metadata": {},
   "outputs": [],
   "source": [
    "#your code here\n"
   ]
  },
  {
   "cell_type": "markdown",
   "metadata": {},
   "source": [
    "# Conclusion\n",
    "\n",
    "This should give you a pretty good idea about OOP. Not that you have to write your own classes. But it can make sense to get the most out of Python. Plus, this way you will have a easier way understanding packages and other peoples' code."
   ]
  }
 ],
 "metadata": {
  "kernelspec": {
   "display_name": "Python 3 (ipykernel)",
   "language": "python",
   "name": "python3"
  },
  "language_info": {
   "codemirror_mode": {
    "name": "ipython",
    "version": 3
   },
   "file_extension": ".py",
   "mimetype": "text/x-python",
   "name": "python",
   "nbconvert_exporter": "python",
   "pygments_lexer": "ipython3",
   "version": "3.9.7"
  }
 },
 "nbformat": 4,
 "nbformat_minor": 4
}
