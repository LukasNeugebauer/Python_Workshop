{
 "cells": [
  {
   "cell_type": "markdown",
   "metadata": {},
   "source": [
    "# 5. Jupyter\n",
    "\n",
    "## 5.1 Jupyter Lab\n",
    "\n",
    "For many people that want to start learning Python, the problem might be less \"How do I learn the syntax?\" and more \"okay, but... where do I actually write the code?\". Jupyter Lab is one answer to this problem and a very good one.\n",
    "\n",
    "Jupyter Lab is something like a browser-based IDE. It's very customizable and there is an active community developing extensions that you can use. You can combine consoles, notebooks and scripts - all in one environment (not to be confused with conda environments). It can look like this:\n",
    "\n",
    "<img align=\"center\" src=\"../img/jupyter_lab.PNG\" width=80% />\n",
    "\n",
    "It can also look completely different."
   ]
  },
  {
   "cell_type": "markdown",
   "metadata": {},
   "source": [
    "**Exercise**\n",
    "\n",
    "Use the anaconda prompt to navigate to the folder with the material for the workshop. Don't go into the \"notebook\"-subfolder. The reason is this: Jupyter Lab can access all files that are in the folder that you start it from. It can also access everything in subfolders and so on. But you can't use files higher up in the hierarchy.\n",
    "\n",
    "Start **Jupyter lab** by entering `jupyter lab` (surprise, surprise) in the prompt and hit enter. \n",
    "\n",
    "Once it has opened, use the file browser on the left to open the notebook __3_jupyter.ipynb__ by double-clicking on it."
   ]
  },
  {
   "cell_type": "markdown",
   "metadata": {},
   "source": [
    "### 5.1.1 Using multiple environments in Jupyter Lab\n",
    "\n",
    "No we see why we installed `nb_conda_kernels`. In the upper right corner you should see something like `Python` or `Python [conda env:root]`. Here you can select a Python kernel. It just means, you can choose which environment you want to use, i.e. which version of Python and which packages. Without `nb_conda_kernels` all you can use is the environment from which you start **Jupyter Lab**. `[conda env:root]` refers to the parent environment, i.e. the one you started Jupyter Lab from.` "
   ]
  },
  {
   "cell_type": "markdown",
   "metadata": {},
   "source": [
    "## 5.2. Jupyter notebooks\n",
    "\n",
    "This right here is a **Jupyter Notebook**. You can use them in the browser without **Jupyter Lab** by starting `jupyter notebook` instead of `jupyter lab` from the prompt. However, **Jupyter Lab** is the state-of-the-art workflow using Jupyter and there really is no downside to it. \n",
    "\n",
    "**Jupyter notebook** are comparable to *Live Scripts* in MATLAB or *Markdown* in R. They consist of cells that can either hold code or some formatted text. You can use **html** and **markdown** commands to format the text. This way you can also include graphics. You can combine code snippets, plots and written text in one document. This can then be saved as *HTML* or *PDF* documents. You can even transform them into [slides for a presentation](https://medium.com/learning-machine-learning/present-your-data-science-projects-with-jupyter-slides-75f20735eb0f).  It's also an obvious tool for [open notebook science](https://en.wikipedia.org/wiki/Open-notebook_science). This way you can present results while making them directly reproducible and on top communicating your thought process and justification for your analysis strategies. **Jupyter notebooks** themselves are language agnostic. There's kernels for R, Julia and dozens of other languages including MATLAB (although this one is hard to get running on Windows). \n",
    "\n",
    "The laureate of the 2018 (so-called) Nobel prize for economics [uses Python and Jupyter Notebooks](https://aruljohn.com/blog/nobel-laureate-python/).\n",
    "\n",
    "They're also really nice for teaching a programming language (as you'll hopefully agree when we finally come to that part)."
   ]
  },
  {
   "cell_type": "markdown",
   "metadata": {},
   "source": [
    "Here's a few basic keyboard shortcuts that can make you considerably more productive.\n",
    "\n",
    "`Esc` - leave insertion mode. Intertion mode is when you type code or words to a cell.\n",
    "\n",
    "`Enter` - enter insertion mode.\n",
    "\n",
    "`Ctrl + Enter` - Run a cell \n",
    "\n",
    "`Shift + Enter` - Run a cell and jump to the next one\n",
    "\n",
    "When not in insertion mode:\n",
    "\n",
    "`a` - insert new cell above current one\n",
    "\n",
    "`b` - insert new cell below current one\n",
    "\n",
    "`m` - change cell from code cell to markdown (text) cell\n",
    "\n",
    "`y` - change cell from markdown to code\n",
    "\n",
    "`j` - move on cell down\n",
    "\n",
    "`k` - move on cell up\n",
    "\n",
    "`dd` - delete cell (hit `d` twice)\n",
    "\n",
    "`00` - restart the kernel. deletes variables, unloads packages."
   ]
  },
  {
   "cell_type": "markdown",
   "metadata": {},
   "source": [
    "### 5.2.1 Code cells\n",
    "\n",
    "Code cells use **IPython** in the background. One notebook has one workspace. That means that cells in one notebooks share variables but different notebooks don't. Code cells work just like **IPython** would work and that is pretty much like the command line in MATLAB works. \n",
    "\n",
    "**Exercise**\n",
    "\n",
    "Create a new cell below this one. Assign a value to a variable or use it as a calculator and see how it works."
   ]
  },
  {
   "cell_type": "markdown",
   "metadata": {},
   "source": [
    "### 5.2.2 Markdown cells\n",
    "\n",
    "Markdown is something like HTML, just more simple. It provides you with simple commands that make text look like you want it to. Like **bold**, *italic*, <font color=\"red\"> or colored</font>. You can also include graphics and hyperlinks.\n",
    "\n",
    "[Here's](https://medium.com/ibm-data-science-experience/markdown-for-jupyter-notebooks-cheatsheet-386c05aeebed) a nice cheat sheet for markdown in **Jupyter Notebooks**."
   ]
  },
  {
   "cell_type": "markdown",
   "metadata": {},
   "source": [
    "## 5.3 Consoles in Jupyter Lab\n",
    "\n",
    "What is called a console in **Jupyter Lab** is really just an instance of IPython. IPython is an interactive Python shell, so pretty much the same as a command window in MATLAB. You can drag notebooks, consoles and scripts to rearrange them in the way you want to.\n",
    "\n",
    "**Exercise** \n",
    "\n",
    "Start a console. Click `File` -> `New` -> `Console`. Try a few simple calculations like `3 + 4` to see how it works or assign some values to variables the way you would in MATLAB. Depending on your settings you have to hit `Ctrl + Enter` to execute the code."
   ]
  },
  {
   "cell_type": "markdown",
   "metadata": {},
   "source": [
    "## 5.4 Editor in Jupyter Lab\n",
    "\n",
    "The editor in Jupyter Lab is just like any other editor. You can write code here and save it as .py-file or anything else. You can also write MATLAB code if you want to. If you prefer to use another editor outside of Jupyter Lab, that's absolute fine. However, you can use the settings to make the editor inherit the key bindings of Vim, Emacs or Sublime."
   ]
  },
  {
   "cell_type": "markdown",
   "metadata": {},
   "source": [
    "## 5.5 Scope of kernels in Jupyter Lab\n",
    "\n",
    "Each **Jupyter Notebook** and each console/command window (if you start it on its own) uses their own kernel. So they all have their own instance of the Python interpreter running and don't know anything about the variables of other kernels/notebooks/consoles. \n",
    "\n",
    "**Exercise** \n",
    "\n",
    "Assign a value to a variable in the console, e.g. `a = 3`. Then come back to this notebook and try to print the value in the next cell. **Hint**: `print()` does what `disp()` does in MATLAB."
   ]
  },
  {
   "cell_type": "code",
   "execution_count": null,
   "metadata": {},
   "outputs": [],
   "source": [
    "#your code here\n"
   ]
  }
 ],
 "metadata": {
  "kernelspec": {
   "display_name": "Python [conda env:root]",
   "language": "python",
   "name": "conda-root-py"
  },
  "language_info": {
   "codemirror_mode": {
    "name": "ipython",
    "version": 3
   },
   "file_extension": ".py",
   "mimetype": "text/x-python",
   "name": "python",
   "nbconvert_exporter": "python",
   "pygments_lexer": "ipython3",
   "version": "3.7.1"
  }
 },
 "nbformat": 4,
 "nbformat_minor": 2
}
