{
 "cells": [
  {
   "cell_type": "markdown",
   "metadata": {},
   "source": [
    "# 3. Jupyter\n",
    "\n",
    "For many people that want to start learning Python, the problem might be less \"How do I learn the syntax?\" and more \"okay, but... where do I actually write the code?\". There's a lot of different ways to do this. The closest one to MATLAB would be **Spyder**. **Spyder** is an IDE that was written with MATLAB users in mind and it behaves a lot like the MATLAB IDE:\n",
    "\n",
    "<img align=\"center\" src=\"../img/spyder.PNG\" width=80%/>\n",
    "\n",
    "If you want to use **Spyder** for your work with Python after the workshop, that's fine. For this workshop we'll use **Jupyter Lab**, because especially for this kind of settings it has some unique advantages. Like the option to combine instructions and your own attempts in one document.\n",
    "\n",
    "## 3.1 Jupyter Lab\n",
    "\n",
    "Jupyter Lab is something like a browser-based IDE. It's very customizable and there is an active community developing extensions that you can use. You can combine consoles, notebooks and scripts - all in one environment (not to be confused with conda environments). It can look like this:\n",
    "\n",
    "<img align=\"center\" src=\"../img/jupyter_lab.PNG\" width=80% />\n",
    "\n",
    "It can also look completely different."
   ]
  },
  {
   "cell_type": "markdown",
   "metadata": {},
   "source": [
    "**Exercise**\n",
    "\n",
    "Use the anaconda prompt to navigate (use `cd`) to the folder with the material for the workshop. Don't go into the \"notebook\"-subfolder. The reason is this: Jupyter Lab can access all files that are in the folder that you start it from. It can also access everything in subfolders and so on. But you can't use files higher up in the hierarchy.\n",
    "\n",
    "Start **Jupyter lab** by entering `jupyter lab` (surprise, surprise) in the prompt and hit enter. \n",
    "\n",
    "Once it has opened, use the file browser on the left to open the notebook __3_jupyter.ipynb__ by double-clicking on it.\n",
    "\n",
    "You can toggle the sidebar on and off using the keyboard shortcut `Ctrl + B`."
   ]
  },
  {
   "cell_type": "markdown",
   "metadata": {},
   "source": [
    "### 3.1.1 Using multiple environments in Jupyter Lab\n",
    "\n",
    "No we see why we installed `nb_conda_kernels`. In the upper right corner you should see something like `Python` or `Python [conda env:root]`. Here you can select a Python kernel. It just means, you can choose which environment you want to use, i.e. which version of Python and which packages. Without `nb_conda_kernels` all you can use is the environment from which you start **Jupyter Lab**. "
   ]
  },
  {
   "cell_type": "markdown",
   "metadata": {},
   "source": [
    "## 3.2. Jupyter notebooks\n",
    "\n",
    "This right here is a **Jupyter Notebook**. You can use them in the browser without **Jupyter Lab** by starting `jupyter notebook` instead of `jupyter lab` from the prompt. However, **Jupyter Lab** is the state-of-the-art workflow using Jupyter and there really is no downside to it. \n",
    "\n",
    "**Jupyter notebook** are comparable to *Live Scripts* in MATLAB or *Markdown* in R. They consist of cells that can either hold code or some formatted text. You can use **html** and **markdown** commands to format the text. This way you can also include graphics. You can combine code snippets, plots and written text in one document. This can then be saved as *HTML* or *PDF* documents. You can even transform them into [slides for a presentation](https://medium.com/learning-machine-learning/present-your-data-science-projects-with-jupyter-slides-75f20735eb0f).  It's also an obvious tool for [open notebook science](https://en.wikipedia.org/wiki/Open-notebook_science). This way you can present results while making them directly reproducible and on top communicating your thought process and justification for your analysis strategies. **Jupyter notebooks** themselves are language agnostic. There's kernels for R, Julia and dozens of other languages including MATLAB (although this one is hard to get running on Windows). \n",
    "\n",
    "They're also really nice for teaching a programming language (as you'll hopefully agree when we finally come to that part)."
   ]
  },
  {
   "cell_type": "markdown",
   "metadata": {},
   "source": [
    "### Keyboard Shortcuts\n",
    "\n",
    "Here's a few basic keyboard shortcuts that can make you considerably more productive.\n",
    "\n",
    "`Esc` - leave insertion mode. Intertion mode is when you type code or words to a cell.\n",
    "\n",
    "`Enter` - enter insertion mode.\n",
    "\n",
    "`Ctrl + Enter` - Run a cell \n",
    "\n",
    "`Shift + Enter` - Run a cell and jump to the next one\n",
    "\n",
    "When not in insertion mode:\n",
    "\n",
    "`a` - insert new cell above current one\n",
    "\n",
    "`b` - insert new cell below current one\n",
    "\n",
    "`m` - change cell from code cell to markdown (text) cell\n",
    "\n",
    "`y` - change cell from markdown to code\n",
    "\n",
    "`j` - move on cell down\n",
    "\n",
    "`k` - move on cell up\n",
    "\n",
    "`dd` - delete cell (hit `d` twice)\n",
    "\n",
    "`00` - restart the kernel. deletes variables, unloads packages."
   ]
  },
  {
   "cell_type": "markdown",
   "metadata": {},
   "source": [
    "### Code cells\n",
    "\n",
    "Code cells use **IPython** in the background. One notebook has one workspace. That means that cells in one notebooks share variables but different notebooks don't. Code cells work just like **IPython** would work and that is pretty much like the command line in MATLAB works. \n",
    "\n",
    "**Exercise**\n",
    "\n",
    "Create a new cell below this one. Assign a value to a variable or use it as a calculator and see how it works."
   ]
  },
  {
   "cell_type": "code",
   "execution_count": 4,
   "metadata": {},
   "outputs": [
    {
     "data": {
      "text/plain": [
       "9"
      ]
     },
     "execution_count": 4,
     "metadata": {},
     "output_type": "execute_result"
    }
   ],
   "source": [
    "3 + 2\n",
    "4 + 5 #this one get's printed"
   ]
  },
  {
   "cell_type": "code",
   "execution_count": 6,
   "metadata": {},
   "outputs": [],
   "source": [
    "a = 4 + 5 #now it doesn't because of assignment"
   ]
  },
  {
   "cell_type": "code",
   "execution_count": 7,
   "metadata": {},
   "outputs": [],
   "source": [
    "4 + 5; #and now it doesn't thanks to semicolon"
   ]
  },
  {
   "cell_type": "markdown",
   "metadata": {},
   "source": [
    "### Markdown cells\n",
    "\n",
    "Markdown is something like HTML, just more simple. It provides you with simple commands that make text look like you want it to. Like **bold**, *italic*, <font color=\"red\"> or colored</font>. You can also include graphics and hyperlinks.\n",
    "\n",
    "[Here's](https://medium.com/ibm-data-science-experience/markdown-for-jupyter-notebooks-cheatsheet-386c05aeebed) a nice cheat sheet for markdown in **Jupyter Notebooks**."
   ]
  },
  {
   "cell_type": "markdown",
   "metadata": {},
   "source": [
    "## 3.3 Editor in Jupyter Lab\n",
    "\n",
    "The editor in Jupyter Lab is just like any other editor. You can write code here and save it as .py-file or anything else. You can also write MATLAB code if you want to. If you prefer to use another editor outside of Jupyter Lab, that's absolute fine. However, you can use the settings to make the editor inherit the key bindings of Vim, Emacs or Sublime."
   ]
  },
  {
   "cell_type": "markdown",
   "metadata": {},
   "source": [
    "## 3.4 IPython utilities\n",
    "\n",
    "Since **Jupyter notebooks** use **IPython**, you can use all utilities that **IPython** provides in notebooks. \n",
    "\n",
    "Here are a few of them:\n",
    "\n",
    "You can use shell commands like `cd` or `pwd`. This is not possible in the original Python shell.<br/>\n",
    "Some MATLAB like commands like `whos` are implemented in **IPython**.<br/>\n",
    "You get syntax highlighting and tab completion.<br/>\n",
    "You can get help on functions and objects easily:<br/>\n",
    "> Either write a function and press `Shift + tab`.<br/>\n",
    "Or write a function name + `?` or `??`, e.g. `sum??` and run the cell.<br/>\n",
    "\n",
    "Try both of these versions in the next cell."
   ]
  },
  {
   "cell_type": "code",
   "execution_count": 5,
   "metadata": {},
   "outputs": [
    {
     "data": {
      "text/plain": [
       "\u001b[0;31mDocstring:\u001b[0m\n",
       "Run the named file inside IPython as a program.\n",
       "\n",
       "Usage::\n",
       "\n",
       "  %run [-n -i -e -G]\n",
       "       [( -t [-N<N>] | -d [-b<N>] | -p [profile options] )]\n",
       "       ( -m mod | filename ) [args]\n",
       "\n",
       "The filename argument should be either a pure Python script (with\n",
       "extension ``.py``), or a file with custom IPython syntax (such as\n",
       "magics). If the latter, the file can be either a script with ``.ipy``\n",
       "extension, or a Jupyter notebook with ``.ipynb`` extension. When running\n",
       "a Jupyter notebook, the output from print statements and other\n",
       "displayed objects will appear in the terminal (even matplotlib figures\n",
       "will open, if a terminal-compliant backend is being used). Note that,\n",
       "at the system command line, the ``jupyter run`` command offers similar\n",
       "functionality for executing notebooks (albeit currently with some\n",
       "differences in supported options).\n",
       "\n",
       "Parameters after the filename are passed as command-line arguments to\n",
       "the program (put in sys.argv). Then, control returns to IPython's\n",
       "prompt.\n",
       "\n",
       "This is similar to running at a system prompt ``python file args``,\n",
       "but with the advantage of giving you IPython's tracebacks, and of\n",
       "loading all variables into your interactive namespace for further use\n",
       "(unless -p is used, see below).\n",
       "\n",
       "The file is executed in a namespace initially consisting only of\n",
       "``__name__=='__main__'`` and sys.argv constructed as indicated. It thus\n",
       "sees its environment as if it were being run as a stand-alone program\n",
       "(except for sharing global objects such as previously imported\n",
       "modules). But after execution, the IPython interactive namespace gets\n",
       "updated with all variables defined in the program (except for __name__\n",
       "and sys.argv). This allows for very convenient loading of code for\n",
       "interactive work, while giving each program a 'clean sheet' to run in.\n",
       "\n",
       "Arguments are expanded using shell-like glob match.  Patterns\n",
       "'*', '?', '[seq]' and '[!seq]' can be used.  Additionally,\n",
       "tilde '~' will be expanded into user's home directory.  Unlike\n",
       "real shells, quotation does not suppress expansions.  Use\n",
       "*two* back slashes (e.g. ``\\\\*``) to suppress expansions.\n",
       "To completely disable these expansions, you can use -G flag.\n",
       "\n",
       "On Windows systems, the use of single quotes `'` when specifying \n",
       "a file is not supported. Use double quotes `\"`.\n",
       "\n",
       "Options:\n",
       "\n",
       "-n\n",
       "  __name__ is NOT set to '__main__', but to the running file's name\n",
       "  without extension (as python does under import).  This allows running\n",
       "  scripts and reloading the definitions in them without calling code\n",
       "  protected by an ``if __name__ == \"__main__\"`` clause.\n",
       "\n",
       "-i\n",
       "  run the file in IPython's namespace instead of an empty one. This\n",
       "  is useful if you are experimenting with code written in a text editor\n",
       "  which depends on variables defined interactively.\n",
       "\n",
       "-e\n",
       "  ignore sys.exit() calls or SystemExit exceptions in the script\n",
       "  being run.  This is particularly useful if IPython is being used to\n",
       "  run unittests, which always exit with a sys.exit() call.  In such\n",
       "  cases you are interested in the output of the test results, not in\n",
       "  seeing a traceback of the unittest module.\n",
       "\n",
       "-t\n",
       "  print timing information at the end of the run.  IPython will give\n",
       "  you an estimated CPU time consumption for your script, which under\n",
       "  Unix uses the resource module to avoid the wraparound problems of\n",
       "  time.clock().  Under Unix, an estimate of time spent on system tasks\n",
       "  is also given (for Windows platforms this is reported as 0.0).\n",
       "\n",
       "If -t is given, an additional ``-N<N>`` option can be given, where <N>\n",
       "must be an integer indicating how many times you want the script to\n",
       "run.  The final timing report will include total and per run results.\n",
       "\n",
       "For example (testing the script uniq_stable.py)::\n",
       "\n",
       "    In [1]: run -t uniq_stable\n",
       "\n",
       "    IPython CPU timings (estimated):\n",
       "      User  :    0.19597 s.\n",
       "      System:        0.0 s.\n",
       "\n",
       "    In [2]: run -t -N5 uniq_stable\n",
       "\n",
       "    IPython CPU timings (estimated):\n",
       "    Total runs performed: 5\n",
       "      Times :      Total       Per run\n",
       "      User  :   0.910862 s,  0.1821724 s.\n",
       "      System:        0.0 s,        0.0 s.\n",
       "\n",
       "-d\n",
       "  run your program under the control of pdb, the Python debugger.\n",
       "  This allows you to execute your program step by step, watch variables,\n",
       "  etc.  Internally, what IPython does is similar to calling::\n",
       "\n",
       "      pdb.run('execfile(\"YOURFILENAME\")')\n",
       "\n",
       "  with a breakpoint set on line 1 of your file.  You can change the line\n",
       "  number for this automatic breakpoint to be <N> by using the -bN option\n",
       "  (where N must be an integer). For example::\n",
       "\n",
       "      %run -d -b40 myscript\n",
       "\n",
       "  will set the first breakpoint at line 40 in myscript.py.  Note that\n",
       "  the first breakpoint must be set on a line which actually does\n",
       "  something (not a comment or docstring) for it to stop execution.\n",
       "\n",
       "  Or you can specify a breakpoint in a different file::\n",
       "\n",
       "      %run -d -b myotherfile.py:20 myscript\n",
       "\n",
       "  When the pdb debugger starts, you will see a (Pdb) prompt.  You must\n",
       "  first enter 'c' (without quotes) to start execution up to the first\n",
       "  breakpoint.\n",
       "\n",
       "  Entering 'help' gives information about the use of the debugger.  You\n",
       "  can easily see pdb's full documentation with \"import pdb;pdb.help()\"\n",
       "  at a prompt.\n",
       "\n",
       "-p\n",
       "  run program under the control of the Python profiler module (which\n",
       "  prints a detailed report of execution times, function calls, etc).\n",
       "\n",
       "  You can pass other options after -p which affect the behavior of the\n",
       "  profiler itself. See the docs for %prun for details.\n",
       "\n",
       "  In this mode, the program's variables do NOT propagate back to the\n",
       "  IPython interactive namespace (because they remain in the namespace\n",
       "  where the profiler executes them).\n",
       "\n",
       "  Internally this triggers a call to %prun, see its documentation for\n",
       "  details on the options available specifically for profiling.\n",
       "\n",
       "There is one special usage for which the text above doesn't apply:\n",
       "if the filename ends with .ipy[nb], the file is run as ipython script,\n",
       "just as if the commands were written on IPython prompt.\n",
       "\n",
       "-m\n",
       "  specify module name to load instead of script path. Similar to\n",
       "  the -m option for the python interpreter. Use this option last if you\n",
       "  want to combine with other %run options. Unlike the python interpreter\n",
       "  only source modules are allowed no .pyc or .pyo files.\n",
       "  For example::\n",
       "\n",
       "      %run -m example\n",
       "\n",
       "  will run the example module.\n",
       "\n",
       "-G\n",
       "  disable shell-like glob expansion of arguments.\n",
       "\u001b[0;31mFile:\u001b[0m      ~/miniconda3/envs/workshop/lib/python3.10/site-packages/IPython/core/magics/execution.py\n"
      ]
     },
     "metadata": {},
     "output_type": "display_data"
    }
   ],
   "source": [
    "#your code here\n",
    "run?"
   ]
  },
  {
   "cell_type": "markdown",
   "metadata": {},
   "source": [
    "## Conclusion\n",
    "\n",
    "Jupyter is constantly evolving and it's worth it to keep track of major changes like the introduction of **Jupyter Lab**. There are a million and increasing ways to personalize your experience by using extensions or personalizing keyboard shortcuts. But since this is enough for a workshop on its own, we'll stop here and finally begin using **Python**."
   ]
  }
 ],
 "metadata": {
  "kernelspec": {
   "display_name": "Python 3 (ipykernel)",
   "language": "python",
   "name": "python3"
  },
  "language_info": {
   "codemirror_mode": {
    "name": "ipython",
    "version": 3
   },
   "file_extension": ".py",
   "mimetype": "text/x-python",
   "name": "python",
   "nbconvert_exporter": "python",
   "pygments_lexer": "ipython3",
   "version": "3.10.2"
  }
 },
 "nbformat": 4,
 "nbformat_minor": 4
}
