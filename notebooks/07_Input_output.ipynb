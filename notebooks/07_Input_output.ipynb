{
 "cells": [
  {
   "cell_type": "markdown",
   "id": "ab489e29-cb3d-40e7-8841-b1baed29baf9",
   "metadata": {},
   "source": [
    "# Input/Output in vanilla python, numpy and pandas\n",
    "\n",
    "In this notebook we'll cover reading and writing files using the built-in functionality, and two third party packages that you need to have installed."
   ]
  },
  {
   "cell_type": "code",
   "execution_count": null,
   "id": "15d41356-841e-4209-8528-23d76aa366ab",
   "metadata": {},
   "outputs": [],
   "source": []
  }
 ],
 "metadata": {
  "kernelspec": {
   "display_name": "Python [conda env:RL] *",
   "language": "python",
   "name": "conda-env-RL-py"
  },
  "language_info": {
   "codemirror_mode": {
    "name": "ipython",
    "version": 3
   },
   "file_extension": ".py",
   "mimetype": "text/x-python",
   "name": "python",
   "nbconvert_exporter": "python",
   "pygments_lexer": "ipython3",
   "version": "3.9.7"
  }
 },
 "nbformat": 4,
 "nbformat_minor": 5
}
