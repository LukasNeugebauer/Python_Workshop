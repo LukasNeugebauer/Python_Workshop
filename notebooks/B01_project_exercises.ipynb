{
 "cells": [
  {
   "cell_type": "markdown",
   "id": "4bc2b1a3-32d1-4522-aa02-bd0396a12ebc",
   "metadata": {},
   "source": [
    "# Project Exercises\n",
    "\n",
    "During the workshop we will interrupt the input and use some of our new-found knowledge in a small project. The data for this project is taken from the following study. \n",
    "\n",
    "## The general idea behind the exercises\n",
    "\n",
    "As a general comment on the following exercises: I strongly believe in figuring stuff out by yourself as a learning tool, which means good exercises should now purely repeat stuff that we already did 1:1. This is especially true in programming where figuring out how stuff works using the documentation, google or stackoverflow is part of the deal.\n",
    "\n",
    "As a consequence, I tried to design the project assignments in a way that are largely -but now completely- solvable using the stuff we covered so far. That means if you read the exercise and feel like \"I don't know how to do that\", don't worry - that's by design! Feel free to use the internet!\n",
    "\n",
    "However, I am aware of the heterogeneity in tech-savyness and preexisting programming knowledge. So for the assignments during the online workshop, we will now split the group into two parts: \n",
    "\n",
    " 1. Those who feel comfortable taking the challenge on on their own go to the breakout room. \n",
    " 2. Those who prefer a more guided approach or are uncertain whether they manage the assignment on their own can stay here. We will work out a solution together. \n",
    " \n",
    "Both options are absolutely fine, so don't feel pressured! You can also change your mind midway and change the room.\n",
    "\n",
    "There are a total of 6 Exercises that should familiarize you with some basics in the scientific python stack:\n",
    "\n",
    " 1. Read the data\n",
    " 2. Split the data set\n",
    " 3. Descriptive statistics in numpy\n",
    " 4. Mean comparison in scipy\n",
    " 5. Linear regression in statsmodels\n",
    " 6. Plot the results in matplotlib\n",
    " \n",
    "You can complete the assignments in this notebook or move to a `.py` file for that. It's up to you.\n",
    " \n",
    "The schedule for the workshop is **packed**. So if we manage to actually complete all these exercises, that's absolutely amazing. If not, that's no problem. I'll provide an example solution and you can try it yourself later on. You've still learnt a lot of Python in just 2.5 days."
   ]
  },
  {
   "cell_type": "markdown",
   "id": "1c98f097-2cca-4de0-94d0-ef38ac47e02d",
   "metadata": {},
   "source": [
    "## The data\n",
    "\n",
    "The data for this project is taken from the following study. \n",
    "\n",
    "[Kerry, N., & Murray, D. R. (2021). Physical Strength Partly Explains Sex Differences in Trait Anxiety in Young Americans. Psychological Science, 32(5), 809–815. https://doi.org/10.1177/0956797620971298](https://journals.sagepub.com/doi/full/10.1177/0956797620971298)\n",
    "\n",
    "You can find the files in the `data` folder. Originally it was a `.sav`, i.e. SPSS file. I took the liberty to select a few columns and produce a `.tsv` file that we can read into python more easily. The topic of the study is not really important. I chose this study because it provides a nice simple data set that we can use to implement some of the scientific python that we cover in the notebooks. It was suprisingly hard to find a data set that was a) not too complicated and b) where the data was shared in a way that is actually usable. (Having looked at quite a few OSF repos until I found this one, I think *Psychological Science* should be more picky with handing out badges for open data and open code. If your spaghetti code is not documented and your data is pretty much unusable because there is no README that tells users which file contains which data, you might as well not share code and data. But that's besides the point.)\n",
    "\n",
    "Still, to give you a rough idea about the study: The variables that we will look at are\n",
    "\n",
    " * `Grip`: A measure of grip strength\n",
    " * `Anxiety`: A questionnaire-based estimate of trait anxiety\n",
    " * `Sex`: Biological Sex, coded as 0=male and 1=female\n",
    " \n",
    "This kind of tabular data could be very well handled with `pandas`. In practice I would probably use that to be honest, but since we stick to the design principles and you should know `numpy`, we'll use that instead."
   ]
  },
  {
   "cell_type": "markdown",
   "id": "ed0b26eb-ce73-4aa6-9391-1817eb30f99f",
   "metadata": {},
   "source": [
    "## 1: Read the data\n",
    "\n",
    "The first step is of course to load the data into python. Write a function that reads the `.csv`-file in the data folder. The data consists of multiple variables. The variable names are in the first row. Your function should follow this structure:\n",
    "\n",
    "```python\n",
    "def read_data(filename):\n",
    "    ...\n",
    "    return data\n",
    "```\n",
    "\n",
    "To be more specific, I want the data to consist of a dictionary with one entry per variable. The keys should be the variable names and the values a numpy array.\n",
    "\n",
    "You can use any of the methods outlined above. `pandas` is probably the easiest. If you go for the vanilla python one, you will need `str.split` and `str.strip` methods of strings and either the `int` or `float` class. If you're using `numpy`, you will have to read the column names separately.\n",
    "\n",
    "Have fun!"
   ]
  },
  {
   "cell_type": "code",
   "execution_count": 3,
   "id": "d32461a4-3d8b-489a-bb85-a66f9f8faa11",
   "metadata": {},
   "outputs": [],
   "source": [
    "# your code here. feel free to add cells as needed while you're figuring out how to do that.\n"
   ]
  },
  {
   "cell_type": "markdown",
   "id": "c4cee8b7-1893-47f2-99c8-99e188c8be9c",
   "metadata": {},
   "source": [
    "Bonus if you're done early: Read the `.sav` file, extract the relevant columns and rewrite it as a `.tsv` file."
   ]
  },
  {
   "cell_type": "code",
   "execution_count": 5,
   "id": "e44a3c7c-73b6-46a2-a934-d59a0488aaae",
   "metadata": {},
   "outputs": [],
   "source": [
    "# your code here\n"
   ]
  },
  {
   "cell_type": "markdown",
   "id": "cb8bbab3-200d-4b9d-a4f3-01e814f5aa07",
   "metadata": {},
   "source": [
    "## 2: Split the data set\n",
    "\n",
    "So far the data we have combines men and women. We will compare means between them later, so we need to split up the data. You could do that ad hoc, but it's a good exercise to practice loops and boolean indices. The `Sex` column is coded as 0=male, 1=female. \n",
    "\n",
    "Write a function that splits the data set into two subsets, one for men and one for women. The `Sex` variable is coded as 0=male, 1=female. \n",
    "\n",
    "This is what it could look like:\n",
    "```python\n",
    "def split_data(full_data):\n",
    "    ...\n",
    "    return male_data, female_data\n",
    "```"
   ]
  },
  {
   "cell_type": "code",
   "execution_count": 4,
   "id": "282d756e-a636-4812-928e-ac546e62f54a",
   "metadata": {},
   "outputs": [],
   "source": [
    "# your code here\n"
   ]
  },
  {
   "cell_type": "markdown",
   "id": "1a919c04-dcb3-41ac-b149-33e38c253626",
   "metadata": {},
   "source": [
    "## 3: Descriptive statistics in numpy\n",
    "\n",
    "Next step in the project before we go into the more interesting analysis: Descriptive statistics. \n",
    "\n",
    "Write a function that computes and prints appropriate statistics for the variables in the data set, i.e. mean and standard deviation for `Grip` and `Anxiety` and percent male/female for `Sex` (hint: The mean times 100 gives % female). Use the full dataset, i.e. not split by `Sex`. Your variable could either return nothing and just print the results to the screen. Or it could return an appropriate data type that contains the statistics, like one or multiple dictionaries, e.g.:\n",
    "\n",
    "```python\n",
    "def desciptive_stats(data):\n",
    "    ...\n",
    "    return {\n",
    "        'Grip': {\n",
    "            'mean': ...,\n",
    "            'std': ...,\n",
    "        },\n",
    "        'Sex': {\n",
    "            '%female': ...,\n",
    "            '%male': ...\n",
    "        },\n",
    "        ...\n",
    "    }\n",
    "```"
   ]
  },
  {
   "cell_type": "code",
   "execution_count": 6,
   "id": "6f9dcbf9-c342-456d-9b5e-6ad877a0bfad",
   "metadata": {},
   "outputs": [],
   "source": [
    "# your code here\n"
   ]
  },
  {
   "cell_type": "markdown",
   "id": "34a63fb1-12e8-44be-b861-298d6bdf8173",
   "metadata": {},
   "source": [
    "## 4: Mean comparison in scipy\n",
    "\n",
    "Use t-tests to compare `Anxiety` and `Grip` between men and women. You don't necessarily have to write a function for that, but you certainly can!"
   ]
  },
  {
   "cell_type": "code",
   "execution_count": 4,
   "id": "911ff893-d8c2-4829-a197-3dacf130cc8f",
   "metadata": {},
   "outputs": [],
   "source": [
    "# your code here\n"
   ]
  },
  {
   "cell_type": "markdown",
   "id": "18c94b70-9ca5-497b-bad9-700b31a6da5b",
   "metadata": {},
   "source": [
    "## 5: Linear regression in statsmodels\n",
    "\n",
    "See if you can predict `Anxiety` from `Grip` using linear regression. Use the full sample for that."
   ]
  },
  {
   "cell_type": "code",
   "execution_count": 4,
   "id": "10d982ba-2b3a-46c0-ae5b-6380fdb33110",
   "metadata": {},
   "outputs": [],
   "source": [
    "# your code here\n"
   ]
  },
  {
   "cell_type": "markdown",
   "id": "5fb13e3c-5a99-4678-b278-794b301f287d",
   "metadata": {},
   "source": [
    "Bonus: repeat the analysis, but split by `Sex`."
   ]
  },
  {
   "cell_type": "code",
   "execution_count": 4,
   "id": "56e0b3f7-3064-4759-a7ec-944f8045c464",
   "metadata": {},
   "outputs": [],
   "source": [
    "# your code here\n"
   ]
  },
  {
   "cell_type": "markdown",
   "id": "c0988da6-fda0-4d7b-af81-442f7707a929",
   "metadata": {},
   "source": [
    "## 6: Plot the results in matplotlib\n",
    "\n",
    "Create a figure with three subplots:\n",
    " 1. One with a histogram of `Grip`\n",
    " 2. One with a histogram of `Anxiety`\n",
    " 3. One with a scatterplot of the two variables."
   ]
  },
  {
   "cell_type": "code",
   "execution_count": 4,
   "id": "d893f087-8f9e-49b5-8bc9-826f1b270a26",
   "metadata": {},
   "outputs": [],
   "source": [
    "# your code here\n"
   ]
  },
  {
   "cell_type": "markdown",
   "id": "8f7a60d6-fabd-42ae-a80e-7c5b0e6956d0",
   "metadata": {},
   "source": [
    "Bonus: Repeat the plots, but this time use different colors for men and women. Compare the height-histograms in the 11th notebook!"
   ]
  },
  {
   "cell_type": "code",
   "execution_count": 4,
   "id": "c614fb5b-c49c-49af-9ce3-33dbea940e73",
   "metadata": {},
   "outputs": [],
   "source": [
    "# your code here\n"
   ]
  }
 ],
 "metadata": {
  "kernelspec": {
   "display_name": "Python 3 (ipykernel)",
   "language": "python",
   "name": "python3"
  },
  "language_info": {
   "codemirror_mode": {
    "name": "ipython",
    "version": 3
   },
   "file_extension": ".py",
   "mimetype": "text/x-python",
   "name": "python",
   "nbconvert_exporter": "python",
   "pygments_lexer": "ipython3",
   "version": "3.10.2"
  }
 },
 "nbformat": 4,
 "nbformat_minor": 5
}
