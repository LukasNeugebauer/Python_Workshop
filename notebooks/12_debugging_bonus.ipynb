{
 "cells": [
  {
   "cell_type": "markdown",
   "id": "e8fa3b45-393c-4a92-bd52-6e7ed8876f7d",
   "metadata": {},
   "source": [
    "# 12 Debugging (Bonus)\n",
    "\n",
    "I don't expect there to be any time left during the workshop. But for the off-chance that I'm wrong or if you want to use the material later on, here's a quick intro. Besides print-statements, the easiest way to debug your code is to read error messages and stop the code where errors happen to check the state of variables and find out what's causing the problems.\n",
    "\n",
    "In MATLAB you're doing this with the `keyboard` command or breakpoints in the GUI. Many IDEs provide you with a similar functionality (e.g. Spyder, VS Code, etc). In notebooks or if you're using another IDE that don't have that option, you can use the `ipdb` module."
   ]
  },
  {
   "cell_type": "markdown",
   "id": "ba85e32e-9245-45e4-98fa-71d35e355444",
   "metadata": {},
   "source": [
    "`ipdb` is short for IPython debugging. We will only have a look at one function and that's the only one I've ever used. It's also the only one that I've ever used for debugging in Python. You probably have `ipdb` already installed, but if not you can use conda for this. The function is called `set_trace`. It works exactly the same way as `keyboard` works in MATLAB - stop execution of code and give control back for debugging. Let's import it:"
   ]
  },
  {
   "cell_type": "code",
   "execution_count": null,
   "id": "899227b9-2d3e-418a-bdb7-5604c1dafeab",
   "metadata": {},
   "outputs": [],
   "source": [
    "from ipdb import set_trace"
   ]
  },
  {
   "cell_type": "markdown",
   "id": "f6aeb4d6-9c1d-4207-9364-48c5868b0038",
   "metadata": {},
   "source": [
    "You can just call it wherever you want to stop for debugging purposes. The three commands you use in MATLAB for debugging aa `dbstep` to proceed one line and then stop again, `dbcont` to proceed until the next debugging point and `dbquit` to quit debugging and stop execution of program. Have a look at the equivalents in Python:\n",
    "\n",
    "| MATLAB | Python| \n",
    "| ------ | ----- |\n",
    "| dbcont | c     |\n",
    "| dbstep | n     |\n",
    "| dbquit | q     |\n",
    "\n",
    "This is all that's different. The principle is the same. Have a quick look, if you want to:"
   ]
  },
  {
   "cell_type": "code",
   "execution_count": null,
   "id": "eb7f6c74-9cea-465d-afef-3acb1475a35e",
   "metadata": {},
   "outputs": [],
   "source": [
    "for i in range(10):\n",
    "    print(i)\n",
    "    set_trace()"
   ]
  },
  {
   "cell_type": "markdown",
   "id": "782f847e-9e46-444d-9ff1-d9cba7b3076d",
   "metadata": {},
   "source": [
    "That's all you need to change about your debugging procedures. Different commands."
   ]
  }
 ],
 "metadata": {
  "kernelspec": {
   "display_name": "Python [conda env:pystan] *",
   "language": "python",
   "name": "conda-env-pystan-py"
  },
  "language_info": {
   "codemirror_mode": {
    "name": "ipython",
    "version": 3
   },
   "file_extension": ".py",
   "mimetype": "text/x-python",
   "name": "python",
   "nbconvert_exporter": "python",
   "pygments_lexer": "ipython3",
   "version": "3.9.7"
  }
 },
 "nbformat": 4,
 "nbformat_minor": 5
}
