{
 "cells": [
  {
   "cell_type": "markdown",
   "id": "a75f1e90-6f8d-4b91-a29c-9b03ab5bd3e1",
   "metadata": {},
   "source": [
    "# 11 Matplotlib\n",
    "\n",
    "`matplotlib` is **the** plotting library in Python. It's designed after MATLAB's plotting, so lots of things will feel familiar to you. There are different modules in `matplotlib` and they provide different approaches. The `pylab` module provides the most MATLAB like experience. However, the standard module is `pyplot`, which we'll use here. That's kind of like the OOP variant of pylab.\n",
    "\n",
    "In `matplotlib` there are many ways to customize everything. That means, you can make your plots look like you want them to, but it might take a while and a lot of code. There are wrappers around matplotlib that try to reduce this burden by using sensible defaults or combining different `matplotlib` features. The most prominent one is `seaborn` that tries to use sensible defaults and provide publication-ready figures. There are also other plotting libraries like `plotly` or `bokeh`, but to be honest I never used any of them."
   ]
  },
  {
   "cell_type": "code",
   "execution_count": null,
   "id": "840ebcf9-9407-4a25-b61f-5ae6c0576a6a",
   "metadata": {},
   "outputs": [],
   "source": [
    "import matplotlib.pyplot as plt\n",
    "import numpy as np"
   ]
  },
  {
   "cell_type": "markdown",
   "id": "b7c19a37-7db8-401e-b3f1-55cd731e4406",
   "metadata": {},
   "source": [
    "## 11.1 Basic plotting functions:\n",
    "\n",
    "Before we get into axis and figures, `matplotlib` provides a few functions for basic plotting, among them `plot`, `scatter` and `hist`. These can be used very similarly to the equivalents in MATLAB:\n",
    "\n",
    "The simplest plot would be something like this:"
   ]
  },
  {
   "cell_type": "code",
   "execution_count": null,
   "id": "2105acf2-51b5-4626-9597-0625776b1575",
   "metadata": {},
   "outputs": [],
   "source": [
    "plt.plot([1, 2, 3])\n",
    "#the following is not necessary here, but since it is in other contexts, we might as well add it\n",
    "plt.show()"
   ]
  },
  {
   "cell_type": "markdown",
   "id": "3b9149d9-2b57-4885-af42-38f9d89c5bb3",
   "metadata": {},
   "source": [
    "Specifying the marker style and color works the same way as in MATLAB:"
   ]
  },
  {
   "cell_type": "code",
   "execution_count": null,
   "id": "6c6fb9e2-dc24-47d2-ad74-5cf8ff346a52",
   "metadata": {},
   "outputs": [],
   "source": [
    "plt.plot([1, 2, 3], 'ro')\n",
    "plt.show()"
   ]
  },
  {
   "cell_type": "markdown",
   "id": "5591f024-5474-4e99-8518-7305c81b583f",
   "metadata": {},
   "source": [
    "**Exercise**\n",
    "\n",
    "Create a scatter plot of the following arrays with green `+` signs as markers. You can either use `plt.plot` or `plt.scatter` for that. They differ in how you specify the arguments, so have a look at the docstrings (either using the ipython magic `?` or using `help(plt.scatter)`! "
   ]
  },
  {
   "cell_type": "code",
   "execution_count": null,
   "id": "d212e350-f858-456c-bc0b-9fb3cfdfd6de",
   "metadata": {},
   "outputs": [],
   "source": [
    "x = np.random.randn(100)\n",
    "y = x * 2 + np.random.randn(100)\n",
    "# your code here\n"
   ]
  },
  {
   "cell_type": "markdown",
   "id": "bc65d39f-3334-4ca4-9f7b-94e19c389995",
   "metadata": {},
   "source": [
    "## 11.2 Figures, axis and subplots\n",
    "\n",
    "Just like in MATLAB, we can flexibly create figures. There is a clear distinction between figures and axes and you can create both as objects. Figures are used to arrange axes as subplots. You can directly plot from an axes object. Personally I found the distinction between figures, axes and axis confusing. Especially with the question whether axis or axes is the plural. Oh well. So here's a picture from an old version of the `matplotlib` documentation:\n",
    "\n",
    "<img src='../img/figure_anatomy.png/'>\n",
    "          \n",
    "So basically, I treat axes as subplots and that's good enough. You create axes and figures like this:\n",
    "\n",
    "```python\n",
    "fig = plt.figure()\n",
    "ax = plt.axes()\n",
    "```\n",
    "\n",
    "You can also add an axes to an existing figure as a subplot, similar to `subplot` in MATLAB. E.g. if you wanted a 2x2 grid of axes in a figure and add an axis to the lower right position.\n",
    "\n",
    "```python\n",
    "fig = plt.figure()\n",
    "ax = fig.add_subplot(2, 2, 4)\n",
    "# alternatively:\n",
    "ax = fig.add_subplot(224)\n",
    "```\n",
    "\n",
    "And finally you can create a figure and all the axis that you want in one step:\n",
    "\n",
    "```python\n",
    "fig, axs = plt.subplots(ncols=3, nrows=2, figsize=(15, 10))\n",
    "```\n",
    "In that case the axes are stored in a numpy array. This might be confusing, but if you think about `axes` as a data type, then it's not so much different to have an array of axes or to have an array of integers. It also demonstrates just HOW ubiquitous numpy arrays are in scientific python. There are more flexible ways to create irregular arrangements of subplots (e.g. not the same number of columns per row). But for now regular subplots are good enough!"
   ]
  },
  {
   "cell_type": "code",
   "execution_count": null,
   "id": "0fd09c26-11a1-4b2e-aea9-0542b24f614c",
   "metadata": {},
   "outputs": [],
   "source": [
    "fig, axs = plt.subplots(ncols=2, nrows=3, figsize=(6, 9)) # width come first in the figsize\n",
    "plt.show()\n",
    "print(f\"{type(axs) = }\") \n",
    "print(f\"{axs.shape = }\")"
   ]
  },
  {
   "cell_type": "markdown",
   "id": "646325b6-4654-4297-af13-a1103f1086f6",
   "metadata": {},
   "source": [
    "There is the possibility of overlapping ticks or labels. If you want to avoid that, you can give another argument. The following doesn't look too different, but it CAN make a huge difference.\n"
   ]
  },
  {
   "cell_type": "code",
   "execution_count": null,
   "id": "afa310f9-552c-435b-aef3-f1541391e888",
   "metadata": {},
   "outputs": [],
   "source": [
    "fig, axs = plt.subplots(ncols=2, nrows=2, figsize=(6, 6), constrained_layout=True)"
   ]
  },
  {
   "cell_type": "markdown",
   "id": "09855a67-2ece-4236-b411-d3abcb8cf08a",
   "metadata": {},
   "source": [
    "As I said before, you can also plot from an axis object. This is very useful in complicated subplots. The syntax is the same as plotting from the `pyplot` module, except that you call the respective method from the axis object.\n",
    "\n",
    "I.e. this\n",
    "\n",
    "```python\n",
    "plt.plot([1, 2, 3])\n",
    "```\n",
    "\n",
    "generates the same output as this:\n",
    "\n",
    "```python\n",
    "ax = plt.axes()\n",
    "ax.plot([1, 2, 3])\n",
    "```\n",
    "\n",
    "The first method creates an `axes` if there is none to plot into. The second approach has the advantage that you always plot into the correct `axes`. Being explicit is a good thing, so I would advise you to explicitly create figures and axes as needed."
   ]
  },
  {
   "cell_type": "code",
   "execution_count": null,
   "id": "45dd3a52-079f-41a0-90b2-c5296833dcd1",
   "metadata": {},
   "outputs": [],
   "source": [
    "ax = plt.axes()\n",
    "ax.plot([1, 2, 3])"
   ]
  },
  {
   "cell_type": "markdown",
   "id": "b05f8383-9760-4d4f-816d-b0f802afa562",
   "metadata": {},
   "source": [
    "If the axes are in an array, you can retrieve the single axes from it via regular numpy indexing:"
   ]
  },
  {
   "cell_type": "code",
   "execution_count": null,
   "id": "c323707d-0787-46da-bbb6-e70f2a9871fa",
   "metadata": {},
   "outputs": [],
   "source": [
    "fig, axs = plt.subplots(ncols=2, nrows=1, figsize=(10, 5))\n",
    "axs[0].scatter(np.random.randn(100), np.random.randn(100))\n",
    "axs[1].bar([1, 2, 3], [3, 2, 1])"
   ]
  },
  {
   "cell_type": "markdown",
   "id": "1a040408-9213-4c2d-a2a8-72af17edf7ea",
   "metadata": {},
   "source": [
    "**Exercise**\n",
    "\n",
    "Create a figure with two subplots. Plot the `sin` and `cosin` from 0 to 2 * pi in the two axis. I'll provide the necessary functions and constants and give you an example on how to plot a function below:"
   ]
  },
  {
   "cell_type": "code",
   "execution_count": null,
   "id": "741a8073-4336-4acd-8592-e4e876389fd1",
   "metadata": {},
   "outputs": [],
   "source": [
    "# this is an example of plotting a function\n",
    "x = np.linspace(-4, 4, 1000)\n",
    "y = x ** 2\n",
    "plt.plot(x, y)"
   ]
  },
  {
   "cell_type": "code",
   "execution_count": null,
   "id": "d144718c-cf84-497f-801d-886c774ce9ab",
   "metadata": {},
   "outputs": [],
   "source": [
    "pi, sin, cos = np.pi, np.sin, np.cos\n",
    "# your code here\n"
   ]
  },
  {
   "cell_type": "markdown",
   "id": "baaae50a-e854-4901-9a45-cf295b136d9b",
   "metadata": {},
   "source": [
    "## 11.3 Titles, labels and legends\n",
    "\n",
    "The next thing you probably want to do is add descriptions to the figure. We'll focus on the case of a single axes object here. The same works for multiple subplots and in addition you can give an overarching title for the whole figure with `fig.suptitle`.\n",
    "\n",
    "### Giving a title\n",
    "\n",
    "You can add a title to an axes using the `ax.set_title` method:"
   ]
  },
  {
   "cell_type": "code",
   "execution_count": null,
   "id": "1f7cc1d1-ae11-4503-a005-51bfcb59d793",
   "metadata": {},
   "outputs": [],
   "source": [
    "ax = plt.axes()\n",
    "x = np.linspace(0, 2 * pi, 1000)\n",
    "ax.plot(x, np.sin(x))\n",
    "ax.set_title('sin(x) from 0 to 2 * pi');"
   ]
  },
  {
   "cell_type": "markdown",
   "id": "4c091df8-32e9-4322-8ca9-cb60ac2c7716",
   "metadata": {},
   "source": [
    "As usual the methods I show you are *a lot* more flexible if you give the correct arguments. Here I show you how to change the position and size of the title, but there is a lot more that you could change."
   ]
  },
  {
   "cell_type": "code",
   "execution_count": null,
   "id": "868ee296-7f90-479b-9f50-27297524b5db",
   "metadata": {},
   "outputs": [],
   "source": [
    "ax = plt.axes()\n",
    "ax.plot(x, np.sin(x))\n",
    "ax.set_title(\n",
    "    'sin(x) from 0 to 2*pi',\n",
    "    fontsize=15, \n",
    "    y=1.05, \n",
    "    loc='left',\n",
    "); "
   ]
  },
  {
   "cell_type": "markdown",
   "id": "030560d6-36c5-4e3f-9a1e-2e91fbc245b1",
   "metadata": {},
   "source": [
    "### Specifying axis labels\n",
    "\n",
    "We all know that we should label our axis. Luckily that is quite simple:"
   ]
  },
  {
   "cell_type": "code",
   "execution_count": null,
   "id": "b5e6ecc9-f478-43b2-a1ff-7b36237fb602",
   "metadata": {},
   "outputs": [],
   "source": [
    "ax = plt.axes()\n",
    "ax.set_xlabel('This is my x axis', fontsize=15)\n",
    "ax.set_ylabel('This is my y axis', fontsize=15);"
   ]
  },
  {
   "cell_type": "markdown",
   "id": "e8412f27-1202-426e-b231-b378865b7f64",
   "metadata": {},
   "source": [
    "### Legends and labels\n",
    "\n",
    "There are multiple ways to add a legend to a figure. I'll show you my favorite way. Instead of linking description and the elements that we want those descriptions to refer to post hoc, we'll assign the descriptions while plotting as `label`. Then the `.legend` method knows which description belongs to which element of the plot:"
   ]
  },
  {
   "cell_type": "code",
   "execution_count": null,
   "id": "5ab22b80-de2e-4d04-9b7e-982d8278be52",
   "metadata": {},
   "outputs": [],
   "source": [
    "ax = plt.axes()\n",
    "ax.scatter(np.random.randn(100), np.random.randn(100), c=\"b\", label=\"random dots\")\n",
    "ax.scatter(np.random.randn(100), np.random.randn(100), c=\"r\", label=\"also random dots, but red\")\n",
    "ax.set_ylim(-5, 3) # make some room in the figure for the legend\n",
    "ax.legend()"
   ]
  },
  {
   "cell_type": "markdown",
   "id": "acba3f5c-ca98-4851-9976-0e47a0044232",
   "metadata": {},
   "source": [
    "**Exercise**\n",
    "\n",
    "Add appropriate axis labels, a title and a legend to the plot below. That requires you to change the cell."
   ]
  },
  {
   "cell_type": "code",
   "execution_count": null,
   "id": "8826efcb-0b24-4aec-8e33-fffa862aae86",
   "metadata": {},
   "outputs": [],
   "source": [
    "# change this cell!\n",
    "height_netherlands = 2.05 + np.random.randn(200) * .10\n",
    "height_germany = 1.75 + np.random.randn(200) * .10\n",
    "ax = plt.axes()\n",
    "ax.hist(height_netherlands, color=\"r\", alpha=.5) # alpha specifies the opacity \n",
    "ax.hist(height_germany, color=\"b\", alpha=.5); # this is useful if you want to plot overlapping elements into the same axes"
   ]
  },
  {
   "cell_type": "markdown",
   "id": "3f783b2e-49ac-4533-8c00-064bdedd43f1",
   "metadata": {},
   "source": [
    "## 11.4 Saving figures\n",
    "\n",
    "This is the last point in this notebook. When you have created a figure with subplots and plotted all your amazing results, how do you store them? As you will have noticed, `pyplot` has a rather strong OOP aspect. So naturally, storing a figure is possible from a method of the figure class!"
   ]
  },
  {
   "cell_type": "code",
   "execution_count": null,
   "id": "99baab26-01ba-485c-9ea7-1b1d3db2eb44",
   "metadata": {},
   "outputs": [],
   "source": [
    "fig = plt.figure()\n",
    "fig.savefig?"
   ]
  },
  {
   "cell_type": "markdown",
   "id": "48a59785-5e6d-4c50-a433-8a6a3fc0839a",
   "metadata": {},
   "source": [
    "Let's rerun the previous plot, but this time we make it part of a figure:"
   ]
  },
  {
   "cell_type": "code",
   "execution_count": null,
   "id": "284c5e51-c609-4b6a-8cad-535923d27384",
   "metadata": {},
   "outputs": [],
   "source": [
    "fig = plt.figure()\n",
    "ax = fig.add_subplot(111)\n",
    "ax.hist(height_netherlands, color=\"r\", alpha=.5)\n",
    "ax.hist(height_germany, color=\"b\", alpha=.5);"
   ]
  },
  {
   "cell_type": "markdown",
   "id": "9221148b-9bb6-4be9-b15e-e06ff03efb95",
   "metadata": {},
   "source": [
    "**Exercise**\n",
    "\n",
    "Save the figure!"
   ]
  },
  {
   "cell_type": "code",
   "execution_count": null,
   "id": "1eb66c82-669b-4a27-b6f5-bc5aa09df488",
   "metadata": {},
   "outputs": [],
   "source": [
    "# your code here\n"
   ]
  },
  {
   "cell_type": "markdown",
   "id": "f66204d6-6780-4eef-ab60-3b94cfcd2bc2",
   "metadata": {},
   "source": [
    "**Project Exercise 6**\n",
    "\n",
    "Assuming we actually made it all the way to here and we've done all other exercises on the way, it's time for the last assignment!"
   ]
  },
  {
   "cell_type": "markdown",
   "id": "bc2ece6f-7cb3-407a-ae5a-290126f3da83",
   "metadata": {},
   "source": [
    "## 11.5 Conclusion\n",
    "\n",
    "This should be enough to get you started with matplotlib. Just a quick heads-up: There is an insane amount of finetuning that you could do with matplotlib. So be prepared to look up a lot of stuff in google. More than you usually do during programming. The good news is that you almost always find a good blog entry or a question on stackoverflow that answers exactly that question."
   ]
  }
 ],
 "metadata": {
  "kernelspec": {
   "display_name": "Python 3 (ipykernel)",
   "language": "python",
   "name": "python3"
  },
  "language_info": {
   "codemirror_mode": {
    "name": "ipython",
    "version": 3
   },
   "file_extension": ".py",
   "mimetype": "text/x-python",
   "name": "python",
   "nbconvert_exporter": "python",
   "pygments_lexer": "ipython3",
   "version": "3.10.2"
  }
 },
 "nbformat": 4,
 "nbformat_minor": 5
}
