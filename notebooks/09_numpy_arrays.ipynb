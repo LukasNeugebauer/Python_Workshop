{
 "cells": [
  {
   "cell_type": "markdown",
   "metadata": {},
   "source": [
    "# 9. Numpy\n",
    "\n",
    "Numpy is the package that makes scientific computing in Python possible to begin with. You will probably import in into every script and module you write and if you don't then you're importing a package that depends on `numpy`. It provides important data types like `numpy.arrays`, that are similar to MATLAB arrays. In this notebook we'll focus on this data type.\n",
    "\n",
    "If you prefer R-style DataFrames, you can go with `pandas`. It's very widely used in Data Science. As stated in the beginning, we won't cover `pandas` here, but you can find a 10 minute intro to pandas [here](https://pandas.pydata.org/pandas-docs/stable/user_guide/10min.html) and I sketch out how I would use it for our project in the bonus notebook."
   ]
  },
  {
   "cell_type": "markdown",
   "metadata": {},
   "source": [
    "## 9.1 import convention\n",
    "The convention to import numpy is this:\n",
    "\n",
    "```Python\n",
    "import numpy as np\n",
    "```\n",
    "You also find\n",
    "```Python\n",
    "from numpy import *\n",
    "```\n",
    "but I advise against using this approach. Namespaces are a good thing."
   ]
  },
  {
   "cell_type": "code",
   "execution_count": 1,
   "metadata": {},
   "outputs": [],
   "source": [
    "import numpy as np"
   ]
  },
  {
   "cell_type": "markdown",
   "metadata": {},
   "source": [
    "## 9.2 Numpy arrays\n",
    "\n",
    "The most important aspect of numpy is to provide us with a data type that is able to hold numeric data in an efficient manner. As usual, you can use the class `np.array` as a constructor to transform other data types into numpy arrays.\n",
    "\n",
    "**Exercise**\n",
    "\n",
    "Transform the following list of lists into a np.array"
   ]
  },
  {
   "cell_type": "code",
   "execution_count": 3,
   "metadata": {},
   "outputs": [],
   "source": [
    "data = [[1,0,0],[0,1,0],[0,0,1], [1, 1, 1]];\n",
    "#your code here\n"
   ]
  },
  {
   "cell_type": "markdown",
   "metadata": {},
   "source": [
    "### Indexing\n",
    "\n",
    "Indexing follows the python principles. I.e. starting at 0 and the end point of a slice is not included. Indices along multiple dimensions are separated by comma."
   ]
  },
  {
   "cell_type": "code",
   "execution_count": 106,
   "metadata": {},
   "outputs": [
    {
     "name": "stdout",
     "output_type": "stream",
     "text": [
      "[[ 1  2  3  4  5]\n",
      " [ 6  7  8  9 10]\n",
      " [11 12 13 14 15]\n",
      " [16 17 18 19 20]\n",
      " [21 22 23 24 25]]\n"
     ]
    }
   ],
   "source": [
    "A = np.reshape(np.arange(1, 26), (5, 5))\n",
    "print(A)"
   ]
  },
  {
   "cell_type": "markdown",
   "metadata": {},
   "source": [
    "E.g. to get the center 9 elements:"
   ]
  },
  {
   "cell_type": "code",
   "execution_count": 107,
   "metadata": {},
   "outputs": [
    {
     "name": "stdout",
     "output_type": "stream",
     "text": [
      "[[ 7  8  9]\n",
      " [12 13 14]\n",
      " [17 18 19]]\n"
     ]
    }
   ],
   "source": [
    "print(A[1:4, 1:4])"
   ]
  },
  {
   "cell_type": "markdown",
   "metadata": {},
   "source": [
    "**Exercise**\n",
    "\n",
    "Select the last two columns in the first two rows:"
   ]
  },
  {
   "cell_type": "code",
   "execution_count": 109,
   "metadata": {},
   "outputs": [],
   "source": [
    "# your code here\n"
   ]
  },
  {
   "cell_type": "markdown",
   "metadata": {},
   "source": [
    "Here's something that's quite different from MATLAB. In MATLAB, if you only give a single index, you're only going to get a single element. Numpy is different. To understand this, we'll have a look at a two-dimensional array:"
   ]
  },
  {
   "cell_type": "code",
   "execution_count": 112,
   "metadata": {},
   "outputs": [
    {
     "name": "stdout",
     "output_type": "stream",
     "text": [
      "[[ 1  2  3  4  5]\n",
      " [ 6  7  8  9 10]\n",
      " [11 12 13 14 15]\n",
      " [16 17 18 19 20]\n",
      " [21 22 23 24 25]]\n"
     ]
    }
   ],
   "source": [
    "print(A)"
   ]
  },
  {
   "cell_type": "markdown",
   "metadata": {},
   "source": [
    "The way this is represented shows us the row-dominant order. Arrays are essentially nested lists. Each row is a list. So if you only give one index, you'll get what you would get it you treated them actually as lists of lists: The first list. I.e. the first row:"
   ]
  },
  {
   "cell_type": "code",
   "execution_count": 114,
   "metadata": {},
   "outputs": [
    {
     "name": "stdout",
     "output_type": "stream",
     "text": [
      "[1 2 3 4 5]\n"
     ]
    }
   ],
   "source": [
    "print(A[0])"
   ]
  },
  {
   "cell_type": "markdown",
   "metadata": {},
   "source": [
    "Similarly, if you loop over an array, you iterate over the rows. In MATLAB you would get the columns:"
   ]
  },
  {
   "cell_type": "code",
   "execution_count": 117,
   "metadata": {},
   "outputs": [
    {
     "name": "stdout",
     "output_type": "stream",
     "text": [
      "Next row:\n",
      "\t [1 2 3 4 5]\n",
      "Next row:\n",
      "\t [ 6  7  8  9 10]\n",
      "Next row:\n",
      "\t [11 12 13 14 15]\n",
      "Next row:\n",
      "\t [16 17 18 19 20]\n",
      "Next row:\n",
      "\t [21 22 23 24 25]\n"
     ]
    }
   ],
   "source": [
    "for a in A:\n",
    "    print('Next row:')\n",
    "    print('\\t', a)"
   ]
  },
  {
   "cell_type": "markdown",
   "metadata": {},
   "source": [
    "### Create specific arrays\n",
    "\n",
    "You can use `numpy` functions to create certain arrays that you will need a lot. Typically these are the exact equivalent to the MATLAB function that you're used to. We'll have a look at a few."
   ]
  },
  {
   "cell_type": "markdown",
   "metadata": {},
   "source": [
    "#### Random arrays\n",
    "\n",
    "The `np.random` module contains functions to create pseudorandom arrays. For standard normal or uniform (0-1) random values, you can use `randn` and `rand` respectively. These functions take a variable number of arguments, which are the size of the resulting array. This is how you get a 10 x 2 array of standard normally distributed values:"
   ]
  },
  {
   "cell_type": "code",
   "execution_count": 5,
   "metadata": {},
   "outputs": [
    {
     "data": {
      "text/plain": [
       "array([[0.13328666, 0.71940637],\n",
       "       [0.00815935, 0.59707787],\n",
       "       [0.25013322, 0.56001163],\n",
       "       [0.94926787, 0.09752565],\n",
       "       [0.18147579, 0.73064491],\n",
       "       [0.610923  , 0.59280601],\n",
       "       [0.49973788, 0.90995536],\n",
       "       [0.51838468, 0.96039533],\n",
       "       [0.58494641, 0.22446949],\n",
       "       [0.29519464, 0.84663401]])"
      ]
     },
     "execution_count": 5,
     "metadata": {},
     "output_type": "execute_result"
    }
   ],
   "source": [
    "np.random.rand(10, 2)"
   ]
  },
  {
   "cell_type": "markdown",
   "metadata": {},
   "source": [
    "**Exercise**\n",
    "\n",
    "Create a 5x5 array of uniform values between 0 and 1."
   ]
  },
  {
   "cell_type": "code",
   "execution_count": 6,
   "metadata": {},
   "outputs": [],
   "source": [
    "# your code here\n"
   ]
  },
  {
   "cell_type": "markdown",
   "metadata": {},
   "source": [
    "The `np.random` module also has functions for different distributions, e.g. `beta`, `gamma`, `exponential` and so on. These functions can be fine-tuned by specifiying the parameters of the distribution. In addition they take `size` as an argument. E.g. this is how you get 20x3 values from a `gamma(2, 2)`distribution. Note that you have to give the size as a `tuple`, `list` or something similar."
   ]
  },
  {
   "cell_type": "code",
   "execution_count": 9,
   "metadata": {},
   "outputs": [
    {
     "data": {
      "text/plain": [
       "array([[ 5.44657009,  7.3883453 ,  8.70843178],\n",
       "       [ 3.88030444,  1.65327203,  5.59880985],\n",
       "       [ 1.48768057,  9.64923845,  2.20998367],\n",
       "       [12.00283979,  1.42280745,  0.16888802],\n",
       "       [ 2.36063474,  0.81896164,  6.5167027 ],\n",
       "       [ 0.61841192,  5.86089834,  4.7058251 ],\n",
       "       [ 3.18395132,  1.91472367,  5.55726116],\n",
       "       [ 1.07308132,  2.21584325,  0.87622782],\n",
       "       [ 4.45300943,  1.91004288, 11.33387039],\n",
       "       [ 3.19175679, 10.99112038,  7.25900382],\n",
       "       [ 9.53212776,  3.69505993,  4.66865089],\n",
       "       [ 2.31554035,  5.8827376 ,  2.22029316],\n",
       "       [ 2.5751989 ,  5.36954558,  1.17894832],\n",
       "       [ 2.75560411,  4.13622965,  1.60549439],\n",
       "       [ 0.65126675,  4.0994151 ,  1.37516972],\n",
       "       [ 4.18033493,  0.29335321,  1.46473547],\n",
       "       [ 1.09325824,  0.87644133,  4.91018944],\n",
       "       [ 2.73496152,  6.75028397,  2.91874989],\n",
       "       [ 2.29933397,  3.01865493,  2.66661814],\n",
       "       [ 4.43230785,  3.37276678,  3.91790546]])"
      ]
     },
     "execution_count": 9,
     "metadata": {},
     "output_type": "execute_result"
    }
   ],
   "source": [
    "np.random.gamma(2, 2, size=(20, 3))"
   ]
  },
  {
   "cell_type": "markdown",
   "metadata": {},
   "source": [
    "**Exercise**\n",
    "\n",
    "Create a 7x1 array of values that are sampled from a `beta(2, 1)` distribution."
   ]
  },
  {
   "cell_type": "code",
   "execution_count": 6,
   "metadata": {},
   "outputs": [],
   "source": [
    "# your code here\n"
   ]
  },
  {
   "cell_type": "markdown",
   "metadata": {},
   "source": [
    "#### Ones and zeros\n",
    "\n",
    "These are the same as the respective MATLAB functions. The only difference is that you have to specify the shape as a single argument (e.g. a `tuple`). Just like above:"
   ]
  },
  {
   "cell_type": "code",
   "execution_count": 10,
   "metadata": {},
   "outputs": [
    {
     "data": {
      "text/plain": [
       "array([1., 1., 1., 1., 1., 1., 1., 1., 1., 1.])"
      ]
     },
     "execution_count": 10,
     "metadata": {},
     "output_type": "execute_result"
    }
   ],
   "source": [
    "np.ones(10)"
   ]
  },
  {
   "cell_type": "markdown",
   "metadata": {},
   "source": [
    "**Exercise**\n",
    "\n",
    "Create a 2x2 array of zeros."
   ]
  },
  {
   "cell_type": "code",
   "execution_count": 6,
   "metadata": {},
   "outputs": [],
   "source": [
    "# your code here\n"
   ]
  },
  {
   "cell_type": "markdown",
   "metadata": {},
   "source": [
    "#### linspace and arange"
   ]
  },
  {
   "cell_type": "markdown",
   "metadata": {},
   "source": [
    "`linspace` is exactly the same as in MATLAB. `arange` is the equivalent to `1:10`. However, it uses Python logic, i.e. the end value is not included."
   ]
  },
  {
   "cell_type": "code",
   "execution_count": 11,
   "metadata": {},
   "outputs": [
    {
     "data": {
      "text/plain": [
       "array([ 1,  2,  3,  4,  5,  6,  7,  8,  9, 10])"
      ]
     },
     "execution_count": 11,
     "metadata": {},
     "output_type": "execute_result"
    }
   ],
   "source": [
    "np.arange(1, 11)"
   ]
  },
  {
   "cell_type": "markdown",
   "metadata": {},
   "source": [
    "**Exercise**\n",
    "\n",
    "Create an array of 10 linearly spaced values between 3 and 11:"
   ]
  },
  {
   "cell_type": "code",
   "execution_count": 13,
   "metadata": {},
   "outputs": [],
   "source": [
    "# your code here\n"
   ]
  },
  {
   "cell_type": "markdown",
   "metadata": {},
   "source": [
    "### Shape and dimensions"
   ]
  },
  {
   "cell_type": "markdown",
   "metadata": {},
   "source": [
    "You can get information about the size and dimensionality of arrays using the `array.size`, `array.shape` and `array.ndim` properties. Properties are dynamically created attributes of an object, kind of like a method except that you don't have to call it using parentheses. Here's a super short example:"
   ]
  },
  {
   "cell_type": "code",
   "execution_count": 28,
   "metadata": {},
   "outputs": [],
   "source": [
    "class MethodList(list):\n",
    "    \n",
    "    def size(self):\n",
    "        return len(self)\n",
    "    \n",
    "    \n",
    "class PropertyList(list):\n",
    "    \n",
    "    @property # this is called a decorator, but that's for a more advanced course\n",
    "    def size(self):\n",
    "        return len(self)"
   ]
  },
  {
   "cell_type": "markdown",
   "metadata": {},
   "source": [
    "Now for the `MethodList` we'd have to call `size` like a method, while we can call it like an attribute for the `PropertyList`."
   ]
  },
  {
   "cell_type": "code",
   "execution_count": 29,
   "metadata": {},
   "outputs": [],
   "source": [
    "ml, pl = MethodList([1, 2, 3]), PropertyList([1, 2, 3])"
   ]
  },
  {
   "cell_type": "code",
   "execution_count": 30,
   "metadata": {},
   "outputs": [
    {
     "name": "stdout",
     "output_type": "stream",
     "text": [
      "3\n",
      "3\n"
     ]
    }
   ],
   "source": [
    "print(ml.size())\n",
    "print(pl.size)"
   ]
  },
  {
   "cell_type": "markdown",
   "metadata": {},
   "source": [
    "Anyway, that's why you don't call them like methods.\n",
    "\n",
    " * `array.size` gives you the number of elements (MATLAB: `numel`)\n",
    " * `array.shape` gives you the size along the dimensions (MATLAB: `size`)\n",
    " * `array.ndim` gives you the dimensionality of an array (e.g. 2 for a 20x3 matrix)"
   ]
  },
  {
   "cell_type": "code",
   "execution_count": 31,
   "metadata": {},
   "outputs": [],
   "source": [
    "random_matrix = np.random.randn(10, 3)"
   ]
  },
  {
   "cell_type": "markdown",
   "metadata": {},
   "source": [
    "**Exercise**\n",
    "\n",
    "Get the size, shape and dimensionality of the random_matrix."
   ]
  },
  {
   "cell_type": "code",
   "execution_count": 119,
   "metadata": {},
   "outputs": [],
   "source": [
    "# your code here\n"
   ]
  },
  {
   "cell_type": "markdown",
   "metadata": {},
   "source": [
    "### Arithmetics and broadcasting\n",
    "\n",
    "Adding (or substracting) a scalar (i.e. a single value) or multiplying (or dividing) by a scalar works as expected from MATLAB, i.e. elementwise. Have a look:"
   ]
  },
  {
   "cell_type": "code",
   "execution_count": 34,
   "metadata": {},
   "outputs": [
    {
     "name": "stdout",
     "output_type": "stream",
     "text": [
      "[4. 4. 4. 4. 4. 4. 4. 4. 4. 4.]\n",
      "[4.2 4.2 4.2 4.2 4.2 4.2 4.2 4.2 4.2 4.2]\n"
     ]
    }
   ],
   "source": [
    "a = np.ones(10)\n",
    "print(a * 4)\n",
    "print(a + 3.2)"
   ]
  },
  {
   "cell_type": "markdown",
   "metadata": {},
   "source": [
    "Exponents also work elementwise (using `**`)."
   ]
  },
  {
   "cell_type": "markdown",
   "metadata": {},
   "source": [
    "**Exercise**\n",
    "\n",
    "Turn these values drawn from a standard normal distribution (mean: 0, sd: 1) into values from an IQ distribution (mean: 100, sd: 15):"
   ]
  },
  {
   "cell_type": "code",
   "execution_count": 36,
   "metadata": {},
   "outputs": [],
   "source": [
    "standard_normal_values = np.random.randn(100)\n",
    "# your code here\n"
   ]
  },
  {
   "cell_type": "markdown",
   "metadata": {},
   "source": [
    "Adding and substracting works differently depending on the shapes of the arrays. If they are the same size, it's just an elementwise operation:"
   ]
  },
  {
   "cell_type": "code",
   "execution_count": 52,
   "metadata": {},
   "outputs": [
    {
     "name": "stdout",
     "output_type": "stream",
     "text": [
      "True\n"
     ]
    }
   ],
   "source": [
    "a = np.ones(10) * .5\n",
    "b = np.linspace(1, 19, 10)\n",
    "print(a.shape == b.shape)"
   ]
  },
  {
   "cell_type": "markdown",
   "metadata": {},
   "source": [
    "These are the same, shape, so adding and substracting works per element."
   ]
  },
  {
   "cell_type": "code",
   "execution_count": 54,
   "metadata": {},
   "outputs": [
    {
     "name": "stdout",
     "output_type": "stream",
     "text": [
      "a: [0.5 0.5 0.5 0.5 0.5 0.5 0.5 0.5 0.5 0.5]\n",
      "b: [ 1.  3.  5.  7.  9. 11. 13. 15. 17. 19.]\n",
      "a + b: [ 1.5  3.5  5.5  7.5  9.5 11.5 13.5 15.5 17.5 19.5]\n",
      "a - b: [ -0.5  -2.5  -4.5  -6.5  -8.5 -10.5 -12.5 -14.5 -16.5 -18.5]\n"
     ]
    }
   ],
   "source": [
    "print('a:', a)\n",
    "print('b:', b)\n",
    "print('a + b:', a + b)\n",
    "print('a - b:', a - b)"
   ]
  },
  {
   "cell_type": "markdown",
   "metadata": {},
   "source": [
    "Multiplication using the `*`, `**` and `/` operators is also elementwise, i.e. `*` in Python is like `.*` in MATLAB, we'll cover matrix operations in a second."
   ]
  },
  {
   "cell_type": "code",
   "execution_count": 56,
   "metadata": {},
   "outputs": [
    {
     "name": "stdout",
     "output_type": "stream",
     "text": [
      "a * b: [0.5 1.5 2.5 3.5 4.5 5.5 6.5 7.5 8.5 9.5]\n",
      "a ** b: [5.00000000e-01 1.25000000e-01 3.12500000e-02 7.81250000e-03\n",
      " 1.95312500e-03 4.88281250e-04 1.22070312e-04 3.05175781e-05\n",
      " 7.62939453e-06 1.90734863e-06]\n"
     ]
    }
   ],
   "source": [
    "print('a * b:', a * b)\n",
    "print('a ** b:', a ** b)"
   ]
  },
  {
   "cell_type": "markdown",
   "metadata": {},
   "source": [
    "Things get a bit more complicated with different shapes. This is where **broadcasting** comes in. [Here's](https://numpy.org/doc/stable/user/basics.broadcasting.html) the official description which is quite readable.\n",
    "\n",
    "Consider the following problem:"
   ]
  },
  {
   "cell_type": "code",
   "execution_count": 63,
   "metadata": {},
   "outputs": [
    {
     "name": "stdout",
     "output_type": "stream",
     "text": [
      "a: [[ 1.38065187]\n",
      " [ 0.70548282]\n",
      " [ 0.46295793]\n",
      " [ 1.03903561]\n",
      " [ 1.07862609]\n",
      " [-1.43471705]\n",
      " [ 2.28237545]\n",
      " [-0.60230134]\n",
      " [ 1.77106285]\n",
      " [-0.32064508]]\n",
      "a: [0 1 2 3 4 5 6 7 8 9]\n"
     ]
    }
   ],
   "source": [
    "a = np.random.randn(10, 1)\n",
    "b = np.arange(10)\n",
    "print('a:', a)\n",
    "print('a:', b)"
   ]
  },
  {
   "cell_type": "markdown",
   "metadata": {},
   "source": [
    "Both are vectors of size 10. But in contrast to MATLAB, there's a difference between a vector of size `(10, 1)` and one of size `(10,)`"
   ]
  },
  {
   "cell_type": "code",
   "execution_count": 64,
   "metadata": {},
   "outputs": [
    {
     "name": "stdout",
     "output_type": "stream",
     "text": [
      "(10, 1) 2\n",
      "(10,) 1\n",
      "False\n"
     ]
    }
   ],
   "source": [
    "print(a.shape, a.ndim)\n",
    "print(b.shape, b.ndim)\n",
    "print(a.shape == b.shape)"
   ]
  },
  {
   "cell_type": "markdown",
   "metadata": {},
   "source": [
    "I.e. until you specify the second dimension, a vector is neither a row nor a column vector. Broadcasting is pretty cool, but the possibility of doing that comes with the cost of potentially unexpected behavior:"
   ]
  },
  {
   "cell_type": "code",
   "execution_count": 68,
   "metadata": {},
   "outputs": [
    {
     "name": "stdout",
     "output_type": "stream",
     "text": [
      "[[ 1.38065187  2.38065187  3.38065187  4.38065187  5.38065187  6.38065187\n",
      "   7.38065187  8.38065187  9.38065187 10.38065187]\n",
      " [ 0.70548282  1.70548282  2.70548282  3.70548282  4.70548282  5.70548282\n",
      "   6.70548282  7.70548282  8.70548282  9.70548282]\n",
      " [ 0.46295793  1.46295793  2.46295793  3.46295793  4.46295793  5.46295793\n",
      "   6.46295793  7.46295793  8.46295793  9.46295793]\n",
      " [ 1.03903561  2.03903561  3.03903561  4.03903561  5.03903561  6.03903561\n",
      "   7.03903561  8.03903561  9.03903561 10.03903561]\n",
      " [ 1.07862609  2.07862609  3.07862609  4.07862609  5.07862609  6.07862609\n",
      "   7.07862609  8.07862609  9.07862609 10.07862609]\n",
      " [-1.43471705 -0.43471705  0.56528295  1.56528295  2.56528295  3.56528295\n",
      "   4.56528295  5.56528295  6.56528295  7.56528295]\n",
      " [ 2.28237545  3.28237545  4.28237545  5.28237545  6.28237545  7.28237545\n",
      "   8.28237545  9.28237545 10.28237545 11.28237545]\n",
      " [-0.60230134  0.39769866  1.39769866  2.39769866  3.39769866  4.39769866\n",
      "   5.39769866  6.39769866  7.39769866  8.39769866]\n",
      " [ 1.77106285  2.77106285  3.77106285  4.77106285  5.77106285  6.77106285\n",
      "   7.77106285  8.77106285  9.77106285 10.77106285]\n",
      " [-0.32064508  0.67935492  1.67935492  2.67935492  3.67935492  4.67935492\n",
      "   5.67935492  6.67935492  7.67935492  8.67935492]]\n",
      "(10, 10)\n"
     ]
    }
   ],
   "source": [
    "print(a + b)\n",
    "print((a + b).shape)"
   ]
  },
  {
   "cell_type": "markdown",
   "metadata": {},
   "source": [
    "To be completely honest, I think `numpy` should throw an error here and only allow elementwise operations on arrays with the same number of dimensions. If you wanted do perform elementwise operations along a common axis you have a few options (depending on what the desired output is):"
   ]
  },
  {
   "cell_type": "markdown",
   "metadata": {},
   "source": [
    " * Add a second dimension to the array with only one dimension. This works with indexing into all available dimensions and then adding a new dimension via `None` or `np.newaxis`."
   ]
  },
  {
   "cell_type": "code",
   "execution_count": 88,
   "metadata": {},
   "outputs": [
    {
     "name": "stdout",
     "output_type": "stream",
     "text": [
      "(5,)\n",
      "(5, 1)\n"
     ]
    }
   ],
   "source": [
    "dim1_array = np.linspace(0, 1, 5)\n",
    "dim2_array = dim1_array[:, None]\n",
    "print(dim1_array.shape)\n",
    "print(dim2_array.shape)"
   ]
  },
  {
   "cell_type": "code",
   "execution_count": 89,
   "metadata": {},
   "outputs": [
    {
     "name": "stdout",
     "output_type": "stream",
     "text": [
      "(10,)\n",
      "(10, 1)\n",
      "(10, 1)\n"
     ]
    }
   ],
   "source": [
    "print(b.shape)\n",
    "print(b[:, None].shape)\n",
    "print(b[:, np.newaxis].shape)"
   ]
  },
  {
   "cell_type": "markdown",
   "metadata": {},
   "source": [
    "With the new singleton dimension, both arrays have the same shape and addition (and so on) work elementwise as expected:"
   ]
  },
  {
   "cell_type": "code",
   "execution_count": 82,
   "metadata": {},
   "outputs": [
    {
     "name": "stdout",
     "output_type": "stream",
     "text": [
      "True\n",
      "[[1.38065187]\n",
      " [1.70548282]\n",
      " [2.46295793]\n",
      " [4.03903561]\n",
      " [5.07862609]\n",
      " [3.56528295]\n",
      " [8.28237545]\n",
      " [6.39769866]\n",
      " [9.77106285]\n",
      " [8.67935492]]\n"
     ]
    }
   ],
   "source": [
    "print(a.shape == b[:, None].shape)\n",
    "print(a + b[:, None])"
   ]
  },
  {
   "cell_type": "markdown",
   "metadata": {},
   "source": [
    " * Remove the singleton dimension from `a` "
   ]
  },
  {
   "cell_type": "code",
   "execution_count": 90,
   "metadata": {},
   "outputs": [
    {
     "name": "stdout",
     "output_type": "stream",
     "text": [
      "(10, 1)\n",
      "(10,)\n"
     ]
    }
   ],
   "source": [
    "print(a.shape)\n",
    "print(a.squeeze().shape)"
   ]
  },
  {
   "cell_type": "markdown",
   "metadata": {},
   "source": [
    "Without the dimension, the arrays are again of the same shape:"
   ]
  },
  {
   "cell_type": "code",
   "execution_count": 85,
   "metadata": {},
   "outputs": [
    {
     "name": "stdout",
     "output_type": "stream",
     "text": [
      "True\n",
      "[1.38065187 1.70548282 2.46295793 4.03903561 5.07862609 3.56528295\n",
      " 8.28237545 6.39769866 9.77106285 8.67935492]\n"
     ]
    }
   ],
   "source": [
    "print(a.squeeze().shape == b.shape)\n",
    "print(a.squeeze() + b)"
   ]
  },
  {
   "cell_type": "markdown",
   "metadata": {},
   "source": [
    "Note that the results in both cases are not the same. One produces a `(10,)` array, the other a `(10, 1)` array. These are different and it's important to be aware of that!\n",
    "\n",
    "This might seem a bit annoying, but you can use broadcasting to your advantage. Broadcasting basically means that `numpy` is going to attempt to bring different arrays in the same shape by repeating them along singleton dimensions (a `1` in `array.shape`) and then apply elementwise operations. Here's a schematic depiction from the `numpy` documentation:\n",
    "\n",
    "<img src='../img/broadcasting.png'>\n"
   ]
  },
  {
   "cell_type": "markdown",
   "metadata": {},
   "source": [
    "Consider the following three arrays and their shapes:"
   ]
  },
  {
   "cell_type": "code",
   "execution_count": 91,
   "metadata": {},
   "outputs": [],
   "source": [
    "a = np.random.randn(10, 1, 1)\n",
    "b = np.random.randn(1, 5, 1)\n",
    "c = np.random.randn(1, 1, 3)"
   ]
  },
  {
   "cell_type": "markdown",
   "metadata": {},
   "source": [
    "What do you think is the dimensionality of the result if we add them all? Think about it and when you've made a desicion, run the cell:"
   ]
  },
  {
   "cell_type": "code",
   "execution_count": null,
   "metadata": {},
   "outputs": [],
   "source": [
    "print((a + b + c).shape)"
   ]
  },
  {
   "cell_type": "markdown",
   "metadata": {},
   "source": [
    "### Fortran vs. C order"
   ]
  },
  {
   "cell_type": "markdown",
   "metadata": {},
   "source": [
    "This is a potential pitfall, so I'm covering it here.\n",
    "\n",
    "Fortran and C define different standards about how arrays are stored in memory: [Row-major and column-major order](https://en.wikipedia.org/wiki/Row-_and_column-major_order) respectively. That's basically, when you use `matrix(:)` in MATLAB, do you glue rows together or columns? Fortran and MATLAB are column-dominant. C and numpy are row-dominant.\n",
    "\n",
    "Have a look:\n",
    "\n",
    "**Exercise**\n",
    "\n",
    "   1. Use `np.arange` to create a vector of values from 1 to 25. `np.arange` works like `range()`, except it returns a np.array.\n",
    "   2. Use the array method `array.reshape()` to reshape it into a `(5, 5)`-matrix. \n",
    "   3. What would you expect? Print the array.\n"
   ]
  },
  {
   "cell_type": "code",
   "execution_count": null,
   "metadata": {},
   "outputs": [],
   "source": [
    "#your code here\n"
   ]
  },
  {
   "cell_type": "markdown",
   "metadata": {},
   "source": [
    "The same problem arises for `array.ravel()` and `array.flatten()`, that act similar ([but not identical](https://stackoverflow.com/questions/28930465/what-is-the-difference-between-flatten-and-ravel-functions-in-numpy)). Fortunately, there is a way around this. All of these functions take an optional parameter `order`. You can pass either `'C'`, for row-major order of `'F'` for column-major, Fotran/MATLAB-like order.\n",
    "\n",
    "**Exercises**\n",
    "\n",
    "Use `ravel` or `flatten` to reshape the matrix into a vector, using column-major order."
   ]
  },
  {
   "cell_type": "code",
   "execution_count": null,
   "metadata": {},
   "outputs": [],
   "source": []
  },
  {
   "cell_type": "markdown",
   "metadata": {},
   "source": [
    "### Stacking and concatenation"
   ]
  },
  {
   "cell_type": "markdown",
   "metadata": {},
   "source": [
    "To combine arrays you can either concatenate them along an existing axis or stack them (while creating a new axis). Both take an iterable (e.g. a `list`) of arrays and the axis along which to stack or concatenate them. Let's say we have the two following arrays:"
   ]
  },
  {
   "cell_type": "code",
   "execution_count": 95,
   "metadata": {},
   "outputs": [],
   "source": [
    "A = np.zeros((3, 5))\n",
    "B = np.ones((3, 5))"
   ]
  },
  {
   "cell_type": "markdown",
   "metadata": {},
   "source": [
    "Since they have the same shape, we could concatenate them either vertically (MATLAB: `[A; B]`) or horizontally (MATLAB: `[A, B]`). That corresponds to stacking along the first axis (`axis=0` because we start counting at 0 in Python) or the second axis (`axis=1`)."
   ]
  },
  {
   "cell_type": "code",
   "execution_count": 97,
   "metadata": {},
   "outputs": [
    {
     "name": "stdout",
     "output_type": "stream",
     "text": [
      "(6, 5)\n",
      "(3, 10)\n"
     ]
    }
   ],
   "source": [
    "vert = np.concatenate([A, B], axis=0)\n",
    "horz = np.concatenate([A, B], axis=1)\n",
    "print(vert.shape)\n",
    "print(horz.shape)"
   ]
  },
  {
   "cell_type": "markdown",
   "metadata": {},
   "source": [
    "`stack`ing allows us to combine arrays of the same shape along a new dimension. This doesn't have to be the last one!"
   ]
  },
  {
   "cell_type": "code",
   "execution_count": 101,
   "metadata": {},
   "outputs": [
    {
     "name": "stdout",
     "output_type": "stream",
     "text": [
      "(2, 3, 5)\n",
      "(3, 2, 5)\n",
      "(3, 5, 2)\n"
     ]
    }
   ],
   "source": [
    "stack_first_axis = np.stack([A, B], axis=0)\n",
    "stack_middle_axis = np.stack([A, B], axis=1)\n",
    "stack_last_axis = np.stack([A, B], axis=2)\n",
    "print(stack_first_axis.shape)\n",
    "print(stack_middle_axis.shape)\n",
    "print(stack_last_axis.shape)"
   ]
  },
  {
   "cell_type": "markdown",
   "metadata": {},
   "source": [
    "**Exercise**\n",
    "\n",
    "Assume we have a design matrix `X`. In order to estimate an intercept for a linear regression, we want to add a column of `ones`. Can you do that?"
   ]
  },
  {
   "cell_type": "code",
   "execution_count": 104,
   "metadata": {},
   "outputs": [],
   "source": [
    "X = np.random.randn(40, 2)\n",
    "# your code here\n"
   ]
  },
  {
   "cell_type": "markdown",
   "metadata": {},
   "source": [
    "### Matrix algebra\n",
    "\n",
    "The `*`-operator in MATLAB uses matrix multiplication by default. The same operator in Python does not. Python 3.5 introduced the `@`-operator for this purpose. This also shows the meaning of numpy for the Python universe. If you get a new operator for your package, you made it in the Python world.\n",
    "\n",
    "We'll simulate some data that we would fit with a linear regression. The matrix notation to write the equation for linear regression is this:\n",
    "\n",
    "\n",
    "$$y=X\\beta + \\epsilon$$\n",
    "\n",
    "Which means that `y` can be expressed as a linear combination of the columns of `X`. `X` is the design matrix of size NxK, where N is the number of observations and K is the number of predictors. $\\beta$ is the **column vector** of regression weights (i.e. of size Kx1). $\\epsilon is a **column vector** of Gaussian noise (i.e. the deviation between the fitted line and the actual data points) which is of size Nx1. Just like `y`.\n",
    "\n",
    "In MATLAB it could look like this:\n",
    "```\n",
    "N = 100;\n",
    "K = 3;\n",
    "X = [ones(N, 1), randn(N, K - 1)];\n",
    "betas = [.3, .5, 1.5]';\n",
    "epsilon = randn(100, 1) * .3;\n",
    "y = X * betas + epsilon;\n",
    "```"
   ]
  },
  {
   "cell_type": "markdown",
   "metadata": {},
   "source": [
    "**Exercise**\n",
    "\n",
    " 1. Create a design matrix, starting with a column of ones (you can use the one from the last exercise, that's fine)\n",
    " 2. Create a column vector `beta` that has as many rows as X has columns.\n",
    " 3. Create a column vector `epsilon` of random noise with standard deviation 0.3. It should have one column and as many rows as `X`.\n",
    " 4. Use this arrays to compute `y`."
   ]
  },
  {
   "cell_type": "code",
   "execution_count": 5,
   "metadata": {},
   "outputs": [],
   "source": [
    "#your code here\n"
   ]
  },
  {
   "cell_type": "markdown",
   "metadata": {},
   "source": [
    "Bonus if you're done early:\n",
    "\n",
    "The closed-form solution for the betas of a OLS regression is $(X'*X)^{-1}*X'*y$. Try to recover the betas from `X` and `y`. You will need `np.linalg.inv` and for this. You get the transpose of a matrix as `array.T`."
   ]
  },
  {
   "cell_type": "code",
   "execution_count": 7,
   "metadata": {},
   "outputs": [],
   "source": [
    "#your code here\n"
   ]
  },
  {
   "cell_type": "markdown",
   "metadata": {},
   "source": [
    "# Conclusion\n",
    "\n",
    "This was barely even scratching the surface. There is **a lot** to be learned about these. But hopefully now you have a rough idea about what you can expect from these packages. In the next notebook we'll still look at descriptive statistics with numpy arrays, but for the data type, that's it!"
   ]
  }
 ],
 "metadata": {
  "kernelspec": {
   "display_name": "Python 3 (ipykernel)",
   "language": "python",
   "name": "python3"
  },
  "language_info": {
   "codemirror_mode": {
    "name": "ipython",
    "version": 3
   },
   "file_extension": ".py",
   "mimetype": "text/x-python",
   "name": "python",
   "nbconvert_exporter": "python",
   "pygments_lexer": "ipython3",
   "version": "3.10.2"
  }
 },
 "nbformat": 4,
 "nbformat_minor": 4
}
