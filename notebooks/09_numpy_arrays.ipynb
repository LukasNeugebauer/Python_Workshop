{
 "cells": [
  {
   "cell_type": "markdown",
   "metadata": {},
   "source": [
    "# 9. Numpy\n",
    "\n",
    "Numpy is the package that makes scientific computing in Python possible to begin with. You will probably import in into every script and module you write and if you don't then you're importing a package that depends on `numpy`. It provides important data types like `numpy.arrays`, that are similar to MATLAB arrays. In this notebook we'll focus on this data type.\n",
    "\n",
    "If you prefer R-style DataFrames, you can go with `pandas`. It's very widely used in Data Science. As stated in the beginning, we won't cover `pandas` here, but you can find a 10 minute intro to pandas [here](https://pandas.pydata.org/pandas-docs/stable/user_guide/10min.html)."
   ]
  },
  {
   "cell_type": "markdown",
   "metadata": {},
   "source": [
    "## 9.1 import convention\n",
    "The convention to import numpy is this:\n",
    "\n",
    "```Python\n",
    "import numpy as np\n",
    "```\n",
    "You also find\n",
    "```Python\n",
    "from numpy import *\n",
    "```\n",
    "but I advise against using this approach. Namespaces are a good thing."
   ]
  },
  {
   "cell_type": "code",
   "execution_count": null,
   "metadata": {},
   "outputs": [],
   "source": [
    "import numpy as np"
   ]
  },
  {
   "cell_type": "markdown",
   "metadata": {},
   "source": [
    "## 9.2 Numpy arrays\n",
    "\n",
    "The most important aspect of numpy is to provide us with a data type that is able to hold numeric data in an efficient manner. As usual, you can use the class `np.array` as a constructor to transform other data types into numpy arrays.\n",
    "\n",
    "**Exercise**\n",
    "\n",
    "Transform the following list of lists into a np.array"
   ]
  },
  {
   "cell_type": "code",
   "execution_count": null,
   "metadata": {},
   "outputs": [],
   "source": [
    "data = [[1, 0, 0], [0, 1, 0], [0, 0, 1], [1, 1, 1]];\n",
    "#your code here\n"
   ]
  },
  {
   "cell_type": "markdown",
   "metadata": {},
   "source": [
    "### Indexing"
   ]
  },
  {
   "cell_type": "markdown",
   "metadata": {},
   "source": [
    "#### Slices\n",
    "\n",
    "Indexing follows the python principles. I.e. starting at 0 and the end point of a slice is not included. Indices along multiple dimensions are separated by comma."
   ]
  },
  {
   "cell_type": "code",
   "execution_count": null,
   "metadata": {},
   "outputs": [],
   "source": [
    "A = np.reshape(np.arange(1, 26), (5, 5))\n",
    "print(A)"
   ]
  },
  {
   "cell_type": "markdown",
   "metadata": {},
   "source": [
    "E.g. to get the center 9 elements:"
   ]
  },
  {
   "cell_type": "code",
   "execution_count": null,
   "metadata": {},
   "outputs": [],
   "source": [
    "print(A[1:4, 1:4])"
   ]
  },
  {
   "cell_type": "markdown",
   "metadata": {},
   "source": [
    "**Exercise**\n",
    "\n",
    "Select the last two columns in the first two rows:"
   ]
  },
  {
   "cell_type": "code",
   "execution_count": null,
   "metadata": {},
   "outputs": [],
   "source": [
    "# your code here\n"
   ]
  },
  {
   "cell_type": "markdown",
   "metadata": {},
   "source": [
    "Here's something that's quite different from MATLAB. In MATLAB, if you only give a single index, you're only going to get a single element. Numpy is different. To understand this, we'll have a look at a two-dimensional array:"
   ]
  },
  {
   "cell_type": "code",
   "execution_count": null,
   "metadata": {},
   "outputs": [],
   "source": [
    "print(A)"
   ]
  },
  {
   "cell_type": "markdown",
   "metadata": {},
   "source": [
    "The way this is represented shows us the row-dominant order. Arrays are essentially nested lists. Each row is a list. So if you only give one index, you'll get what you would get it you treated them actually as lists of lists: The first list. I.e. the first row:"
   ]
  },
  {
   "cell_type": "code",
   "execution_count": null,
   "metadata": {},
   "outputs": [],
   "source": [
    "print(A[0])"
   ]
  },
  {
   "cell_type": "markdown",
   "metadata": {},
   "source": [
    "Similarly, if you loop over an array, you iterate over the rows. In MATLAB you would get the columns:"
   ]
  },
  {
   "cell_type": "code",
   "execution_count": null,
   "metadata": {},
   "outputs": [],
   "source": [
    "for a in A:\n",
    "    print('Next row:')\n",
    "    print('\\t', a)"
   ]
  },
  {
   "cell_type": "markdown",
   "metadata": {},
   "source": [
    "#### Boolean indices\n",
    "\n",
    "Boolean indexing works by supplying a boolean numpy array as the index. E.g. to select all rows in which the first element is larger then 0:\n"
   ]
  },
  {
   "cell_type": "code",
   "execution_count": null,
   "metadata": {},
   "outputs": [],
   "source": [
    "A = np.random.randn(10, 5)\n",
    "# find the correct rows:\n",
    "idx = A[:, 0] > 0\n",
    "# select them\n",
    "B = A[idx, :]\n",
    "print(B)"
   ]
  },
  {
   "cell_type": "markdown",
   "metadata": {},
   "source": [
    "**Exercise**\n",
    "\n",
    "Replace all elements below 0 in A with 99."
   ]
  },
  {
   "cell_type": "code",
   "execution_count": null,
   "metadata": {},
   "outputs": [],
   "source": [
    "# your code here\n"
   ]
  },
  {
   "cell_type": "markdown",
   "metadata": {},
   "source": [
    "**Project Exercise 2**\n",
    "\n",
    "Now that you know Boolean indices, it's time for the second project exercise. Head over to the project notebook!!"
   ]
  },
  {
   "cell_type": "markdown",
   "metadata": {},
   "source": [
    "### Create specific arrays\n",
    "\n",
    "You can use `numpy` functions to create certain arrays that you will need a lot. A lot of them are the exact equivalent to the MATLAB function that you're used to. We'll have a look at a few."
   ]
  },
  {
   "cell_type": "markdown",
   "metadata": {},
   "source": [
    "#### Random arrays\n",
    "\n",
    "The `np.random` module contains functions to create pseudorandom arrays. For standard normal or uniform (0-1) random values, you can use `randn` and `rand` respectively. These functions take a variable number of arguments, which are the size of the resulting array. This is how you get a 10 x 2 array of standard normally distributed values:"
   ]
  },
  {
   "cell_type": "code",
   "execution_count": null,
   "metadata": {},
   "outputs": [],
   "source": [
    "np.random.randn(10, 2)"
   ]
  },
  {
   "cell_type": "markdown",
   "metadata": {},
   "source": [
    "**Exercise**\n",
    "\n",
    "Create a 5x5 array of uniform values between 0 and 1."
   ]
  },
  {
   "cell_type": "code",
   "execution_count": null,
   "metadata": {},
   "outputs": [],
   "source": [
    "# your code here\n"
   ]
  },
  {
   "cell_type": "markdown",
   "metadata": {},
   "source": [
    "The `np.random` module also has functions for different distributions, e.g. `beta`, `gamma`, `exponential` and so on. These functions can be fine-tuned by specifiying the parameters of the distribution. In addition they take `size` as an argument. E.g. this is how you get 20x3 values from a `gamma(2, 2)`distribution. Note that you have to give the size as a `tuple`, `list` or something similar."
   ]
  },
  {
   "cell_type": "code",
   "execution_count": null,
   "metadata": {},
   "outputs": [],
   "source": [
    "np.random.gamma(2, 2, size=(20, 3))"
   ]
  },
  {
   "cell_type": "markdown",
   "metadata": {},
   "source": [
    "**Exercise**\n",
    "\n",
    "Create a 7x1 array of values that are sampled from a `beta(2, 1)` distribution."
   ]
  },
  {
   "cell_type": "code",
   "execution_count": null,
   "metadata": {},
   "outputs": [],
   "source": [
    "# your code here\n"
   ]
  },
  {
   "cell_type": "markdown",
   "metadata": {},
   "source": [
    "#### Ones and zeros\n",
    "\n",
    "These are the same as the respective MATLAB functions. The only difference is that you have to specify the shape as a single argument (e.g. a `tuple`). Just like above:"
   ]
  },
  {
   "cell_type": "code",
   "execution_count": null,
   "metadata": {},
   "outputs": [],
   "source": [
    "np.ones((10, 4)) # np.ones(10, 4) will throw an error"
   ]
  },
  {
   "cell_type": "markdown",
   "metadata": {},
   "source": [
    "**Exercise**\n",
    "\n",
    "Create a 2x2 array of zeros."
   ]
  },
  {
   "cell_type": "code",
   "execution_count": null,
   "metadata": {},
   "outputs": [],
   "source": [
    "# your code here\n"
   ]
  },
  {
   "cell_type": "markdown",
   "metadata": {},
   "source": [
    "#### linspace and arange\n",
    "\n",
    "`linspace` is exactly the same as in MATLAB. `arange` is the equivalent to `1:10`. However, it uses Python logic, i.e. the end value is not included."
   ]
  },
  {
   "cell_type": "code",
   "execution_count": null,
   "metadata": {},
   "outputs": [],
   "source": [
    "np.arange(1, 11)"
   ]
  },
  {
   "cell_type": "markdown",
   "metadata": {},
   "source": [
    "**Exercise**\n",
    "\n",
    "Create an array of 10 linearly spaced values between 3 and 11:"
   ]
  },
  {
   "cell_type": "code",
   "execution_count": null,
   "metadata": {},
   "outputs": [],
   "source": [
    "# your code here\n"
   ]
  },
  {
   "cell_type": "markdown",
   "metadata": {},
   "source": [
    "### Shape and dimensions\n",
    "\n",
    "You can get information about the size and dimensionality of arrays using the `array.size`, `array.shape` and `array.ndim` properties. Properties are dynamically created attributes of an object, kind of like a method except that you don't have to call it using parentheses. Here's a super short example:"
   ]
  },
  {
   "cell_type": "code",
   "execution_count": null,
   "metadata": {},
   "outputs": [],
   "source": [
    "class MethodList(list):\n",
    "    \n",
    "    def size(self):\n",
    "        return len(self)\n",
    "    \n",
    "    \n",
    "class PropertyList(list):\n",
    "    \n",
    "    @property # this is called a decorator, but that's for a more advanced course\n",
    "    def size(self):\n",
    "        return len(self)"
   ]
  },
  {
   "cell_type": "markdown",
   "metadata": {},
   "source": [
    "Now for the `MethodList` we'd have to call `size` like a method, while we can call it like an attribute for the `PropertyList`."
   ]
  },
  {
   "cell_type": "code",
   "execution_count": null,
   "metadata": {},
   "outputs": [],
   "source": [
    "ml, pl = MethodList([1, 2, 3]), PropertyList([1, 2, 3])"
   ]
  },
  {
   "cell_type": "code",
   "execution_count": null,
   "metadata": {},
   "outputs": [],
   "source": [
    "print(ml.size())\n",
    "print(pl.size)"
   ]
  },
  {
   "cell_type": "markdown",
   "metadata": {},
   "source": [
    "Anyway, that's why you don't call them like methods.\n",
    "\n",
    " * `array.size` gives you the number of elements (MATLAB: `numel`)\n",
    " * `array.shape` gives you the size along the dimensions (MATLAB: `size`)\n",
    " * `array.ndim` gives you the dimensionality of an array (e.g. 2 for a 20x3 matrix)"
   ]
  },
  {
   "cell_type": "code",
   "execution_count": null,
   "metadata": {},
   "outputs": [],
   "source": [
    "random_matrix = np.random.randn(10, 3)"
   ]
  },
  {
   "cell_type": "markdown",
   "metadata": {},
   "source": [
    "**Exercise**\n",
    "\n",
    "Get the size, shape and dimensionality of the random_matrix."
   ]
  },
  {
   "cell_type": "code",
   "execution_count": null,
   "metadata": {},
   "outputs": [],
   "source": [
    "# your code here\n"
   ]
  },
  {
   "cell_type": "markdown",
   "metadata": {},
   "source": [
    "### Elementwise arithmetics and broadcasting\n",
    "\n",
    "Adding (or substracting) a scalar (i.e. a single value) or multiplying (or dividing) by a scalar works as expected from MATLAB, i.e. elementwise. Have a look:"
   ]
  },
  {
   "cell_type": "code",
   "execution_count": null,
   "metadata": {},
   "outputs": [],
   "source": [
    "a = np.ones(10)\n",
    "print(a * 4)\n",
    "print(a + 3.2)"
   ]
  },
  {
   "cell_type": "markdown",
   "metadata": {},
   "source": [
    "Exponents also work elementwise (using `**`)."
   ]
  },
  {
   "cell_type": "markdown",
   "metadata": {},
   "source": [
    "**Exercise**\n",
    "\n",
    "Turn these values drawn from a standard normal distribution (mean: 0, sd: 1) into values from an IQ distribution (mean: 100, sd: 15):"
   ]
  },
  {
   "cell_type": "code",
   "execution_count": null,
   "metadata": {},
   "outputs": [],
   "source": [
    "standard_normal_values = np.random.randn(100)\n",
    "# your code here\n"
   ]
  },
  {
   "cell_type": "markdown",
   "metadata": {},
   "source": [
    "Adding and substracting works differently depending on the shapes of the arrays. If they are the same size, it's just an elementwise operation:"
   ]
  },
  {
   "cell_type": "code",
   "execution_count": null,
   "metadata": {},
   "outputs": [],
   "source": [
    "a = np.ones(10) * .5\n",
    "b = np.linspace(1, 19, 10)\n",
    "print(a.shape == b.shape)"
   ]
  },
  {
   "cell_type": "markdown",
   "metadata": {},
   "source": [
    "These are the same, shape, so adding and substracting works per element."
   ]
  },
  {
   "cell_type": "code",
   "execution_count": null,
   "metadata": {},
   "outputs": [],
   "source": [
    "print('a:', a)\n",
    "print('b:', b)\n",
    "print('a + b:', a + b)\n",
    "print('a - b:', a - b)"
   ]
  },
  {
   "cell_type": "markdown",
   "metadata": {},
   "source": [
    "Multiplication using the `*`, `**` and `/` operators is also elementwise, i.e. `*` in Python is like `.*` in MATLAB, we'll cover matrix operations in a second."
   ]
  },
  {
   "cell_type": "code",
   "execution_count": null,
   "metadata": {},
   "outputs": [],
   "source": [
    "print('a * b:', a * b)\n",
    "print('a ** b:', a ** b)"
   ]
  },
  {
   "cell_type": "markdown",
   "metadata": {},
   "source": [
    "Things get a bit more complicated with different shapes. This is where **broadcasting** comes in. [Here's](https://numpy.org/doc/stable/user/basics.broadcasting.html) the official description which is quite readable.\n",
    "\n",
    "Consider the following problem:"
   ]
  },
  {
   "cell_type": "code",
   "execution_count": null,
   "metadata": {},
   "outputs": [],
   "source": [
    "a = np.random.randn(10, 1)\n",
    "b = np.arange(10)\n",
    "print('a:', a)\n",
    "print('a:', b)"
   ]
  },
  {
   "cell_type": "markdown",
   "metadata": {},
   "source": [
    "Both are vectors of size 10. But in contrast to MATLAB, there's a difference between a vector of size `(10, 1)` and one of size `(10,)`."
   ]
  },
  {
   "cell_type": "code",
   "execution_count": null,
   "metadata": {},
   "outputs": [],
   "source": [
    "print(a.shape, a.ndim)\n",
    "print(b.shape, b.ndim)\n",
    "print(a.shape == b.shape)"
   ]
  },
  {
   "cell_type": "markdown",
   "metadata": {},
   "source": [
    "I.e. until you specify the second dimension, a vector is neither a row nor a column vector. Broadcasting is pretty cool, but the possibility of doing that comes with the cost of potentially unexpected behavior:"
   ]
  },
  {
   "cell_type": "code",
   "execution_count": null,
   "metadata": {},
   "outputs": [],
   "source": [
    "print(a + b)\n",
    "print((a + b).shape)"
   ]
  },
  {
   "cell_type": "markdown",
   "metadata": {},
   "source": [
    "To be completely honest, I think `numpy` should throw an error here and only allow elementwise operations on arrays with the same number of dimensions. If you wanted do perform elementwise operations along a common axis you have a few options (depending on what the desired output is):"
   ]
  },
  {
   "cell_type": "markdown",
   "metadata": {},
   "source": [
    " * Add a second dimension to the array with only one dimension. This works with indexing into all available dimensions and then adding a new dimension via `None` or `np.newaxis`."
   ]
  },
  {
   "cell_type": "code",
   "execution_count": null,
   "metadata": {},
   "outputs": [],
   "source": [
    "dim1_array = np.linspace(0, 1, 5)\n",
    "dim2_array = dim1_array[:, None]\n",
    "print(dim1_array.shape)\n",
    "print(dim2_array.shape)"
   ]
  },
  {
   "cell_type": "code",
   "execution_count": null,
   "metadata": {},
   "outputs": [],
   "source": [
    "print(b.shape)\n",
    "print(b[:, None].shape)\n",
    "print(b[:, np.newaxis].shape)"
   ]
  },
  {
   "cell_type": "markdown",
   "metadata": {},
   "source": [
    "With the new singleton dimension, both arrays have the same shape and addition (and so on) work elementwise as expected:"
   ]
  },
  {
   "cell_type": "code",
   "execution_count": null,
   "metadata": {},
   "outputs": [],
   "source": [
    "print(a.shape == b[:, None].shape)\n",
    "print(a + b[:, None])"
   ]
  },
  {
   "cell_type": "markdown",
   "metadata": {},
   "source": [
    " * Remove the singleton dimension from `a` "
   ]
  },
  {
   "cell_type": "code",
   "execution_count": null,
   "metadata": {},
   "outputs": [],
   "source": [
    "print(a.shape)\n",
    "print(a.squeeze().shape)"
   ]
  },
  {
   "cell_type": "markdown",
   "metadata": {},
   "source": [
    "Without the dimension, the arrays are again of the same shape:"
   ]
  },
  {
   "cell_type": "code",
   "execution_count": null,
   "metadata": {},
   "outputs": [],
   "source": [
    "print(a.squeeze().shape == b.shape)\n",
    "print(a.squeeze() + b)"
   ]
  },
  {
   "cell_type": "markdown",
   "metadata": {},
   "source": [
    "Note that the results in both cases are not the same. One produces a `(10,)` array, the other a `(10, 1)` array. These are different and it's important to be aware of that!\n",
    "\n",
    "This might seem a bit annoying, but you can use broadcasting to your advantage. Broadcasting basically means that `numpy` is going to attempt to bring different arrays in the same shape by repeating them along singleton dimensions (a `1` in `array.shape`) and then apply elementwise operations. Here's a schematic depiction from the `numpy` documentation:\n",
    "\n",
    "<img src='../img/broadcasting.png'>\n"
   ]
  },
  {
   "cell_type": "markdown",
   "metadata": {},
   "source": [
    "Consider the following three arrays and their shapes:"
   ]
  },
  {
   "cell_type": "code",
   "execution_count": null,
   "metadata": {},
   "outputs": [],
   "source": [
    "a = np.random.randn(10, 1, 1)\n",
    "b = np.random.randn(1, 5, 1)\n",
    "c = np.random.randn(1, 1, 3)"
   ]
  },
  {
   "cell_type": "markdown",
   "metadata": {},
   "source": [
    "What do you think is the dimensionality of the result if we add them all? Think about it and when you've made a desicion, run the cell:"
   ]
  },
  {
   "cell_type": "code",
   "execution_count": null,
   "metadata": {},
   "outputs": [],
   "source": [
    "print((a + b + c).shape)"
   ]
  },
  {
   "cell_type": "markdown",
   "metadata": {},
   "source": [
    "### Fortran vs. C order"
   ]
  },
  {
   "cell_type": "markdown",
   "metadata": {},
   "source": [
    "This is a potential pitfall, so I'm covering it here.\n",
    "\n",
    "Fortran and C define different standards about how arrays are stored in memory: [Row-major and column-major order](https://en.wikipedia.org/wiki/Row-_and_column-major_order) respectively. That's basically, when you use `matrix(:)` in MATLAB, do you glue rows together or columns? Fortran and MATLAB are column-dominant. C and numpy are row-dominant.\n",
    "\n",
    "Have a look:\n",
    "\n",
    "**Exercise**\n",
    "\n",
    "   1. Use `np.arange` to create a vector of values from 1 to 25. `np.arange` works like `range()`, except it returns a np.array.\n",
    "   2. Use the array method `array.reshape()` to reshape it into a `(5, 5)`-matrix. \n",
    "   3. What would you expect? Print the array.\n"
   ]
  },
  {
   "cell_type": "code",
   "execution_count": null,
   "metadata": {},
   "outputs": [],
   "source": [
    "#your code here\n"
   ]
  },
  {
   "cell_type": "markdown",
   "metadata": {},
   "source": [
    "The same problem arises for `array.ravel()` and `array.flatten()`, that act similar ([but not identical](https://stackoverflow.com/questions/28930465/what-is-the-difference-between-flatten-and-ravel-functions-in-numpy)). Fortunately, there is a way around this. All of these functions take an optional parameter `order`. You can pass either `'C'`, for row-major order of `'F'` for column-major, Fotran/MATLAB-like order.\n",
    "\n",
    "**Exercises**\n",
    "\n",
    "Use `ravel` or `flatten` to reshape the matrix into a vector, using column-major order."
   ]
  },
  {
   "cell_type": "code",
   "execution_count": null,
   "metadata": {},
   "outputs": [],
   "source": []
  },
  {
   "cell_type": "markdown",
   "metadata": {},
   "source": [
    "### Stacking and concatenation"
   ]
  },
  {
   "cell_type": "markdown",
   "metadata": {},
   "source": [
    "To combine arrays you can either concatenate them along an existing axis or stack them (while creating a new axis). Both take an iterable (e.g. a `list`) of arrays and the axis along which to stack or concatenate them. Let's say we have the two following arrays:"
   ]
  },
  {
   "cell_type": "code",
   "execution_count": null,
   "metadata": {},
   "outputs": [],
   "source": [
    "A = np.zeros((3, 5))\n",
    "B = np.ones((3, 5))"
   ]
  },
  {
   "cell_type": "markdown",
   "metadata": {},
   "source": [
    "Since they have the same shape, we could `concatenate` them either vertically (MATLAB: `[A; B]`) or horizontally (MATLAB: `[A, B]`). That corresponds to concatenating along the first axis (`axis=0` because we start counting at 0 in Python) or the second axis (`axis=1`)."
   ]
  },
  {
   "cell_type": "code",
   "execution_count": null,
   "metadata": {},
   "outputs": [],
   "source": [
    "vert = np.concatenate([A, B], axis=0)\n",
    "horz = np.concatenate([A, B], axis=1)\n",
    "print(vert.shape)\n",
    "print(horz.shape)"
   ]
  },
  {
   "cell_type": "markdown",
   "metadata": {},
   "source": [
    "`stack`ing allows us to combine arrays of the same shape along a new dimension. This doesn't have to be the last one!"
   ]
  },
  {
   "cell_type": "code",
   "execution_count": null,
   "metadata": {},
   "outputs": [],
   "source": [
    "stack_first_axis = np.stack([A, B], axis=0)\n",
    "stack_middle_axis = np.stack([A, B], axis=1)\n",
    "stack_last_axis = np.stack([A, B], axis=2)\n",
    "print(stack_first_axis.shape)\n",
    "print(stack_middle_axis.shape)\n",
    "print(stack_last_axis.shape)"
   ]
  },
  {
   "cell_type": "markdown",
   "metadata": {},
   "source": [
    "**Exercise**\n",
    "\n",
    "Assume we have a design matrix `X`. In order to estimate an intercept for a linear regression, we want to add a column of `ones`. Can you do that?"
   ]
  },
  {
   "cell_type": "code",
   "execution_count": null,
   "metadata": {},
   "outputs": [],
   "source": [
    "X = np.random.randn(40, 2)\n",
    "# your code here\n"
   ]
  },
  {
   "cell_type": "markdown",
   "metadata": {},
   "source": [
    "### Matrix algebra\n",
    "\n",
    "The `*`-operator in MATLAB uses matrix multiplication by default. The same operator in Python does not. Python 3.5 introduced the `@`-operator for this purpose. This also shows the meaning of numpy for the Python universe. If you get a new operator for your package, you made it in the Python world.\n",
    "\n",
    "We'll simulate some data that we would fit with a linear regression. The matrix notation to write the equation for linear regression is this:\n",
    "\n",
    "\n",
    "$$y=X\\beta + \\epsilon$$\n",
    "\n",
    "Which means that `y` can be expressed as a linear combination of the columns of `X` plus some noise. `X` is the design matrix of size NxK, where N is the number of observations and K is the number of predictors. $\\beta$ is the **column vector** of regression weights (i.e. of size Kx1). $\\epsilon is a **column vector** of Gaussian noise (i.e. the deviation between the fitted line and the actual data points) which is of size Nx1. Just like `y`.\n",
    "\n",
    "In MATLAB it could look like this:\n",
    "```\n",
    "N = 100;\n",
    "K = 3;\n",
    "X = [ones(N, 1), randn(N, K - 1)];\n",
    "betas = [.3, .5, 1.5]';\n",
    "epsilon = randn(100, 1) * .3;\n",
    "y = X * betas + epsilon;\n",
    "```"
   ]
  },
  {
   "cell_type": "markdown",
   "metadata": {},
   "source": [
    "**Exercise**\n",
    "\n",
    " 1. Create a design matrix, starting with a column of ones (you can use the one from the last exercise, that's fine)\n",
    " 2. Create a column vector `beta` that has as many rows as X has columns.\n",
    " 3. Create a column vector `epsilon` of random noise with standard deviation 0.3. It should have one column and as many rows as `X`.\n",
    " 4. Use these arrays to compute `y`."
   ]
  },
  {
   "cell_type": "code",
   "execution_count": null,
   "metadata": {},
   "outputs": [],
   "source": [
    "#your code here\n"
   ]
  },
  {
   "cell_type": "markdown",
   "metadata": {},
   "source": [
    "Bonus if you're done early:\n",
    "\n",
    "The closed-form solution for the betas of a OLS regression is $(X'*X)^{-1}*X'*y$. Try to recover the betas from `X` and `y`. You will need `np.linalg.inv` and for this. You get the transpose of a matrix as `array.T`."
   ]
  },
  {
   "cell_type": "code",
   "execution_count": null,
   "metadata": {},
   "outputs": [],
   "source": [
    "#your code here\n"
   ]
  },
  {
   "cell_type": "markdown",
   "metadata": {},
   "source": [
    "# Conclusion\n",
    "\n",
    "This was barely even scratching the surface. There is **a lot** to be learned about these. But hopefully now you have a rough idea about what you can expect from these packages. In the next notebook we'll still look at descriptive statistics with numpy arrays, but for the data type, that's it!"
   ]
  }
 ],
 "metadata": {
  "kernelspec": {
   "display_name": "Python 3 (ipykernel)",
   "language": "python",
   "name": "python3"
  },
  "language_info": {
   "codemirror_mode": {
    "name": "ipython",
    "version": 3
   },
   "file_extension": ".py",
   "mimetype": "text/x-python",
   "name": "python",
   "nbconvert_exporter": "python",
   "pygments_lexer": "ipython3",
   "version": "3.10.2"
  }
 },
 "nbformat": 4,
 "nbformat_minor": 4
}
