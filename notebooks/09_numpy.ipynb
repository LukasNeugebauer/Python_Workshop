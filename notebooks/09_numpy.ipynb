{
 "cells": [
  {
   "cell_type": "markdown",
   "metadata": {},
   "source": [
    "# 9. Numpy\n",
    "\n",
    "Here's a nice quote on the relationsship between MATLAB and numpy and R and pandas:\n",
    "\n",
    "<img align=\"center\" src='../img/pandas_r_numpy_matlab.PNG' width=60%/>\n",
    "\n",
    "That's pretty much true. Numpy is the package that makes scientific computing in Python possible to begin with. You will probably import in into every script and module you write. It provides important data types like `numpy.arrays`, that are similar to MATLAB arrays. \n",
    "\n",
    "If you prefer R-style DataFrames, you can go with `pandas`. It's very widely used in Data Science. In the background it's a very convenient wrapper around numpy. \n",
    "Because of time constraints we'll just have a look at numpy here. You can find a 10 minute intro to pandas [here](https://pandas.pydata.org/pandas-docs/stable/getting_started/10min.html)."
   ]
  },
  {
   "cell_type": "markdown",
   "metadata": {},
   "source": [
    "## 9.1 import convention\n",
    "The convention to import numpy is this:\n",
    "\n",
    "```Python\n",
    "import numpy as np\n",
    "```\n",
    "You also find\n",
    "```Python\n",
    "from numpy import *\n",
    "```\n",
    "but I advise against using this approach. Namespaces are a good thing."
   ]
  },
  {
   "cell_type": "code",
   "execution_count": 2,
   "metadata": {},
   "outputs": [],
   "source": [
    "import numpy as np"
   ]
  },
  {
   "cell_type": "markdown",
   "metadata": {},
   "source": [
    "## 9.2 Numpy arrays\n",
    "\n",
    "The most important aspect of numpy is to provide us with a data type that is able to hold numeric data like SCR, eyetracking, ratings or fMRI. Numpy is used by nearly all other packages that you will use like `scipy` and `matplotlib`. As usually, you can use the class `np.array` as a constructor to transform other data types into numpy arrays.\n",
    "\n",
    "**Exercise**\n",
    "\n",
    "Transform the following list of lists into a np.array"
   ]
  },
  {
   "cell_type": "code",
   "execution_count": 3,
   "metadata": {},
   "outputs": [],
   "source": [
    "data = [[1,0,0],[0,1,0],[0,0,1]];\n",
    "#your code here\n"
   ]
  },
  {
   "cell_type": "markdown",
   "metadata": {},
   "source": [
    "Other numpy functions like random number generators also return np.arrays. \n",
    "\n",
    "**Exercise**\n",
    "\n",
    "   1. Use np.random.randn to create a 10x2 array of standard normal distributed values.\n",
    "   2. Scalar multiplication and addition work like in MATLAB. Turn the created array into IQ values using this knowledge. (IQ values have mean 100 and SD 15)\n",
    "   3. np.arrays are objects. They have methods. Use this knowledge to write a function that takes an array as input and z-scores the array column-wise."
   ]
  },
  {
   "cell_type": "code",
   "execution_count": 5,
   "metadata": {},
   "outputs": [],
   "source": [
    "#your code here\n"
   ]
  },
  {
   "cell_type": "markdown",
   "metadata": {},
   "source": [
    "You can use slices for indexing. They behave like the indexes you already know from Python, i.e. 0-based and the end point is not included.\n",
    "\n",
    "**Exercise**\n",
    "\n",
    "Print the second row of the IQ matrix. Then print the first five rows of the second column."
   ]
  },
  {
   "cell_type": "code",
   "execution_count": 1,
   "metadata": {},
   "outputs": [],
   "source": [
    "#your code here\n"
   ]
  },
  {
   "cell_type": "markdown",
   "metadata": {},
   "source": [
    "#### 8.2.1.1 Matrix algebra\n",
    "\n",
    "The `*`-operator uses matrix multiplication by default. The same operator in Python does not. Python 3.5 introduced the `@`-operator for this purpose. This also shows the meaning of numpy for the Python universe.\n",
    "\n",
    "The following are nonsense examples.\n",
    "\n",
    "Assuming the relation y = **X**betas + e, compute y-hat from the following matrix X (data) and vector betas (regression weights) using matrix multiplication."
   ]
  },
  {
   "cell_type": "code",
   "execution_count": 4,
   "metadata": {},
   "outputs": [],
   "source": [
    "betas = np.array([[1.4], [0.4], [0.98]]) # this is needed to create to create a column vector\n",
    "X = np.random.randint(1, 100, (100,3))"
   ]
  },
  {
   "cell_type": "code",
   "execution_count": 5,
   "metadata": {},
   "outputs": [],
   "source": [
    "#your code here\n"
   ]
  },
  {
   "cell_type": "markdown",
   "metadata": {},
   "source": [
    "Subtraction and addition work the same as in MATLAB. As long as the shapes can be broadcasted together.\n",
    "\n",
    "**Exercise**\n",
    "\n",
    "Compute the error between your computed y_hat and the following \"empirical\" y:"
   ]
  },
  {
   "cell_type": "code",
   "execution_count": 6,
   "metadata": {},
   "outputs": [],
   "source": [
    "y = np.random.randn(100,1) * 50 + 145;"
   ]
  },
  {
   "cell_type": "code",
   "execution_count": 7,
   "metadata": {},
   "outputs": [],
   "source": [
    "#your code here\n"
   ]
  },
  {
   "cell_type": "markdown",
   "metadata": {},
   "source": [
    "For basic operations on the data, np.arrays provide methods, e.g. `array.sum()`.\n",
    "\n",
    "**Exercise**\n",
    "\n",
    "Compute the sum of squared residuals. *Hint*: Yyou can do it in one line."
   ]
  },
  {
   "cell_type": "code",
   "execution_count": 8,
   "metadata": {},
   "outputs": [],
   "source": [
    "#your code here\n"
   ]
  },
  {
   "cell_type": "markdown",
   "metadata": {},
   "source": [
    "Theres's a ton of more functions that arrays provide you with. If you use tab completion to get an idea about the amount, you'll understand that we can't cover all. However, we can cover one pitfall:\n",
    "\n",
    "<br/>\n",
    "\n",
    "#### 8.2.1.2 Fortran order vs. C order\n",
    "\n",
    "Fortran and C define different standards about how arrays are stored in memory: [Row-major and column-major order](https://en.wikipedia.org/wiki/Row-_and_column-major_order) respectively. That's basically, when you use `matrix(:)` in MATLAB, do you glue rows together or columns? Fortran and MATLAB are column-dominant. C and numpy are row-dominant.\n",
    "\n",
    "Have a look:\n",
    "\n",
    "**Exercise**\n",
    "\n",
    "   1. Use `np.arange` to create a vector of values from 1 to 25. `np.arange` works like `range()`, except it returns a np.array.\n",
    "   2. Use the array method `array.reshape()` to reshape it into a 5,5-matrix. \n",
    "   3. What would you expect? Print the array.\n"
   ]
  },
  {
   "cell_type": "code",
   "execution_count": null,
   "metadata": {},
   "outputs": [],
   "source": [
    "#your code here\n"
   ]
  },
  {
   "cell_type": "markdown",
   "metadata": {},
   "source": [
    "The same problem arises for `array.ravel()` and `array.flatten()`, that act similar ([but not identical](https://stackoverflow.com/questions/28930465/what-is-the-difference-between-flatten-and-ravel-functions-in-numpy)). Fortunately, there is a way around this. All of these functions take an optional parameter `order`. You can pass either `'C'`, for row-major order of `'F'` for column-major, Fotran/MATLAB-like order.\n",
    "\n",
    "**Exercises**\n",
    "\n",
    "Use `ravel` or `flatten` to reshape the matrix into a vector, using column-major order."
   ]
  },
  {
   "cell_type": "code",
   "execution_count": 35,
   "metadata": {},
   "outputs": [],
   "source": [
    "#your code here\n"
   ]
  },
  {
   "cell_type": "markdown",
   "metadata": {},
   "source": [
    "Numpy is obviously inspired by MATLAB. Some functions are the same. Among them e.g. `linspace`. Others have close analogues. You can find a side-by-side view [here](https://docs.scipy.org/doc/numpy/user/numpy-for-matlab-users.html). Apart from that, you just have to use it to get used to it."
   ]
  },
  {
   "cell_type": "markdown",
   "metadata": {},
   "source": [
    "<br/>\n",
    "\n",
    "**Exercise**\n",
    "\n",
    "Use matplotlib to create three horizontally arranged subplots that all show the cosine, tangens and sine of np.array from 0 to 2 pi."
   ]
  },
  {
   "cell_type": "code",
   "execution_count": 23,
   "metadata": {},
   "outputs": [],
   "source": [
    "#your code here\n"
   ]
  },
  {
   "cell_type": "markdown",
   "metadata": {},
   "source": [
    "## 8.5 ipdb\n",
    "\n",
    "`ipdb` is short for IPython debugging. We will only have a look at one function and that's the only one I've ever used. It's also the only one that I've ever used for debugging in Python. You probably have `ipdb` already installed, but if not you can use conda for this. The function is called `set_trace`. It works exactly the same way as `keyboard` works in MATLAB - stop execution of code and give control back for debugging. Let's import it:"
   ]
  },
  {
   "cell_type": "code",
   "execution_count": null,
   "metadata": {},
   "outputs": [],
   "source": [
    "from ipdb import set_trace"
   ]
  },
  {
   "cell_type": "markdown",
   "metadata": {},
   "source": [
    "You can just call it wherever you want to stop for debugging purposes. The three commands you use in MATLAB for debugging aa `dbstep` to proceed one line and then stop again, `dbcont` to proceed until the next debugging point and `dbquit` to quit debugging and stop execution of program. Have a look at the equivalents in Python:\n",
    "\n",
    "| MATLAB | Python| \n",
    "| ------ | ----- |\n",
    "| dbcont | c     |\n",
    "| dbstep | n     |\n",
    "| dbquit | q     |\n",
    "\n",
    "This is all that's different. The principle is the same. Have a quick look, if you want to:"
   ]
  },
  {
   "cell_type": "code",
   "execution_count": null,
   "metadata": {},
   "outputs": [],
   "source": [
    "for i in range(10):\n",
    "    print(i)\n",
    "    set_trace()"
   ]
  },
  {
   "cell_type": "markdown",
   "metadata": {},
   "source": [
    "That's all you need to change about your debugging procedures. Different commands."
   ]
  },
  {
   "cell_type": "markdown",
   "metadata": {},
   "source": [
    "<br/>\n",
    "\n",
    "# Conclusion\n",
    "\n",
    "This was barely even scratching the surface. There is **a lot** to be learned about these. But hopefully now you have a rough idea about what you can expect from these packages.\n",
    "This was the last bit of spoonfeeding. I think you're ready to be pushed into the cold water and learn how to swim. See you in the last notebook."
   ]
  }
 ],
 "metadata": {
  "kernelspec": {
   "display_name": "Python 3 (ipykernel)",
   "language": "python",
   "name": "python3"
  },
  "language_info": {
   "codemirror_mode": {
    "name": "ipython",
    "version": 3
   },
   "file_extension": ".py",
   "mimetype": "text/x-python",
   "name": "python",
   "nbconvert_exporter": "python",
   "pygments_lexer": "ipython3",
   "version": "3.9.7"
  }
 },
 "nbformat": 4,
 "nbformat_minor": 4
}
