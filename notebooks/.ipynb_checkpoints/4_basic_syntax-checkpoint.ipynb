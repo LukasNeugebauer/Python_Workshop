{
 "cells": [
  {
   "cell_type": "markdown",
   "metadata": {},
   "source": [
    "# 6. Basic syntax and data types\n",
    "\n",
    "Sorry to have you washing cars for so long, but if you really want to become a proficient Karate-ka, it's unfortunately necessary. \n",
    "\n",
    "Although learning the syntax and basic data types is probably the smallest problem when switching from MATLAB, it needs to be done. Besides, it's a good opportunity to introduce cool features and to warn you of pitfalls."
   ]
  },
  {
   "cell_type": "markdown",
   "metadata": {},
   "source": [
    "# 6.1 Assignment \n",
    "\n",
    "Assigment in the simplest form works just the way it works in MATLAB. <br/>\n",
    "The easiest (though (in Python) incorrect) way to think about assignments is: The variable on the left hand side now holds the value on the right hand side.\n",
    "\n",
    "MATLAB:\n",
    "```\n",
    "a = 1;\n",
    "b = [1,2,3];\n",
    "c = 'string';\n",
    "```\n",
    "\n",
    "Python:\n",
    "Try it out yourself and assign some values to variables.<br/>\n",
    "(Hint: In Jupyter notebook you can run cells with `Ctrl+Enter` and run cells and jump to the next one with `Shift+Enter`)."
   ]
  },
  {
   "cell_type": "code",
   "execution_count": 16,
   "metadata": {},
   "outputs": [],
   "source": [
    "#your code here\n"
   ]
  },
  {
   "cell_type": "markdown",
   "metadata": {},
   "source": [
    "### 6.1.1 Chained assignment:\n",
    "\n",
    "This is the first instance of the category \"Stuff you always wanted to be possible in MATLAB\". Don't worry, there's more to come \n",
    "\n",
    "Chained assignments work like this:\n",
    "```\n",
    "var_1 = var_2 ... = var_n = assigned object/\"value\";\n",
    "```\n",
    "\n",
    "Try it out:"
   ]
  },
  {
   "cell_type": "code",
   "execution_count": 3,
   "metadata": {},
   "outputs": [],
   "source": [
    "#your code here\n"
   ]
  },
  {
   "cell_type": "markdown",
   "metadata": {},
   "source": [
    "Use this one with caution. We'll see why in a minute.\n",
    "\n",
    "### 6.1.2 Multiple assigments. \n",
    "This is possible in MATLAB using the `deal()`-function\n",
    "\n",
    "MATLAB:\n",
    "```\n",
    "[a, b] = deal(1, 1);\n",
    "```\n",
    "In Python you don't need brackets on the left hand side.\n",
    "Also, it's a regular way to assign values:\n",
    "\n",
    "```\n",
    "var_1, var_2 = obj_1, obj_2;\n",
    "```\n",
    "\n",
    "This way you can also switch the object that variables are assigned to:\n",
    "\n",
    "```\n",
    "var_1, var_2 = var_2, var_1;\n",
    "```\n",
    "\n",
    "Try it out:"
   ]
  },
  {
   "cell_type": "code",
   "execution_count": 4,
   "metadata": {},
   "outputs": [],
   "source": [
    "#your code\n"
   ]
  },
  {
   "cell_type": "markdown",
   "metadata": {},
   "source": [
    "### 6.1.3 Conditional assignments\n",
    "\n",
    "A feature that many programming languages have is a so called **ternary operator**. Usually it's in the form `a ? b : c`. This expression evaluates to `b` if `a` is a <font color=\"green\">true</font>, otherwise it evaluates to `c`. `a` is anything that can be considered a logical expression like e.g. `y < 3`.\n",
    "\n",
    "In an assignment that could be something like this\n",
    "```C\n",
    "x = a ? b : c;\n",
    "```\n",
    "\n",
    "The order of operands is a bit confusing here, so let's try again in a less concise form:\n",
    "```Python\n",
    "if a:\n",
    "    x = b;\n",
    "else:\n",
    "    x = c;\n",
    "```\n",
    "which is valid Python code.\n",
    "\n",
    "A [pseudocode](https://en.wikipedia.org/wiki/Pseudocode) version of the **ternary operator** might look like this:\n",
    "```\n",
    "x = b if a else = c; \n",
    "```\n",
    "\n",
    "Like so often, this is pretty close to what we actually do in Python. Here we see why the **ternary operator** is also called an **inline-if**:\n",
    "```Python\n",
    "x = b if a else c;\n",
    "```\n",
    "And ain't that just beautiful?\n",
    "Let's check your understanding of the conditional assignment."
   ]
  },
  {
   "cell_type": "code",
   "execution_count": 6,
   "metadata": {},
   "outputs": [],
   "source": [
    "b = 2;\n",
    "c = 3;\n",
    "a = 100 < 10; # This expression evaluates to either True or False, so the value of a is either True of False\n",
    "\n",
    "x = 'spam' if a else 'eggs';"
   ]
  },
  {
   "cell_type": "markdown",
   "metadata": {},
   "source": [
    "What is the value of `x`? Think about it and then print it in the next cell."
   ]
  },
  {
   "cell_type": "code",
   "execution_count": 7,
   "metadata": {},
   "outputs": [],
   "source": [
    "#your code\n"
   ]
  },
  {
   "cell_type": "markdown",
   "metadata": {},
   "source": [
    "Got it right? Nice! If not and you don't know why, don't hesitate to ask.\n",
    "You can also write the logical condition directly into the expression like so:"
   ]
  },
  {
   "cell_type": "code",
   "execution_count": 9,
   "metadata": {},
   "outputs": [
    {
     "name": "stdout",
     "output_type": "stream",
     "text": [
      "small\n"
     ]
    }
   ],
   "source": [
    "x = 100;\n",
    "#consider any value above 150 as big, any value below as small.\n",
    "size_of_x = 'big' if x >= 150 else 'small';\n",
    "print(size_of_x);"
   ]
  },
  {
   "cell_type": "markdown",
   "metadata": {},
   "source": [
    "### 2.1.3 Identity vs. Equality\n",
    "\n",
    "This one is a major pitfall for users that are not used to the distinction between equality and identity. \n",
    "Let's first look at which behavior we would expect from MATLAB:\n",
    "\n",
    "```\n",
    "    %assign array to variable a\n",
    "a = [0,0,0];\n",
    "    %assign the value of a to b, i.e. make a copy\n",
    "b = a;\n",
    "    %change value of b\n",
    "b(1) = 99;\n",
    "    %we would expect that a is unchanged since we didn't change its value\n",
    "disp(a);\n",
    "ans =\n",
    "    [0,0,0];\n",
    "```"
   ]
  },
  {
   "cell_type": "markdown",
   "metadata": {},
   "source": [
    "In Python this is different. Try it yourself."
   ]
  },
  {
   "cell_type": "code",
   "execution_count": 5,
   "metadata": {},
   "outputs": [],
   "source": [
    "a = [0,0,0];"
   ]
  },
  {
   "cell_type": "markdown",
   "metadata": {},
   "source": [
    "Now assign the value of `a` to a new variable `b`. The syntax for this is just like in MATLAB."
   ]
  },
  {
   "cell_type": "code",
   "execution_count": 22,
   "metadata": {},
   "outputs": [],
   "source": [
    "#your code here\n"
   ]
  },
  {
   "cell_type": "markdown",
   "metadata": {},
   "source": [
    "Change one of the elements of the list `b`. Keep in mind that indexing works with square brackets and 0-based. \n",
    "So what's `b(1)` in MATLAB becomes `b[0]` in Python."
   ]
  },
  {
   "cell_type": "code",
   "execution_count": 25,
   "metadata": {},
   "outputs": [],
   "source": [
    "#your code here\n"
   ]
  },
  {
   "cell_type": "markdown",
   "metadata": {},
   "source": [
    "Now what would you expect `a` to look like? You didn't change its value, right? Have a look! <br/>\n",
    "(Though you can just type the name of the variable and hit enter, it's a good point to introduce the `print()` function, that behaves pretty much like `disp()` in MATLAB)"
   ]
  },
  {
   "cell_type": "code",
   "execution_count": 26,
   "metadata": {},
   "outputs": [],
   "source": [
    "#your code here\n"
   ]
  },
  {
   "cell_type": "markdown",
   "metadata": {},
   "source": [
    "That was unexpected, wasn't it? It's necessary to get a good unterstanding of how assignments work. \n",
    "<br/><br/>\n",
    "But first let's have a look at another example. We assign the integer value 1 to `c`:"
   ]
  },
  {
   "cell_type": "code",
   "execution_count": 29,
   "metadata": {},
   "outputs": [],
   "source": [
    "c = 1;"
   ]
  },
  {
   "cell_type": "markdown",
   "metadata": {},
   "source": [
    "Assign `c` to `d`:"
   ]
  },
  {
   "cell_type": "code",
   "execution_count": null,
   "metadata": {},
   "outputs": [],
   "source": [
    "#your code here\n"
   ]
  },
  {
   "cell_type": "markdown",
   "metadata": {},
   "source": [
    "Change the value of `d` to another integer:"
   ]
  },
  {
   "cell_type": "code",
   "execution_count": null,
   "metadata": {},
   "outputs": [],
   "source": [
    "#your code here\n"
   ]
  },
  {
   "cell_type": "markdown",
   "metadata": {},
   "source": [
    "Now check the value of `c`:"
   ]
  },
  {
   "cell_type": "code",
   "execution_count": 28,
   "metadata": {},
   "outputs": [],
   "source": [
    "#your code here\n"
   ]
  },
  {
   "cell_type": "markdown",
   "metadata": {},
   "source": [
    "As you see, something here works differently than the way it works in MATLAB. (The following is almost certainly not fully correct because of course I don't have a clue how any of that actually works. But it can hopefully be considered a functional approximation. If you know C++ and are familiar with pointers and references, please be nice to me nonetheless.)<br/>\n",
    "\n",
    "Maybe your mental model until now was something like:\n",
    "\n",
    "```\n",
    "a = [0, 1] means: now a has the value [0, 1] \n",
    "b = a      means: now b also has the value [0, 1] since this is the value that a has.\n",
    "```\n",
    "\n",
    "A better model is to not consider variables to have a value. But to consider them as index fingers that point at a certain location in the memory of your computer.\n",
    "Something like this:\n",
    "\n",
    "```\n",
    "a = [0, 1] means: we create an object with the value [0, 1] in memory and we want the variable a to point to that location in memory.\n",
    "b = a      means: we want b to also point to the same location that a points to.\n",
    "```\n",
    "\n",
    "Now we can change the \"value\" of `b` in two ways: \n",
    "<br/>\n",
    "1.Change the object that `b` points at:\n",
    "```\n",
    "b[0] = 99 means: change the value of the first element of the object that is stored in the location that b is pointing at\n",
    "```\n",
    "Since `a` is pointing at the same object, the \"value\" of `a` also changes. Thus the behavior we saw makes sense.\n",
    "\n",
    "The second way to change the \"value\" of `b` is to make `b` point at another location in memory.\n",
    "Like this:\n",
    "```\n",
    "b = 99 means: b, bro, I'm sure your arm is tired. It's time to point at something else. How about this sweet int value 99 somewhere else in memory?\n",
    "```\n",
    "This doesn't affect `a`, because it still points at the old location."
   ]
  },
  {
   "cell_type": "markdown",
   "metadata": {},
   "source": [
    "There is still a bit more to it. Integers don't change their value. You can only change the integer a variable is pointing to, but not the value of the integer.\n",
    "In other words, when we create a variable that points at `1`, and then create another variable that also points at `1`, these will point at the same location because there is no reason to have more than one `1` in memory."
   ]
  },
  {
   "cell_type": "code",
   "execution_count": 51,
   "metadata": {},
   "outputs": [
    {
     "data": {
      "text/plain": [
       "True"
      ]
     },
     "execution_count": 51,
     "metadata": {},
     "output_type": "execute_result"
    }
   ],
   "source": [
    "a = 1;\n",
    "b = 1;\n",
    "a is b"
   ]
  },
  {
   "cell_type": "markdown",
   "metadata": {},
   "source": [
    "We'll cover *logical operators* in a second. For now it's enough to believe me that `is` is the logical operator that checks for identity. I.e. it checks if two objects point at the same location in memory.<br/><br/>\n",
    "Things are different for other objects, that can be changed (the correct expression is **mutable objects**).\n",
    "Since these can be changed, it makes sense to have multiple objects of the same value in memory."
   ]
  },
  {
   "cell_type": "code",
   "execution_count": 52,
   "metadata": {},
   "outputs": [
    {
     "data": {
      "text/plain": [
       "False"
      ]
     },
     "execution_count": 52,
     "metadata": {},
     "output_type": "execute_result"
    }
   ],
   "source": [
    "a = [0,1];\n",
    "b = [0,1];\n",
    "a is b"
   ]
  },
  {
   "cell_type": "markdown",
   "metadata": {},
   "source": [
    "Changing `a` has no effect on `b`, because they point at different objects that just happen to look alike."
   ]
  },
  {
   "cell_type": "code",
   "execution_count": 53,
   "metadata": {},
   "outputs": [
    {
     "name": "stdout",
     "output_type": "stream",
     "text": [
      "[0, 1]\n"
     ]
    }
   ],
   "source": [
    "a[0] = 99;\n",
    "print(b);"
   ]
  },
  {
   "cell_type": "markdown",
   "metadata": {},
   "source": [
    "**But**, as a reminder: "
   ]
  },
  {
   "cell_type": "code",
   "execution_count": 54,
   "metadata": {},
   "outputs": [
    {
     "data": {
      "text/plain": [
       "True"
      ]
     },
     "execution_count": 54,
     "metadata": {},
     "output_type": "execute_result"
    }
   ],
   "source": [
    "a = b = [0,1]; # same works with a = [0, 1]; b = a;\n",
    "a is b"
   ]
  },
  {
   "cell_type": "code",
   "execution_count": 55,
   "metadata": {},
   "outputs": [],
   "source": [
    "a[0] = 99;"
   ]
  },
  {
   "cell_type": "markdown",
   "metadata": {},
   "source": [
    "Now, what do you expect? Think about it for a second, and when you know what you expect, check the value of b."
   ]
  },
  {
   "cell_type": "code",
   "execution_count": 56,
   "metadata": {},
   "outputs": [],
   "source": [
    "#your code here\n"
   ]
  },
  {
   "cell_type": "markdown",
   "metadata": {},
   "source": [
    "All good? Don't hesitate to ask!\n",
    "This might be a bit confusing. Just keep in mind that there's a distinction and you'll develop an intuition.<br/><br/><br/><br/>"
   ]
  },
  {
   "cell_type": "markdown",
   "metadata": {},
   "source": [
    "## 2.2 Logical operators"
   ]
  },
  {
   "cell_type": "markdown",
   "metadata": {},
   "source": [
    "Except for `is` and the distinction between identity and equality, logical operators behave pretty much the way you'd except them to.<br/>\n",
    "`<`, `>`, `<=`, `>=`, `==` are the same as in MATLAB. `~=` becomes `!=`."
   ]
  },
  {
   "cell_type": "code",
   "execution_count": 74,
   "metadata": {},
   "outputs": [],
   "source": [
    "a = 10;\n",
    "b = 99;"
   ]
  },
  {
   "cell_type": "markdown",
   "metadata": {},
   "source": [
    "Play around a bit to make sure that you understand how they behave."
   ]
  },
  {
   "cell_type": "code",
   "execution_count": null,
   "metadata": {},
   "outputs": [],
   "source": [
    "#your code here\n"
   ]
  },
  {
   "cell_type": "markdown",
   "metadata": {},
   "source": [
    "**Logical and** and **logical or** are not the same as in MATLAB. While in MATLAB they're `&` and `|`, in Python they're literally `and` and `or`."
   ]
  },
  {
   "cell_type": "code",
   "execution_count": 72,
   "metadata": {},
   "outputs": [],
   "source": [
    "#we create a third variable.\n",
    "c = 99;"
   ]
  },
  {
   "cell_type": "markdown",
   "metadata": {},
   "source": [
    "Chain multiple logical conditions together. E.g. `a` is smaller than `b` and `b` equals `c`"
   ]
  },
  {
   "cell_type": "code",
   "execution_count": 82,
   "metadata": {},
   "outputs": [],
   "source": [
    "#your code here\n"
   ]
  },
  {
   "cell_type": "markdown",
   "metadata": {},
   "source": [
    "Using `not` you can negate the result of a logical operator."
   ]
  },
  {
   "cell_type": "code",
   "execution_count": 88,
   "metadata": {},
   "outputs": [
    {
     "data": {
      "text/plain": [
       "True"
      ]
     },
     "execution_count": 88,
     "metadata": {},
     "output_type": "execute_result"
    }
   ],
   "source": [
    "not a == b"
   ]
  },
  {
   "cell_type": "markdown",
   "metadata": {},
   "source": [
    "Try it out in multiple chained conditions. E.g. `a` is not bigger than `b` and `b` is not unequal to `c`\n"
   ]
  },
  {
   "cell_type": "code",
   "execution_count": 92,
   "metadata": {},
   "outputs": [],
   "source": [
    "#your code here\n"
   ]
  },
  {
   "cell_type": "markdown",
   "metadata": {},
   "source": [
    "Starting to see why they say it reads just like English? ;)"
   ]
  },
  {
   "cell_type": "markdown",
   "metadata": {},
   "source": [
    "<br/><br/><br/>\n",
    "## 2.3 Arithmetic operators\n",
    "\n",
    "For the most part, they do the same as in MATLAB, at least for numeric values. Keep in mind that Python lists are not the same as MATLAB arrays. We'll cover than in the very near future.\n",
    "<br/>Basic arithmetic operations are `+ `, `- `, `/ `, and  `* `.\n",
    "<br/>The power function is not `^` but `**` or alternatively `pow( x, y)` where `x` is the base and `y` is the exponent."
   ]
  },
  {
   "cell_type": "markdown",
   "metadata": {},
   "source": [
    "Take a minute to make sure they do what you think they do:"
   ]
  },
  {
   "cell_type": "code",
   "execution_count": 84,
   "metadata": {},
   "outputs": [],
   "source": [
    "# your code here\n"
   ]
  },
  {
   "cell_type": "markdown",
   "metadata": {},
   "source": [
    "There is one more operator: `//`, that performs floor division, i.e. divide and round down to nearest integer."
   ]
  },
  {
   "cell_type": "code",
   "execution_count": 87,
   "metadata": {},
   "outputs": [
    {
     "data": {
      "text/plain": [
       "2"
      ]
     },
     "execution_count": 87,
     "metadata": {},
     "output_type": "execute_result"
    }
   ],
   "source": [
    "5 // 2;"
   ]
  },
  {
   "cell_type": "markdown",
   "metadata": {},
   "source": [
    "<br/><br/><br/>\n",
    "## 2.3 Fundamental data types\n",
    "\n",
    "For everything else to make sense, we will now introduce fundamental data types."
   ]
  },
  {
   "cell_type": "markdown",
   "metadata": {},
   "source": [
    "### 2.3.1 Numeric data types"
   ]
  },
  {
   "cell_type": "code",
   "execution_count": 83,
   "metadata": {},
   "outputs": [
    {
     "data": {
      "text/plain": [
       "4"
      ]
     },
     "execution_count": 83,
     "metadata": {},
     "output_type": "execute_result"
    }
   ],
   "source": [
    "pow(2,2)"
   ]
  },
  {
   "cell_type": "code",
   "execution_count": null,
   "metadata": {},
   "outputs": [],
   "source": []
  }
 ],
 "metadata": {
  "kernelspec": {
   "display_name": "Python 3",
   "language": "python",
   "name": "python3"
  },
  "language_info": {
   "codemirror_mode": {
    "name": "ipython",
    "version": 3
   },
   "file_extension": ".py",
   "mimetype": "text/x-python",
   "name": "python",
   "nbconvert_exporter": "python",
   "pygments_lexer": "ipython3",
   "version": "3.7.2"
  }
 },
 "nbformat": 4,
 "nbformat_minor": 2
}
