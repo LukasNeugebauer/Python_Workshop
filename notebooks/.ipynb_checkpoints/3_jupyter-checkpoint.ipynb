{
 "cells": [
  {
   "cell_type": "markdown",
   "metadata": {},
   "source": [
    "# 5. Jupyter\n",
    "\n",
    "## 5.1 Jupyter Lab\n",
    "\n",
    "For many people that want to start learning Python, the problem might be less \"How do I learn the syntax?\" and more \"okay, but... where do I actually write the code?\". Jupyter Lab is one answer to this problem and a very good one.\n",
    "\n",
    "Jupyter Lab is something like a browser-based IDE. It's very customizable and there is an active community developing extensions that you can use. You can combine consoles, notebooks and scripts - all in one environment (not to be confused with conda environments). It can look like this:\n",
    "\n",
    "<img align=\"center\" src=\"../img/jupyter_lab.PNG\" width=80% />\n",
    "\n",
    "It can also look completely different."
   ]
  },
  {
   "cell_type": "markdown",
   "metadata": {},
   "source": [
    "**Exercise**\n",
    "\n",
    "Use the anaconda prompt to navigate to the folder with the material for the workshop. Don't go into the \"notebook\"-subfolder. The reason is this: Jupyter Lab can access all files that are in the folder that you start it from. It can also access everything in subfolders and so on. But you can't use files higher up in the hierarchy.\n",
    "\n",
    "Start **Jupyter lab** by entering `jupyter lab` (surprise, surprise) in the prompt and hit enter. \n",
    "\n",
    "Once it has opened, use the file browser on the left to open the notebook __3_jupyter.ipynb__ by double-clicking on it."
   ]
  },
  {
   "cell_type": "markdown",
   "metadata": {},
   "source": [
    "### 5.1.1 Using multiple environments in Jupyter Lab\n",
    "\n",
    "No we see why we installed `nb_conda_kernels`. In the upper right corner you should see something like `Python` or `Python [conda env:root]`. Here you can select a Python kernel. It just means, you can choose which environment you want to use, i.e. which version of Python and which packages. Without `nb_conda_kernels` all you can use is the environment from which you start **Jupyter Lab**. `[conda env:root]` refers to the parent environment, i.e. the one you started Jupyter Lab from.` "
   ]
  },
  {
   "cell_type": "markdown",
   "metadata": {},
   "source": [
    "## 5.2. Jupyter notebooks\n",
    "\n",
    "This right here is a **Jupyter Notebook**. You can use them in the browser without **Jupyter Lab** by starting `jupyter notebook` instead of `jupyter lab` from the prompt. However, **Jupyter Lab** is the state-of-the-art workflow using Jupyter and there really is no downside to it. \n",
    "\n",
    "**Jupyter notebook** are comparable to *Live Scripts* in MATLAB or *Markdown* in R. They consist of cells that can either hold code or some formatted text. You can use **html** and **markdown** commands to format the text. This way you can also include graphics. You can combine code snippets, plots and written text in one document. This can then be saved as *HTML* or *PDF* documents. It's also an obvious tool for [open notebook science](https://en.wikipedia.org/wiki/Open-notebook_science). This way you can present results while making them directly reproducible and on top communicating your thought process and justification for your analysis strategies. **Jupyter notebooks** themselves are language agnostic. There's kernels for R, Julia and dozens of other languages including MATLAB (although this hard to get running on Windows). \n",
    "\n",
    "The winner of the 2018 (so-called) Nobel prize for economics [uses Python and Jupyter Notebooks](https://aruljohn.com/blog/nobel-laureate-python/)."
   ]
  },
  {
   "cell_type": "markdown",
   "metadata": {},
   "source": [
    "### 5.1.2 Consoles in Jupyter Lab\n",
    "\n",
    "What is called a console in **Jupyter Lab** is really just an instance of IPython. IPython is an interactive Python shell, so pretty much the same as a command window in MATLAB. You can drag notebooks, consoles and scripts to rearrange them in the way you want to.\n",
    "\n",
    "**Exercise** \n",
    "\n",
    "Start a console. Click `File` -> `New` -> `Console`. Try a few simple calculations like `3 + 4` to see how it works or assign some values to variables the way you would in MATLAB. Depending on your settings you have to hit `Ctrl + Enter` to execute the code."
   ]
  },
  {
   "cell_type": "markdown",
   "metadata": {},
   "source": [
    "### 5.1.3 Scope of kernels in Jupyter Lab\n",
    "\n",
    "Each **Jupyter Notebook** and each console/command window (if you start it on its own) uses their own kernel. So they all have their own instance of the Python interpreter running and don't know anything about the variables of other kernels/notebooks/consoles. \n",
    "\n",
    "**Exercise** \n",
    "\n",
    "Assign a value to a variable in the console, e.g. `a = 3`. Then come back to this notebook and try to print the value in the next cell. **Hint**: `print()` does what `disp()` does in MATLAB."
   ]
  },
  {
   "cell_type": "code",
   "execution_count": null,
   "metadata": {},
   "outputs": [],
   "source": [
    "#your code here\n"
   ]
  }
 ],
 "metadata": {
  "kernelspec": {
   "display_name": "Python [conda env:root]",
   "language": "python",
   "name": "conda-root-py"
  },
  "language_info": {
   "codemirror_mode": {
    "name": "ipython",
    "version": 3
   },
   "file_extension": ".py",
   "mimetype": "text/x-python",
   "name": "python",
   "nbconvert_exporter": "python",
   "pygments_lexer": "ipython3",
   "version": "3.7.1"
  }
 },
 "nbformat": 4,
 "nbformat_minor": 2
}
