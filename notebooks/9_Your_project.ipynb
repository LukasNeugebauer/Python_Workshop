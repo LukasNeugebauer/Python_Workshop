{
 "cells": [
  {
   "cell_type": "markdown",
   "metadata": {},
   "source": [
    "# 12. Your project\n",
    "\n",
    "Of course we didn't have enough time so that you could start an actual project now. But we can play around a bit and bring a lot of the things you learned into application.\n",
    "For this purpose I simulated some toy data. You can find it in \"../toy_data\". If you're interested in the process, you can look at \"../scripts/create_toy_data.py\".\n",
    "\n",
    "## 12.1 The \"study\"\n",
    "\n",
    "The \"study\" this data is from, looks like this:\n",
    "\n",
    "Subjects rate 30 different food items on a scale from 1 to 20 with respect to how much they like them. They then see pictures of these items in randomized order, 5 pictures per item. Of course timing is jittered, so they can't expect pictures. The subjects are instructed to press a button as soon as possible when a picture appears.\n",
    "\n",
    "The hypothesis to be tested here is that subjects respond faster, when they like an item more. This can be analyzed on an individual basis and on group level.\n",
    "\n",
    "There is one folder per subject. It contains three files:\n",
    "\n",
    "**food_ratings.csv** contains the ratings per food item.\n",
    "\n",
    "**rating_sequences.csv** contains the sequence of pictures, but the id of the picture was replaced with the respective rating.\n",
    "\n",
    "**sequence_RT.csv** contains the sequence of food ids and the reaction times.\n",
    "\n",
    "## 12.2 Your task\n",
    "\n",
    "This is a very good opportunity to bring everything we learned into application and learn a lot more. You will need to use your favorite search engine a LOT for this. It's normal.\n",
    "\n",
    "I'd prefer it if you use a class, but you can also write functions. Depending on how long we have left, how comfortable you feel with Python, etc., see the following as suggestions:\n",
    "\n",
    "## 12.2.1 Write a class\n",
    "\n",
    "Write a class \"Subject\", that has the following functionality:\n",
    "\n",
    "   1. Initialize with the subID, check if there's data for this subject.\n",
    "   2. Load the data into the object. *Hint*: pandas input/output functions are better, you can use these. Not necessary though.\n",
    "   3. Find a way to generate a \"sequence of ratings\" - if you don't want to do this, you can just load this information from \"rating_sequences.csv\"\n",
    "   4. Optional: Check the distribution of RTs, log-transform if necessary.\n",
    "   5. Use a linear regression (hint: this can be found in scipy) and regress RT onto ratings.\n",
    "   6. Plot reaction times against ratings.\n",
    "   7. Plot regression line, add info as text."
   ]
  },
  {
   "cell_type": "markdown",
   "metadata": {},
   "source": [
    "This would be already extremely cool. If you had prior Python experience and are bored, here's a few advanced suggestions if you need more:\n",
    "\n",
    "   1. Write a script that takes subID as argument, computes all the stuff, saves results and plot to the subject folder.\n",
    "   2. Write a project class with some information and the functionality to generate a list of valid subjects. Let \"Subject\" inherit from this class and find out how to initialize a superclass\n",
    "   3. Write a group level class that looks at the distribution of regression coefficients.\n",
    "   \n",
    "If your done with that, you took the wrong workshop and can feel free to help others around you."
   ]
  },
  {
   "cell_type": "markdown",
   "metadata": {},
   "source": [
    "# 12.3 A few hints:\n",
    "\n",
    "   1. First of all - don't expect to know how any of this works immediately. You should now possess the background to start finding out yourself. This was the aim of the workshop.\n",
    "   2. You will need `os` to handle path variables. In `os.path` there's a lot of helpful functions.\n",
    "   3. Preferably you should work in pairs, but alone or in groups is fine with me\n",
    "   4. You can't break anything. I mean... don't delete System32, but apart from that, you're good.\n",
    "   5. Don't be afraid to try out things.\n",
    "   6. Try to be idiomatic.\n",
    "   \n",
    "That's it. Have fun, don't hesitate to ask and welcome to Python!"
   ]
  }
 ],
 "metadata": {
  "kernelspec": {
   "display_name": "Python 3",
   "language": "python",
   "name": "python3"
  },
  "language_info": {
   "codemirror_mode": {
    "name": "ipython",
    "version": 3
   },
   "file_extension": ".py",
   "mimetype": "text/x-python",
   "name": "python",
   "nbconvert_exporter": "python",
   "pygments_lexer": "ipython3",
   "version": "3.7.2"
  }
 },
 "nbformat": 4,
 "nbformat_minor": 2
}
