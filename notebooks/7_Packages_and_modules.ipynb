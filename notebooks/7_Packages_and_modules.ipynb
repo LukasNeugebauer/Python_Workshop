{
 "cells": [
  {
   "cell_type": "markdown",
   "metadata": {},
   "source": [
    "# 7. Packages and modules\n",
    "\n",
    "Classes and functions, everything you can use in Python that is not in the standard library is organized in **modules** and **packages**.\n",
    "\n",
    "## 7.1 Modules\n",
    "\n",
    "A module is every file that ends with **.py**. It can contain function definitions, constants and class definitions. It can also be run like you know it from a **.m** file. You can write modules yourself, and you should. One huge advantage is to avoid spaghetti code. Define your classes and functions in one file, import them im another and this way you bring a structure to your code. This improves readability, it leverages the pillars of OOP (abstraction) and it makes different parts of your code reusable for different aspects. No more copy-pasting code from one file to another. Just import it.\n",
    "\n",
    "We'll have a look at how that works right now:\n",
    "\n",
    "**Exercise**\n",
    "\n",
    "   1. Open a file **in this directory** using an editor of your choice, e.g. the one built into jupyter lab. \n",
    "   2. Rename it to **test.py**.\n",
    "   3. In this file, define two functions:\n",
    "      1. One that prints a message of your choice.\n",
    "      2. One that does any mathematical operation with its input, e.g. square, double, subtract 1, etc.\n",
    "   4. Save the file"
   ]
  },
  {
   "cell_type": "markdown",
   "metadata": {},
   "source": [
    "Congratulations, you just wrote your first module. You can now import the functions into this notebook. There are multiple ways to do this, but all of them include the `import`-statement.\n",
    "\n",
    "You can import the whole module. The syntax for calling functions from the module uses the `module.function()`-notation, just like classes:\n",
    "\n",
    "```Python\n",
    "import module_name\n",
    "```\n",
    "\n",
    "You don't have to write the `.py`-part, Python knows it's a module because of this file ending.\n",
    "\n",
    "**Exercise**\n",
    "\n",
    "Go ahead and import your whole module. Then try out the both functions you just defined in there:"
   ]
  },
  {
   "cell_type": "code",
   "execution_count": 68,
   "metadata": {},
   "outputs": [],
   "source": [
    "#your code here\n"
   ]
  },
  {
   "cell_type": "markdown",
   "metadata": {},
   "source": [
    "There are advantages and disadvantages to this approach. They will become apparent, when we import from more complicated modules and packages. One big advantage is the implicit use of namespaces. I.e. because you call `module.function()` and not just `function()`, you can have functions of the same name in different modules without a problem. Recall one line from the **Zen of Python**:\n",
    "\n",
    "```\n",
    "Namespaces are one honking great idea -- let's do more of those!\n",
    "```\n",
    "\n",
    "\n",
    "We can also rename the module while importing it. For a few packages there are conventions for this, e.g.\n",
    "\n",
    "```Python\n",
    "import numpy as np;\n",
    "import seaborn as sns;\n",
    "```\n",
    "\n",
    "You can also be more specific and just import certain functions. The syntax is:\n",
    "\n",
    "```Python\n",
    "from module_name import function1, function2, functionN\n",
    "```\n",
    "\n",
    "And again, you can rename it while doing that.\n",
    "\n",
    "```Python\n",
    "from my_package import long_function_name_that_would_be_annoying_to_use as my_function\n",
    "```\n",
    "\n",
    "You can also leverage this approach to avoid the need to call `module.function()`, while still importing all functions from the module:\n",
    "\n",
    "```Python\n",
    "from module_name import *\n",
    "```\n",
    "\n",
    "You'll see this often with `from numpy import *`. It's okay if you use packages with only few functions and classes or only use one package at a time. Otherwise it's a bad habit and can lead to unexpected behavior when you import different functions with the same name.\n",
    "\n",
    "**Exercise**\n",
    "\n",
    "   1. Restart the kernel. You can't really unimport modules, so this is the cleanest way to achieve this task. Either hit '0' twice, or use the GUI.\n",
    "   2. Import only one of your functions and rename it.\n",
    "   3. Make sure everything worked as expected by calling the function."
   ]
  },
  {
   "cell_type": "code",
   "execution_count": null,
   "metadata": {},
   "outputs": [],
   "source": [
    "#your code here\n"
   ]
  },
  {
   "cell_type": "markdown",
   "metadata": {},
   "source": [
    "## 7.2 Packages\n",
    "\n",
    "When you have a lot of different classes and functions it becomes unfeasible (and especially unmaintainable) to put all of them in one module. E.g. `scipy` has functions and classes for things like linear algebra but also filters for signal progressing. It would be really confusing to have all of that in one file. The simplest packages are really just collections of modules. E.g. `numpy` has a module named `random` in which all of the random number generators and the like are defined.\n",
    "\n",
    "You can import only certain modules. You can also import only specific functions from modules. As usual there's more than one way to do it. \n",
    "\n",
    "Import one module from package:\n",
    "```Python\n",
    "from package import module\n",
    "import package.module [ as module ]\n",
    "```\n",
    "E.g. from `matplotlib`, the plotting package, you usually import only `pyplot`, the OOP-based interface to low-level plotting libraries. The convention to do this is:\n",
    "```Python\n",
    "import matplotlib.pyplot as plt\n",
    "```\n",
    "or\n",
    "```Python\n",
    "from matplotlib import pyplot as plt\n",
    "```\n",
    "which are equivalent.\n",
    "\n",
    "Import specific functions from one module:\n",
    "```Python\n",
    "from package.module import function1, function2\n",
    "```\n",
    "As usual, you can rename everything\n",
    "```Python\n",
    "from package.module import function1 as my_fun_1, function2 as my_fun_2\n",
    "```\n",
    "\n",
    "If you only use a few functions "
   ]
  },
  {
   "cell_type": "markdown",
   "metadata": {},
   "source": [
    "**Exercise**\n",
    "\n",
    "Import the function `randn` from the module `random` in the package `numpy`. Find out how it works and use it. Welcome to `numpy`."
   ]
  },
  {
   "cell_type": "code",
   "execution_count": 2,
   "metadata": {},
   "outputs": [],
   "source": [
    "#your code here\n"
   ]
  },
  {
   "cell_type": "markdown",
   "metadata": {},
   "source": [
    "## 7.3 sys.path\n",
    "\n",
    "Just like MATLAB can only use functions that are on its `path`-variable, we can only import from modules and packages that are within the scope of the interpreter. You can always import from modules that are in \n",
    "   1. your current working directory in case you're using an interactive shell\n",
    "   3. in the same directory as the script/module that tries to import in case you're running a program\n",
    "\n",
    "And you can import from modules and packages that are on in `sys.path`.\n",
    "\n",
    "**sys** is a package that you use to get information about the interpreter and interact with it. `sys.path` is a list (both as in an enumeration and a Python object of type `list`) of directories. You can add to and remove from the path as needed. \n",
    "\n",
    "**Exercise**\n",
    "\n",
    "Import `sys` and have a look at the path variable."
   ]
  },
  {
   "cell_type": "code",
   "execution_count": 22,
   "metadata": {},
   "outputs": [
    {
     "name": "stdout",
     "output_type": "stream",
     "text": [
      "['D:\\\\Documents\\\\Python_Workshop\\\\notebooks', 'C:\\\\Users\\\\Lukas\\\\Anaconda3\\\\envs\\\\workshop\\\\python37.zip', 'C:\\\\Users\\\\Lukas\\\\Anaconda3\\\\envs\\\\workshop\\\\DLLs', 'C:\\\\Users\\\\Lukas\\\\Anaconda3\\\\envs\\\\workshop\\\\lib', 'C:\\\\Users\\\\Lukas\\\\Anaconda3\\\\envs\\\\workshop', '', 'C:\\\\Users\\\\Lukas\\\\Anaconda3\\\\envs\\\\workshop\\\\lib\\\\site-packages', 'C:\\\\Users\\\\Lukas\\\\Anaconda3\\\\envs\\\\workshop\\\\lib\\\\site-packages\\\\IPython\\\\extensions', 'C:\\\\Users\\\\Lukas\\\\.ipython']\n"
     ]
    }
   ],
   "source": [
    "#your code here\n"
   ]
  },
  {
   "cell_type": "markdown",
   "metadata": {},
   "source": [
    "**Exercise**\n",
    "\n",
    "In the folder `..\\scripts`, there is a module called `my_module`  with a function `my_function`. Try to import it."
   ]
  },
  {
   "cell_type": "code",
   "execution_count": 23,
   "metadata": {},
   "outputs": [],
   "source": [
    "#your code here\n"
   ]
  },
  {
   "cell_type": "markdown",
   "metadata": {},
   "source": [
    "It doesn't work, because the directory is not on `sys.path`.\n",
    "\n",
    "Super short digression to the `os` module:\n",
    "\n",
    "`os` is short for \"Operating System\". You can use the module to get information about the OS you're using, e.g. which file seperator to use. Also you can use it to interact with the OS, e.g. printing or changing the current working directory, shutting down the computer, etc. \n",
    "\n",
    "Have a look:\n"
   ]
  },
  {
   "cell_type": "code",
   "execution_count": 24,
   "metadata": {},
   "outputs": [
    {
     "name": "stdout",
     "output_type": "stream",
     "text": [
      "\\\n",
      "D:\\Documents\\Python_Workshop\\notebooks\n"
     ]
    }
   ],
   "source": [
    "import os\n",
    "print(os.sep); #this will be different depending on wether you are on UNIX or Windows.\n",
    "print(os.getcwd()); #like pwd \n",
    "os.chdir( '..' ); #like cd, go back one level in folder hierarchy"
   ]
  },
  {
   "cell_type": "markdown",
   "metadata": {},
   "source": [
    "IPython implements `pwd` and `cd`, but if you have a look, they're really just wrappers around the `os` functions:"
   ]
  },
  {
   "cell_type": "code",
   "execution_count": 25,
   "metadata": {},
   "outputs": [
    {
     "data": {
      "text/plain": [
       "\u001b[1;31mSource:\u001b[0m\n",
       "    \u001b[1;33m@\u001b[0m\u001b[0mskip_doctest\u001b[0m\u001b[1;33m\n",
       "\u001b[0m    \u001b[1;33m@\u001b[0m\u001b[0mline_magic\u001b[0m\u001b[1;33m\n",
       "\u001b[0m    \u001b[1;32mdef\u001b[0m \u001b[0mpwd\u001b[0m\u001b[1;33m(\u001b[0m\u001b[0mself\u001b[0m\u001b[1;33m,\u001b[0m \u001b[0mparameter_s\u001b[0m\u001b[1;33m=\u001b[0m\u001b[1;34m''\u001b[0m\u001b[1;33m)\u001b[0m\u001b[1;33m:\u001b[0m\u001b[1;33m\n",
       "\u001b[0m        \u001b[1;34m\"\"\"Return the current working directory path.\n",
       "\n",
       "        Examples\n",
       "        --------\n",
       "        ::\n",
       "\n",
       "          In [9]: pwd\n",
       "          Out[9]: '/home/tsuser/sprint/ipython'\n",
       "        \"\"\"\u001b[0m\u001b[1;33m\n",
       "\u001b[0m        \u001b[1;32mtry\u001b[0m\u001b[1;33m:\u001b[0m\u001b[1;33m\n",
       "\u001b[0m            \u001b[1;32mreturn\u001b[0m \u001b[0mos\u001b[0m\u001b[1;33m.\u001b[0m\u001b[0mgetcwd\u001b[0m\u001b[1;33m(\u001b[0m\u001b[1;33m)\u001b[0m\u001b[1;33m\n",
       "\u001b[0m        \u001b[1;32mexcept\u001b[0m \u001b[0mFileNotFoundError\u001b[0m\u001b[1;33m:\u001b[0m\u001b[1;33m\n",
       "\u001b[0m            \u001b[1;32mraise\u001b[0m \u001b[0mUsageError\u001b[0m\u001b[1;33m(\u001b[0m\u001b[1;34m\"CWD no longer exists - please use %cd to change directory.\"\u001b[0m\u001b[1;33m)\u001b[0m\u001b[1;33m\u001b[0m\u001b[1;33m\u001b[0m\u001b[0m\n",
       "\u001b[1;31mFile:\u001b[0m   c:\\users\\lukas\\anaconda3\\envs\\workshop\\lib\\site-packages\\ipython\\core\\magics\\osm.py\n"
      ]
     },
     "metadata": {},
     "output_type": "display_data"
    }
   ],
   "source": [
    "pwd??"
   ]
  },
  {
   "cell_type": "markdown",
   "metadata": {},
   "source": [
    "Now, we are no longer in the `notebooks` folder:"
   ]
  },
  {
   "cell_type": "code",
   "execution_count": 26,
   "metadata": {},
   "outputs": [],
   "source": [
    "os.getcwd();"
   ]
  },
  {
   "cell_type": "markdown",
   "metadata": {},
   "source": [
    "**Exercise**\n",
    "\n",
    "   1. Use `os` to create a string of the absolute path to the \"scripts\"-folder. You can use string concatenation or look for a function in the module `os.path`\n",
    "   2. Add it to the `sys.path` variable. Don't forget, it's just a list after all.\n",
    "   3. Navigate back to the \"notebooks\"-folder\n",
    "   4. Try again to import `my_function` from `my_module` and run it. It expects your name as a string as input."
   ]
  },
  {
   "cell_type": "code",
   "execution_count": null,
   "metadata": {},
   "outputs": [],
   "source": [
    "#your code here\n"
   ]
  },
  {
   "cell_type": "markdown",
   "metadata": {},
   "source": [
    "## 7.4 Programs\n",
    "\n",
    "### 7.4.1 Programs vs modules\n",
    "\n",
    "A program is an executable piece of code. Internally, there is no distinction between a program and a module. A **.py**-file can even be both. The command\n",
    "\n",
    "```Python\n",
    "import my_module\n",
    "```\n",
    "is really nothing but `run the file my_module`. Running function definitions has the effect to have the function in memory afterwards, which is the definition of importing a function. To illustrate the point, do the following:\n",
    "\n",
    "**Exercise**\n",
    "\n",
    "   1. Create a file hello_world.py in \"..\\scripts\".\n",
    "   2. Define a function hello_world that prints \"hello world\".\n",
    "   3. Use the `print()`-function to print something completely different.\n",
    "   4. Run the following cell (make sure that the directory is on your sys.path)"
   ]
  },
  {
   "cell_type": "markdown",
   "metadata": {},
   "source": [
    "import hello_world"
   ]
  },
  {
   "cell_type": "markdown",
   "metadata": {},
   "source": [
    "There are ways to avoid this confusion and we'll cover them in a second.\n",
    "\n",
    "## 7.4.2 Running a program from the command line\n",
    "\n",
    "The \"command line\" can be any shell that knows a Python executable that is compatible with the program (Python 2 vs. Python 3). On Windows, this will be the Anaconda prompt. On MacOS and Linux you should be able to use the system prompt/Terminal.\n",
    "\n",
    "In the prompt, type the following to run a Python script:\n",
    "```\n",
    "python name_of_script.py\n",
    "```\n",
    "which just tells the Python interpreter to run the code in the file. The file has to be in your working directory, otherwise you have to use an absolute path.\n",
    "\n",
    "**Exercise**\n",
    "\n",
    "   1. Open up a new instance of the interpreter. \n",
    "   2. Run your hello_world-file. \n",
    "   3. Observe what happens."
   ]
  },
  {
   "cell_type": "markdown",
   "metadata": {},
   "source": [
    "### 7.4.3 if \\_\\_name__ == \"\\_\\_main__\":\n",
    "\n",
    "You will see this in many scripts and since it can be really confusing, it seems like a good idea to cover that here.\n",
    "\n",
    "The Python interpreter assigns a variable called `__name__` to any source files before executing the code. This is true for notebooks and **.py**-files alike.\n",
    "\n",
    "**Exercise**\n",
    "\n",
    "Print the `__name__` of the current notebook:"
   ]
  },
  {
   "cell_type": "code",
   "execution_count": 4,
   "metadata": {},
   "outputs": [
    {
     "name": "stdout",
     "output_type": "stream",
     "text": [
      "__main__\n"
     ]
    }
   ],
   "source": [
    "#your code here\n"
   ]
  },
  {
   "cell_type": "markdown",
   "metadata": {},
   "source": [
    "The name of the current notebook is `\"__main__\"`. This is because we are actively using this notebook and not importing from somewhere else. E.g. if you import from a module, the name of the **.py**-file is the name of the module by default.\n",
    "\n",
    "**Exercise**\n",
    "\n",
    "   1. Create a new **.py**-file and add a print statement that prints: `__name__ = {value of __name__}`\n",
    "   2. Import the module \n",
    "   3. Run the module as a program from the command line"
   ]
  },
  {
   "cell_type": "markdown",
   "metadata": {},
   "source": [
    "As you can see, the `__name__`  is a different one in both cases.\n",
    "\n",
    "This fact can be leveraged to have modules that can contain code that can be imported without side effects and can still be run as programs. When writing programs that should be used from the command line, it is good practice to add the statement `if __name__ == \"__main__\":` before all code that is supposed to be executed.\n",
    "\n",
    "**Exercise**\n",
    "\n",
    "   1. Open a new **.py**-file\n",
    "   2. Import randint from numpy.random\n",
    "   3. Define a function that prints 10 random integers between 1 and 100 to the screen.\n",
    "   4. Run the function, but only if the program is used as main program.\n",
    "   5. Check the behavior by running from the command line and importing the package in here"
   ]
  },
  {
   "cell_type": "markdown",
   "metadata": {},
   "source": [
    "### 7.4.4 Command line arguments\n",
    "\n",
    "You can also pass arguments using the command line approach. E.g. you can set a toggle for verbosity, you can define a subID, whatever you want. For this we will use the package `argparse`. Let's have a look at the file \"argparse_demo.py\".\n",
    "\n",
    "**Exercise**\n",
    "\n",
    "Write a script that computes the nth power of a value. Make the base a positional argument and define a default for the exponent."
   ]
  }
 ],
 "metadata": {
  "kernelspec": {
   "display_name": "Python 3",
   "language": "python",
   "name": "python3"
  },
  "language_info": {
   "codemirror_mode": {
    "name": "ipython",
    "version": 3
   },
   "file_extension": ".py",
   "mimetype": "text/x-python",
   "name": "python",
   "nbconvert_exporter": "python",
   "pygments_lexer": "ipython3",
   "version": "3.7.2"
  }
 },
 "nbformat": 4,
 "nbformat_minor": 2
}
