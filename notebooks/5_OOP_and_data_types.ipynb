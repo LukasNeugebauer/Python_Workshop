{
 "cells": [
  {
   "cell_type": "markdown",
   "metadata": {},
   "source": [
    "# 7. Introduction to Object-Oriented Programming ( OOP )\n",
    "\n",
    "## 7.1 Programming paradigms\n",
    "\n",
    "Chances are that until now you didn't have to think about programming paradigms. There are multiple reasons for this:\n",
    "\n",
    "   1. You only know one language (or similar languages) and developed an intuitive understanding of the underlying structure\n",
    "   2. Most languages are not \"pure\" in that they only support one programming paradigm. Some, e.g. Haskell, are. They're supposed to be awesome but not very popular.\n",
    "   3. Programming paradigms sometimes don't have clear borders between each other. I still don't really get the difference between imperative and procedural programming.\n",
    "\n",
    "Programming paradigms can be understood as a philosophy of coding, an abstraction of how to think about problems. One important concept here is **state** which in MATLAB is roughly the values of variables in your workspace. Paradigms handle the state differently.\n",
    "\n",
    "You don't need to learn a whole lot about programming paradigms if you switch from MATLAB to Python. I don't know a whole lot about it either (yet). I highly recommend this [blogpost](https://digitalfellows.commons.gc.cuny.edu/2018/03/12/an-introduction-to-programming-paradigms/) that introduces imperative, functional and object-oriented programming by solving the same problem in three different ways in Python. \n",
    "\n",
    "The following is an ultra-short explanation of paradigms. \n",
    "\n",
    "**Imperative/procedural programming** is often like an IKEA instruction or a recipe. First do step 1, then do step 2 where all of the steps change the state. Use function `screwdriver` to combine variable `screw` and variable `board` into the new variable `sideboard`. This is very convenient for coding but becomes unpredictable in larger programms. It's probably the style of programming you're most used to. The distinction is that imperative programming tells the computer what to do in statements, while procedural programming tells the computer what it wants done and doesn't care about how the computer does it. Don't worry too much about it if you don't really understand what that's supposed to mean. Neither do I. There's variables and there's functions that change the value of variables and that's all you need to know right now. I'll use *imperative programming* to refer to this style.\n",
    "\n",
    "**Functional programming** tries to avoid changes in state, i.e. you can't change the value of variables or there are no variables and everything is functions. It's really hard to understand for people used to imperative or object-oriented programming - I have no clue how it works. This makes programming way harder but it makes programms more maintainable and predictable. It's considered *pure* programming by hardcore computer scientists. If you want to impress them, learn Haskell. You don't need to understand functional programming to use Python. But learning a bit about it will most likely make you a better programmer.\n",
    "\n",
    "**Object-oriented programming** gets rid of the dichotomy between state and ways to change it by *encapsulating* different aspects of the global state into objects. These objects also have methods to work on their own state. Imagine a dog that has attributes like the color and state of it's hair or it's level of hungryness. It also has methods like `eat()` or `scratch()` to change it's state. OOP tries to model the *real world* which brings a few new problems with it but is very intuitive.\n",
    "\n",
    "\n",
    "## 7.2 Programming paradigms in Python vs. MATLAB\n",
    "\n",
    "\n",
    "MATLAB is not a pure language. It's mostly imperative - or better: It's probably the style you have mostly been using in MATLAB. Technically you can use a more functional style. But this is implicitely discouraged because you can only define function in scripts and not everywhere. What some of you might know: You can also use OOP in MATLAB. Version 2008a introduced syntax for classes more similar to other OO languages than before. You might find it if you look into source code of Toolboxes like *SPM* but in my experience it's not very frequently used by end-users. I suspect one reason to be the horrible syntax, but maybe that's just me.\n",
    "\n",
    "Python is not pure either. How you use it is up to you. You can pretty much translate your MATLAB code line by line to Python and it would run. It wouldn't be very idiomatic though. The fact that everything - including functions and classes - are objects makes it easier to use functional and OOP features than in MATLAB. Also, even when you don't want to use classes yourself, you have to understand what they are if you want to understand why a list has methods or if you even consider using packages like `scikit-learn`. For this reason, we introduce OOP now, before you have time to be confused about something like:"
   ]
  },
  {
   "cell_type": "code",
   "execution_count": 6,
   "metadata": {},
   "outputs": [
    {
     "name": "stdout",
     "output_type": "stream",
     "text": [
      "[2, 3, 4]\n"
     ]
    }
   ],
   "source": [
    "a = [1,2,3];\n",
    "a.append( 4 );\n",
    "a.pop( 0 );\n",
    "print(a);"
   ]
  },
  {
   "cell_type": "markdown",
   "metadata": {},
   "source": [
    "## 7.3 Object-oriented programming\n",
    "\n",
    "There are 4 pillars of OOP:\n",
    "\n",
    "   1. Encapsulation\n",
    "   2. Inheritance\n",
    "   3. Abstraction\n",
    "   4. Polymorphism\n",
    "   \n",
    "Of course, this information doesn't help you in the slightest.\n",
    "\n",
    "The short version: OOP combines data (OOP: properties/attributes) and functions (OOP: methods) into objects. Objects are instances of a blueprint called \"class\". It's combining variables and functions into one (Encapsulation). These objects can change their state and have access to their own properties. They can be used without knowing the class definition (Abstraction). Classes can steal methods and properties from other classes and this way become increasingly complex (Inheritance). Different classes can do the same thing in a different way (Polymorphism).\n",
    "\n",
    "Still doesn't much more sense? Don't worry, it will soon.\n",
    "\n",
    "What does it look like in praxis? \n",
    "\n",
    "Imperative: There is a variable and a function that works on the variable.\n",
    "```\n",
    "array = [1,2,3];\n",
    "m = mean(array);\n",
    "```\n",
    "\n",
    "OOP (pseudocode): There is an object that contains both data and the method to work on this data.\n",
    "```\n",
    "array = [1,2,3];\n",
    "m = array.mean();\n",
    "```\n",
    "\n",
    "### 7.3.1 Classes vs. objects\n",
    "\n",
    "An object is an instance of a class. There has to be a class definition before you can have an instance of it. Some examples:\n",
    "\n",
    "   1. You are an instance of the class \"human\"\n",
    "   2. Python is an instance of the class \"programming language\" \n",
    "   3. Your dog is an instance of the class \"dog\". It's also an instance of the more abstract class \"animal\". So are you btw.\n",
    "   \n",
    "In code: \n",
    "(for now, don't worry about the syntax, understand the concept)"
   ]
  },
  {
   "cell_type": "code",
   "execution_count": 26,
   "metadata": {},
   "outputs": [],
   "source": [
    "# \"dog\" is a class that defines what defines a dog. Here, a dog's sound is \"wuff\", it can bark and that's it\n",
    "class dog:\n",
    "    \n",
    "    sound = 'wuff';\n",
    "    \n",
    "    def bark(self):\n",
    "        print(self.sound)\n",
    "    "
   ]
  },
  {
   "cell_type": "code",
   "execution_count": 27,
   "metadata": {},
   "outputs": [
    {
     "data": {
      "text/plain": [
       "type"
      ]
     },
     "execution_count": 27,
     "metadata": {},
     "output_type": "execute_result"
    }
   ],
   "source": [
    "type(dog)"
   ]
  },
  {
   "cell_type": "markdown",
   "metadata": {},
   "source": [
    "So the \"type\" of dog is `type`. Ironically the command in MATLAB would be `class`. The class `type` is the class of class definitions. Every class definition is an instance of the class \"class definitions\"/ `type`. We can check that with some classes we already know using `isinstance( object, class )`."
   ]
  },
  {
   "cell_type": "code",
   "execution_count": 100,
   "metadata": {},
   "outputs": [
    {
     "data": {
      "text/plain": [
       "True"
      ]
     },
     "execution_count": 100,
     "metadata": {},
     "output_type": "execute_result"
    }
   ],
   "source": [
    "#isinstance checks if an object is an instance of a specific class like this. 1 is an integer, so the object 1 is an instance of the class integer.\n",
    "isinstance( 1, int)"
   ]
  },
  {
   "cell_type": "code",
   "execution_count": 103,
   "metadata": {},
   "outputs": [
    {
     "data": {
      "text/plain": [
       "True"
      ]
     },
     "execution_count": 103,
     "metadata": {},
     "output_type": "execute_result"
    }
   ],
   "source": [
    "#dog is of type \"type\":\n",
    "isinstance( dog, type )"
   ]
  },
  {
   "cell_type": "code",
   "execution_count": 104,
   "metadata": {},
   "outputs": [
    {
     "data": {
      "text/plain": [
       "True"
      ]
     },
     "execution_count": 104,
     "metadata": {},
     "output_type": "execute_result"
    }
   ],
   "source": [
    "#so is int\n",
    "isinstance( int, type )"
   ]
  },
  {
   "cell_type": "markdown",
   "metadata": {},
   "source": [
    "Until now, we only have the class but there is no instance of the class \"dog\" yet. You can have a concept of what dinosaurs are without any of them being around here. Let's create an object of type \"dog\", i.e. an instance of the class. You create instances by calling the class definition like a function."
   ]
  },
  {
   "cell_type": "code",
   "execution_count": 105,
   "metadata": {},
   "outputs": [],
   "source": [
    "bello = dog();"
   ]
  },
  {
   "cell_type": "markdown",
   "metadata": {},
   "source": [
    "Let's check if bello is actually a dog:"
   ]
  },
  {
   "cell_type": "code",
   "execution_count": 107,
   "metadata": {},
   "outputs": [
    {
     "data": {
      "text/plain": [
       "True"
      ]
     },
     "execution_count": 107,
     "metadata": {},
     "output_type": "execute_result"
    }
   ],
   "source": [
    "isinstance( bello, dog)"
   ]
  },
  {
   "cell_type": "markdown",
   "metadata": {},
   "source": [
    "So that's true. Bello is a dog. Dogs can bark because we defined it this way. I.e. the class definition comprises a method `bark`. So every instance of the class has the method. You call methods of an object using the `object.method()`, notation. You know this from MATLAB structures.\n",
    "\n",
    "**Exercise**\n",
    "\n",
    "Make bello bark!"
   ]
  },
  {
   "cell_type": "code",
   "execution_count": 82,
   "metadata": {},
   "outputs": [],
   "source": [
    "# your code here\n"
   ]
  },
  {
   "cell_type": "markdown",
   "metadata": {},
   "source": [
    "Class definitions are objects just like everything else. All objects are instances, class definitions are instances of the type `type`. That means we can assign it to other variables. In MATLAB you can call functions without parentheses. Find out why that doesn't work in Python:"
   ]
  },
  {
   "cell_type": "code",
   "execution_count": 29,
   "metadata": {},
   "outputs": [],
   "source": [
    "lassie = dog;"
   ]
  },
  {
   "cell_type": "markdown",
   "metadata": {},
   "source": [
    "**Exercise**\n",
    "\n",
    "Try to make lassie bark."
   ]
  },
  {
   "cell_type": "code",
   "execution_count": 98,
   "metadata": {},
   "outputs": [],
   "source": [
    "#your code here\n"
   ]
  },
  {
   "cell_type": "markdown",
   "metadata": {},
   "source": [
    "Why doesn't that work? Chances are that the error message wasn't too informative for you until now.\n",
    "\n",
    "You didn't create an instance of the class dog. You assigned the class definition to the variable \"lassie\":"
   ]
  },
  {
   "cell_type": "code",
   "execution_count": 24,
   "metadata": {},
   "outputs": [
    {
     "name": "stdout",
     "output_type": "stream",
     "text": [
      "True\n",
      "Is lassie a dog?  False\n",
      "Is lassie the class definition dog?  True\n"
     ]
    }
   ],
   "source": [
    "print( dog is lassie ); #\"dog\" and \"lassie\" point at the same adress in memory\n",
    "print( 'Is lassie a dog? ', isinstance(lassie,dog) );\n",
    "print( 'Is lassie the class definition dog? ', isinstance(lassie,type) );"
   ]
  },
  {
   "cell_type": "markdown",
   "metadata": {},
   "source": [
    "Since now \"lassie\" is just another pointer at the same class \"dog\", we can use it to create instances of the class."
   ]
  },
  {
   "cell_type": "code",
   "execution_count": 30,
   "metadata": {},
   "outputs": [
    {
     "name": "stdout",
     "output_type": "stream",
     "text": [
      "Is Idefix a dog?  True\n",
      "wuff\n"
     ]
    }
   ],
   "source": [
    "idefix = lassie();\n",
    "print( 'Is Idefix a dog? ', isinstance(idefix,dog) );\n",
    "idefix.bark();"
   ]
  },
  {
   "cell_type": "markdown",
   "metadata": {},
   "source": [
    "The `dog`-method `dog.bark()` requires one argument, which is `self`. Is has to be an instance of the class dog. If you have an instance, it gets implicitely passed to the method and you don't have to write `idefix.bark( idefix )`. But if you call `dog.bark()`, there is no instance of `dog`, only the class. So the method complains that the required argument `self` is missing. This can be illustrated nicely using some code:"
   ]
  },
  {
   "cell_type": "code",
   "execution_count": null,
   "metadata": {},
   "outputs": [],
   "source": [
    "bello = dog(); #bello is now an instance of the class dog\n",
    "#try to call dog.bark(), this is the same as lassie.bark() which we tried a few minutes ago\n",
    "dog.bark()"
   ]
  },
  {
   "cell_type": "markdown",
   "metadata": {},
   "source": [
    "This doesn't work, because `dog` is not an instance. Your definition of what a dog is can't bark. A dog can. If you make a dog bark like this:"
   ]
  },
  {
   "cell_type": "code",
   "execution_count": null,
   "metadata": {},
   "outputs": [],
   "source": [
    "bello.bark()"
   ]
  },
  {
   "cell_type": "markdown",
   "metadata": {},
   "source": [
    "The instance `bello` implicitely gets passed to the method. You can do the same explicitely using the `dog` class. You wouldn't usually, but it shows the point:"
   ]
  },
  {
   "cell_type": "code",
   "execution_count": 8,
   "metadata": {},
   "outputs": [
    {
     "name": "stdout",
     "output_type": "stream",
     "text": [
      "wuff\n"
     ]
    }
   ],
   "source": [
    "dog.bark( bello ); #pass an instance of the class as argument"
   ]
  },
  {
   "cell_type": "markdown",
   "metadata": {},
   "source": [
    "### 7.3.2 Encapsulation"
   ]
  },
  {
   "cell_type": "markdown",
   "metadata": {},
   "source": [
    "There are two meanings two this. We are just going to talk about the simpler one. Encapsulation in the simple form just means organizing methods and data into classes and objects. Going back to the dog example. In imperative programming, to have a dog's name, it's weight and a function that barks, we need the following:"
   ]
  },
  {
   "cell_type": "code",
   "execution_count": null,
   "metadata": {},
   "outputs": [],
   "source": [
    "dogs_name = 'bello';\n",
    "dogs_weight = 20;\n",
    "def dog_barks():\n",
    "    print('bark')"
   ]
  },
  {
   "cell_type": "markdown",
   "metadata": {},
   "source": [
    "Now imagine, you have several dogs, then this does not only get confusing, but there is also a lot of code."
   ]
  },
  {
   "cell_type": "code",
   "execution_count": null,
   "metadata": {},
   "outputs": [],
   "source": [
    "dog1_name = 'bello';\n",
    "dog1_weight = 20;\n",
    "def dog1_barks():\n",
    "    print( 'bark');"
   ]
  },
  {
   "cell_type": "code",
   "execution_count": 1,
   "metadata": {},
   "outputs": [],
   "source": [
    "dog2_name = 'hasso';\n",
    "dog2_weight = 22;\n",
    "def dog2_barks():\n",
    "    print('wuff')"
   ]
  },
  {
   "cell_type": "markdown",
   "metadata": {},
   "source": [
    "This gets very messy very quickly. Now what if we could have a class for dogs, a cookie cutter we can use to create dogs, that fixes everything that all dogs have in common and gives a blueprint about how to create a dog instance given the unique characteristics?"
   ]
  },
  {
   "cell_type": "code",
   "execution_count": 3,
   "metadata": {},
   "outputs": [],
   "source": [
    "class dog: \n",
    "    #these are class attributes, they are the same for every instance of the class dog, i.e. every dog.\n",
    "    genus = 'canis';\n",
    "    species = 'c.lupus';"
   ]
  },
  {
   "cell_type": "markdown",
   "metadata": {},
   "source": [
    "Now every instance of the class dog has the attributes `genus` and species and we don't need to specify that for every single dog:"
   ]
  },
  {
   "cell_type": "code",
   "execution_count": 4,
   "metadata": {},
   "outputs": [
    {
     "name": "stdout",
     "output_type": "stream",
     "text": [
      "canis\n",
      "c.lupus\n"
     ]
    }
   ],
   "source": [
    "bello = dog();\n",
    "hasso = dog();\n",
    "print( bello.genus );\n",
    "print( hasso.species );"
   ]
  },
  {
   "cell_type": "markdown",
   "metadata": {},
   "source": [
    "But what about the characteristics that are not the same? Like the name, the weight, the sound they make and so on? That's what the `__init__()`-method is for. It's one of several special methods that start and end with two underscores. These have a special meaning. \n",
    "\n",
    "There are two underscore-methods being called when you create a new instance. The `__new__(cls)`-method and the `__init__(self)`-method. These are inherited from the class `object` (explanation follows, I promise), so every class already has them. You can overwrite them if you want your instances to have any attributes from the beginning:"
   ]
  },
  {
   "cell_type": "code",
   "execution_count": 40,
   "metadata": {},
   "outputs": [],
   "source": [
    "class dog:\n",
    "    #these are the same for all dogs and are called \"class attributes\"\n",
    "    genus = 'canis';\n",
    "    species = 'c.lupus';\n",
    "    \n",
    "    def __init__( self, sound, name, weight):\n",
    "        #this is to show you that the method gets called when you construct a new instance of the class\n",
    "        print('I have been called to construct a dog named ' + name );\n",
    "        self.sound = sound;\n",
    "        self.name = name;\n",
    "        self.weight = weight;\n",
    "        \n",
    "    def bark(self):\n",
    "        print(self.sound);"
   ]
  },
  {
   "cell_type": "markdown",
   "metadata": {},
   "source": [
    "The `__init__(self)`-method also gets an instance as the first argument. It is the very instance you're creating at that point and it exists already because the (for now) invisible `__new__(cls)`-method has been called before. Because of the scope of functions, it is necessary as argument because otherwise the method wouldn't know the instance. \n",
    "\n",
    "Now we can create new instances by passing arguments to the `dog()`-command, that we can understand as the constructor method. These arguments get passed to `__init__(self)` along the instance itself."
   ]
  },
  {
   "cell_type": "code",
   "execution_count": 16,
   "metadata": {},
   "outputs": [
    {
     "name": "stdout",
     "output_type": "stream",
     "text": [
      "I have been called to construct a dog named bello\n",
      "I have been called to construct a dog named hasso\n"
     ]
    }
   ],
   "source": [
    "#we can give them as positional arguments (- the instance that gets passed implicitely.)\n",
    "bello = dog( 'wuff', 'bello', 22);\n",
    "#or as named arguments\n",
    "hasso = dog( name = 'hasso', sound = 'bark', weight = 22)"
   ]
  },
  {
   "cell_type": "markdown",
   "metadata": {},
   "source": [
    "Now if you make any of the both dogs bark, they use their own sound."
   ]
  },
  {
   "cell_type": "code",
   "execution_count": 18,
   "metadata": {},
   "outputs": [
    {
     "name": "stdout",
     "output_type": "stream",
     "text": [
      "wuff\n",
      "bark\n"
     ]
    }
   ],
   "source": [
    "bello.bark();\n",
    "hasso.bark();"
   ]
  },
  {
   "cell_type": "markdown",
   "metadata": {},
   "source": [
    "(this is already a polymorphism, but more on this later)"
   ]
  },
  {
   "cell_type": "markdown",
   "metadata": {},
   "source": [
    "### 7.3.3 Abstraction\n",
    "\n",
    "We can cover this one very quickly. Abstraction means you can use a class by only knowing what it can do and what it incorporates. You don't have to understand or even know the implementation. It's like you can use SPSS to run a t-test without having a clue what a t-test actually does. Consider the following:\n"
   ]
  },
  {
   "cell_type": "code",
   "execution_count": 41,
   "metadata": {},
   "outputs": [],
   "source": [
    "txt = 'I am a string.';"
   ]
  },
  {
   "cell_type": "markdown",
   "metadata": {},
   "source": [
    "Strings will be covered soon, for now just understand that they are objects of class `str`. You can use the methods of this class without knowing how they work:"
   ]
  },
  {
   "cell_type": "code",
   "execution_count": 44,
   "metadata": {},
   "outputs": [
    {
     "name": "stdout",
     "output_type": "stream",
     "text": [
      "['I', 'am', 'a', 'string.']\n"
     ]
    }
   ],
   "source": [
    "txt_list = txt.split();\n",
    "print(txt_list)"
   ]
  },
  {
   "cell_type": "markdown",
   "metadata": {},
   "source": [
    "That's abstraction."
   ]
  },
  {
   "cell_type": "markdown",
   "metadata": {},
   "source": [
    "### 7.3.4 Inheritance\n",
    "\n",
    "Inheritance literally means inheritance. Classes can \"inherit from other classes\" which means they have all the attributes of the class they inherited from. This can be used to create increasingly complex classes. E.g. all animals have an aerobic metabolism. So you could define the metabolism in a general class \"Animal\" and let every subclass like \"Dog\" inherit from that and add species specific attributes. Then you could have the classes \"Pitbull\" and \"Golden_retriever\" inherit from that one. You get the idea. \n",
    "\n",
    "In actual scientific applications (assuming data analysis, not writing data analysis tools where classes would be abundant) this can be used several ways:\n",
    "One way I use it is to define one basic class per project. In this project to define some things that are the same for all subjects and modalities like the path structure. You can also just write some info about the experiment in there. Then you could have classes for every modality like SCR, fMRI, behavioral data that inherit from this class. Increasingly complex you can combine modalities per subject in a class \"Subject\" and combine subjects in a class \"Group_level\".\n",
    "\n",
    "For now though it makes more sense to stick to the simple animal example. \n",
    "\n",
    "Actually, you can do that yourself:\n",
    "\n",
    "**Exercise**\n",
    "\n",
    "Write a very simple class called \"Animal\". Class names are capitalized by convention. The class should have the following attributes:\n",
    "\n",
    "   1. A class attribute called 'metabolism' with value 'aerobic'.\n",
    "   2. A method called 'state_metabolism' that prints \"My metabolism is aerobic\". \n",
    "\n",
    "For the second part you can use the attribute `self.metabolism` and string concatenation if you already figured out how it works. If not, don't worry. Just writing the sentence is fine! "
   ]
  },
  {
   "cell_type": "code",
   "execution_count": null,
   "metadata": {},
   "outputs": [],
   "source": [
    "#your code here\n"
   ]
  },
  {
   "cell_type": "markdown",
   "metadata": {},
   "source": [
    "Alright, cool! Create an instance of your class and let it state its metabolism."
   ]
  },
  {
   "cell_type": "code",
   "execution_count": null,
   "metadata": {},
   "outputs": [],
   "source": [
    "#your code here\n"
   ]
  },
  {
   "cell_type": "markdown",
   "metadata": {},
   "source": [
    "Next step, inheritance. The syntax for inheritance is the following:\n",
    "```Python\n",
    "class New_class( Class_to_inherit_from):\n",
    "    \n",
    "    some_new_attribute = 'arbitrary_value';\n",
    "    \n",
    "    def some_new_function(self):\n",
    "        print( some_new_attribute );\n",
    "```"
   ]
  },
  {
   "cell_type": "markdown",
   "metadata": {},
   "source": [
    "**Exercise**\n",
    "\n",
    "Write a new class definition for your animal. Add the sound it makes as class attribute and give it the ability to bark, meow, moo, whatever. Let it say 'Pika pika' for all I care.\n",
    "*Hint*: You don't need an `__init__()`-method for that."
   ]
  },
  {
   "cell_type": "code",
   "execution_count": null,
   "metadata": {},
   "outputs": [],
   "source": [
    "#your code here\n"
   ]
  },
  {
   "cell_type": "markdown",
   "metadata": {},
   "source": [
    "Awesome! Now create an instance of that class and let it make a sound. "
   ]
  },
  {
   "cell_type": "code",
   "execution_count": 54,
   "metadata": {},
   "outputs": [],
   "source": [
    "#your code here\n"
   ]
  },
  {
   "cell_type": "markdown",
   "metadata": {},
   "source": [
    "There is a built-in method in Python that's called `hasattr`, which of course is short for \"has attribute\". In this case, attribute stands for properties and methods alike. The syntax is:\n",
    "```Python\n",
    "bool_value = hasattr( class_name, 'name_of_attribute');\n",
    "```\n",
    "For example, you can check if the class animal has a method \"state_metabolism\"."
   ]
  },
  {
   "cell_type": "code",
   "execution_count": 57,
   "metadata": {},
   "outputs": [],
   "source": [
    "a = Animal()"
   ]
  },
  {
   "cell_type": "code",
   "execution_count": 64,
   "metadata": {},
   "outputs": [
    {
     "name": "stdout",
     "output_type": "stream",
     "text": [
      "True\n"
     ]
    }
   ],
   "source": [
    "print( hasattr( a, 'state_metabolism' ) );"
   ]
  },
  {
   "cell_type": "markdown",
   "metadata": {},
   "source": [
    "Now, check wether your class that inherited from \"Animal\" also has that attribute. `hasattr` works on both `classes` and `objects`. So you could write `hasattr( Dog, 'sound')` or `hasattr( bello, 'sound' )`."
   ]
  },
  {
   "cell_type": "code",
   "execution_count": null,
   "metadata": {},
   "outputs": [],
   "source": [
    "#your code here\n"
   ]
  },
  {
   "cell_type": "markdown",
   "metadata": {},
   "source": [
    "If that's true, let the instance of your subclass state its metabolism."
   ]
  },
  {
   "cell_type": "code",
   "execution_count": 63,
   "metadata": {},
   "outputs": [],
   "source": [
    "#your code here\n"
   ]
  },
  {
   "cell_type": "markdown",
   "metadata": {},
   "source": [
    "Do you understand why now your pet can state its metabolism although you didn't define it in the class itself? Don't hesitate to ask.\n",
    "\n",
    "<br/>\n",
    "\n",
    "Let's go one step further. Remember how I said that creating a new instance of any class calls the `__new__(cls)`-method? \n",
    "We didn't write such a method in the \"Animal\" class and you didn't write one for the subclass that inherited from \"Animal\".\n",
    "\n",
    "**Exercise**\n",
    "\n",
    "Use `hasattr` to check wether your class has an attribute `__new__`."
   ]
  },
  {
   "cell_type": "code",
   "execution_count": 62,
   "metadata": {},
   "outputs": [],
   "source": [
    "#your code here\n"
   ]
  },
  {
   "cell_type": "markdown",
   "metadata": {},
   "source": [
    "Weird, heh? Where did that come from? There is two things to understand here:\n",
    "\n",
    "First: Just like every neuroscientist is also a scientist, every scientist is also a human being, inheritance works similar in OOP. Consider the following:"
   ]
  },
  {
   "cell_type": "code",
   "execution_count": 65,
   "metadata": {},
   "outputs": [],
   "source": [
    "class Animal:\n",
    "    metabolism = 'aerobic';\n",
    "\n",
    "class Dog(Animal):\n",
    "    sound = 'wuff';\n",
    "    \n",
    "    def bark(self):\n",
    "        print(self.sound);\n",
    "        \n",
    "class ChowChow(Dog):\n",
    "    color_of_tongue = 'blue';"
   ]
  },
  {
   "cell_type": "markdown",
   "metadata": {},
   "source": [
    "You already know the function `isinstance` that checks wether an object is an instance of a class.\n",
    "\n",
    "**Exercise**\n",
    "\n",
    "Create an object of class ChowChow. Check if it is a ChowChow. Then check if it's also a Dog and if it's an Animal."
   ]
  },
  {
   "cell_type": "code",
   "execution_count": 73,
   "metadata": {},
   "outputs": [
    {
     "data": {
      "text/plain": [
       "[list, object]"
      ]
     },
     "execution_count": 73,
     "metadata": {},
     "output_type": "execute_result"
    }
   ],
   "source": [
    "#your code here\n"
   ]
  },
  {
   "cell_type": "markdown",
   "metadata": {},
   "source": [
    "Second: Remember the 150 times I emphasized that everything is an object? Every class definition (i.e. `Dog`, not `bello`) has a function called `class.mro()`. That's short for **method resolution order**. Imagine a class Dog with method `Dog.bark()`. Now we write a new class `Nervous_dog` that defines a class of dogs that bark a few times every time they bark. So we overwrite the function `bark` with a new one. Now there is two methods `bark` in the class `Nervous_dog`. If we want to look up which one the instances are going to use, we can use the `class.mro()` function. This can also be used to look at the inheritance history.\n",
    "\n",
    "**Exercise**\n",
    "\n",
    "Use the `mro()` method of the class ChowChow (**not** instance of your class) to look at the method resolution order  and thus the inheritance history of your subclass."
   ]
  },
  {
   "cell_type": "code",
   "execution_count": 74,
   "metadata": {},
   "outputs": [],
   "source": [
    "#your code here\n"
   ]
  },
  {
   "cell_type": "markdown",
   "metadata": {},
   "source": [
    "Left to right we can see the inheritance history. The first three classes are expected. The last one probably wasn't because we didn't explicitely inherit from class `object`. But since **everything is an object**, every class implicitely inherits from class `object`, at least since Python 3. This is true for every class including built-in classes:"
   ]
  },
  {
   "cell_type": "code",
   "execution_count": 75,
   "metadata": {},
   "outputs": [
    {
     "data": {
      "text/plain": [
       "[int, object]"
      ]
     },
     "execution_count": 75,
     "metadata": {},
     "output_type": "execute_result"
    }
   ],
   "source": [
    "int.mro()"
   ]
  },
  {
   "cell_type": "markdown",
   "metadata": {},
   "source": [
    "And it's the reason why the following is true for everything in Python:"
   ]
  },
  {
   "cell_type": "code",
   "execution_count": 79,
   "metadata": {},
   "outputs": [
    {
     "data": {
      "text/plain": [
       "True"
      ]
     },
     "execution_count": 79,
     "metadata": {},
     "output_type": "execute_result"
    }
   ],
   "source": [
    "isinstance( 'anything', object)"
   ]
  },
  {
   "cell_type": "markdown",
   "metadata": {},
   "source": [
    "### 7.3.5 Polymorphism\n",
    "\n",
    "This is the last of the defining features of OOP. We already saw an example of it. In MATLAB, you can only have one function with one name. If there is more than one function called `bark` there's confusion. In Python we don't care, as long as these functions are methods of an object (or are part of a module/namespace). Polymorphism means, the same function can take several forms. Two dogs barking but making different sounds while doing so is a polymorphism. This also means that two object of different classes can be used the same way if they have methods of the same name that do similar things. Just a very quick example:\n",
    "\n",
    "Consider two animal classes that both have a method `make_sound`."
   ]
  },
  {
   "cell_type": "code",
   "execution_count": 84,
   "metadata": {},
   "outputs": [],
   "source": [
    "class cat:\n",
    "    sound = 'meow';\n",
    "    def make_sound(self):\n",
    "        print(self.sound);\n",
    "        \n",
    "class dog:\n",
    "    sound = 'wuff';\n",
    "    def make_sound(self):\n",
    "        print(self.sound);"
   ]
  },
  {
   "cell_type": "markdown",
   "metadata": {},
   "source": [
    "And consider a function that pets an animal which triggers the animal to make a sound:"
   ]
  },
  {
   "cell_type": "code",
   "execution_count": 85,
   "metadata": {},
   "outputs": [],
   "source": [
    "def pet_animal( animal ):\n",
    "    animal.make_sound();"
   ]
  },
  {
   "cell_type": "markdown",
   "metadata": {},
   "source": [
    "Now we can apply the method to instances of both classes, because they both have a method of the name `make_sound`."
   ]
  },
  {
   "cell_type": "code",
   "execution_count": 88,
   "metadata": {},
   "outputs": [
    {
     "name": "stdout",
     "output_type": "stream",
     "text": [
      "wuff\n",
      "meow\n"
     ]
    }
   ],
   "source": [
    "pluto = dog();\n",
    "karlo = cat();\n",
    "\n",
    "pet_animal(bello);\n",
    "pet_animal(karlo);"
   ]
  },
  {
   "cell_type": "markdown",
   "metadata": {},
   "source": [
    "### 7.3.6 Underscore methods\n",
    "\n",
    "We already learned that `__init__()` and `__new__()` methods are inherited from the class `object`. There are a few other special methods that are inherited this way. We can't have a look at all. But will have a look at one spefifically and at a class of others.\n",
    "\n",
    "#### 7.3.6.1 \\_\\_repr\\_\\_()\"\n",
    "\n",
    "This is the method that's called when you print an object. This works different ways:"
   ]
  },
  {
   "cell_type": "code",
   "execution_count": 104,
   "metadata": {},
   "outputs": [
    {
     "name": "stdout",
     "output_type": "stream",
     "text": [
      "1\n"
     ]
    }
   ],
   "source": [
    "a = 1;\n",
    "print(a);"
   ]
  },
  {
   "cell_type": "markdown",
   "metadata": {},
   "source": [
    "Is basically the same as:"
   ]
  },
  {
   "cell_type": "code",
   "execution_count": 119,
   "metadata": {},
   "outputs": [
    {
     "data": {
      "text/plain": [
       "'1'"
      ]
     },
     "execution_count": 119,
     "metadata": {},
     "output_type": "execute_result"
    }
   ],
   "source": [
    "repr(a)"
   ]
  },
  {
   "cell_type": "markdown",
   "metadata": {},
   "source": [
    "Is the same as the following, where you can see that the method is actually implemented in any class:"
   ]
  },
  {
   "cell_type": "code",
   "execution_count": 113,
   "metadata": {},
   "outputs": [
    {
     "data": {
      "text/plain": [
       "'1'"
      ]
     },
     "execution_count": 113,
     "metadata": {},
     "output_type": "execute_result"
    }
   ],
   "source": [
    "a.__repr__()"
   ]
  },
  {
   "cell_type": "markdown",
   "metadata": {},
   "source": [
    "For integers and the like it prints the value to the screen. For instances of your own classes it will give you something unreadable:"
   ]
  },
  {
   "cell_type": "code",
   "execution_count": 118,
   "metadata": {},
   "outputs": [
    {
     "data": {
      "text/plain": [
       "'<__main__.cat object at 0x0000015165880438>'"
      ]
     },
     "execution_count": 118,
     "metadata": {},
     "output_type": "execute_result"
    }
   ],
   "source": [
    "karlo = cat();\n",
    "karlo.__repr__()"
   ]
  },
  {
   "cell_type": "markdown",
   "metadata": {},
   "source": [
    "The first part means that it's an object of class cat and that cat is defined in \"\\_\\_main__\", i.e. it hasn't been imported but was defined in this very notebook.<br/>\n",
    "The second part is the adress in memory, so basically where in your computer that object is at home.\n",
    "\n",
    "It's good practice to define a `__repr__` - method for every class you define, which is why we cover it here. Here's the syntax:\n",
    "\n",
    "```Python\n",
    "class Class_name:\n",
    "    \n",
    "    def __repr__(self):\n",
    "        return this_will_be_printed\n",
    "```\n",
    "\n",
    "**Exercise**\n",
    "\n",
    "For the following `Cat` class, add a `__repr__` method that prints `A cat named {name_of_cat}` and uses the name of the cat instance."
   ]
  },
  {
   "cell_type": "code",
   "execution_count": 117,
   "metadata": {},
   "outputs": [],
   "source": [
    "class Cat:\n",
    "    \n",
    "    def __init__(self, name):\n",
    "        self.name = name;\n",
    "        \n",
    "    #your code here"
   ]
  },
  {
   "cell_type": "markdown",
   "metadata": {},
   "source": [
    "#### 7.3.6.2 Overloading operators\n",
    "\n",
    "The `object` class defines methods that are being called for different operators. E.g. there is a method called `__add__()` that gets called for the operator `+` and `__eq__()` that gets called for `==`. You can use these methods to overload operators, i.e. change the behavior of objects with respect to these operators. Here's an example. A class that inherits from `int`, that is equal to everything else as defined by `==`."
   ]
  },
  {
   "cell_type": "code",
   "execution_count": 122,
   "metadata": {},
   "outputs": [],
   "source": [
    "class Always_equal_int(int):\n",
    "    \n",
    "    def __eq__(self,other):\n",
    "        return True"
   ]
  },
  {
   "cell_type": "markdown",
   "metadata": {},
   "source": [
    "Since it inherits from integer, we can use it just like we could use int. So like we could write int(1) - which would be redundant -, we can write:"
   ]
  },
  {
   "cell_type": "code",
   "execution_count": 142,
   "metadata": {},
   "outputs": [
    {
     "name": "stdout",
     "output_type": "stream",
     "text": [
      "1 2\n"
     ]
    }
   ],
   "source": [
    "a = int(1);\n",
    "b = Always_equal_int(2);\n",
    "print(a,b)"
   ]
  },
  {
   "cell_type": "markdown",
   "metadata": {},
   "source": [
    "Now both of these objects have a method `__eq__`. The original `int` compares the values and returns `True` if these are equal. Our new class always returns `True`. Because the class `int` is in the method resolution order of the new class, our new class has higher priority, independent of order of operands:"
   ]
  },
  {
   "cell_type": "code",
   "execution_count": 143,
   "metadata": {},
   "outputs": [
    {
     "name": "stdout",
     "output_type": "stream",
     "text": [
      "True\n",
      "True\n"
     ]
    }
   ],
   "source": [
    "print( a == b );\n",
    "print( b == a );"
   ]
  },
  {
   "cell_type": "markdown",
   "metadata": {},
   "source": [
    "If this is not true, then order of operands is determining which method to use:"
   ]
  },
  {
   "cell_type": "code",
   "execution_count": 144,
   "metadata": {},
   "outputs": [
    {
     "name": "stdout",
     "output_type": "stream",
     "text": [
      "1.0\n"
     ]
    }
   ],
   "source": [
    "a = float(1);\n",
    "print(a);"
   ]
  },
  {
   "cell_type": "code",
   "execution_count": 145,
   "metadata": {},
   "outputs": [
    {
     "data": {
      "text/plain": [
       "False"
      ]
     },
     "execution_count": 145,
     "metadata": {},
     "output_type": "execute_result"
    }
   ],
   "source": [
    "a == b"
   ]
  },
  {
   "cell_type": "code",
   "execution_count": 146,
   "metadata": {},
   "outputs": [
    {
     "data": {
      "text/plain": [
       "True"
      ]
     },
     "execution_count": 146,
     "metadata": {},
     "output_type": "execute_result"
    }
   ],
   "source": [
    "b == a"
   ]
  },
  {
   "cell_type": "markdown",
   "metadata": {},
   "source": [
    "You probably won't need that in the near future, but it helps you understand how operators and classes work together."
   ]
  },
  {
   "cell_type": "markdown",
   "metadata": {},
   "source": [
    "***\n",
    "\n",
    "***\n",
    "\n",
    "\n",
    "# 8. Compound data types\n",
    "\n",
    "This will be about non-scalar data types. The most important built-in data types are `list`, `str`, `dict`, `generators` and `set`. For time constraints we'll only cover lists, dictionaries and strings.\n",
    "\n",
    "## 8.1 Lists\n",
    "\n",
    "Lists are very flexible data types as they can hold virtually every Python object. They are also **mutable** which means that you can change them after creation - add or delete items. The closest equivalent in MATLAB would be `cells`. \n",
    "\n",
    "They can be constructed like this:\n",
    "\n",
    "```Python\n",
    "list_1 = ['a',2,92.1];\n",
    "```\n",
    "\n",
    "**Exercise**\n",
    "\n",
    "Create a list that contains any number of arbitrary objects like `ints`, `functions` and so on."
   ]
  },
  {
   "cell_type": "code",
   "execution_count": null,
   "metadata": {},
   "outputs": [],
   "source": [
    "#your code here\n"
   ]
  },
  {
   "cell_type": "markdown",
   "metadata": {},
   "source": [
    "### 8.1.1 Indexing lists\n",
    "\n",
    "Indexing in lists works we already learned it: 0-based. That means the first element is [0], the Nth element is [N-1]. Slices include the start index and exclude the stop index. Think about the offsets."
   ]
  },
  {
   "cell_type": "code",
   "execution_count": 19,
   "metadata": {},
   "outputs": [],
   "source": [
    "a_list = [0,1,2,3,4];"
   ]
  },
  {
   "cell_type": "markdown",
   "metadata": {},
   "source": [
    "**Exercises**\n",
    "\n",
    "   1. Select the second value (2) from the list.\n",
    "   2. Select the subset [2,3,4] from the list.\n",
    "   3. Replace the value at index 2 with `99`"
   ]
  },
  {
   "cell_type": "code",
   "execution_count": 36,
   "metadata": {},
   "outputs": [],
   "source": [
    "#your code here\n"
   ]
  },
  {
   "cell_type": "code",
   "execution_count": 37,
   "metadata": {},
   "outputs": [],
   "source": [
    "#your code here\n"
   ]
  },
  {
   "cell_type": "code",
   "execution_count": 38,
   "metadata": {},
   "outputs": [],
   "source": [
    "#your code here\n"
   ]
  },
  {
   "cell_type": "markdown",
   "metadata": {},
   "source": [
    "### 8.1.2 Create lists from other objects\n",
    "\n",
    "You can use the `list()`-function to create a list from another object like this:\n",
    "```Python\n",
    "new_list = list( old_object );\n",
    "\n",
    "```\n",
    "\n",
    "You will need this for objects of type `generator`, `filter` and others. You don't have to understand this now, but take a look at how `range()` behaves."
   ]
  },
  {
   "cell_type": "code",
   "execution_count": 26,
   "metadata": {},
   "outputs": [
    {
     "name": "stdout",
     "output_type": "stream",
     "text": [
      "range(0, 4)\n",
      "<class 'range'>\n"
     ]
    }
   ],
   "source": [
    "a = range(4);\n",
    "print(a);\n",
    "print(type(a));"
   ]
  },
  {
   "cell_type": "markdown",
   "metadata": {},
   "source": [
    "Until now this is a `range` object. If you want to use it in readable form, you can transform it to a `list`:"
   ]
  },
  {
   "cell_type": "code",
   "execution_count": 27,
   "metadata": {},
   "outputs": [],
   "source": [
    "#your code here\n"
   ]
  },
  {
   "cell_type": "markdown",
   "metadata": {},
   "source": [
    "### 8.1.3 List concatenation\n",
    "\n",
    "Because of the syntax it is easy to confuse lists with MATLAB arrays. The behave **completely** different. Consider the following cell, think about what you except and run it:"
   ]
  },
  {
   "cell_type": "code",
   "execution_count": 29,
   "metadata": {},
   "outputs": [
    {
     "name": "stdout",
     "output_type": "stream",
     "text": [
      "[1, 2, 3, 3, 2, 1]\n"
     ]
    }
   ],
   "source": [
    "a = [1,2,3] + [3,2,1];\n",
    "print(a);"
   ]
  },
  {
   "cell_type": "markdown",
   "metadata": {},
   "source": [
    "So yeah. That's how list concatenation works. \n",
    "\n",
    "### 8.1.4 Lists are objects\n",
    "\n",
    "As should be clear by now. That means they have methods you can use to manipulate their content or get informations about it like `list.append()`, `list.remove()`, `list.index()`. We can't cover everything, see [here](https://docs.python.org/3/tutorial/datastructures.html) for the complete list."
   ]
  },
  {
   "cell_type": "code",
   "execution_count": null,
   "metadata": {},
   "outputs": [],
   "source": [
    "a = [sum, 1, 'word'];"
   ]
  },
  {
   "cell_type": "markdown",
   "metadata": {},
   "source": [
    "**Exercise**\n",
    "\n",
    "Use the `list.append()` method to append a `float` of your choice (or anything really) to the list `a`. Then remove the `int` 1. Finally retrieve the index of 'word'. "
   ]
  },
  {
   "cell_type": "code",
   "execution_count": null,
   "metadata": {},
   "outputs": [],
   "source": [
    "#your code here\n"
   ]
  },
  {
   "cell_type": "code",
   "execution_count": 30,
   "metadata": {},
   "outputs": [],
   "source": [
    "#your code here\n"
   ]
  },
  {
   "cell_type": "code",
   "execution_count": 32,
   "metadata": {},
   "outputs": [],
   "source": [
    "#your code here\n"
   ]
  },
  {
   "cell_type": "markdown",
   "metadata": {},
   "source": [
    "9. Compound data types"
   ]
  },
  {
   "cell_type": "markdown",
   "metadata": {},
   "source": [
    "## 8.2 Strings and characters\n",
    "\n",
    "Strings and characters are the same thing in Python. They are very easy to handle if you're used to MATLAB because they are consideres as data types from the beginning. They are **immutable**, meaning that you can't change them after creation. You can use methods to return manipulated versions though.\n",
    "\n",
    "You can use either `\"double quotes\"` or `'single quotes'`, they act the same."
   ]
  },
  {
   "cell_type": "code",
   "execution_count": 30,
   "metadata": {},
   "outputs": [
    {
     "name": "stdout",
     "output_type": "stream",
     "text": [
      "True\n"
     ]
    }
   ],
   "source": [
    "double_quote = \"string\";\n",
    "single_quote = 'string';\n",
    "print( double_quote == single_quote );"
   ]
  },
  {
   "cell_type": "markdown",
   "metadata": {},
   "source": [
    "You can escape a quote in your string with another quote (`'That''s it'`) or by using double quotes for the string and single quotes within (`\"What's up\"`).\n",
    "\n",
    "### 8.2.1 String concatenation \n",
    "\n",
    "Is the act of joining strings together. It's really just *adding* two strings together, isn't it?\n",
    "\n",
    "**Exercise**\n",
    "\n",
    "Find out what I mean by that and concatenate the following strings."
   ]
  },
  {
   "cell_type": "code",
   "execution_count": 33,
   "metadata": {},
   "outputs": [],
   "source": [
    "s_1 = 'Well ';\n",
    "s_2 = 'done!';"
   ]
  },
  {
   "cell_type": "code",
   "execution_count": 35,
   "metadata": {},
   "outputs": [],
   "source": [
    "#your code here\n"
   ]
  },
  {
   "cell_type": "markdown",
   "metadata": {},
   "source": [
    "### 8.2.2 Indexing in strings\n",
    "\n",
    "Works the same as in lists:"
   ]
  },
  {
   "cell_type": "code",
   "execution_count": 39,
   "metadata": {},
   "outputs": [],
   "source": [
    "my_str = 'abcde';"
   ]
  },
  {
   "cell_type": "markdown",
   "metadata": {},
   "source": [
    "**Exercise**\n",
    "\n",
    "Retrieve the letter 'e' using an index."
   ]
  },
  {
   "cell_type": "code",
   "execution_count": 40,
   "metadata": {},
   "outputs": [],
   "source": [
    "#your code here\n"
   ]
  },
  {
   "cell_type": "markdown",
   "metadata": {},
   "source": [
    "Want to find out what immutable means? Try to replace the 'a' in `my_str` with something else:"
   ]
  },
  {
   "cell_type": "code",
   "execution_count": 42,
   "metadata": {},
   "outputs": [],
   "source": [
    "#your code here\n"
   ]
  },
  {
   "cell_type": "markdown",
   "metadata": {},
   "source": [
    "### 8.2.2 String methods\n",
    "\n",
    "Since obviously `str`ings are objects, they provide a lot of functionality. Whatever you can think of, there is probably a method for that.\n",
    "\n",
    "\n",
    "This is something you would do using `sprintf()` or `fprintf()` in MATLAB. Neither of those exist in Python. In Python, you format the string and then just `print()` it.\n",
    "\n",
    "There are multiple ways to do this. The only way that doesn't rely on a rough understanding on Object-oriented programming is using **formatted strings**:"
   ]
  },
  {
   "cell_type": "code",
   "execution_count": null,
   "metadata": {},
   "outputs": [],
   "source": []
  },
  {
   "cell_type": "code",
   "execution_count": 34,
   "metadata": {},
   "outputs": [
    {
     "name": "stdout",
     "output_type": "stream",
     "text": [
      "value of a: 3\n"
     ]
    }
   ],
   "source": [
    "#example:\n",
    "a = 3;\n",
    "string = f'value of a: {a}';\n",
    "print(string);"
   ]
  },
  {
   "cell_type": "markdown",
   "metadata": {},
   "source": [
    "**Exercise**\n",
    "\n",
    "Assign your name, age and the number of your siblings to three variables and use these to format and print a string like this:<br/>\n",
    "\"My name is { }, I'm { } years old and I have { } siblings.\"\n",
    "\n",
    "(Or format any other string using variables.)"
   ]
  },
  {
   "cell_type": "code",
   "execution_count": 36,
   "metadata": {},
   "outputs": [],
   "source": [
    "#your code here\n"
   ]
  },
  {
   "cell_type": "code",
   "execution_count": null,
   "metadata": {},
   "outputs": [],
   "source": []
  }
 ],
 "metadata": {
  "kernelspec": {
   "display_name": "Python [conda env:workshop] *",
   "language": "python",
   "name": "conda-env-workshop-py"
  },
  "language_info": {
   "codemirror_mode": {
    "name": "ipython",
    "version": 3
   },
   "file_extension": ".py",
   "mimetype": "text/x-python",
   "name": "python",
   "nbconvert_exporter": "python",
   "pygments_lexer": "ipython3",
   "version": "3.7.1"
  }
 },
 "nbformat": 4,
 "nbformat_minor": 2
}
