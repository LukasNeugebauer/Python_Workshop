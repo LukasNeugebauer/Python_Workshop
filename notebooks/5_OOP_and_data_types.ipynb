{
 "cells": [
  {
   "cell_type": "markdown",
   "metadata": {},
   "source": [
    "# 7. "
   ]
  },
  {
   "cell_type": "code",
   "execution_count": null,
   "metadata": {},
   "outputs": [],
   "source": []
  },
  {
   "cell_type": "markdown",
   "metadata": {},
   "source": [
    "### 6.4.2 Strings and characters\n",
    "\n",
    "Strings and characters are the same thing in Python. They are very easy to handle if you're used to MATLAB because they actually behave the way you expect them to - unlike MATLAB.\n",
    "\n",
    "You can use either `\"double quotes\"` or `'single quotes'`, they act the same."
   ]
  },
  {
   "cell_type": "code",
   "execution_count": 30,
   "metadata": {},
   "outputs": [
    {
     "name": "stdout",
     "output_type": "stream",
     "text": [
      "True\n"
     ]
    }
   ],
   "source": [
    "double_quote = \"string\";\n",
    "single_quote = 'string';\n",
    "print( double_quote == single_quote );"
   ]
  },
  {
   "cell_type": "markdown",
   "metadata": {},
   "source": [
    "You can escape a quote in your string with another quote (`'That''s it'`) or by using double quotes for the string and single quotes within (`\"What's up\"`).\n",
    "\n",
    "**String concatenation** is the act of joining strings together. Since it's just *adding* strings together, this is exactly how you do it.\n",
    "\n",
    "**Exercise**\n",
    "\n",
    "Find out what I mean by that and concatenate the following strings."
   ]
  },
  {
   "cell_type": "code",
   "execution_count": 31,
   "metadata": {},
   "outputs": [],
   "source": [
    "s_1 = 'Well ';\n",
    "s_2 = 'done!';"
   ]
  },
  {
   "cell_type": "code",
   "execution_count": 33,
   "metadata": {},
   "outputs": [],
   "source": [
    "#your code here\n"
   ]
  },
  {
   "cell_type": "markdown",
   "metadata": {},
   "source": [
    "### 6.4.2.1 Formatting strings\n",
    "\n",
    "This is something you would do using `sprintf()` or `fprintf()` in MATLAB. Neither of those exist in Python. In Python, you format the string and then just `print()` it.\n",
    "\n",
    "There are multiple ways to do this. The only way that doesn't rely on a rough understanding on Object-oriented programming is using **formatted strings**:"
   ]
  },
  {
   "cell_type": "code",
   "execution_count": 34,
   "metadata": {},
   "outputs": [
    {
     "name": "stdout",
     "output_type": "stream",
     "text": [
      "value of a: 3\n"
     ]
    }
   ],
   "source": [
    "#example:\n",
    "a = 3;\n",
    "string = f'value of a: {a}';\n",
    "print(string);"
   ]
  },
  {
   "cell_type": "markdown",
   "metadata": {},
   "source": [
    "**Exercise**\n",
    "\n",
    "Assign your name, age and the number of your siblings to three variables and use these to format and print a string like this:<br/>\n",
    "\"My name is { }, I'm { } years old and I have { } siblings.\"\n",
    "\n",
    "(Or format any other string using variables.)"
   ]
  },
  {
   "cell_type": "code",
   "execution_count": 36,
   "metadata": {},
   "outputs": [],
   "source": [
    "#your code here\n"
   ]
  },
  {
   "cell_type": "code",
   "execution_count": null,
   "metadata": {},
   "outputs": [],
   "source": []
  }
 ],
 "metadata": {
  "kernelspec": {
   "display_name": "Python [conda env:workshop] *",
   "language": "python",
   "name": "conda-env-workshop-py"
  },
  "language_info": {
   "codemirror_mode": {
    "name": "ipython",
    "version": 3
   },
   "file_extension": ".py",
   "mimetype": "text/x-python",
   "name": "python",
   "nbconvert_exporter": "python",
   "pygments_lexer": "ipython3",
   "version": "3.7.1"
  }
 },
 "nbformat": 4,
 "nbformat_minor": 2
}
