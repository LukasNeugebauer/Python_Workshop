{
 "cells": [
  {
   "cell_type": "markdown",
   "metadata": {},
   "source": [
    "# 7. Introduction to Object-Oriented Programming ( OOP )\n",
    "\n",
    "## 7.1 Programming paradigms\n",
    "\n",
    "Chances are that until now you didn't have to think about programming paradigms. There are multiple reasons for this:\n",
    "\n",
    "   1. You only know one language (or similar languages) and developed an intuitive understanding of the underlying structure\n",
    "   2. Most languages are not \"pure\" in that they only support one programming paradigm. Some, e.g. Haskell, are. They're supposed to be awesome but not very popular.\n",
    "   3. Programming paradigms sometimes don't have clear borders between each other. I still don't really get the difference between imperative and procedural programming.\n",
    "\n",
    "Programming paradigms can be understood as a philosophy of coding, an abstraction of how to think about problems. One important concept here is **state** which in MATLAB is roughly the values of variables in your workspace. Paragidms handle the state differently.\n",
    "\n",
    "You don't need to learn a whole lot about programming paradigms if you switch from MATLAB to Python. I don't know a whole lot about it either (yet). I highly recommend this [blogpost](https://digitalfellows.commons.gc.cuny.edu/2018/03/12/an-introduction-to-programming-paradigms/) that introduces imperative, functional and object-oriented programming by solving the same problem in three different ways in Python. \n",
    "\n",
    "The following is an ultra-short explanation of paradigms. \n",
    "\n",
    "**Imperative/procedural programming** is often like an IKEA instruction or a recipe. First do step 1, then do step 2 where all of the steps change the state. Use function `screwdriver` to combine variable `screw` and variable `board` into the new variable `sideboard`. This is very convenient for coding but becomes unpredictable in larger programms. It's probably the style of programming you're most used to. The distinction is that imperative programming tells the computer what to do in statements, while procedural programming tells the computer what it wants done and doesn't care about how the computer does it. Don't worry too much about it if you don't really understand what that's supposed to mean. There's variables and there's functions that change the value of variables and that's all you need to know right now. I'll use *imperative programming* to refer to this style.\n",
    "\n",
    "**Functional programming** tries to avoid changes in state, i.e. you can't change the value of variables or there are no variables and everything is functions. It's really hard to understand for people used to imperative or object-oriented programming - I have no clue how it works. This makes programming way harder but it makes programms more maintainable and predictable. It's considered *pure* programming by hardcore computer scientists. If you want to impress them, learn Haskell. You don't need to understand functional programming to use Python. But learning a bit about it will most likely make you a better programmer.\n",
    "\n",
    "**Object-oriented programming** gets rid of the dichotomy between state and ways to change it by *encapsulating* different aspects of the global state into objects. These objects also have methods to work on their own state. Imagine a dog that has attributes like the color and state of it's hair or it's level of hungryness. It also has methods like `eat()` or `scratch()` to change it's state. OOP tries to model the *real world* which brings a few new problems with it but is very intuitive.\n",
    "\n",
    "\n",
    "## 7.2 Programming paradigms in Python vs. MATLAB\n",
    "\n",
    "\n",
    "MATLAB is not a pure language. It's mostly imperative - or better: It's probably the style you have mostly been using in MATLAB. Technically you can use a more functional style. But this is implicitely discouraged because you can only define function in scripts and not everywhere. What some of you might know: You can also use OOP in MATLAB. Version 2008a introduced syntax for classes more similar to other OO languages than before. You might find it if you look into source code of Toolboxes like *SPM* but in my experience it's not very frequently used by end-users. I suspect one reason to be the horrible syntax, but maybe that's just me.\n",
    "\n",
    "Python is not pure either. How you use it is up to you. You can pretty much translate your MATLAB code line by line to Python and it would run. It wouldn't be very idiomatic though. The fact that everything including functions and classes are objects makes it easier to use functional and OOP features than in MATLAB. Also, even when you don't want to use classes yourself, you have to understand what they are if you want to understand why a list has methods or if you even consider using packages like `scikit-learn`. For this reason, we introduce OOP now, before you have time to be confused about something like:"
   ]
  },
  {
   "cell_type": "code",
   "execution_count": 6,
   "metadata": {},
   "outputs": [
    {
     "name": "stdout",
     "output_type": "stream",
     "text": [
      "[2, 3, 4]\n"
     ]
    }
   ],
   "source": [
    "a = [1,2,3];\n",
    "a.append( 4 );\n",
    "a.pop( 0 );\n",
    "print(a);"
   ]
  },
  {
   "cell_type": "markdown",
   "metadata": {},
   "source": [
    "## 7.3 Object-oriented programming\n",
    "\n",
    "There are 4 pillars of OOP:\n",
    "\n",
    "   1. Encapsulation\n",
    "   2. Inheritance\n",
    "   3. Abstraction\n",
    "   4. Polymorphism\n",
    "   \n",
    "Of course, this information doesn't help you in the slightest.\n",
    "\n",
    "The short version: OOP combines data (OOP: properties) and functions (OOP: methods) into objects. Objects are instances of a blueprint called \"class\". It's combining variables and functions into one (Encapsulation). These objects can change their state and have access to their own properties. They can be used without knowing the class definition (Abstraction). Classes can steal methods and properties from other classes and this way become increasingly complex (Inheritance). Different classes can do the same thing in a different way (Polymorphism).\n",
    "\n",
    "Still doesn't much more sense? Don't worry, it will soon.\n",
    "\n",
    "What does it look like in praxis? \n",
    "\n",
    "Imperative: There is a variable and a function that works on the variable.\n",
    "```\n",
    "array = [1,2,3];\n",
    "m = mean(array);\n",
    "```\n",
    "\n",
    "OOP (pseudocode): There is an object that contains both data and the method to work on this data.\n",
    "```\n",
    "array = [1,2,3];\n",
    "m = array.mean();\n",
    "```\n",
    "\n",
    "## 7.3.1 Classes vs. objects\n",
    "\n",
    "An object is an instance of a class. There has to be a class definition before you can have an instance of it. Some examples:\n",
    "\n",
    "   1. You are an instance of the class \"human\"\n",
    "   2. Python is an instance of the class \"programming language\" \n",
    "   3. Your dog is an instance of the class \"dog\". It's also an instance of the more abstract class \"animal\". So are you btw.\n",
    "   \n",
    "In code: \n",
    "(for now, don't worry about the syntax, understand the concept)"
   ]
  },
  {
   "cell_type": "code",
   "execution_count": 79,
   "metadata": {},
   "outputs": [],
   "source": [
    "# \"dog\" is a class that defines what defines a dog. Here, a dog's sound is \"wuff\", it can bark and that's it\n",
    "class dog:\n",
    "    \n",
    "    sound = 'wuff';\n",
    "    \n",
    "    def bark(self):\n",
    "        print(self.sound)\n",
    "    "
   ]
  },
  {
   "cell_type": "code",
   "execution_count": 78,
   "metadata": {},
   "outputs": [
    {
     "data": {
      "text/plain": [
       "type"
      ]
     },
     "execution_count": 78,
     "metadata": {},
     "output_type": "execute_result"
    }
   ],
   "source": [
    "type(dog)"
   ]
  },
  {
   "cell_type": "markdown",
   "metadata": {},
   "source": [
    "So the \"type\" of dog is `type`. Ironically the command in MATLAB would be `class`. The class `type` is the class of class definitions. Every class definition is an instance of the class \"class definitions\"/ `type`. We can check that with some classes we already know using `isinstance( object, class )`."
   ]
  },
  {
   "cell_type": "code",
   "execution_count": 100,
   "metadata": {},
   "outputs": [
    {
     "data": {
      "text/plain": [
       "True"
      ]
     },
     "execution_count": 100,
     "metadata": {},
     "output_type": "execute_result"
    }
   ],
   "source": [
    "#isinstance checks if an object is an instance of a specific class like this. 1 is an integer, so the object 1 is an instance of the class integer.\n",
    "isinstance( 1, int)"
   ]
  },
  {
   "cell_type": "code",
   "execution_count": 103,
   "metadata": {},
   "outputs": [
    {
     "data": {
      "text/plain": [
       "True"
      ]
     },
     "execution_count": 103,
     "metadata": {},
     "output_type": "execute_result"
    }
   ],
   "source": [
    "#dog is of type \"type\":\n",
    "isinstance( dog, type )"
   ]
  },
  {
   "cell_type": "code",
   "execution_count": 104,
   "metadata": {},
   "outputs": [
    {
     "data": {
      "text/plain": [
       "True"
      ]
     },
     "execution_count": 104,
     "metadata": {},
     "output_type": "execute_result"
    }
   ],
   "source": [
    "#so is int\n",
    "isinstance( int, type )"
   ]
  },
  {
   "cell_type": "markdown",
   "metadata": {},
   "source": [
    "Until now, we only have the class but there is no instance of the class \"dog\" yet. You can have a concept of what dinosaurs are without any of them being around here. Let's create an object of type \"dog\", i.e. an instance of the class. You create instances by calling the class definition like a function."
   ]
  },
  {
   "cell_type": "code",
   "execution_count": 105,
   "metadata": {},
   "outputs": [],
   "source": [
    "bello = dog();"
   ]
  },
  {
   "cell_type": "markdown",
   "metadata": {},
   "source": [
    "Let's check if bello is actually a dog:"
   ]
  },
  {
   "cell_type": "code",
   "execution_count": 107,
   "metadata": {},
   "outputs": [
    {
     "data": {
      "text/plain": [
       "True"
      ]
     },
     "execution_count": 107,
     "metadata": {},
     "output_type": "execute_result"
    }
   ],
   "source": [
    "isinstance( bello, dog)"
   ]
  },
  {
   "cell_type": "markdown",
   "metadata": {},
   "source": [
    "So that's true. Bello is a dog. Dogs can bark because we defined it this way. I.e. the class definition comprises a method `bark`. So every instance of the class has the method. You call methods of an object using the `object.method()`, notation. You know this from MATLAB structures.\n",
    "\n",
    "**Exercise**\n",
    "\n",
    "Make bello bark!"
   ]
  },
  {
   "cell_type": "code",
   "execution_count": 82,
   "metadata": {},
   "outputs": [],
   "source": [
    "# your code here\n"
   ]
  },
  {
   "cell_type": "markdown",
   "metadata": {},
   "source": [
    "Class definitions are objects just like everything else. All objects are instances, class definitions are instances of the type `type`. That means we can assign it to other variables. In MATLAB you can call functions without parentheses. Find out why that doesn't work in Python:"
   ]
  },
  {
   "cell_type": "code",
   "execution_count": 108,
   "metadata": {},
   "outputs": [],
   "source": [
    "lassie = dog;"
   ]
  },
  {
   "cell_type": "markdown",
   "metadata": {},
   "source": [
    "**Exercise**\n",
    "\n",
    "Try to make lassie bark."
   ]
  },
  {
   "cell_type": "code",
   "execution_count": 98,
   "metadata": {},
   "outputs": [],
   "source": [
    "#your code here\n"
   ]
  },
  {
   "cell_type": "markdown",
   "metadata": {},
   "source": [
    "Why doesn't that work? Chances are that the error message wasn't too informative for you until now.\n",
    "\n",
    "You didn't create an instance of the class dog. You assigned the class definition to the variable \"lassie\":"
   ]
  },
  {
   "cell_type": "code",
   "execution_count": 88,
   "metadata": {},
   "outputs": [
    {
     "name": "stdout",
     "output_type": "stream",
     "text": [
      "True\n",
      "<class '__main__.dog'> is an instance of class dog: False\n",
      "<class '__main__.dog'> is an instance of class type: True\n"
     ]
    }
   ],
   "source": [
    "print( dog is lassie ); #\"dog\" and \"lassie\" are point at the same adress in memory\n",
    "check_instance(lassie,dog);\n",
    "check_instance(lassie,type);"
   ]
  },
  {
   "cell_type": "markdown",
   "metadata": {},
   "source": [
    "Since now \"lassie\" is just another pointer at the same class \"dog\", we can use it to create instances of the class."
   ]
  },
  {
   "cell_type": "code",
   "execution_count": 110,
   "metadata": {},
   "outputs": [
    {
     "name": "stdout",
     "output_type": "stream",
     "text": [
      "wuff\n"
     ]
    }
   ],
   "source": [
    "idefix = lassie();\n",
    "isinstance(idefix,dog);\n",
    "idefix.bark();"
   ]
  },
  {
   "cell_type": "markdown",
   "metadata": {},
   "source": [
    "## Encapsulation"
   ]
  },
  {
   "cell_type": "code",
   "execution_count": null,
   "metadata": {},
   "outputs": [],
   "source": []
  },
  {
   "cell_type": "code",
   "execution_count": null,
   "metadata": {},
   "outputs": [],
   "source": []
  },
  {
   "cell_type": "code",
   "execution_count": 8,
   "metadata": {},
   "outputs": [],
   "source": [
    "class life:\n",
    "    molecular_base = 'carbon';\n",
    "    has_metabolism = True;\n",
    "    has_DNA = True;"
   ]
  },
  {
   "cell_type": "code",
   "execution_count": 53,
   "metadata": {},
   "outputs": [],
   "source": [
    "class animal( life):\n",
    "    metabolism = 'aerobic';\n",
    "    \n",
    "    def __init__(self, HP = 100, hunger = 0):\n",
    "        self.HP = HP;\n",
    "        self.hunger = hunger;\n",
    "        \n",
    "    def age_hours(self, n_hours = 1):\n",
    "        self.HP -= n_hours;\n",
    "        self.hunger += 3 * n_hours;\n",
    "    \n",
    "    def eat(self, food_size = 10):\n",
    "        if self.hunger:\n",
    "            self.hunger -= food_size;\n",
    "            self.hunger = max( self.hunger, 0);\n",
    "        else:\n",
    "            print(\"wuff I'm not hungry wuff\")"
   ]
  },
  {
   "cell_type": "code",
   "execution_count": 54,
   "metadata": {},
   "outputs": [],
   "source": [
    "class dog( animal ):\n",
    "    \n",
    "    sound = 'wuff';\n",
    "    \n",
    "    def __init__(self, name , **kwargs):\n",
    "        super().__init__(**kwargs)\n",
    "        self.name = name;\n",
    "    \n",
    "    def bark(self, times = None):\n",
    "        if times is None:\n",
    "            from numpy.random import randint\n",
    "            times = randint(10);\n",
    "        print( ' '.join([self.sound] * times ) );"
   ]
  },
  {
   "cell_type": "code",
   "execution_count": 55,
   "metadata": {},
   "outputs": [],
   "source": [
    "bello = dog(name = 'bello')"
   ]
  },
  {
   "cell_type": "code",
   "execution_count": 56,
   "metadata": {},
   "outputs": [],
   "source": [
    "bello.age_hours(10);"
   ]
  },
  {
   "cell_type": "code",
   "execution_count": 57,
   "metadata": {},
   "outputs": [],
   "source": [
    "bello.has_metabolism;"
   ]
  },
  {
   "cell_type": "code",
   "execution_count": 60,
   "metadata": {},
   "outputs": [
    {
     "name": "stdout",
     "output_type": "stream",
     "text": [
      "wuff I'm not hungry wuff\n"
     ]
    }
   ],
   "source": [
    "bello.eat(food_size=20);\n",
    "bello.hunger;"
   ]
  },
  {
   "cell_type": "code",
   "execution_count": 62,
   "metadata": {},
   "outputs": [
    {
     "data": {
      "text/plain": [
       "type"
      ]
     },
     "execution_count": 62,
     "metadata": {},
     "output_type": "execute_result"
    }
   ],
   "source": [
    "type(dog)"
   ]
  },
  {
   "cell_type": "code",
   "execution_count": null,
   "metadata": {},
   "outputs": [],
   "source": []
  },
  {
   "cell_type": "markdown",
   "metadata": {},
   "source": [
    "8. Modules and packages"
   ]
  },
  {
   "cell_type": "markdown",
   "metadata": {},
   "source": [
    "9. Compound data types"
   ]
  },
  {
   "cell_type": "markdown",
   "metadata": {},
   "source": [
    "### 6.4.2 Strings and characters\n",
    "\n",
    "Strings and characters are the same thing in Python. They are very easy to handle if you're used to MATLAB because they actually behave the way you expect them to - unlike MATLAB.\n",
    "\n",
    "You can use either `\"double quotes\"` or `'single quotes'`, they act the same."
   ]
  },
  {
   "cell_type": "code",
   "execution_count": 30,
   "metadata": {},
   "outputs": [
    {
     "name": "stdout",
     "output_type": "stream",
     "text": [
      "True\n"
     ]
    }
   ],
   "source": [
    "double_quote = \"string\";\n",
    "single_quote = 'string';\n",
    "print( double_quote == single_quote );"
   ]
  },
  {
   "cell_type": "markdown",
   "metadata": {},
   "source": [
    "You can escape a quote in your string with another quote (`'That''s it'`) or by using double quotes for the string and single quotes within (`\"What's up\"`).\n",
    "\n",
    "**String concatenation** is the act of joining strings together. Since it's just *adding* strings together, this is exactly how you do it.\n",
    "\n",
    "**Exercise**\n",
    "\n",
    "Find out what I mean by that and concatenate the following strings."
   ]
  },
  {
   "cell_type": "code",
   "execution_count": 31,
   "metadata": {},
   "outputs": [],
   "source": [
    "s_1 = 'Well ';\n",
    "s_2 = 'done!';"
   ]
  },
  {
   "cell_type": "code",
   "execution_count": 33,
   "metadata": {},
   "outputs": [],
   "source": [
    "#your code here\n"
   ]
  },
  {
   "cell_type": "markdown",
   "metadata": {},
   "source": [
    "### 6.4.2.1 Formatting strings\n",
    "\n",
    "This is something you would do using `sprintf()` or `fprintf()` in MATLAB. Neither of those exist in Python. In Python, you format the string and then just `print()` it.\n",
    "\n",
    "There are multiple ways to do this. The only way that doesn't rely on a rough understanding on Object-oriented programming is using **formatted strings**:"
   ]
  },
  {
   "cell_type": "code",
   "execution_count": 34,
   "metadata": {},
   "outputs": [
    {
     "name": "stdout",
     "output_type": "stream",
     "text": [
      "value of a: 3\n"
     ]
    }
   ],
   "source": [
    "#example:\n",
    "a = 3;\n",
    "string = f'value of a: {a}';\n",
    "print(string);"
   ]
  },
  {
   "cell_type": "markdown",
   "metadata": {},
   "source": [
    "**Exercise**\n",
    "\n",
    "Assign your name, age and the number of your siblings to three variables and use these to format and print a string like this:<br/>\n",
    "\"My name is { }, I'm { } years old and I have { } siblings.\"\n",
    "\n",
    "(Or format any other string using variables.)"
   ]
  },
  {
   "cell_type": "code",
   "execution_count": 36,
   "metadata": {},
   "outputs": [],
   "source": [
    "#your code here\n"
   ]
  },
  {
   "cell_type": "code",
   "execution_count": null,
   "metadata": {},
   "outputs": [],
   "source": []
  }
 ],
 "metadata": {
  "kernelspec": {
   "display_name": "Python [conda env:workshop] *",
   "language": "python",
   "name": "conda-env-workshop-py"
  },
  "language_info": {
   "codemirror_mode": {
    "name": "ipython",
    "version": 3
   },
   "file_extension": ".py",
   "mimetype": "text/x-python",
   "name": "python",
   "nbconvert_exporter": "python",
   "pygments_lexer": "ipython3",
   "version": "3.7.1"
  }
 },
 "nbformat": 4,
 "nbformat_minor": 2
}
