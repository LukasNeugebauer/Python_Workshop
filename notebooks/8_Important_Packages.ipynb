{
 "cells": [
  {
   "cell_type": "markdown",
   "metadata": {},
   "source": [
    "# 8. Important packages\n",
    "\n",
    "There are about 1400 packages available via **conda** and about 113.000 using **pip**. You will understand that we can't cover all of them. So here we will have a quick look at a few selected packages.\n",
    "\n",
    "## 8.1 `pickle`\n",
    "\n",
    "`pickle` is part of base Python. So you don't have to install it. Is used to serialize and deserialize Python objects. In other words, `pickling` means to transform an object into a long sequence of 0s and 1s and save it on the hard drive. The other way around, `unpickling` means to transform a byte-stream back to a python object. \n",
    "\n",
    "If you want to save data, intermediary analysis steps or any Python object, use `pickle`.\n",
    "\n",
    "There are really only two functions in pickle you need: `pickle.dump()` and `pickle.load()` each of these needs a handle to file that was opened in binary mode.\n",
    "Remember how you can open a file with read or write permission:\n",
    "\n",
    "```\n",
    "fr = fopen('read_file.txt', 'r');\n",
    "fw = fopen('write_file.txt','w');\n",
    "```\n",
    "And afterwards you shouldn't forget to close the file using `fclose`. We'll use a [context manager](https://www.geeksforgeeks.org/context-manager-in-python/) for this. It means, the file is automatically closed for us. \n",
    "\n",
    "To `pickle an object` into a **.pic**-file, do the following:\n",
    "\n",
    "```Python\n",
    "data = [1,2,3];\n",
    "with open( 'picfile.pic', 'wb' ) as file:\n",
    "    pickle.dump( data, file, -1);\n",
    "```\n",
    "The `-1` tells `pickle` to use the highest available protocol.\n",
    "\n",
    "`Unpickling` works nearly the same. Of course, you need binary mode reading permission instead of writing permission.\n",
    "\n",
    "**Exercise**\n",
    "\n",
    "Unpickle the mysterious string from \"..\\toy_data\"."
   ]
  },
  {
   "cell_type": "code",
   "execution_count": 2,
   "metadata": {},
   "outputs": [],
   "source": [
    "#your code here\n"
   ]
  },
  {
   "cell_type": "markdown",
   "metadata": {},
   "source": [
    "## 8.2 Numpy\n",
    "\n",
    "Here's a somewhat controversial quote on the relationsship between MATLAB and numpy and R and pandas:\n",
    "\n",
    "<img align=\"center\" src='../img/pandas_r_numpy_matlab.PNG' width=60%/>\n",
    "\n",
    "That's pretty much true. Numpy is the package that makes scientific computing in Python possible to begin with. You will probably import in into every script and module you write. It provides important data types like `numpy.arrays`, that are similar to MATLAB arrays. \n",
    "\n",
    "If you prefer R-style DataFrames, you can go with `pandas`. It's very widely used in Data Science. In the background it's a very convenient wrapper around numpy. \n",
    "I use pandas a lot because of its improved functionality. Because of time constraints we'll just have a look at numpy here. You can find a 10 minute intro to pandas [here](https://pandas.pydata.org/pandas-docs/stable/getting_started/10min.html).\n",
    "\n",
    "\n",
    "The convention to import numpy is this:\n",
    "\n",
    "```Python\n",
    "import numpy as np\n",
    "```\n",
    "You also find\n",
    "```Python\n",
    "from numpy import *\n",
    "```\n",
    "but I advise against using this approach. Namespaces are a good thing.\n"
   ]
  },
  {
   "cell_type": "code",
   "execution_count": 5,
   "metadata": {},
   "outputs": [],
   "source": [
    "import numpy as np"
   ]
  },
  {
   "cell_type": "markdown",
   "metadata": {},
   "source": [
    "### 8.2.1 Numpy arrays\n",
    "\n",
    "The most important aspect of numpy is to provide us with a data type that is able to hold numeric data like SCR, eyetracking, ratings or fMRI. Numpy is used by nearly all other packages that you will use like `scipy` and `matplotlib`. As usually, you can use the class `np.array` as a constructor to transform other data types into numpy arrays.\n",
    "\n",
    "**Exercise**\n",
    "\n",
    "Transform the following list of lists into a np.array"
   ]
  },
  {
   "cell_type": "code",
   "execution_count": null,
   "metadata": {},
   "outputs": [],
   "source": [
    "data = [[1,0,0],[0,1,0],[0,0,1]];\n",
    "#your code here\n"
   ]
  },
  {
   "cell_type": "markdown",
   "metadata": {},
   "source": [
    "Other numpy functions like random number generators also return np.arrays. \n",
    "\n",
    "**Exercise**\n",
    "\n",
    "   1. Use np.random.randn to create a 10x2 array of standard normal distributed values.\n",
    "   2. Scalar multiplication and addition work like in MATLAB. Turn the created array into IQ values using this knowledge. (IQ values have mean 100 and SD 15)\n",
    "   3. np.arrays are objects. They have methods. Use this knowledge to write a function that takes an array as input and z-scores the array column-wise."
   ]
  },
  {
   "cell_type": "code",
   "execution_count": 5,
   "metadata": {},
   "outputs": [],
   "source": [
    "#your code here\n"
   ]
  },
  {
   "cell_type": "markdown",
   "metadata": {},
   "source": [
    "You can use slices for indexing. They behave like the indexes you already know from Python, i.e. 0-based and the end point is not included.\n",
    "\n",
    "**Exercise**\n",
    "\n",
    "Print the second row of the IQ matrix. Then print the first five rows of the second column."
   ]
  },
  {
   "cell_type": "code",
   "execution_count": 1,
   "metadata": {},
   "outputs": [],
   "source": [
    "#your code here\n"
   ]
  },
  {
   "cell_type": "markdown",
   "metadata": {},
   "source": [
    "#### 8.2.1.1 Matrix algebra\n",
    "\n",
    "The `*`-operator uses matrix multiplication by default. The same operator in Python does not. Python 3.5 introduced the `@`-operator for this purpose. This also shows the meaning of numpy for the Python universe.\n",
    "\n",
    "The following are nonsense examples.\n",
    "\n",
    "Assuming the relation y = **X**betas + e, compute y-hat from the following matrix X (data) and vector betas (regression weights) using matrix multiplication."
   ]
  },
  {
   "cell_type": "code",
   "execution_count": null,
   "metadata": {},
   "outputs": [],
   "source": [
    "betas = np.array([[1.4],[0.4],[0.98]]); # this is needed to create to create a column vector\n",
    "X = np.random.randint(1,100, (100,3));"
   ]
  },
  {
   "cell_type": "code",
   "execution_count": 33,
   "metadata": {},
   "outputs": [],
   "source": [
    "#your code here\n"
   ]
  },
  {
   "cell_type": "markdown",
   "metadata": {},
   "source": [
    "Subtraction and addition work the same as in MATLAB. As long as the shapes can be broadcasted together.\n",
    "\n",
    "**Exercise**\n",
    "\n",
    "Compute the error between your computed y_hat and the following \"empirical\" y:"
   ]
  },
  {
   "cell_type": "code",
   "execution_count": 30,
   "metadata": {},
   "outputs": [],
   "source": [
    "y = np.random.randn(100,1) * 50 + 145;"
   ]
  },
  {
   "cell_type": "code",
   "execution_count": 31,
   "metadata": {},
   "outputs": [],
   "source": [
    "#your code here\n"
   ]
  },
  {
   "cell_type": "markdown",
   "metadata": {},
   "source": [
    "For basic operations on the data, np.arrays provide methods, e.g. `array.sum()`.\n",
    "\n",
    "**Exercise**\n",
    "\n",
    "Compute the sum of squared residuals. *Hint*: Yyou can do it in one line."
   ]
  },
  {
   "cell_type": "code",
   "execution_count": 8,
   "metadata": {},
   "outputs": [],
   "source": [
    "#your code here\n"
   ]
  },
  {
   "cell_type": "markdown",
   "metadata": {},
   "source": [
    "Theres's a ton of more functions that arrays provide you with. If you use tab completion to get an idea about the amount, you'll understand that we can't cover all. However, we can cover one pitfall:\n",
    "\n",
    "<br/>\n",
    "\n",
    "#### 8.2.1.2 Fortran order vs. C order\n",
    "\n",
    "Fortran and C define different standards about how arrays are stored in memory: [Row-major and column-major order](https://en.wikipedia.org/wiki/Row-_and_column-major_order) respectively. That's basically, when you use `matrix(:)` in MATLAB, do you glue rows together or columns? Fortran and MATLAB are column-dominant. C and numpy are row-dominant.\n",
    "\n",
    "Have a look:\n",
    "\n",
    "**Exercise**\n",
    "\n",
    "   1. Use `np.arange` to create a vector of values from 1 to 25. `np.arange` works like `range()`, except it returns a np.array.\n",
    "   2. Use the array method `array.reshape()` to reshape it into a 5,5-matrix. \n",
    "   3. What would you expect? Print the array.\n"
   ]
  },
  {
   "cell_type": "code",
   "execution_count": null,
   "metadata": {},
   "outputs": [],
   "source": [
    "#your code here\n"
   ]
  },
  {
   "cell_type": "markdown",
   "metadata": {},
   "source": [
    "The same problem arises for `array.ravel()` and `array.flatten()`, that act similar ([but not identical](https://stackoverflow.com/questions/28930465/what-is-the-difference-between-flatten-and-ravel-functions-in-numpy)). Fortunately, there is a way around this. All of these functions take an optional parameter `order`. You can pass either `'C'`, for row-major order of `'F'` for column-major, Fotran/MATLAB-like order.\n",
    "\n",
    "**Exercises**\n",
    "\n",
    "Use `ravel` or `flatten` to reshape the matrix into a vector, using column-major order."
   ]
  },
  {
   "cell_type": "code",
   "execution_count": 35,
   "metadata": {},
   "outputs": [],
   "source": [
    "#your code here\n"
   ]
  },
  {
   "cell_type": "markdown",
   "metadata": {},
   "source": [
    "Numpy is obviously inspired by MATLAB. Some functions are the same. Among them e.g. `linspace`. Others have close analogues. You can find a side-by-side view [here](https://docs.scipy.org/doc/numpy/user/numpy-for-matlab-users.html). Apart from that, you just have to use it to get used to it."
   ]
  },
  {
   "cell_type": "markdown",
   "metadata": {},
   "source": [
    "<br/>\n",
    "\n",
    "## 8.3 Scipy\n",
    "\n",
    "Scipy is a package that contains classes and functions for a wide range of numerical problems. Among them signal processing, linear algebra, statistics and optimization. We'll have a quick look at the statistics module, but you should know there is more."
   ]
  },
  {
   "cell_type": "code",
   "execution_count": 4,
   "metadata": {},
   "outputs": [],
   "source": [
    "from scipy import stats"
   ]
  },
  {
   "cell_type": "code",
   "execution_count": 38,
   "metadata": {},
   "outputs": [],
   "source": [
    "a = np.random.randn(100,1) + 90;\n",
    "b = np.random.randn(100,1)  + 95"
   ]
  },
  {
   "cell_type": "markdown",
   "metadata": {},
   "source": [
    "Assuming, `a` and `b` are independent samples, use a t-test to compute the probability of the observed or a more extreme mean difference under the hypothesis that both samples are drawn from the same population."
   ]
  },
  {
   "cell_type": "code",
   "execution_count": 41,
   "metadata": {},
   "outputs": [],
   "source": [
    "#your code here\n"
   ]
  },
  {
   "cell_type": "markdown",
   "metadata": {},
   "source": [
    "Scipy.stats also provides classes for probability distributions. You can create instances of these classes like this."
   ]
  },
  {
   "cell_type": "code",
   "execution_count": 42,
   "metadata": {},
   "outputs": [
    {
     "name": "stdout",
     "output_type": "stream",
     "text": [
      "<class 'scipy.stats._distn_infrastructure.rv_frozen'>\n"
     ]
    }
   ],
   "source": [
    "#create an object of a gamma(2,2)-distribution\n",
    "gamma = stats.gamma(2,2);"
   ]
  },
  {
   "cell_type": "markdown",
   "metadata": {},
   "source": [
    "Now this object can be used to do things like generating random values or computing PDF and CDF. And a lot more."
   ]
  },
  {
   "cell_type": "code",
   "execution_count": 48,
   "metadata": {},
   "outputs": [
    {
     "data": {
      "image/png": "[encoded data removed]",
      "text/plain": [
       "<Figure size 432x288 with 1 Axes>"
      ]
     },
     "metadata": {
      "needs_background": "light"
     },
     "output_type": "display_data"
    }
   ],
   "source": [
    "#generate a lot of random values from gamma(2,2)\n",
    "random_values = gamma.rvs(1000)\n",
    "#visualize them\n",
    "import matplotlib.pyplot as plt;\n",
    "%matplotlib inline\n",
    "plt.hist(random_values,bins=20);plt.show()"
   ]
  },
  {
   "cell_type": "markdown",
   "metadata": {},
   "source": [
    "**Exercise** \n",
    "\n",
    "Use `stats.norm` to \"prove\" that for a normal distribution the AUC between -2 and 2 standard deviations is ~95%. *Hint*: Use the cumulative density function."
   ]
  },
  {
   "cell_type": "code",
   "execution_count": 13,
   "metadata": {},
   "outputs": [],
   "source": [
    "#your code here\n"
   ]
  },
  {
   "cell_type": "markdown",
   "metadata": {},
   "source": [
    "<br/>\n",
    "\n",
    "## 8.4 Matplotlib\n",
    "\n",
    "Matplotlib is **the** plotting library in Python. It's designed after MATLAB's plotting. Still, matplotlib is a bit like ggplot, because there are so many ways to customize everything. That means, you can make your plots look like you want them to, but it might take a while and a lot of code. Just like pandas is a wrapper around numpy, there are wrappers around matplotlib. The most prominent one is **seaborn** that tries to use sensible defaults and provide publication-ready figures. \n",
    "\n",
    "There are different modules and they provide different ways to use matplotlib. For MATLAB-users there's **pylab**. Its use is discouraged by the creators of matplotlib. The standard module is **pyplot**, which we'll use here. That's kind of like the OOP variant of pylab."
   ]
  },
  {
   "cell_type": "code",
   "execution_count": 2,
   "metadata": {},
   "outputs": [],
   "source": [
    "import matplotlib.pyplot as plt\n",
    "#IPython magic to make sure that plots are shown IN the notebook:\n",
    "%matplotlib inline"
   ]
  },
  {
   "cell_type": "markdown",
   "metadata": {},
   "source": [
    "The simplest plot would be something like this:"
   ]
  },
  {
   "cell_type": "code",
   "execution_count": 15,
   "metadata": {},
   "outputs": [
    {
     "data": {
      "image/png": "[encoded data removed]",
      "text/plain": [
       "<Figure size 432x288 with 1 Axes>"
      ]
     },
     "metadata": {
      "needs_background": "light"
     },
     "output_type": "display_data"
    }
   ],
   "source": [
    "plt.plot( [1,2,3] );\n",
    "#the following is not necessary here, but since it is in other contexts, you should add it\n",
    "plt.show()"
   ]
  },
  {
   "cell_type": "markdown",
   "metadata": {},
   "source": [
    "As you see, the syntax is similar to MATLAB. Even more so:"
   ]
  },
  {
   "cell_type": "code",
   "execution_count": 16,
   "metadata": {},
   "outputs": [
    {
     "data": {
      "image/png": "[encoded data removed]",
      "text/plain": [
       "<Figure size 432x288 with 1 Axes>"
      ]
     },
     "metadata": {
      "needs_background": "light"
     },
     "output_type": "display_data"
    }
   ],
   "source": [
    "plt.plot( [1,2,3] , 'ro' );\n",
    "plt.show()"
   ]
  },
  {
   "cell_type": "markdown",
   "metadata": {},
   "source": [
    "But actually, everything is an object again, so you can also use this approach.\n"
   ]
  },
  {
   "cell_type": "code",
   "execution_count": 7,
   "metadata": {},
   "outputs": [
    {
     "data": {
      "image/png": "[encoded data removed]",
      "text/plain": [
       "<Figure size 360x720 with 2 Axes>"
      ]
     },
     "metadata": {
      "needs_background": "light"
     },
     "output_type": "display_data"
    }
   ],
   "source": [
    "fig = plt.figure( figsize= (5,10)); #create a figure of width 10 x height 20\n",
    "ax_1 = fig.add_subplot(211); #add first of two subplots that are arranged vertically\n",
    "ax_2 = fig.add_subplot(212); #add second one\n",
    "\n",
    "#now these are all objects and provide methods, e.g for plotting\n",
    "ax_1.plot( [2,1,2], 'g-', label = 'Green line'); #label can be used for the legend;\n",
    "ax_1.plot( [1,2,1], 'b--', label = 'Blue dashed line');\n",
    "ax_1.legend() # show the legend\n",
    "\n",
    "#same as imshow in MATLAB\n",
    "ax_2.imshow( np.random.randint( 0,100,(25,25)));\n",
    "ax_2.set_xlabel( 'Random axis', fontsize = 20);\n",
    "ax_2.set_ylabel('Also random', fontsize=20 );\n",
    "\n",
    "plt.show()\n",
    "\n",
    "#you can now directly save the figure\n",
    "import os\n",
    "fig.savefig(os.path.abspath('../img/testplot.png'))"
   ]
  },
  {
   "cell_type": "markdown",
   "metadata": {},
   "source": [
    "<br/>\n",
    "\n",
    "**Exercise**\n",
    "\n",
    "Use matplotlib to create three horizontally arranged subplots that all show the cosine, tangens and sine of np.array from 0 to 2 pi.\n",
    "If you're feeling experimental, use `plt.subplots()`, otherwise stick to the way you just saw."
   ]
  },
  {
   "cell_type": "code",
   "execution_count": 23,
   "metadata": {},
   "outputs": [],
   "source": [
    "#your code here\n"
   ]
  },
  {
   "cell_type": "markdown",
   "metadata": {},
   "source": [
    "## 8.5 ipdb\n",
    "\n",
    "`ipdb` is short for IPython debugging. We will only have a look at one function and that's the only one I've ever used. It's also the only one that I've ever used for debugging in Python. You probably have `ipdb` already installed, but if not you can use conda for this. The function is called `set_trace`. It works exactly the same way as `keyboard` works in MATLAB - stop execution of code and give control back for debugging. Let's import it:"
   ]
  },
  {
   "cell_type": "markdown",
   "metadata": {},
   "source": [
    "from ipdb import set_trace"
   ]
  },
  {
   "cell_type": "markdown",
   "metadata": {},
   "source": [
    "You can just call it wherever you want to stop for debugging purposes. The three commands you use in MATLAB for debugging aa `dbstep` to proceed one line and then stop again, `dbcont` to proceed until the next debugging point and `dbquit` to quit debugging and stop execution of program. Have a look at the equivalents in Python:\n",
    "\n",
    "| MATLAB | Python| \n",
    "| ------ | ----- |\n",
    "| dbcont | c     |\n",
    "| dbstep | n     |\n",
    "| dbquit | q     |\n",
    "\n",
    "This is all that's different. The principle is the same. Have a quick look, if you want to:"
   ]
  },
  {
   "cell_type": "code",
   "execution_count": null,
   "metadata": {},
   "outputs": [],
   "source": [
    "for i in range(10):\n",
    "    print(i);\n",
    "    set_trace();"
   ]
  },
  {
   "cell_type": "markdown",
   "metadata": {},
   "source": [
    "That's all you need to change about your debugging procedures. Different commands."
   ]
  },
  {
   "cell_type": "markdown",
   "metadata": {},
   "source": [
    "<br/>\n",
    "\n",
    "# Conclusion\n",
    "\n",
    "This was barely even scratching the surface. There is **a lot** to be learned about these. But hopefully now you have a rough idea about what you can expect from these packages.\n",
    "This was the last bit of spoonfeeding. I think you're ready to be pushed into the cold water and learn how to swim. See you in the last notebook."
   ]
  }
 ],
 "metadata": {
  "kernelspec": {
   "display_name": "Python 3",
   "language": "python",
   "name": "python3"
  },
  "language_info": {
   "codemirror_mode": {
    "name": "ipython",
    "version": 3
   },
   "file_extension": ".py",
   "mimetype": "text/x-python",
   "name": "python",
   "nbconvert_exporter": "python",
   "pygments_lexer": "ipython3",
   "version": "3.7.1"
  }
 },
 "nbformat": 4,
 "nbformat_minor": 2
}
