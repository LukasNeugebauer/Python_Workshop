{
 "cells": [
  {
   "cell_type": "markdown",
   "metadata": {},
   "source": [
    "# 4. Basic syntax and data types\n",
    "\n",
    "Although learning the syntax and basic data types is probably the smallest problem when switching from MATLAB, it needs to be done. Besides, it's a good opportunity to introduce cool features, to give you some tips on pythonic code and to warn you of pitfalls."
   ]
  },
  {
   "cell_type": "markdown",
   "metadata": {},
   "source": [
    "## 4.1 Assignments \n",
    "\n",
    "Assigment in the simplest form works just the way it works in MATLAB. <br/>\n",
    "The easiest way to think about assignments is: The variable on the left hand side now holds the value on the right hand side. We'll see in a few minutes why that's not a good mental model.\n",
    "\n",
    "MATLAB:\n",
    "```\n",
    "a = 1;\n",
    "b = [1,2,3];\n",
    "c = 'string';\n",
    "```\n",
    "\n",
    "Python:\n",
    "Try it out yourself and assign some values to variables.<br/>\n",
    "(Hint: In Jupyter notebook you can run cells with `Ctrl+Enter` and run cells and jump to the next one with `Shift+Enter`)."
   ]
  },
  {
   "cell_type": "code",
   "execution_count": 16,
   "metadata": {},
   "outputs": [],
   "source": [
    "#your code here\n"
   ]
  },
  {
   "cell_type": "markdown",
   "metadata": {},
   "source": [
    "A note on variable names: In contrast to MATLAB, python has an official [style guide](https://peps.python.org/pep-0008/), that gives you conventions for how to name variables, functions and classes among other things. I'll refer to it again, but for now you should be aware of the part on variable names. \n",
    "\n",
    "Variables in python should\n",
    " * start with a lowercase letter\n",
    " * use underscores to separate words\n",
    " * be self-explanatory\n",
    "\n",
    "Let's say we have a variable that counts the number of lines. Here's a few bad examples:\n",
    "\n",
    "```python\n",
    "n # not clear what it is\n",
    "numOfLines # kinda okay, but camel case is not the python way\n",
    "NumOfLines # capital letters in the beginning are for classes, not variables\n",
    "Num_of_lines # I see this all the time in scripts, please don't do this\n",
    "Num_ofLines # what the fuck are you doing?\n",
    "```\n",
    "This is a good way to name the variable:\n",
    "```\n",
    "num_of_lines\n",
    "```\n",
    "\n",
    "More important than sticking to the exact suggestions (and sometimes there are several options) is to be consistent. Decide for one style and stick to it."
   ]
  },
  {
   "cell_type": "markdown",
   "metadata": {},
   "source": [
    "### 4.1.1 Chained assignment:\n",
    "\n",
    "Chained assignments are a way to assign the same value to multiple variables. It work like this:\n",
    "```\n",
    "var_1 = var_2 ... = var_n = assigned object/\"value\"\n",
    "```\n",
    "\n",
    "Try it out:"
   ]
  },
  {
   "cell_type": "code",
   "execution_count": 3,
   "metadata": {},
   "outputs": [],
   "source": [
    "#your code here\n"
   ]
  },
  {
   "cell_type": "markdown",
   "metadata": {},
   "source": [
    "Use this one with caution. We'll see why in a minute.\n",
    "\n",
    "### 4.1.2 Multiple assigments. \n",
    "This is possible in MATLAB using the `deal()`-function\n",
    "\n",
    "MATLAB:\n",
    "```\n",
    "[a, b] = deal(1, 1);\n",
    "```\n",
    "In Python you don't need brackets on the left hand side.\n",
    "Also, it's a regular way to assign values:\n",
    "\n",
    "```\n",
    "var_1, var_2 = obj_1, obj_2\n",
    "```\n",
    "\n",
    "This way you can also switch the object that variables are assigned to:\n",
    "\n",
    "```\n",
    "var_1, var_2 = var_2, var_1\n",
    "```\n",
    "\n",
    "Try it out, assign two variables. Then switch their values."
   ]
  },
  {
   "cell_type": "code",
   "execution_count": 1,
   "metadata": {},
   "outputs": [],
   "source": [
    "#your code\n"
   ]
  },
  {
   "cell_type": "markdown",
   "metadata": {},
   "source": [
    "### 4.1.3 Conditional assignments\n",
    "\n",
    "A feature that many programming languages have is a so called **ternary operator**. Usually it's in the form `a ? b : c`. This expression evaluates to `b` if `a` is a <font color=\"green\">true</font>, otherwise it evaluates to `c`. `a` is anything that can be considered a logical expression like e.g. `y < 3`.\n",
    "\n",
    "In an assignment that could be something like this\n",
    "```C\n",
    "x = a ? b : c;\n",
    "```\n",
    "\n",
    "The order of operands is a bit confusing here, so let's try again in a less concise form:\n",
    "```Python\n",
    "if a:\n",
    "    x = b\n",
    "else:\n",
    "    x = c\n",
    "```\n",
    "which is valid Python.\n",
    "\n",
    "A [pseudocode](https://en.wikipedia.org/wiki/Pseudocode) version of the **ternary operator** might look like this:\n",
    "```\n",
    "x = b if a else c \n",
    "```\n",
    "\n",
    "Like so often, this is pretty close to what we actually do in Python. Here we see why the **ternary operator** is also called an **inline-if**:\n",
    "```Python\n",
    "x = b if a else c\n",
    "```\n",
    "Let's check your understanding of the conditional assignment."
   ]
  },
  {
   "cell_type": "code",
   "execution_count": 1,
   "metadata": {},
   "outputs": [],
   "source": [
    "a = 100 < 10 # This expression evaluates to either True or False, so the value of a is either True of False\n",
    "\n",
    "x = 'spam' if a else 'eggs' #spam and eggs are the Python version of foo and bar"
   ]
  },
  {
   "cell_type": "markdown",
   "metadata": {},
   "source": [
    "What is the value of `x`? Think about it and then print it in the next cell."
   ]
  },
  {
   "cell_type": "code",
   "execution_count": 7,
   "metadata": {},
   "outputs": [],
   "source": [
    "#your code\n"
   ]
  },
  {
   "cell_type": "markdown",
   "metadata": {},
   "source": [
    "Got it right? Nice! If not and you don't know why, don't hesitate to ask.\n",
    "You can also write the logical condition directly into the expression like so:"
   ]
  },
  {
   "cell_type": "code",
   "execution_count": 2,
   "metadata": {},
   "outputs": [
    {
     "name": "stdout",
     "output_type": "stream",
     "text": [
      "small\n"
     ]
    }
   ],
   "source": [
    "x = 100\n",
    "#consider any value above 150 as big, any value below as small.\n",
    "size_of_x = 'big' if x >= 150 else 'small'\n",
    "print(size_of_x)"
   ]
  },
  {
   "cell_type": "markdown",
   "metadata": {},
   "source": [
    "## 4.2 Identity vs. Equality\n",
    "\n",
    "This one is a **major pitfall** for users that are not used to the distinction between equality and identity. \n",
    "Let's first look at which behavior we would expect from MATLAB:\n",
    "\n",
    "```\n",
    "%assign array to variable a\n",
    "a = [0,0,0];\n",
    "%assign the value of a to b, i.e. make a copy\n",
    "b = a;\n",
    "%change value of b\n",
    "b(1) = 99;\n",
    "%we would expect that a is unchanged since we didn't change its value\n",
    "disp(a);\n",
    "ans =\n",
    "    [0,0,0];\n",
    "```"
   ]
  },
  {
   "cell_type": "markdown",
   "metadata": {},
   "source": [
    "In Python this is different. Try it yourself."
   ]
  },
  {
   "cell_type": "code",
   "execution_count": 1,
   "metadata": {},
   "outputs": [],
   "source": [
    "a = [0, 0, 0] #this is a list, not an array - more on this later"
   ]
  },
  {
   "cell_type": "markdown",
   "metadata": {},
   "source": [
    "Now assign the value of `a` to a new variable `b`. The syntax for this is just like in MATLAB."
   ]
  },
  {
   "cell_type": "code",
   "execution_count": 10,
   "metadata": {},
   "outputs": [],
   "source": [
    "#your code here\n"
   ]
  },
  {
   "cell_type": "markdown",
   "metadata": {},
   "source": [
    "Change one of the elements of the list `b`. Keep in mind that indexing works with square brackets and 0-based. \n",
    "So what's `b(1)` in MATLAB becomes `b[0]` in Python."
   ]
  },
  {
   "cell_type": "code",
   "execution_count": 11,
   "metadata": {},
   "outputs": [],
   "source": [
    "#your code here\n"
   ]
  },
  {
   "cell_type": "markdown",
   "metadata": {},
   "source": [
    "Now what would you expect `a` to look like? You didn't change its value, right? Have a look! <br/>\n",
    "(Don't forget that `print()` is the equivalent to `disp()` in MATLAB)"
   ]
  },
  {
   "cell_type": "code",
   "execution_count": 26,
   "metadata": {},
   "outputs": [],
   "source": [
    "#your code here\n"
   ]
  },
  {
   "cell_type": "markdown",
   "metadata": {},
   "source": [
    "That was unexpected, wasn't it? It's necessary to get a good unterstanding of how assignments work. \n",
    "<br/><br/>\n",
    "But first let's have a look at another example. We assign the integer value 1 to `c`:"
   ]
  },
  {
   "cell_type": "code",
   "execution_count": 4,
   "metadata": {},
   "outputs": [],
   "source": [
    "c = 1"
   ]
  },
  {
   "cell_type": "markdown",
   "metadata": {},
   "source": [
    "Assign `c` to `d`:"
   ]
  },
  {
   "cell_type": "code",
   "execution_count": null,
   "metadata": {},
   "outputs": [],
   "source": [
    "#your code here\n"
   ]
  },
  {
   "cell_type": "markdown",
   "metadata": {},
   "source": [
    "Change the value of `d` to another integer:"
   ]
  },
  {
   "cell_type": "code",
   "execution_count": null,
   "metadata": {},
   "outputs": [],
   "source": [
    "#your code here\n"
   ]
  },
  {
   "cell_type": "markdown",
   "metadata": {},
   "source": [
    "Now check the value of `c`:"
   ]
  },
  {
   "cell_type": "code",
   "execution_count": 28,
   "metadata": {},
   "outputs": [],
   "source": [
    "#your code here\n"
   ]
  },
  {
   "cell_type": "markdown",
   "metadata": {},
   "source": [
    "As you see, something here works differently than the way it works in MATLAB. <br/>\n",
    "\n",
    "Maybe your mental model until now was something like:\n",
    "\n",
    "```\n",
    "a = [0, 1] means: now a has the value [0, 1] \n",
    "b = a      means: now b also has the value [0, 1] since this is the value that a has.\n",
    "```\n",
    "\n",
    "A better model is to not consider variables to have a value. But to consider them as index fingers that point at a certain location in the memory of your computer.\n",
    "Something like this:\n",
    "\n",
    "```\n",
    "a = [0, 1] means: we create an object with the value [0, 1] in memory and we want the variable a to point \n",
    "                  to that location in memory.\n",
    "b = a      means: we want b to also point to the same location that a points to.\n",
    "```\n",
    "\n",
    "Now we can change the \"value\" of `b` in two ways: \n",
    "<br/>\n",
    "1.Change the object that `b` points at:\n",
    "```\n",
    "b[0] = 99 means: change the value of the first element of the object that is stored in the location \n",
    "                 that b is pointing at\n",
    "```\n",
    "Since `a` is pointing at the same object, the \"value\" of `a` also changes. Thus the behavior we saw makes sense.\n",
    "\n",
    "The second way to change the \"value\" of `b` is to make `b` point at another location in memory.\n",
    "Like this:\n",
    "```\n",
    "b = 99 means: b, bro, I'm sure your arm is tired. It's time to point at something else. \n",
    "              How about this sweet int value 99 somewhere else in memory?\n",
    "```\n",
    "This doesn't affect `a`, because it still points at the old location."
   ]
  },
  {
   "cell_type": "markdown",
   "metadata": {},
   "source": [
    "There is still a bit more to it. Integers don't change their value. You can only change the integer a variable is pointing to, but not the value of the integer.\n",
    "In other words, when we create a variable that points at `1`, and then create another variable that also points at `1`, these will point at the same location because there is no reason to have more than one `1` in memory. This is at least true for integers in the range [-5, 255]. This range was chosen for efficiency reasons as these are the most often assigned values."
   ]
  },
  {
   "cell_type": "code",
   "execution_count": 2,
   "metadata": {},
   "outputs": [
    {
     "data": {
      "text/plain": [
       "True"
      ]
     },
     "execution_count": 2,
     "metadata": {},
     "output_type": "execute_result"
    }
   ],
   "source": [
    "a = 1\n",
    "b = 1\n",
    "a is b"
   ]
  },
  {
   "cell_type": "markdown",
   "metadata": {},
   "source": [
    "We'll cover *logical operators* in a second. For now it's enough to believe me that `is` is the logical operator that checks for identity. I.e. it checks if two objects point at the same location in memory.<br/><br/>\n",
    "Things are different for other objects, that can be changed (the correct expression is **mutable objects**).\n",
    "Since these can be changed, it makes sense to have multiple objects of the same value in memory."
   ]
  },
  {
   "cell_type": "code",
   "execution_count": 8,
   "metadata": {},
   "outputs": [
    {
     "data": {
      "text/plain": [
       "False"
      ]
     },
     "execution_count": 8,
     "metadata": {},
     "output_type": "execute_result"
    }
   ],
   "source": [
    "a = [0, 1]\n",
    "b = [0, 1]\n",
    "a is b"
   ]
  },
  {
   "cell_type": "markdown",
   "metadata": {},
   "source": [
    "Changing `a` has no effect on `b`, because they point at different objects that just happen to look alike."
   ]
  },
  {
   "cell_type": "code",
   "execution_count": 9,
   "metadata": {},
   "outputs": [
    {
     "name": "stdout",
     "output_type": "stream",
     "text": [
      "[0, 1]\n"
     ]
    }
   ],
   "source": [
    "a[0] = 99\n",
    "print(b)"
   ]
  },
  {
   "cell_type": "markdown",
   "metadata": {},
   "source": [
    "**But**, as a reminder: "
   ]
  },
  {
   "cell_type": "code",
   "execution_count": 11,
   "metadata": {},
   "outputs": [
    {
     "data": {
      "text/plain": [
       "True"
      ]
     },
     "execution_count": 11,
     "metadata": {},
     "output_type": "execute_result"
    }
   ],
   "source": [
    "a = b = [0, 1] # same works with a = [0, 1]; b = a;\n",
    "a is b"
   ]
  },
  {
   "cell_type": "code",
   "execution_count": 12,
   "metadata": {},
   "outputs": [],
   "source": [
    "a[0] = 99"
   ]
  },
  {
   "cell_type": "markdown",
   "metadata": {},
   "source": [
    "Now, what do you expect? Think about it for a second, and when you know what you expect, check the value of b."
   ]
  },
  {
   "cell_type": "code",
   "execution_count": 56,
   "metadata": {},
   "outputs": [],
   "source": [
    "#your code here\n"
   ]
  },
  {
   "cell_type": "markdown",
   "metadata": {},
   "source": [
    "All good? Don't hesitate to ask!\n",
    "This might be a bit confusing. Just keep in mind that there's a distinction and you'll develop an intuition.<br/><br/>"
   ]
  },
  {
   "cell_type": "markdown",
   "metadata": {},
   "source": [
    "## 4.3 Operators\n",
    "\n",
    "### Logical operators"
   ]
  },
  {
   "cell_type": "markdown",
   "metadata": {},
   "source": [
    "Except for `is` and the distinction between identity and equality, logical operators behave pretty much the way you'd except them to.<br/>\n",
    "`<`, `>`, `<=`, `>=`, `==` are the same as in MATLAB. `~=` becomes `!=`."
   ]
  },
  {
   "cell_type": "code",
   "execution_count": 13,
   "metadata": {},
   "outputs": [],
   "source": [
    "a = 10\n",
    "b = 99"
   ]
  },
  {
   "cell_type": "markdown",
   "metadata": {},
   "source": [
    "Play around a bit to make sure that you understand how they behave - for now stick to numeric types."
   ]
  },
  {
   "cell_type": "code",
   "execution_count": null,
   "metadata": {},
   "outputs": [],
   "source": [
    "#your code here\n"
   ]
  },
  {
   "cell_type": "markdown",
   "metadata": {},
   "source": [
    "**Logical and** and **logical or** are not the same as in MATLAB. While you can also use `&` and `|`, there's also the option to literally use `and` and `or`. Hello pseudocode."
   ]
  },
  {
   "cell_type": "code",
   "execution_count": 16,
   "metadata": {},
   "outputs": [],
   "source": [
    "#we create a third variable.\n",
    "c = 99"
   ]
  },
  {
   "cell_type": "markdown",
   "metadata": {},
   "source": [
    "Chain multiple logical conditions together. E.g. `a` is smaller than `b` and `b` equals `c`"
   ]
  },
  {
   "cell_type": "code",
   "execution_count": 82,
   "metadata": {},
   "outputs": [],
   "source": [
    "#your code here\n"
   ]
  },
  {
   "cell_type": "markdown",
   "metadata": {},
   "source": [
    "Using `not` you can negate the result of a logical condition."
   ]
  },
  {
   "cell_type": "code",
   "execution_count": 17,
   "metadata": {},
   "outputs": [
    {
     "data": {
      "text/plain": [
       "True"
      ]
     },
     "execution_count": 17,
     "metadata": {},
     "output_type": "execute_result"
    }
   ],
   "source": [
    "not 1 == 2"
   ]
  },
  {
   "cell_type": "markdown",
   "metadata": {},
   "source": [
    "Try it out in multiple chained conditions. E.g. `a` is not bigger than `b` and `b` is not unequal to `c`\n"
   ]
  },
  {
   "cell_type": "code",
   "execution_count": 18,
   "metadata": {},
   "outputs": [],
   "source": [
    "#your code here\n"
   ]
  },
  {
   "cell_type": "markdown",
   "metadata": {},
   "source": [
    "You can also directly chain logical conditions together when they make sense. I.e. if you want to know if a value is in between two other values, you don't have to write `x > 10 and x < 20`. Instead, use `10 < x < 20`.\n",
    "\n",
    "Try it yourself:"
   ]
  },
  {
   "cell_type": "code",
   "execution_count": 5,
   "metadata": {},
   "outputs": [],
   "source": [
    "#your code here\n"
   ]
  },
  {
   "cell_type": "markdown",
   "metadata": {},
   "source": [
    "\n",
    "<br/>\n",
    "\n",
    "### 4.3.2 Arithmetic operators\n",
    "\n",
    "For the most part, they do the same as in MATLAB, at least for numeric values. Keep in mind that Python lists are not the same as MATLAB arrays. We'll cover than in the very near future.\n",
    "<br/>Basic arithmetic operations are `+ `, `- `, `/ `, and  `* `.\n",
    "<br/>The power function is not `^` but `**` or alternatively `pow(x, y)` where `x` is the base and `y` is the exponent."
   ]
  },
  {
   "cell_type": "markdown",
   "metadata": {},
   "source": [
    "Take a minute to make sure they do what you think they do:"
   ]
  },
  {
   "cell_type": "code",
   "execution_count": 4,
   "metadata": {},
   "outputs": [],
   "source": [
    "# your code here, you can add cells below or above by leaving insertion mode with \"esc\" and then \"b\" or \"a\"\n"
   ]
  },
  {
   "cell_type": "markdown",
   "metadata": {},
   "source": [
    "There is two more operators: \n",
    "\n",
    "`//`, that performs floor division, i.e. divide and round down to nearest integer."
   ]
  },
  {
   "cell_type": "code",
   "execution_count": 19,
   "metadata": {},
   "outputs": [
    {
     "name": "stdout",
     "output_type": "stream",
     "text": [
      "2\n"
     ]
    }
   ],
   "source": [
    "print(5 // 2)"
   ]
  },
  {
   "cell_type": "markdown",
   "metadata": {},
   "source": [
    "`%`, which is the modulo operator - i.e. it returns the remainder after division. That means `a % b` is the same as `a - b * (a // b)`."
   ]
  },
  {
   "cell_type": "code",
   "execution_count": 21,
   "metadata": {},
   "outputs": [
    {
     "name": "stdout",
     "output_type": "stream",
     "text": [
      "1\n"
     ]
    },
    {
     "data": {
      "text/plain": [
       "True"
      ]
     },
     "execution_count": 21,
     "metadata": {},
     "output_type": "execute_result"
    }
   ],
   "source": [
    "print(5 % 2)\n",
    "5 % 2 == 5 - 2 * (5 // 2)"
   ]
  },
  {
   "cell_type": "markdown",
   "metadata": {},
   "source": [
    "Since in base Python there are no matrices, operators perform element-wise operations or behave differently (e.g. list concatenation). In Python 3.5 `@` was introduced for matrix multiplication. We'll talk about this when we cover `numpy arrays`."
   ]
  },
  {
   "cell_type": "markdown",
   "metadata": {},
   "source": [
    "## 4.4. Built-in functions\n",
    "\n",
    "This one is a big difference between Python and MATLAB. In MATLAB there is a huge number of functions that you can use just by starting MATLAB. In Python, most functions are either in a package that you need to manually import or they are methods of classes. We'll get to know this in the part about object oriented programming.\n",
    "\n",
    "There's only a few functions that are built-in and follow the syntax `function_name(argument1, argument2,..., argument3)`. \n",
    "\n",
    "Another big difference is that you can not call functions without parentheses even if they don't need arguments. More on this later. \n",
    "\n",
    "A list of built-in functions can be found [here](https://docs.python.org/3/library/functions.html), some that you might expect are `abs()`, `sum()`, `min()`, `max()`, `all()` and `any()`. Others like `mean()` and `std()` need to be imported.\n",
    "\n",
    "**Exercise**\n",
    "\n",
    "Get the sum, minimum and maximum of the following list. Use the IPython magic (`function??`) to find out how to use these functions. Hint: An iterable is anything you can loop over, like e.g. a list."
   ]
  },
  {
   "cell_type": "code",
   "execution_count": 2,
   "metadata": {},
   "outputs": [],
   "source": [
    "a = [8, 8.2, -10];\n",
    "#your code here\n"
   ]
  },
  {
   "cell_type": "markdown",
   "metadata": {},
   "source": [
    "## 4.5 Indexing\n",
    "\n",
    "Indexing in Python starts at 0. Indexing with slices `[from_index:to_index]` doesn't include the to_index. This is one of the few things that you'll need a while to get used to. My experience is that you can switch back and forth between 1- and 0-based indexing on the fly if you got used to both once. \n",
    "\n",
    "Arguably 0-based indexing is more in line with what happens in your computer's memory and it can help avoid [off-by-one errors](https://en.wikipedia.org/wiki/Off-by-one_error). But as usual everyone is very dogmatic about it and convinced that they're right. Just treat it as an arbitraty choice that you get used to. If you want to learn Python, there's no way around it."
   ]
  },
  {
   "cell_type": "markdown",
   "metadata": {},
   "source": [
    "We can use some visualization to get the idea down. Remember that a  variable is like an index finger that points somewhere in memory? Now for a second imagine the memory to be 1-dimensional. Since the first element is where the whole object in memory starts, the 0 means: Access the element with an offset of 0. Now you can think about zero-based indexing like this:\n",
    "\n",
    "```Python\n",
    "a = np.linspace(1,10,10) # same as linspace in MATLAB\n",
    "a  #shows me where the object starts in memory.\n",
    "a[0] #shows me the position of the first element of a, i.e. the one where a starts\n",
    "```\n",
    "Since `a` already points at the memory adress of the first element, we don't need to \"go\" any further. \n",
    "\n",
    "For those of you who consider themselves \"visual learners\" (yeah, I know...). Consider the same vector of integers from 1 to 10:"
   ]
  },
  {
   "cell_type": "code",
   "execution_count": 45,
   "metadata": {},
   "outputs": [
    {
     "data": {
      "image/png": "[encoded data removed]",
      "text/plain": [
       "<Figure size 1872x288 with 4 Axes>"
      ]
     },
     "metadata": {
      "needs_background": "light"
     },
     "output_type": "display_data"
    }
   ],
   "source": [
    "import matplotlib.pyplot as plt\n",
    "import numpy as np\n",
    "from itertools import product\n",
    "\n",
    "fig, axs = plt.subplots(\n",
    "    ncols=2, \n",
    "    nrows=2, \n",
    "    figsize=(26, 4),\n",
    "    constrained_layout=True\n",
    ")\n",
    "fig.suptitle('Python vs. MATLAB indexing', fontsize=30)\n",
    "\n",
    "for x,y in product(range(2), range(2)):\n",
    "    _ax = axs[x, y]\n",
    "    _ax.set_xlim((-0.5, 9.5))\n",
    "    _ax.imshow(np.zeros((1, 10)))\n",
    "    _ax.set_yticks([])\n",
    "    if not y:\n",
    "        _ax.set_xticks(np.arange(-0.5,10.5,1))\n",
    "        _ax.set_xticklabels([str(x) for x in range(11)], fontsize=20)\n",
    "        if not x:\n",
    "            _ax.imshow(np.array([0]*2 + [1] + [0]* 7)[np.newaxis, :])\n",
    "            _ax.set_title(\"a[2] -> element at object location + offset of 2\", fontsize=15)\n",
    "        else:\n",
    "            _ax.imshow(np.array([0]*2 + [1] * 3 + [0] * 5)[np.newaxis, ])\n",
    "            _ax.set_title(\"a[2:5] -> everything between offsets 2 and 5\", fontsize=15)\n",
    "    else:\n",
    "        _ax.set_xticks(np.arange(10))\n",
    "        _ax.set_xticklabels([str(x + 1) for x in range(10)], fontsize=20)\n",
    "        #_ax.xaxis.set_minor_locator(AutoMinorLocator(2))\n",
    "        #_ax.xaxis.set_minor_formatter(FormatStrFormatter(\"%d\"))\n",
    "        #_ax.tick_params(axis='x', which='minor', labelsize=20)\n",
    "        if not x:\n",
    "            _ax.imshow(np.array([0]*1 + [1] + [0]* 8)[np.newaxis, :])\n",
    "            _ax.set_title(\"a(2) -> second element of array\", fontsize=15)\n",
    "        else:\n",
    "            _ax.imshow(np.array( [0]*1 + [1] * 4 + [0] * 5)[np.newaxis,:])\n",
    "            _ax.set_title(\"a(2:5) -> second to fifth element of array\", fontsize=15)\n",
    "    \n",
    "    _ax.tick_params(axis='x', which='both', direction='out', pad=10)\n",
    "    for x in np.arange(10):\n",
    "        _ax.text(\n",
    "            x,\n",
    "            0,\n",
    "            str(x+1), \n",
    "            fontsize=25,\n",
    "            horizontalalignment='center',\n",
    "            verticalalignment='center' \n",
    "        )\n",
    "plt.show()"
   ]
  },
  {
   "cell_type": "markdown",
   "metadata": {},
   "source": [
    "### Indexing from the end\n",
    "\n",
    "You can also index from the end using negative indices. This is 1-based, i.e. `a[-1]` would give us the last value of `a`.\n",
    "\n",
    "\n",
    "**Exercise**\n",
    "\n",
    "   1. Use indexing to retrieve the 2nd value of a\n",
    "   2. The 4th and 5th\n",
    "   3. The last two\n"
   ]
  },
  {
   "cell_type": "code",
   "execution_count": 3,
   "metadata": {},
   "outputs": [
    {
     "name": "stdout",
     "output_type": "stream",
     "text": [
      "[0, 1, 2, 3, 4, 5, 6, 7, 8, 9]\n"
     ]
    }
   ],
   "source": [
    "a = list(range(10))\n",
    "print(a)"
   ]
  },
  {
   "cell_type": "code",
   "execution_count": 4,
   "metadata": {},
   "outputs": [],
   "source": [
    "#your code here\n"
   ]
  },
  {
   "cell_type": "markdown",
   "metadata": {},
   "source": [
    "## 4.6 Scalar Data Types"
   ]
  },
  {
   "cell_type": "markdown",
   "metadata": {},
   "source": [
    "### Numeric data types"
   ]
  },
  {
   "cell_type": "markdown",
   "metadata": {},
   "source": [
    "Numeric data types in Python are `int`, which are the natural numbers (i.e. 1,2,3...) and `float` which are real numbers (i.e. decimals). There'a also `complex` for complex numbers, but we won't cover them here. Usually any operation you do with `floats` and `ints` changes them to the appropriate type, so you don't need to worry about wether your variable is an `int` or a `float`. "
   ]
  },
  {
   "cell_type": "code",
   "execution_count": 49,
   "metadata": {},
   "outputs": [
    {
     "name": "stdout",
     "output_type": "stream",
     "text": [
      "<class 'int'>\n",
      "<class 'int'>\n"
     ]
    }
   ],
   "source": [
    "a = 1 \n",
    "b = 2\n",
    "print(type(a))\n",
    "print(type(b))"
   ]
  },
  {
   "cell_type": "markdown",
   "metadata": {},
   "source": [
    "If you divide a by b the result automatically becomes a `float`."
   ]
  },
  {
   "cell_type": "code",
   "execution_count": 50,
   "metadata": {},
   "outputs": [
    {
     "name": "stdout",
     "output_type": "stream",
     "text": [
      "<class 'float'>\n"
     ]
    }
   ],
   "source": [
    "c = a / b\n",
    "print(type(c))"
   ]
  },
  {
   "cell_type": "markdown",
   "metadata": {},
   "source": [
    "If you do care, you can speficy natural numbers as `float` by adding a dot."
   ]
  },
  {
   "cell_type": "code",
   "execution_count": 51,
   "metadata": {},
   "outputs": [
    {
     "name": "stdout",
     "output_type": "stream",
     "text": [
      "<class 'float'>\n"
     ]
    }
   ],
   "source": [
    "d = 1.\n",
    "print(type(d))"
   ]
  },
  {
   "cell_type": "markdown",
   "metadata": {},
   "source": [
    "### Booleans data\n",
    "\n",
    "As always, there is two boolean values: <font color=\"green\">True</font> and <font color=\"red\">False</font>. The only difference to MATLAB is that they are capitalized. In logical conditions, other data types are transformed into boolean values. You can also do this manually by calling the `bool()`-function. "
   ]
  },
  {
   "cell_type": "code",
   "execution_count": 5,
   "metadata": {},
   "outputs": [
    {
     "data": {
      "text/plain": [
       "bool"
      ]
     },
     "execution_count": 5,
     "metadata": {},
     "output_type": "execute_result"
    }
   ],
   "source": [
    "type(False)"
   ]
  },
  {
   "cell_type": "markdown",
   "metadata": {},
   "source": [
    "**Exercise**<br/>\n",
    "Check how the following variables behave as booleans:"
   ]
  },
  {
   "cell_type": "code",
   "execution_count": 53,
   "metadata": {},
   "outputs": [],
   "source": [
    "one = 1\n",
    "zero = 0\n",
    "empty_list = []\n",
    "neg_number = -1"
   ]
  },
  {
   "cell_type": "code",
   "execution_count": 54,
   "metadata": {},
   "outputs": [],
   "source": [
    "#your code here \n"
   ]
  },
  {
   "cell_type": "markdown",
   "metadata": {},
   "source": [
    "Knowing how e.g. an empty list (or dictionary or set) translates to a boolean can come in very handy for logical conditions."
   ]
  },
  {
   "cell_type": "markdown",
   "metadata": {},
   "source": [
    "### 4.7 Control statements\n",
    "\n",
    "Now we'll have a look at code snippets that control how your code is being executed. I won't cover everything and deliberately leave things like `while - else - statements` out for clarity and brevity. These are things you will learn when you need them. Nevertheless, the following should be enough to get you started using these statements.\n",
    "\n",
    "The biggest difference to MATLAB here is that **indentation is meaningful**. But what does that mean?\n",
    "\n",
    "In MATLAB you are encouraged to indent e.g. in loops and function definitions because this makes your code more readable. But it's not necessary. MATLAB knows where a block starts and ends by keywords like `end`. So the following is valid:\n",
    "\n",
    "```\n",
    "c = 0;\n",
    "        x = 1;\n",
    "    while c < 1000; x = x+1\n",
    "a = x^3;\n",
    "                b = a +2; c = c + a;\n",
    "                                                        end\n",
    "\n",
    "```\n",
    "\n",
    "This is of course an exaggeration, but my old MATLAB code looked horribly untidy and maybe so does yours. Indentation is really helpful if you tend to code in a messy way because it forces you to write nicely structured code.\n",
    "\n",
    "Python knows where a block starts and ends by indentation level. There is no `end` statement. The same (nonsense) code in Python without indentation wouldn't run. The only things I changed in the messy MATLAB code is the addition of a colon after the while condition and I deleted the `end`. This is also necessary for `if`, `else`,  `try` and so on. You will forget it all the time in the beginning.\n"
   ]
  },
  {
   "cell_type": "code",
   "execution_count": null,
   "metadata": {},
   "outputs": [],
   "source": [
    "#the only changes here is the colon after the while-statement \n",
    "#and ** instead of ^\n",
    "#while non-idiomatic, it's valid code except for the indentation \n",
    "c = 0\n",
    "        x = 1\n",
    "    while c < 1000: x = x+1\n",
    "a = x ** 3\n",
    "                b = a +2; c = c + a\n",
    "                                                        "
   ]
  },
  {
   "cell_type": "markdown",
   "metadata": {},
   "source": [
    "To make sure it runs you need to make sure that everything in the same level of control structures is also in the same level of indentation. If you run into problems with indentation levels even though your code looks visually fine, you've probably mixed tabs and spaces. This is something you should absolutely avoid. Most IDEs and Editors should have sensible defaults like expanding a tab into 4 spaces.\n",
    "\n",
    "```Python\n",
    "c = 0\n",
    "x = 1\n",
    "while c < 1000:\n",
    "    x += 1 #don't forget about the cool features you always wanted\n",
    "    a = x ** 3\n",
    "    b = a + 2\n",
    "    c += a\n",
    "\n",
    "```\n",
    "\n",
    "So what would you except to happen in the following cells? Think about it before each one and run it."
   ]
  },
  {
   "cell_type": "code",
   "execution_count": null,
   "metadata": {},
   "outputs": [],
   "source": [
    "#what do you except?\n",
    "c = 0\n",
    "x = 1\n",
    "while c < 1000:\n",
    "x += 1\n",
    "a = x ** 3\n",
    "b = a + 2\n",
    "c += a"
   ]
  },
  {
   "cell_type": "code",
   "execution_count": null,
   "metadata": {},
   "outputs": [],
   "source": [
    "# or here?\n",
    "c = 0\n",
    "x = 1\n",
    "while c < 1000:\n",
    "    x += 1\n",
    "    a = x ** 3\n",
    "    b = a + 2\n",
    "        c += a"
   ]
  },
  {
   "cell_type": "code",
   "execution_count": null,
   "metadata": {},
   "outputs": [],
   "source": [
    "# or here?\n",
    "c = 0\n",
    "x = 1\n",
    "while c < 1000:\n",
    "    x += 1\n",
    "    a = x ** 3\n",
    "    b = a + 2\n",
    "c += a"
   ]
  },
  {
   "cell_type": "markdown",
   "metadata": {},
   "source": [
    "You can press `i` twice or use the GUI (`kernel -> interrupt kernel`) to interrupt the kernel because this will run forever. Do you understand why? If not, just imagine adding an `end` anytime the indentation level decreases like so:\n",
    "\n",
    "```Python\n",
    "c = 0\n",
    "x = 1\n",
    "while c < 1000:\n",
    "    x += 1\n",
    "    a = x ** 3\n",
    "    b = a + 2\n",
    "    #indentation level decreases, add an end as comment\n",
    "#end\n",
    "c += a\n",
    "```\n",
    "So `c` never gets updated and this means the while condition will be true in a million years. Although of course at some point one of the variables will be too big for the memory and you will get an overflow error."
   ]
  },
  {
   "cell_type": "markdown",
   "metadata": {},
   "source": [
    "<br/><br/>\n",
    "\n",
    "### while-loops\n",
    "\n",
    "You know it from MATLAB, and we just had a look at the Python version. While-loops are indefinite iterations and you probably know how to use them:\n",
    "\n",
    "**Exercise**\n",
    "\n",
    "   1. Initiate a variable as the value 0. \n",
    "   2. Write a while-loop (condition follows).\n",
    "   3. Increase the variable every iteration by 1.\n",
    "   4. Square it and print the squared value.\n",
    "   5. Use the while condition to stop the iterations once the squared value exceeds 1000."
   ]
  },
  {
   "cell_type": "code",
   "execution_count": 56,
   "metadata": {},
   "outputs": [],
   "source": [
    "#your code here\n"
   ]
  },
  {
   "cell_type": "markdown",
   "metadata": {},
   "source": [
    "<br/>\n",
    "\n",
    "### if-else-statements\n",
    "\n",
    "`if...else...statements` in Python take the following form:\n",
    "\n",
    "```Python\n",
    "if condition1:\n",
    "    do_stuff()\n",
    "elif condition2: \n",
    "    do_other_stuff()\n",
    "else:\n",
    "    do_even_other_stuff()\n",
    "```\n",
    "\n",
    "The difference to MATLAB is again colons and indentation as well as `elif` instead of `elseif`. Also, there is no `end`. Ever.\n",
    "\n",
    "**Exercise**\n",
    "\n",
    "Repeat the while-loop you just wrote. But this time print 'spam' if the squared value is divisible by 3, print 'eggs' if it's divisible by 4, print 'spam and eggs' if it's divisible by both 3 and 4 and print the squared value itself otherwise.\n",
    "\n",
    "(You can replace 'spam' and 'eggs' with 'tofu' and 'soy flour')."
   ]
  },
  {
   "cell_type": "code",
   "execution_count": 55,
   "metadata": {},
   "outputs": [],
   "source": [
    "#your code here\n"
   ]
  },
  {
   "cell_type": "markdown",
   "metadata": {},
   "source": [
    "*Hint*: If you never get the full breakfast, there's probably something wrong with the order of your conditions. Breakfast is important! Go back and go through the conditions line by line.\n",
    "\n",
    "If you're done early and have headphones with you, here's some Python history: Python is named after the British comedy group Monty Python and the whole 'spam and eggs' thing goes back to [this sketch](https://www.youtube.com/watch?v=duFierM1yDg). So do spam mails."
   ]
  },
  {
   "cell_type": "markdown",
   "metadata": {},
   "source": [
    "### for-loops\n",
    "\n",
    "`for-loops` loop over everything that is **iterable**. That's also true for MATLAB. Many people always ever use `for i = 1:10` or similar statements. But looping over arrays will iterate over columns and looping over cells will iterate over column subcells (which is consistent but really unintuitive). So while looping in MATLAB is more flexible than you might have thought - looping in Python has some additional features to offer.\n",
    "\n",
    "Examples for **iterables** are lists, generator objects, dictionary values, numpy arrays, and so on. Most collections of values are **iterables**."
   ]
  },
  {
   "cell_type": "markdown",
   "metadata": {},
   "source": [
    "#### 4.7.3.1 Introducing the range()-function\n",
    "\n",
    "The range()-function can be used to do the equivalent of the well-known `for i = 1:x`-construct. In contrast to `1:10`, it doesn't return an array or a list, but a range object. For now, it's enough to understand that you can use it in for-loops. If you want to turn it into a list, you can do that:\n",
    "\n",
    "```Python\n",
    "generator_range = range(10)\n",
    "list_range      = list(generator_range)\n",
    "```\n",
    "\n",
    "The next big difference to MATLAB is that `range` includes 0 by default. You can specify a start value of your choice. The mathematical take is that the `range`-function produces a half-closed interval `[from, to)`. That means it includes the startpoint and excludes the endpoint.\n",
    "\n",
    "Less abstract and maybe more helpful: If you are going \"to the table\", you're not actually **in** the table, are you?\n",
    "\n",
    "Have a look in the next cell:"
   ]
  },
  {
   "cell_type": "code",
   "execution_count": 59,
   "metadata": {},
   "outputs": [
    {
     "name": "stdout",
     "output_type": "stream",
     "text": [
      "[0, 1, 2, 3, 4]\n"
     ]
    }
   ],
   "source": [
    "to_5 = list(range(5))\n",
    "print(to_5)"
   ]
  },
  {
   "cell_type": "markdown",
   "metadata": {},
   "source": [
    "<br/>\n",
    "\n",
    "**Exercise**\n",
    "\n",
    "Use the IPython magic `function?(?)` or the keyboard shortcut `function->Shift + Tab` to get more information about the range function. Don't worry if you don't understand everything immediately, that's expected. Then use the `range` and the `list` function to produce a list that goes from 3 to (including) 8."
   ]
  },
  {
   "cell_type": "code",
   "execution_count": 95,
   "metadata": {},
   "outputs": [],
   "source": [
    "#your code here\n"
   ]
  },
  {
   "cell_type": "markdown",
   "metadata": {},
   "source": [
    "<br/>\n",
    "\n",
    "**Exercise**\n",
    "\n",
    "Now use the range function in a loop. The syntax is this:\n",
    "\n",
    "```Python\n",
    "for x in range([start_point], end_point):\n",
    "    do_stuff()\n",
    "```\n",
    "\n",
    "Loop from 1 to (including) 100. Print those numbers to the screen that are divisible by 5."
   ]
  },
  {
   "cell_type": "code",
   "execution_count": 60,
   "metadata": {},
   "outputs": [],
   "source": [
    "#your code here\n"
   ]
  },
  {
   "cell_type": "markdown",
   "metadata": {},
   "source": [
    "<br/>\n",
    "\n",
    "There are a few pretty cool ways to make looping more efficient. We'll have a look at the two most common ones. If in the future you feel the need for additional variations of looping: They're probably possible in the `itertools` package.\n",
    "\n",
    "#### enumerate()\n",
    "\n",
    "If you want to loop over some iterable and still need an increasing index, you have to use a dummy variable in MATLAB.\n",
    "E.g. assume that you want to loop over a vector and take the square root of all positive values. The resulting vector should have the same length:\n",
    "\n",
    "```MATLAB\n",
    "old_values = randn(1, 100);\n",
    "new_values = zeros(1, 100);\n",
    "\n",
    "counter = 1;\n",
    "\n",
    "for ii = old_values\n",
    "    if ii < 0\n",
    "        new_values(counter) = sqrt(ii);\n",
    "    else\n",
    "        new_values(counter) = ii;\n",
    "    end\n",
    "    counter = counter + 1;\n",
    "end\n",
    "```"
   ]
  },
  {
   "cell_type": "markdown",
   "metadata": {},
   "source": [
    "For this case we can use the `enumerate`-function that returns an index as well as the value from the iterable at every iteration.\n",
    "\n",
    "```Python\n",
    "for idx,val in enumerate(iterable):\n",
    "    do_stuff_with_either_of_those()\n",
    "```"
   ]
  },
  {
   "cell_type": "markdown",
   "metadata": {},
   "source": [
    "<br/>\n",
    "\n",
    "**Exercise** \n",
    "\n",
    "   1. Write a list of your three favorite movies/musicians/bands/foods/whatever\n",
    "   2. Use enumerate to loop over them and print out a list of the form \n",
    "       ```\n",
    "       1 Elliott Smith\n",
    "       2 The Weakerthans\n",
    "       3 Oso Oso\n",
    "       \n",
    "       ```\n",
    "       \n",
    "*Hint*: The `print()` function can take more than one argument. Also, your favorite movie is not 0 but 1.\n",
    "(Also, this is awesome music. Check it out sometime.)"
   ]
  },
  {
   "cell_type": "code",
   "execution_count": 61,
   "metadata": {},
   "outputs": [],
   "source": [
    "##your code here\n"
   ]
  },
  {
   "cell_type": "markdown",
   "metadata": {},
   "source": [
    "<br/>\n",
    "\n",
    "#### 4.7.3.3 zip()\n",
    "\n",
    "This one is pretty easy to understand. Loop over multiple iterables at the same time:"
   ]
  },
  {
   "cell_type": "code",
   "execution_count": 7,
   "metadata": {},
   "outputs": [
    {
     "name": "stdout",
     "output_type": "stream",
     "text": [
      "a 1\n",
      "b 2\n",
      "c 3\n"
     ]
    }
   ],
   "source": [
    "for x,y in zip(['a', 'b', 'c'], [1, 2, 3]):\n",
    "    print(x,y)"
   ]
  },
  {
   "cell_type": "code",
   "execution_count": 63,
   "metadata": {},
   "outputs": [
    {
     "name": "stdout",
     "output_type": "stream",
     "text": [
      "a 1 α\n",
      "b 2 β\n",
      "c 3 γ\n"
     ]
    }
   ],
   "source": [
    "#also works with more iterables\n",
    "for x,y,z in zip(['a','b','c'], [1,2,3], ['α','β','γ']):\n",
    "    print(x,y,z)"
   ]
  },
  {
   "cell_type": "markdown",
   "metadata": {},
   "source": [
    "It can also be very handy outside of loops. This is too much for now, just remember that it can be used in different applications.\n",
    "\n",
    "(Because of course you want to know: you get greek letters by e.g. writing `\\alpha` and then hitting `Tab`. In a code cell of course.)\n",
    "\n",
    "\n",
    "**Exercise**\n",
    "\n",
    "Repeat the last exercise. Except use `zip` so you don't have to do the ugly `idx + 1`-thing every loop. Also add a list of other favorites of yours. E.g. if it was musicians until now, you might add your favorite meals like so:\n",
    "\n",
    "```\n",
    "1 Elliott Smith Steak\n",
    "2 The Weakerthans Pizza\n",
    "3 Oso Oso Kebap\n",
    "```"
   ]
  },
  {
   "cell_type": "code",
   "execution_count": 118,
   "metadata": {},
   "outputs": [],
   "source": [
    "#your code here\n"
   ]
  },
  {
   "cell_type": "markdown",
   "metadata": {},
   "source": [
    "It even works when iterables don't have the same number of elements. What do you expect in the following code?"
   ]
  },
  {
   "cell_type": "code",
   "execution_count": null,
   "metadata": {},
   "outputs": [],
   "source": [
    "for x,y in zip(range(10), ['Spam','Eggs','MoreSpam','Spam','Spam']):\n",
    "    print(x,y)"
   ]
  },
  {
   "cell_type": "markdown",
   "metadata": {},
   "source": [
    "<br/>\n",
    "\n",
    "## 4.8 Function definitions\n",
    "\n",
    "\n",
    "In MATLAB there are clear constraints on where you can define a function. Function handles can be defined anywhere including the command line. \"Real\" functions can only be defined in scripts. You can define functions used by other functions in the same scripts, but that's about it. In Python you can define functions anywhere and they are objects like everything else."
   ]
  },
  {
   "cell_type": "code",
   "execution_count": 64,
   "metadata": {},
   "outputs": [
    {
     "data": {
      "text/plain": [
       "True"
      ]
     },
     "execution_count": 64,
     "metadata": {},
     "output_type": "execute_result"
    }
   ],
   "source": [
    "def obj_fun():\n",
    "    return 'I am an object.'\n",
    "\n",
    "isinstance(obj_fun, object)"
   ]
  },
  {
   "cell_type": "markdown",
   "metadata": {},
   "source": [
    "Again, as you can see: There is no end statement and indentation is meaningful. This is a very general thing in Python and you better get used to it. It doesn't take long though.\n",
    "\n",
    "### 4.8.1 Syntax of function definitions\n",
    "\n",
    "Functions are defined using the keyword `def`. The basic structure can be seen in the following basic function that adds two arguments:\n",
    "\n",
    "```Python\n",
    "def add_values(arg1, arg2):\n",
    "    output = arg1 + arg2;\n",
    "    return output  \n",
    "```\n",
    "\n",
    "In MATLAB the same function would be:\n",
    "\n",
    "```\n",
    "function [output] = add_values(arg1, arg2)\n",
    "\n",
    "    output = arg1 + arg2;\n",
    "    \n",
    "end\n",
    "```\n",
    "\n",
    "As you can see, the `return` statement is needed because otherwise the function doesn't return any output. It's the equivalent of the `[output]`-part in MATLAB. It's not an essential part of a function though. E.g. if you want to write a function that only prints text to the screen, you don't need a return statement. This is implicitly handled as `return None`. The `print()`-function itself is one of these functions:"
   ]
  },
  {
   "cell_type": "code",
   "execution_count": 25,
   "metadata": {},
   "outputs": [
    {
     "name": "stdout",
     "output_type": "stream",
     "text": [
      "I return None\n"
     ]
    },
    {
     "data": {
      "text/plain": [
       "True"
      ]
     },
     "execution_count": 25,
     "metadata": {},
     "output_type": "execute_result"
    }
   ],
   "source": [
    "a = print('I return None');\n",
    "a is None"
   ]
  },
  {
   "cell_type": "markdown",
   "metadata": {},
   "source": [
    "`return` also ends the execution of the function. E.g. if you want to leave it early if some condition is met, you can do that with a `return`- statement."
   ]
  },
  {
   "cell_type": "markdown",
   "metadata": {},
   "source": [
    "**Exercise**\n",
    "\n",
    "Write a function that takes two arguments, takes the third power of the first argument and adds the second to it."
   ]
  },
  {
   "cell_type": "code",
   "execution_count": 6,
   "metadata": {},
   "outputs": [],
   "source": [
    "#your code here\n"
   ]
  },
  {
   "cell_type": "markdown",
   "metadata": {},
   "source": [
    "<br/>\n",
    "\n",
    "### 4.8.2 Named arguments and default values\n",
    "\n",
    "Defining default values is not possible in MATLAB except through sophisticated constructs like `if nargin < 2` or something including `cellfun()`. In Python it is extremely easy. Generally, giving and defining arguments is more flexible. You can use named arguments or positional arguments when calling functions. If you use positional arguments, these have to be given in the same order as in the definition. For named arguments, this is not true. Order doesn't matter. You can give every argument in the function definition as named argument, independent of wether or not it has a default value.\n",
    "\n",
    "A default value is defined like this: "
   ]
  },
  {
   "cell_type": "code",
   "execution_count": 8,
   "metadata": {},
   "outputs": [
    {
     "name": "stdout",
     "output_type": "stream",
     "text": [
      "I am Christian and I use MATLAB.\n"
     ]
    }
   ],
   "source": [
    "#for now, don't worry about the string concatenation. \n",
    "def print_person(user='Christian', language='MATLAB'):\n",
    "    print('I am ' + user + ' and I use ' + language + '.')\n",
    "\n",
    "#running it without specifying arguments uses the default values\n",
    "print_person()"
   ]
  },
  {
   "cell_type": "code",
   "execution_count": 9,
   "metadata": {},
   "outputs": [
    {
     "name": "stdout",
     "output_type": "stream",
     "text": [
      "I am Tobias and I use MATLAB.\n",
      "(Until now.)\n"
     ]
    }
   ],
   "source": [
    "#give new argument as positional arguments, for other argument, default is used. \n",
    "#If no keywords are given, the order in the definition is used, i.e. we overwrite the first argument \"user\"\n",
    "print_person('Tobias')\n",
    "print('(Until now.)')"
   ]
  },
  {
   "cell_type": "code",
   "execution_count": 10,
   "metadata": {},
   "outputs": [
    {
     "name": "stdout",
     "output_type": "stream",
     "text": [
      "I am Lukas and I use Python.\n"
     ]
    }
   ],
   "source": [
    "#overwrite both, in this case no keywords are needed, but order is important\n",
    "print_person('Lukas', 'Python')"
   ]
  },
  {
   "cell_type": "code",
   "execution_count": 11,
   "metadata": {},
   "outputs": [
    {
     "name": "stdout",
     "output_type": "stream",
     "text": [
      "I am Lukas and I use Python.\n"
     ]
    }
   ],
   "source": [
    "#You can also use keywords. In this case, order doesn't matter. Generally this approach is a good idea because it is less prone to errors.\n",
    "print_person(language='Python', user='Lukas')"
   ]
  },
  {
   "cell_type": "code",
   "execution_count": 12,
   "metadata": {},
   "outputs": [
    {
     "name": "stdout",
     "output_type": "stream",
     "text": [
      "I am Christian and I use Julia.\n"
     ]
    }
   ],
   "source": [
    "#If you want to overwrite only one argument and it's not the first one, keyword is needed \n",
    "print_person(language='Julia')"
   ]
  },
  {
   "cell_type": "markdown",
   "metadata": {},
   "source": [
    "<br/>\n",
    "\n",
    "**Exercise**\n",
    "\n",
    "Use the function above and try a few combinations. See if you understand the behavior. Discuss it with your colleagues or ask me if not. "
   ]
  },
  {
   "cell_type": "code",
   "execution_count": 17,
   "metadata": {},
   "outputs": [],
   "source": [
    "#your code here\n"
   ]
  },
  {
   "cell_type": "markdown",
   "metadata": {},
   "source": [
    "<br/>\n",
    "\n",
    "**Exercise**\n",
    "\n",
    "Write your own function that takes two arguments. One of these should have a default value. Then play around with it and make sure you understand how giving arguments works. You can think of one yourself, but a simple idea would be a power function that takes the base and exponent, where the exponent defaults to 2, i.e. the square.\n",
    "*Hint*: If you speficy multiple arguments and don't give defaults for all, the default arguments have to come last."
   ]
  },
  {
   "cell_type": "code",
   "execution_count": 28,
   "metadata": {},
   "outputs": [],
   "source": [
    "#your code here\n"
   ]
  },
  {
   "cell_type": "markdown",
   "metadata": {},
   "source": [
    "<br/>\n",
    "\n",
    "### 4.8.3 Multiple outputs\n",
    "\n",
    "Just like in MATLAB, you can return multiple values but the way it works is slightly different. If you return multiple values in Python, you return a tuple. A tuple is something like a less flexible list and we'll get to know it in the next notebook. The syntax is:\n",
    "\n",
    "```Python\n",
    "def multiple_out(in1, in2):\n",
    "    return (in1**2, in2**2)\n",
    "```\n",
    "\n",
    "The parentheses are optional since multiple values separated by commata are interpreted as tuple anyway:"
   ]
  },
  {
   "cell_type": "code",
   "execution_count": 13,
   "metadata": {},
   "outputs": [
    {
     "name": "stdout",
     "output_type": "stream",
     "text": [
      "(1, 2)\n",
      "<class 'tuple'>\n"
     ]
    }
   ],
   "source": [
    "a = 1, 2\n",
    "print(a)\n",
    "print(type(a))"
   ]
  },
  {
   "cell_type": "markdown",
   "metadata": {},
   "source": [
    "This means, you can just write\n",
    "\n",
    "```Python\n",
    "def multiple_out(in1, in2):\n",
    "    return  in1**2, in2**2\n",
    "```\n",
    "\n",
    "and it's exactly equivalent. \n",
    "\n",
    "If a function returns multiple outputs, there are three options:\n",
    "\n",
    "   1. Put them all into one variable, which will be a tuple.\n",
    "   2. Provide one variable per output. Implicitely this means you're unpacking the tuple. We'll learn what that is in the next notebook.\n",
    "   3. Put some isolated into variables and chunk the rest together as a tuple\n",
    "\n",
    "You can ommit certain output by using `_` for those that you don't want. That's like using `[~, a] = some_function(b)` in MATLAB. \n",
    "\n",
    "Some code for clarification. Before running each cell, think about the output you'd expect and see if it matches your intuition."
   ]
  },
  {
   "cell_type": "code",
   "execution_count": 14,
   "metadata": {},
   "outputs": [],
   "source": [
    "def multiple_out(a, b, c):\n",
    "    return a ** 2, b ** 2, c ** 2"
   ]
  },
  {
   "cell_type": "code",
   "execution_count": 15,
   "metadata": {},
   "outputs": [
    {
     "name": "stdout",
     "output_type": "stream",
     "text": [
      "(9, 16, 25)\n"
     ]
    }
   ],
   "source": [
    "c = multiple_out(3, 4, 5)\n",
    "print(c)"
   ]
  },
  {
   "cell_type": "code",
   "execution_count": 16,
   "metadata": {},
   "outputs": [
    {
     "name": "stdout",
     "output_type": "stream",
     "text": [
      "9\n"
     ]
    }
   ],
   "source": [
    "d, _, _ = multiple_out(3, 4, 5);\n",
    "print(d)"
   ]
  },
  {
   "cell_type": "code",
   "execution_count": 21,
   "metadata": {},
   "outputs": [
    {
     "name": "stdout",
     "output_type": "stream",
     "text": [
      "16\n"
     ]
    }
   ],
   "source": [
    "_, e, _ = multiple_out(3, 4, 5);\n",
    "print(e)"
   ]
  },
  {
   "cell_type": "code",
   "execution_count": 22,
   "metadata": {},
   "outputs": [
    {
     "name": "stdout",
     "output_type": "stream",
     "text": [
      "[16, 25]\n"
     ]
    }
   ],
   "source": [
    "_, *e = multiple_out(3, 4, 5);\n",
    "print(e)"
   ]
  },
  {
   "cell_type": "markdown",
   "metadata": {},
   "source": [
    "### 4.8.4 Variable number of arguments\n",
    "\n",
    "You can define functions that use a flexible number of nameless or named arguments using the keywords ***args** and ****kwargs** (although only the asterisks are important). They can be pretty handy and you will probably want to use them in the future. [Here](https://www.geeksforgeeks.org/args-kwargs-python/) is a nice introduction. For now, we'll just see a little example. You can pass arguments to a function that calls another function and passes these arguments on.\n",
    "\n",
    "Think back to the `print_person` function it takes two arguments and has default values:"
   ]
  },
  {
   "cell_type": "code",
   "execution_count": 23,
   "metadata": {},
   "outputs": [
    {
     "name": "stdout",
     "output_type": "stream",
     "text": [
      "I am Christian and I use MATLAB.\n"
     ]
    }
   ],
   "source": [
    "print_person()"
   ]
  },
  {
   "cell_type": "markdown",
   "metadata": {},
   "source": [
    "We can call this function from other functions:"
   ]
  },
  {
   "cell_type": "code",
   "execution_count": 24,
   "metadata": {},
   "outputs": [],
   "source": [
    "def enhance_print_function():\n",
    "    print_person()\n",
    "    print('Because that\\'s my favorite language.')"
   ]
  },
  {
   "cell_type": "code",
   "execution_count": 25,
   "metadata": {},
   "outputs": [
    {
     "name": "stdout",
     "output_type": "stream",
     "text": [
      "I am Christian and I use MATLAB.\n",
      "Because that's my favorite language.\n"
     ]
    }
   ],
   "source": [
    "enhance_print_function()"
   ]
  },
  {
   "cell_type": "markdown",
   "metadata": {},
   "source": [
    "If we wanted to pass functions to `print_person` while calling `enhance_print_function`, we don't need to define the arguments in the parent function. We can just use the `**kwargs`-argument. This will put all named arguments we might put it into a dictionary and then pass them on as named arguments to the next function like this:"
   ]
  },
  {
   "cell_type": "code",
   "execution_count": 73,
   "metadata": {},
   "outputs": [],
   "source": [
    "def enhance_print_function(**kwargs):\n",
    "    print_person(**kwargs)\n",
    "    print('Because that\\'s my favorite language.')"
   ]
  },
  {
   "cell_type": "markdown",
   "metadata": {},
   "source": [
    "If we don't give any, everything stays the same:"
   ]
  },
  {
   "cell_type": "code",
   "execution_count": 74,
   "metadata": {},
   "outputs": [
    {
     "name": "stdout",
     "output_type": "stream",
     "text": [
      "I am Christian and I use MATLAB.\n",
      "Because that's my favorite language.\n"
     ]
    }
   ],
   "source": [
    "enhance_print_function()"
   ]
  },
  {
   "cell_type": "markdown",
   "metadata": {},
   "source": [
    "But if we do, the following happens:"
   ]
  },
  {
   "cell_type": "code",
   "execution_count": 76,
   "metadata": {},
   "outputs": [
    {
     "name": "stdout",
     "output_type": "stream",
     "text": [
      "I am Lukas and I use Python.\n",
      "Because that's my favorite language.\n"
     ]
    }
   ],
   "source": [
    "enhance_print_function(user='Lukas', language='Python')"
   ]
  },
  {
   "cell_type": "markdown",
   "metadata": {},
   "source": [
    "<br/> \n",
    "\n",
    "### 6.9.4 Lambda functions\n",
    "\n",
    "Lambda or anonymous functions in Python are just *syntactic sugar*. That is, they work the same way that regular functions work but you define them differently. They were not originally meant to be a part of Python but were added later to prevent *dirty* workarounds to provide anonymous functions.\n",
    "\n",
    "Recall what a function handle looks like in MATLAB:\n",
    "\n",
    "```\n",
    "fun = @(x) x^2;\n",
    "fun(2)\n",
    "ans =\n",
    "    4\n",
    "```\n",
    "\n",
    "Lambda functions are pretty much that:"
   ]
  },
  {
   "cell_type": "code",
   "execution_count": 77,
   "metadata": {},
   "outputs": [
    {
     "name": "stdout",
     "output_type": "stream",
     "text": [
      "4\n"
     ]
    }
   ],
   "source": [
    "fun = lambda x: x ** 2\n",
    "print(fun(2))"
   ]
  },
  {
   "cell_type": "markdown",
   "metadata": {},
   "source": [
    "They can also take multiple arguments:"
   ]
  },
  {
   "cell_type": "code",
   "execution_count": 78,
   "metadata": {},
   "outputs": [
    {
     "name": "stdout",
     "output_type": "stream",
     "text": [
      "5\n"
     ]
    }
   ],
   "source": [
    "add = lambda x, y: x + y\n",
    "print(add(2, 3))"
   ]
  },
  {
   "cell_type": "markdown",
   "metadata": {},
   "source": [
    "Usually you don't **need** them, but it can be nice to define simple functions just in one line. Plus, they can make your code very concise if you use some of the functional programming techniques that Python stole from **Haskell** like `map()`, `filter()` or `reduce()`. We won't cover these in detail, also because Guido van Rossum [is not a big fan of these](https://python-history.blogspot.com/2009/04/origins-of-pythons-functional-features.html). Here is just one short example of what it could do: "
   ]
  },
  {
   "cell_type": "code",
   "execution_count": 79,
   "metadata": {},
   "outputs": [
    {
     "name": "stdout",
     "output_type": "stream",
     "text": [
      "[1, 2, 2]\n"
     ]
    }
   ],
   "source": [
    "a = [1, 2, -1, 2, -33]\n",
    "#use filter and a lambda function to select only positive values:\n",
    "#the list( ) -part is necessary, because otherwise we get a filter-object as output. You don't have to understand that now\n",
    "a_positive = list(filter(lambda x: x > 0, a))\n",
    "print(a_positive)"
   ]
  },
  {
   "cell_type": "markdown",
   "metadata": {},
   "source": [
    "\n",
    "\n",
    "# Conclusion\n",
    "\n",
    "\n",
    "That's all you need to know for now about the basic syntax and scalar data types. Let's recall what you have learned, because it's actually **a lot**.\n",
    "\n",
    "   1. Why you should learn Python (although you probably knew that before)\n",
    "   2. How to set up an environment and install packages using conda and pip\n",
    "   3. How to use a jupyter notebook and juypter lab\n",
    "   4. How to assign variables and how assignments work in Python\n",
    "   5. Operators including logical operators\n",
    "   6. Numeric and boolean data types\n",
    "   7. How to write while-loops, for-loops and if-else-conditions\n",
    "   8. How to define functions and why that works everywhere\n",
    "   \n",
    "The next step is a mini introduction to object-oriented programming. This is needed to understand the more complex data types like lists, tuples, dictionaries and also numpy arrays and pandas data frames. "
   ]
  }
 ],
 "metadata": {
  "kernelspec": {
   "display_name": "Python 3 (ipykernel)",
   "language": "python",
   "name": "python3"
  },
  "language_info": {
   "codemirror_mode": {
    "name": "ipython",
    "version": 3
   },
   "file_extension": ".py",
   "mimetype": "text/x-python",
   "name": "python",
   "nbconvert_exporter": "python",
   "pygments_lexer": "ipython3",
   "version": "3.9.7"
  }
 },
 "nbformat": 4,
 "nbformat_minor": 4
}
